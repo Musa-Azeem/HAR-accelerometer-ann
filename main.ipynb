{
 "cells": [
  {
   "cell_type": "code",
   "execution_count": null,
   "metadata": {},
   "outputs": [],
   "source": [
    "import pandas as pd\n",
    "import sklearn.ensemble\n",
    "import seaborn as sns\n",
    "import numpy as np"
   ]
  },
  {
   "cell_type": "code",
   "execution_count": null,
   "metadata": {},
   "outputs": [],
   "source": [
    "# Get data\n",
    "import os\n",
    "import urllib.request\n",
    "\n",
    "if not os.path.exists('./data/raw/smoking_input.csv') or not os.path.exists('./data/raw/smoking_targets.csv'):\n",
    "    os.system('mkdir -p data/raw')\n",
    "    urllib.request.urlretrieve(\"http://ifestos.cse.sc.edu/datasets/smoking_data.tar.gz\", \"data/smoking_data.tar.gz\")\n",
    "\n",
    "    os.system('tar -xzvf data/smoking_data.tar.gz -C data/raw/ --strip-components=1')"
   ]
  },
  {
   "cell_type": "code",
   "execution_count": null,
   "metadata": {},
   "outputs": [],
   "source": [
    "# Load data\n",
    "\n",
    "raw_input = pd.read_csv('data/raw/smoking_input.csv', header=None)\n",
    "targets = pd.read_csv('data/raw/smoking_targets.csv', header=None)"
   ]
  },
  {
   "cell_type": "code",
   "execution_count": null,
   "metadata": {},
   "outputs": [],
   "source": [
    "# Visualize data\n",
    "\n",
    "t = targets.copy(deep=True)\n",
    "t[0] = t[0].apply(lambda x: x+10)\n",
    "\n",
    "targets_to_plot = t[0].to_numpy()\n",
    "targets_to_plot = np.reshape(targets_to_plot, [len(targets_to_plot),1])\n",
    "# targets_to_plot = np.pad(targets_to_plot,((0,0),(0,199)), 'mean').flatten()\n",
    "targets_to_plot = np.pad(targets_to_plot,((0,0),(0,99)), 'mean').flatten()\n",
    "\n",
    "\n",
    "to_plot = pd.DataFrame()\n",
    "to_plot['x'] = raw_input.loc[:, 0:99].to_numpy().flatten()\n",
    "to_plot['y'] = raw_input.loc[:, 100:199].to_numpy().flatten()\n",
    "to_plot['z'] = raw_input.loc[:, 200:299].to_numpy().flatten()\n",
    "# to_plot['x'] = rows = np.pad(raw_input.loc[:, 0:99].to_numpy(), ((0,0),(50,50)), 'constant', constant_values=(0)).flatten()\n",
    "# to_plot['y'] = rows = np.pad(raw_input.loc[:, 100:199].to_numpy(), ((0,0),(50,50)), 'constant', constant_values=(0)).flatten()\n",
    "# to_plot['z'] = rows = np.pad(raw_input.loc[:, 200:299].to_numpy(), ((0,0),(50,50)), 'constant', constant_values=(0)).flatten()\n",
    "\n",
    "to_plot['label'] = targets_to_plot"
   ]
  },
  {
   "cell_type": "code",
   "execution_count": null,
   "metadata": {},
   "outputs": [],
   "source": [
    "sns.lineplot(to_plot[:2000], dashes=None)"
   ]
  },
  {
   "cell_type": "code",
   "execution_count": null,
   "metadata": {},
   "outputs": [],
   "source": [
    "# Clean Data\n",
    "targets.columns = [\"labels\"]\n",
    "df = pd.concat([raw_input, targets], axis=1)\n",
    "df = df.fillna(method='bfill')"
   ]
  },
  {
   "cell_type": "code",
   "execution_count": null,
   "metadata": {},
   "outputs": [],
   "source": [
    "# Split data into train and test\n",
    "from sklearn.model_selection import train_test_split\n",
    "\n",
    "(X_train, X_test, y_train, y_test) = train_test_split(df.drop(['labels'], axis=1), df['labels'], test_size=0.50, stratify=df['labels'])"
   ]
  },
  {
   "cell_type": "code",
   "execution_count": null,
   "metadata": {},
   "outputs": [],
   "source": [
    "# Train Random Forest Classifier\n",
    "\n",
    "rf = sklearn.ensemble.RandomForestClassifier(n_estimators=100, max_depth=3)\n",
    "\n",
    "rf.fit(X_train, y_train)"
   ]
  },
  {
   "cell_type": "code",
   "execution_count": null,
   "metadata": {},
   "outputs": [],
   "source": [
    "\n",
    "sns.lineplot(rf.feature_importances_)"
   ]
  },
  {
   "cell_type": "code",
   "execution_count": null,
   "metadata": {},
   "outputs": [],
   "source": [
    "# Test Classifier\n",
    "\n",
    "acc = rf.score(X_test, y_test)"
   ]
  },
  {
   "cell_type": "code",
   "execution_count": null,
   "metadata": {},
   "outputs": [],
   "source": [
    "# Heat Map\n",
    "pred = rf.predict(X_test)\n",
    "\n",
    "fp = tp = fn = tn = 0\n",
    "\n",
    "for i,p in enumerate(pred):\n",
    "    if p == 1:\n",
    "        if p == y_test.iloc[i]:\n",
    "            tp += 1\n",
    "        else:\n",
    "            fp += 1\n",
    "    else:   \n",
    "        if p == y_test.iloc[i]:\n",
    "            tn += 1\n",
    "        else:\n",
    "            fn += 1\n",
    "\n",
    "sns.heatmap([[tn, fp],[fn, tp]], annot=True)"
   ]
  },
  {
   "cell_type": "code",
   "execution_count": null,
   "metadata": {},
   "outputs": [],
   "source": [
    "from sklearn.metrics import confusion_matrix\n",
    "\n",
    "cm = confusion_matrix(y_test, pred, normalize=\"true\")\n",
    "sns.heatmap(cm, annot=True)"
   ]
  },
  {
   "cell_type": "code",
   "execution_count": null,
   "metadata": {},
   "outputs": [],
   "source": [
    "from sklearn.metrics import balanced_accuracy_score\n",
    "from sklearn.metrics import recall_score\n",
    "\n",
    "\n",
    "# balanced_accuracy_score(y_test, y_pred=pred)\n",
    "recall_score(y_test, y_pred=pred, average='macro')\n"
   ]
  }
 ],
 "metadata": {
  "kernelspec": {
   "display_name": "Python 3.10.6 64-bit",
   "language": "python",
   "name": "python3"
  },
  "language_info": {
   "codemirror_mode": {
    "name": "ipython",
    "version": 3
   },
   "file_extension": ".py",
   "mimetype": "text/x-python",
   "name": "python",
   "nbconvert_exporter": "python",
   "pygments_lexer": "ipython3",
   "version": "3.10.6"
  },
  "orig_nbformat": 4,
  "vscode": {
   "interpreter": {
    "hash": "31f2aee4e71d21fbe5cf8b01ff0e069b9275f58929596ceb00d14d90e3e16cd6"
   }
  }
 },
 "nbformat": 4,
 "nbformat_minor": 2
}
