{
 "cells": [
  {
   "cell_type": "code",
   "execution_count": 2,
   "metadata": {},
   "outputs": [],
   "source": [
    "import torch\n",
    "from torch import nn\n",
    "from pathlib import Path\n",
    "from torch.utils.data import DataLoader, TensorDataset\n",
    "from smokingml.datasets.nursing_dataset_v1 import WINSIZE, NursingDatasetV1, nursingv1_train_dev_test_split\n",
    "from smokingml.datasets.nursing_dataset_v1.dataloading import load_one_session, load_one_windowed_session\n",
    "from smokingml.datasets.nursing_dataset_v1.utils import window_session, train_test_split_windows, get_all_session_ids\n",
    "from smokingml.modules import train_loop, optimization_loop, evaluate_loop\n",
    "from smokingml.models import ResNetConv, ResNetClassifier, ResNetLSTM, MLP_1hl\n",
    "from smokingml.utils import plot_and_save_cm, Colors, prepare_labels_for_plot\n",
    "from sklearn.metrics import precision_recall_fscore_support\n",
    "import matplotlib.pyplot as plt"
   ]
  },
  {
   "cell_type": "code",
   "execution_count": 3,
   "metadata": {},
   "outputs": [],
   "source": [
    "data_dir = Path('../data/nursingv1_dataset/')\n",
    "device = 'cuda:0'"
   ]
  },
  {
   "attachments": {},
   "cell_type": "markdown",
   "metadata": {},
   "source": [
    "# 1st LSTM: One Sequence of Points\n",
    "- entire session is sequence of inputs\n",
    "- each input is one data point (xyz)\n",
    "- input shape to model is ($L$,$H_{in}$)\n",
    "\n",
    "$L =$ `len(session)`\n",
    "\n",
    "$H_{in} = 3$"
   ]
  },
  {
   "cell_type": "code",
   "execution_count": 13,
   "metadata": {},
   "outputs": [],
   "source": [
    "class LSTM1(nn.Module):\n",
    "    def __init__(self):\n",
    "        super().__init__()\n",
    "\n",
    "        self.lstm = nn.LSTM(input_size=3, hidden_size=64, bias=False)\n",
    "        self.mlp = nn.Sequential(\n",
    "            nn.Linear(in_features=64, out_features=10),\n",
    "            nn.ReLU(),\n",
    "            nn.Linear(in_features=10, out_features=1)\n",
    "        )\n",
    "\n",
    "    def forward(self, x):\n",
    "        # x is len(session) x 3\n",
    "        o, (h,c) = self.lstm(x) # o is shape (len(session), 64)\n",
    "        o = nn.functional.relu(o[-1])\n",
    "        logits = self.mlp(o)\n",
    "\n",
    "        return logits\n",
    "\n",
    "model = LSTM1().to(device)\n",
    "criterion = nn.BCEWithLogitsLoss()\n",
    "optimizer = torch.optim.Adam(model.parameters())"
   ]
  },
  {
   "cell_type": "code",
   "execution_count": 14,
   "metadata": {},
   "outputs": [],
   "source": [
    "X,_ = load_one_session(data_dir, 0) \n",
    "\n",
    "# logits is the classification for the final point in X\n",
    "logits = model(X.to(device).float())"
   ]
  },
  {
   "cell_type": "markdown",
   "metadata": {},
   "source": [
    "# 2nd LSTM: Many sequences of points\n",
    "- session is padded and windowed into `len(session)` windows\n",
    "- each window is shaped into sequence of 101 3D inputs (xyz)\n",
    "- input to LSTM is ($N$, $L$,$H_{in}$)\n",
    "\n",
    "$N = 64$\n",
    "\n",
    "$L = 101$\n",
    "\n",
    "$H_{in} = 3$"
   ]
  },
  {
   "cell_type": "code",
   "execution_count": 3,
   "metadata": {},
   "outputs": [],
   "source": [
    "class LSTM2(nn.Module):\n",
    "    def __init__(self):\n",
    "        super().__init__()\n",
    "\n",
    "        self.lstm = nn.LSTM(input_size=3, hidden_size=64, bias=False, batch_first=True)\n",
    "        self.mlp = nn.Sequential(\n",
    "            nn.Linear(in_features=64, out_features=10),\n",
    "            nn.ReLU(),\n",
    "            nn.Linear(in_features=10, out_features=1)\n",
    "        )\n",
    "\n",
    "    def forward(self, x):\n",
    "        # x is batch_size x 303, want shape: batch_size x 101 x 3\n",
    "        x = torch.cat(x.unsqueeze(2).split(WINSIZE, dim=1), axis=2)\n",
    "        o, (h,c) = self.lstm(x) # o is shape (batch_size, winsize, 64)\n",
    "        o = nn.functional.relu(o[:,-1,:])\n",
    "        logits = self.mlp(o)\n",
    "\n",
    "        return logits\n",
    "\n",
    "model = LSTM2().to(device)\n",
    "criterion = nn.BCEWithLogitsLoss()\n",
    "optimizer = torch.optim.Adam(model.parameters())"
   ]
  },
  {
   "cell_type": "code",
   "execution_count": 4,
   "metadata": {},
   "outputs": [
    {
     "name": "stdout",
     "output_type": "stream",
     "text": [
      "\u001b[92mStarting optimization_loop\u001b[0m\n"
     ]
    },
    {
     "name": "stderr",
     "output_type": "stream",
     "text": [
      "  0%|          | 0/40 [00:00<?, ?it/s]"
     ]
    },
    {
     "name": "stderr",
     "output_type": "stream",
     "text": [
      "Epoch 38: Train Loss: 0.0044834: Dev Loss: 0.24951:  98%|█████████▊| 39/40 [05:51<00:09,  9.52s/it]"
     ]
    }
   ],
   "source": [
    "ids = get_all_session_ids(data_dir)[:10]\n",
    "train_dataset, dev_dataset, _ = nursingv1_train_dev_test_split(data_dir, 0.8, 0.2, 0, WINSIZE, True, ids)\n",
    "\n",
    "trainloader = DataLoader(train_dataset, shuffle=True, batch_size=64)\n",
    "devloader = DataLoader(dev_dataset, shuffle=True, batch_size=64)\n",
    "\n",
    "optimization_loop(model, trainloader, devloader, criterion, optimizer, 40, device)"
   ]
  },
  {
   "cell_type": "markdown",
   "metadata": {},
   "source": [
    "# 3rd LSTM: Many Sequences of Windows\n",
    "- session is padded and windowed into `len(session)` windows\n",
    "- each window is sequence of 303 inputs (flattened xyz)\n",
    "- input to model is $(N,L, H_{in})$, $N=64$, $L=303$, $H_{in}=1$\n",
    "- in model, each window is padded and windowed into 303 subwindows of length 15 (shape 303x15) before theyre fed to lstm\n",
    "    - in window, first 101 are x, next 101 are y, etc.\n",
    "    - in subwindows, first 5 are x, next 5 are z, etc.\n",
    "- input to LSTM is ($N$, $L$, $H_{in}$)\n",
    "\n",
    "$N = 64$\n",
    "\n",
    "$L = 303$\n",
    "\n",
    "$H_{in} = 15$"
   ]
  },
  {
   "cell_type": "code",
   "execution_count": 3,
   "metadata": {},
   "outputs": [],
   "source": [
    "class LSTM3(nn.Module):\n",
    "    def __init__(self):\n",
    "        super().__init__()\n",
    "\n",
    "        self.lstm = nn.LSTM(input_size=15, hidden_size=64, bias=False, batch_first=True)\n",
    "        self.mlp = nn.Sequential(\n",
    "            nn.Linear(in_features=64, out_features=10),\n",
    "            nn.ReLU(),\n",
    "            nn.Linear(in_features=10, out_features=1)\n",
    "        )\n",
    "    \n",
    "    def window_window(self, x, subwinsize):\n",
    "\n",
    "        # Seperate x,y,z\n",
    "        x = x.reshape(-1, 3, WINSIZE)\n",
    "\n",
    "        # Pad x,y, and z on both sides with 0s\n",
    "        x = nn.functional.pad(x, (subwinsize//2, subwinsize//2), 'constant', 0)\n",
    "\n",
    "        # Window x,y, and z\n",
    "        xacc = x[:,0].unsqueeze(2)\n",
    "        yacc = x[:,1].unsqueeze(2)\n",
    "        zacc = x[:,2].unsqueeze(2)\n",
    "\n",
    "        w = subwinsize - 1\n",
    "        xs = [xacc[:, :-w]]\n",
    "        ys = [yacc[:, :-w]]\n",
    "        zs = [zacc[:, :-w]]\n",
    "\n",
    "        for i in range(1,w):\n",
    "            xs.append(xacc[:, i:i-w])\n",
    "            ys.append(yacc[:, i:i-w])\n",
    "            zs.append(zacc[:, i:i-w])\n",
    "        \n",
    "        xs.append(xacc[:, w:])\n",
    "        ys.append(yacc[:, w:])\n",
    "        zs.append(zacc[:, w:])\n",
    "\n",
    "        xs = torch.cat(xs, dim=2)\n",
    "        ys = torch.cat(ys, dim=2)\n",
    "        zs = torch.cat(zs, dim=2)\n",
    "\n",
    "        # Re-combine each window of xyz\n",
    "        return torch.cat([xs, ys, zs], dim=2)\n",
    "\n",
    "    def forward(self, x):\n",
    "        # x is batch_size x 303, want shape: batch_size x 101 x 15\n",
    "        x = self.window_window(x, subwinsize=5)\n",
    "        \n",
    "        o, (h,c) = self.lstm(x) # o is shape (batch_size, winsize, 64)\n",
    "        o = nn.functional.relu(o[:,-1,:])\n",
    "        logits = self.mlp(o)\n",
    "\n",
    "        return logits\n",
    "\n",
    "model = LSTM3().to(device)\n",
    "criterion = nn.BCEWithLogitsLoss()\n",
    "optimizer = torch.optim.Adam(model.parameters())"
   ]
  },
  {
   "cell_type": "code",
   "execution_count": null,
   "metadata": {},
   "outputs": [],
   "source": [
    "ids = get_all_session_ids(data_dir)[:8]\n",
    "train_dataset, dev_dataset, _ = nursingv1_train_dev_test_split(data_dir, 0.8, 0.2, 0, WINSIZE, True, ids)\n",
    "\n",
    "trainloader = DataLoader(train_dataset, shuffle=True, batch_size=64)\n",
    "devloader = DataLoader(dev_dataset, shuffle=True, batch_size=64)\n",
    "\n",
    "optimization_loop(model, trainloader, devloader, criterion, optimizer, 20, device, Path('lstm/del'))"
   ]
  },
  {
   "cell_type": "markdown",
   "metadata": {},
   "source": [
    "# 4th LSTM: CNN -> LSTM\n",
    "- input window to model of shape batch_size x 303\n",
    "- model reshapes input to batch_size x 3 x 101 (three channels)\n",
    "- uses CNN layer with 5 filters and padding to get output shape batch_size x 5 x 101\n",
    "- input shape to CNN is $(N,C_{in},L_{in})$ and output shape is $(N,C_{out},L_{out})$, where:\n",
    "\n",
    "$N=64$,  $C_{in}=3$, $L_{in}=101$, $C_{out}=5$, $L_{in}=101$\n",
    "\n",
    "- This is reshaped to batch_size x 101 x 15 (transpose) and given to LSTM\n",
    "- input to LSTM is $(N,L,H_{in})$, where:\n",
    "\n",
    "$N=64$, $L=101$, $H_{in}=5$\n",
    "\n",
    "- output of LSTM with 64 hidden states is batch_size x 101 x 64\n",
    "- the final hidden state (shape batch_size x 64) is given to MLP to get one output"
   ]
  },
  {
   "cell_type": "code",
   "execution_count": 67,
   "metadata": {},
   "outputs": [],
   "source": [
    "class CNN_LSTM(nn.Module):\n",
    "    def __init__(self):\n",
    "        super().__init__()\n",
    "\n",
    "        self.c1 = nn.Conv1d(in_channels=3, out_channels=5, kernel_size=8, padding='same')\n",
    "        self.l1 = nn.LSTM(input_size=5, hidden_size=64, bias=False, batch_first=True)\n",
    "        self.mlp = nn.Sequential(\n",
    "            nn.Linear(in_features=64, out_features=10),\n",
    "            nn.ReLU(),\n",
    "            nn.Linear(in_features=10, out_features=1)\n",
    "        )\n",
    "    \n",
    "    def forward(self, x):\n",
    "        # x is batch_size x 303, want shape: batch_size x 3 x 101\n",
    "        x = x.view(-1, 3, WINSIZE)\n",
    "\n",
    "        x = self.c1(x)\n",
    "        x = torch.transpose(x, 1, 2)\n",
    "        o, (h,c) = self.l1(x)\n",
    "        o = nn.functional.relu(o[:,-1,:])\n",
    "        logits = self.mlp(o)\n",
    "\n",
    "        return logits\n",
    "\n",
    "model = CNN_LSTM().to(device)\n",
    "criterion = nn.BCEWithLogitsLoss()\n",
    "optimizer = torch.optim.Adam(model.parameters())"
   ]
  },
  {
   "cell_type": "code",
   "execution_count": 69,
   "metadata": {},
   "outputs": [
    {
     "name": "stdout",
     "output_type": "stream",
     "text": [
      "\u001b[92mStarting optimization_loop\u001b[0m\n"
     ]
    },
    {
     "name": "stderr",
     "output_type": "stream",
     "text": [
      "Epoch 29: Train Loss: 0.0097216: Dev Loss: 0.23149: 100%|██████████| 30/30 [08:10<00:00, 16.36s/it]"
     ]
    },
    {
     "name": "stdout",
     "output_type": "stream",
     "text": [
      "\u001b[93mFinished optimization_loop. Elapsed time: 490.719\u001b[0m\n"
     ]
    },
    {
     "name": "stderr",
     "output_type": "stream",
     "text": [
      "\n"
     ]
    }
   ],
   "source": [
    "ids = get_all_session_ids(data_dir)[:15]\n",
    "train_dataset, dev_dataset, _ = nursingv1_train_dev_test_split(data_dir, 0.8, 0.2, 0, True, ids)\n",
    "\n",
    "trainloader = DataLoader(train_dataset, shuffle=True, batch_size=64)\n",
    "devloader = DataLoader(dev_dataset, shuffle=True, batch_size=64)\n",
    "\n",
    "optimization_loop(model, trainloader, devloader, criterion, optimizer, 30, device)"
   ]
  },
  {
   "cell_type": "markdown",
   "metadata": {},
   "source": [
    "# 5th LSTM - ResNet"
   ]
  },
  {
   "cell_type": "code",
   "execution_count": 79,
   "metadata": {},
   "outputs": [],
   "source": [
    "class ResNetLSTM(nn.Module):\n",
    "    def __init__(self, winsize: int):\n",
    "        super().__init__()\n",
    "        self.winsize = winsize\n",
    "\n",
    "        out_channels = 5\n",
    "        self.resnet = ResNetMod(in_channels=3, out_channels=out_channels, winsize=self.winsize)\n",
    "        \n",
    "        hidden_size = 4\n",
    "        self.l1 = nn.LSTM(input_size=out_channels, hidden_size=hidden_size, bias=False, batch_first=True)\n",
    "        \n",
    "        nhl = 128\n",
    "        self.mlp = nn.Sequential(\n",
    "            nn.Linear(in_features=hidden_size, out_features=nhl),\n",
    "            nn.Dropout(p=0.05),\n",
    "            nn.ReLU(),\n",
    "            nn.Linear(in_features=nhl, out_features=1)\n",
    "        )\n",
    "    \n",
    "    def forward(self, x):\n",
    "        # x is batch_size x 303, want shape: batch_size x 3 x 101\n",
    "        x = x.view(-1, 3, self.winsize)\n",
    "\n",
    "        x = self.resnet(x)\n",
    "\n",
    "        x = torch.transpose(x, 1, 2)\n",
    "        o, (h,c) = self.l1(x)\n",
    "        o = o[:,-1,:]\n",
    "\n",
    "        logits = self.mlp(o)\n",
    "\n",
    "        return logits\n",
    "\n",
    "    @staticmethod\n",
    "    def get_criterion():\n",
    "        return nn.BCEWithLogitsLoss()\n",
    "\n",
    "    @staticmethod\n",
    "    def get_optimizer(model):\n",
    "        return torch.optim.Adam(model.parameters(), lr=3e-4)\n",
    "\n",
    "class ResNetMod(nn.Module):\n",
    "    def conv_block(self, in_channels, out_channels, kernel_size, use_relu=True):\n",
    "        conv_block = nn.Sequential(\n",
    "            nn.Conv1d(in_channels=in_channels, out_channels=out_channels, kernel_size=kernel_size, padding='same'),\n",
    "            nn.Dropout(p=0.8),\n",
    "            nn.BatchNorm1d(num_features=out_channels),\n",
    "        )\n",
    "        if use_relu:\n",
    "                conv_block.append(nn.ReLU())\n",
    "\n",
    "        return conv_block\n",
    "\n",
    "    def inner_res_block(self, in_channels, out_channels):\n",
    "        return nn.Sequential(\n",
    "            self.conv_block(in_channels=in_channels, out_channels=out_channels, kernel_size=8),\n",
    "            self.conv_block(in_channels=out_channels, out_channels=out_channels, kernel_size=5),\n",
    "            self.conv_block(in_channels=out_channels, out_channels=out_channels, kernel_size=3, use_relu=False)\n",
    "        )\n",
    "    \n",
    "    def shortcut(self, in_channels, out_channels):\n",
    "        return nn.Sequential(\n",
    "            nn.Conv1d(in_channels=in_channels, out_channels=out_channels, kernel_size=1),\n",
    "            nn.BatchNorm1d(num_features=out_channels)\n",
    "        )\n",
    "\n",
    "    def __init__(self, in_channels, out_channels, winsize):\n",
    "        super().__init__()\n",
    "        self.winsize = winsize\n",
    "        self.out_channels = out_channels\n",
    "        nfilters = (16, 32, self.out_channels)\n",
    "\n",
    "        # First ResNet Block components\n",
    "        self.shortcut1 = self.shortcut(in_channels=in_channels, out_channels=nfilters[0])\n",
    "        self.res1 = self.inner_res_block(in_channels=in_channels, out_channels=nfilters[0])\n",
    "        self.relu1 = nn.ReLU()\n",
    "\n",
    "        # Second Res Block components\n",
    "        self.shortcut2 = self.shortcut(in_channels=nfilters[0], out_channels=nfilters[1])\n",
    "        self.res2 = self.inner_res_block(in_channels=nfilters[0], out_channels=nfilters[1])\n",
    "        self.relu2 = nn.ReLU()\n",
    "\n",
    "        # Third Res Block components\n",
    "        self.shortcut3 = self.shortcut(in_channels=nfilters[1], out_channels=nfilters[2])\n",
    "        self.res3 = self.inner_res_block(in_channels=nfilters[1], out_channels=nfilters[2])\n",
    "        self.relu3 = nn.ReLU()\n",
    "\n",
    "    def forward(self, x):\n",
    "        # Reshape x: (batch_size, 303) -> (batch_size, 3, 101)\n",
    "        x = x.view(-1, 3, self.winsize)\n",
    "        \n",
    "        # First Res Block\n",
    "        x_shortcut = self.shortcut1(x)\n",
    "        h = self.res1(x)\n",
    "        y = h + x_shortcut\n",
    "        y = self.relu1(y)\n",
    "\n",
    "        # Second Res Block\n",
    "        y_shortcut = self.shortcut2(y)\n",
    "        h = self.res2(y)\n",
    "        y = h + y_shortcut\n",
    "        y = self.relu2(y)\n",
    "\n",
    "        # Third Res Block\n",
    "        y_shortcut = self.shortcut3(y)\n",
    "        h = self.res3(y)\n",
    "        y = h + y_shortcut\n",
    "        y = self.relu3(y)\n",
    "\n",
    "        return y"
   ]
  },
  {
   "cell_type": "code",
   "execution_count": 80,
   "metadata": {},
   "outputs": [
    {
     "name": "stdout",
     "output_type": "stream",
     "text": [
      "[66 57 41 27 31 60  8 36 23 53 59 29 42 58]\n",
      "[35 22 37 69 44 65]\n",
      "\u001b[92mStarting optimization_loop\u001b[0m\n"
     ]
    },
    {
     "name": "stderr",
     "output_type": "stream",
     "text": [
      "Epoch 39: Train Loss: 0.03154: Dev Loss: 0.12051: 100%|██████████| 40/40 [40:02<00:00, 60.07s/it]  \n"
     ]
    },
    {
     "name": "stdout",
     "output_type": "stream",
     "text": [
      "\u001b[93mFinished optimization_loop. Elapsed time: 2402.814\u001b[0m\n",
      "\u001b[92mStarting evaluate_loop\u001b[0m\n",
      "\u001b[93mFinished evaluate_loop. Elapsed time: 18.477\u001b[0m\n",
      "\u001b[92mTrain: loss:  0.03231, precision:  0.92642, recall:  0.90373, f1 score:  0.91474\u001b[0m\n",
      "\u001b[92mStarting evaluate_loop\u001b[0m\n",
      "\u001b[93mFinished evaluate_loop. Elapsed time: 7.625\u001b[0m\n",
      "\u001b[92mDev: loss:  0.12052, precision:  0.86534, recall:  0.73847, f1 score:  0.78716\u001b[0m\n"
     ]
    }
   ],
   "source": [
    "# trainloader = DataLoader(load_one_windowed_session(data_dir, 0), shuffle=True, batch_size=64)\n",
    "# devloader = DataLoader(load_one_windowed_session(data_dir, 1), shuffle=True, batch_size=64)\n",
    "torch.manual_seed(0)\n",
    "\n",
    "ids = get_all_session_ids(data_dir)[:20]\n",
    "train_dataset, dev_dataset, _ = nursingv1_train_dev_test_split(\n",
    "    dir=data_dir, \n",
    "    train_size=0.7, \n",
    "    dev_size=0.3, \n",
    "    test_size=0, \n",
    "    winsize=WINSIZE, \n",
    "    shuffle=False, \n",
    "    session_ids=ids\n",
    ")\n",
    "trainloader = DataLoader(train_dataset, shuffle=True, batch_size=64)\n",
    "devloader = DataLoader(dev_dataset, shuffle=True, batch_size=64)\n",
    "\n",
    "print(train_dataset.session_ids)\n",
    "print(dev_dataset.session_ids)\n",
    "\n",
    "model = ResNetLSTM(winsize=WINSIZE).to(device)\n",
    "criterion = ResNetLSTM.get_criterion()\n",
    "optimizer = ResNetLSTM.get_optimizer(model)\n",
    "\n",
    "fn = 'lstm/7'\n",
    "optimization_loop(\n",
    "    model, \n",
    "    trainloader, \n",
    "    devloader, \n",
    "    criterion, \n",
    "    optimizer, \n",
    "    40, \n",
    "    device,\n",
    "    Path(f'../nursingv1_projects/tests/{fn}')\n",
    ")\n",
    "\n",
    "y_true, y_pred, trainloss, prec, recall, f1score = evaluate_loop(\n",
    "    model=model, \n",
    "    criterion=criterion, \n",
    "    devloader=trainloader, \n",
    "    device=device, \n",
    "    outdir=Path(f'../nursingv1_projects/tests/{fn}/traincm.jpg'),\n",
    "    metrics=True\n",
    ")\n",
    "print(f'{Colors.OKGREEN}Train: loss: {trainloss: .5f}, precision: {prec: .5f}, recall: {recall: .5f}, f1 score: {f1score: .5f}{Colors.ENDC}')\n",
    "\n",
    "y_true, y_pred, devloss, prec, recall, f1score = evaluate_loop(\n",
    "    model=model, \n",
    "    criterion=criterion, \n",
    "    devloader=devloader, \n",
    "    device=device,\n",
    "    outdir=Path(f'../nursingv1_projects/tests/{fn}/devcm.jpg'),\n",
    "    metrics=True\n",
    ")\n",
    "print(f'{Colors.OKGREEN}Dev: loss: {devloss: .5f}, precision: {prec: .5f}, recall: {recall: .5f}, f1 score: {f1score: .5f}{Colors.ENDC}')"
   ]
  },
  {
   "cell_type": "code",
   "execution_count": 19,
   "metadata": {},
   "outputs": [
    {
     "name": "stdout",
     "output_type": "stream",
     "text": [
      "\u001b[92mStarting evaluate_loop\u001b[0m\n",
      "\u001b[93mFinished evaluate_loop. Elapsed time: 0.410\u001b[0m\n"
     ]
    },
    {
     "data": {
      "text/plain": [
       "[<matplotlib.lines.Line2D at 0x7f58b4114400>]"
      ]
     },
     "execution_count": 19,
     "metadata": {},
     "output_type": "execute_result"
    },
    {
     "data": {
      "image/png": "[encoded data removed]",
      "text/plain": [
       "<Figure size 640x480 with 1 Axes>"
      ]
     },
     "metadata": {},
     "output_type": "display_data"
    }
   ],
   "source": [
    "id = 3\n",
    "session,y = load_one_session(data_dir, id)\n",
    "test_dataset = load_one_windowed_session(data_dir, id, winsize=WINSIZE)\n",
    "testloader = DataLoader(test_dataset, batch_size=10000)\n",
    "y_true, y_pred, testloss = evaluate_loop(model, criterion, testloader, device)\n",
    "\n",
    "y_pred = prepare_labels_for_plot(y_pred, WINSIZE)\n",
    "y_true = prepare_labels_for_plot(y_true, WINSIZE)\n",
    "\n",
    "plt.plot(session[:,0])\n",
    "plt.plot(y_pred)\n",
    "plt.plot(y_true*-1)"
   ]
  },
  {
   "cell_type": "markdown",
   "metadata": {},
   "source": [
    "# Test Trained Models"
   ]
  },
  {
   "cell_type": "code",
   "execution_count": 81,
   "metadata": {},
   "outputs": [
    {
     "name": "stdout",
     "output_type": "stream",
     "text": [
      "\u001b[92mStarting evaluate_loop\u001b[0m\n",
      "\u001b[93mFinished evaluate_loop. Elapsed time: 2.249\u001b[0m\n",
      "   puff count  average puff duration  total puff duration\n",
      "0        83.0              47.578313               3949.0\n",
      "   puff count  average puff duration  total puff duration\n",
      "0        10.0                  134.0               1340.0\n",
      "   puff count  average puff duration  total puff duration\n",
      "0        36.0             114.416667               4119.0\n"
     ]
    }
   ],
   "source": [
    "# from smokingml.models import ResNetLSTM\n",
    "from smokingml.datasets.nursing_dataset_v1.dataloading import load_one_windowed_session\n",
    "import plotly.express as px\n",
    "import pandas as pd\n",
    "import numpy as np\n",
    "\n",
    "# model = ResNetLSTM(winsize=WINSIZE).to(device)\n",
    "# criterion = ResNetLSTM.get_criterion()\n",
    "# optimizer = ResNetLSTM.get_optimizer(model)\n",
    "\n",
    "# model.load_state_dict(torch.load('../nursingv1_projects/tests/lstm/5/best_model.pt'))\n",
    "\n",
    "id = 4\n",
    "session,y = load_one_session(data_dir, id)\n",
    "dataset = load_one_windowed_session(data_dir, id, WINSIZE)\n",
    "loader = DataLoader(dataset, batch_size=64)\n",
    "\n",
    "y_true, y_pred, testloss = evaluate_loop(model, criterion, loader, device)\n",
    "\n",
    "y_pred = prepare_labels_for_plot(y_pred, WINSIZE)\n",
    "y_true = prepare_labels_for_plot(y_true, WINSIZE)\n",
    "\n",
    "\n",
    "\n",
    "_,_,y_pred_expert = puff_state_machine(torch.from_numpy(y_pred / 10))\n",
    "\n",
    "print(stats(torch.from_numpy(y_pred / 10)))\n",
    "print(stats(torch.from_numpy(y_true / 10)))\n",
    "print(stats(y_pred_expert))\n",
    "\n",
    "df = pd.DataFrame(dict(\n",
    "    x=session[:,0], \n",
    "    y=session[:,1], \n",
    "    z=session[:,2],\n",
    "    y_true=y_true,\n",
    "    y_pred=y_pred,\n",
    "    y_pred_expert=y_pred_expert\n",
    "))\n",
    "\n",
    "fig = px.line(df, x=df.index, y=df.columns)\n",
    "fig.show(renderer='browser')"
   ]
  },
  {
   "cell_type": "code",
   "execution_count": 70,
   "metadata": {},
   "outputs": [],
   "source": [
    "def stats(y_pred):\n",
    "    y_pred = y_pred.squeeze().long()\n",
    "    current_state = y_pred[0].item()\n",
    "    current_length = 1\n",
    "    states = {\n",
    "        0:[],\n",
    "        1:[]\n",
    "    }\n",
    "    for epoch in y_pred[1:]:\n",
    "        if epoch != current_state:\n",
    "            states[current_state].append(current_length)\n",
    "            current_state = epoch.item()\n",
    "            current_length = 0\n",
    "        current_length += 1\n",
    "    states[current_state].append(current_length)\n",
    "    puff_bouts = states[1]\n",
    "    puff_count = len(puff_bouts)\n",
    "    average_puff_duration = np.mean(puff_bouts)\n",
    "    total_puff_duration = np.sum(puff_bouts)\n",
    "    return pd.DataFrame([puff_count,average_puff_duration,total_puff_duration],index=['puff count','average puff duration','total puff duration']).T\n",
    "\n",
    "def puff_state_machine(predictions):\n",
    "    ret = predictions.clone()\n",
    "    state = 0\n",
    "    states = []\n",
    "    puff_locations = []\n",
    "    currentInterPuffIntervalLength = 0\n",
    "    currentPuffLength = 0\n",
    "    puff_start = 0\n",
    "    for i,smokingOutput in enumerate(predictions):\n",
    "        states.append(state)\n",
    "        if (state == 0 and smokingOutput == 0.0):\n",
    "            # no action\n",
    "            state = 0\n",
    "        elif (state == 0 and smokingOutput == 1.0):\n",
    "            # starting validating puff length\n",
    "            state = 1\n",
    "            currentPuffLength += 1\n",
    "            puff_start = i\n",
    "        elif (state == 1 and smokingOutput == 1.0):\n",
    "            # continuing not yet valid length puff\n",
    "            currentPuffLength += 1\n",
    "            if (currentPuffLength > 14) :\n",
    "                # valid puff length!\n",
    "                state = 2\n",
    "        elif (state == 1 and smokingOutput == 0.0):\n",
    "            # never was a puff, begin validating end\n",
    "            state = 3\n",
    "            currentInterPuffIntervalLength += 1\n",
    "        elif (state == 2 and smokingOutput == 1.0):\n",
    "            # continuing already valid puff\n",
    "            currentPuffLength += 1\n",
    "        elif (state == 2 and smokingOutput == 0.0):\n",
    "            # ending already valid puff length\n",
    "            state = 4 # begin validating inter puff interval\n",
    "            currentInterPuffIntervalLength += 1\n",
    "        elif (state == 3 and smokingOutput == 0.0): \n",
    "            currentInterPuffIntervalLength += 1\n",
    "            if (currentInterPuffIntervalLength > 30):\n",
    "                # valid interpuff\n",
    "                state = 0\n",
    "                currentPuffLength = 0\n",
    "                currentInterPuffIntervalLength = 0\n",
    "                ret[puff_start:i-30] = 0\n",
    "        elif (state == 3 and smokingOutput == 1.0):\n",
    "            # was validating interpuff for puff that wasn't valid\n",
    "            currentPuffLength += 1\n",
    "            currentInterPuffIntervalLength = 0\n",
    "            if (currentPuffLength > 14) :\n",
    "                # valid puff length!\n",
    "                state = 2\n",
    "            else:\n",
    "                state = 1\n",
    "        elif (state == 4 and smokingOutput == 0.0) :\n",
    "            currentInterPuffIntervalLength += 1\n",
    "            if (currentInterPuffIntervalLength > 30):\n",
    "                # valid interpuff for valid puff\n",
    "                state = 0\n",
    "                currentPuffLength = 0\n",
    "                currentInterPuffIntervalLength = 0\n",
    "                puff_locations.append(i)\n",
    "                ret[puff_start:i-30] = 1\n",
    "        elif (state == 4 and smokingOutput == 1.0):\n",
    "            # back into puff for already valid puff\n",
    "            currentInterPuffIntervalLength = 0\n",
    "            currentPuffLength += 1\n",
    "            state = 2\n",
    "    states = states[1:] + [0]\n",
    "    return states,puff_locations,ret"
   ]
  }
 ],
 "metadata": {
  "kernelspec": {
   "display_name": "Python 3.10.12 ('.venv': venv)",
   "language": "python",
   "name": "python3"
  },
  "language_info": {
   "codemirror_mode": {
    "name": "ipython",
    "version": 3
   },
   "file_extension": ".py",
   "mimetype": "text/x-python",
   "name": "python",
   "nbconvert_exporter": "python",
   "pygments_lexer": "ipython3",
   "version": "3.10.12"
  },
  "orig_nbformat": 4,
  "vscode": {
   "interpreter": {
    "hash": "8cb3555db5016569e3059ff948719f5f9b91f038af439fb57df08d70e6cb778e"
   }
  }
 },
 "nbformat": 4,
 "nbformat_minor": 2
}
