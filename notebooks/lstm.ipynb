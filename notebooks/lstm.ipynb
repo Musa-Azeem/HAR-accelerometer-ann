{
 "cells": [
  {
   "cell_type": "code",
   "execution_count": 1,
   "metadata": {},
   "outputs": [],
   "source": [
    "import torch\n",
    "from torch import nn\n",
    "from pathlib import Path\n",
    "from torch.utils.data import DataLoader, TensorDataset\n",
    "from smokingml.datasets.nursing_dataset_v1 import WINSIZE, NursingDatasetV1, nursingv1_train_dev_test_split\n",
    "from smokingml.datasets.nursing_dataset_v1.dataloading import load_one_session, load_one_windowed_session\n",
    "from smokingml.datasets.nursing_dataset_v1.utils import window_session, train_test_split_windows, get_all_session_ids\n",
    "from smokingml.modules import train_loop, optimization_loop, evaluate_loop"
   ]
  },
  {
   "cell_type": "code",
   "execution_count": 2,
   "metadata": {},
   "outputs": [],
   "source": [
    "data_dir = Path('../data/nursingv1_dataset/')\n",
    "device = 'cuda:1'"
   ]
  },
  {
   "attachments": {},
   "cell_type": "markdown",
   "metadata": {},
   "source": [
    "# 1st LSTM: One Sequence of Points\n",
    "- entire session is sequence of inputs\n",
    "- each input is one data point (xyz)\n",
    "- input shape to model is ($L$,$H_{in}$)\n",
    "\n",
    "$L =$ `len(session)`\n",
    "\n",
    "$H_{in} = 3$"
   ]
  },
  {
   "cell_type": "code",
   "execution_count": 13,
   "metadata": {},
   "outputs": [],
   "source": [
    "class LSTM1(nn.Module):\n",
    "    def __init__(self):\n",
    "        super().__init__()\n",
    "\n",
    "        self.lstm = nn.LSTM(input_size=3, hidden_size=64, bias=False)\n",
    "        self.mlp = nn.Sequential(\n",
    "            nn.Linear(in_features=64, out_features=10),\n",
    "            nn.ReLU(),\n",
    "            nn.Linear(in_features=10, out_features=1)\n",
    "        )\n",
    "\n",
    "    def forward(self, x):\n",
    "        # x is len(session) x 3\n",
    "        o, (h,c) = self.lstm(x) # o is shape (len(session), 64)\n",
    "        o = nn.functional.relu(o[-1])\n",
    "        logits = self.mlp(o)\n",
    "\n",
    "        return logits\n",
    "\n",
    "model = LSTM1().to(device)\n",
    "criterion = nn.BCEWithLogitsLoss()\n",
    "optimizer = torch.optim.Adam(model.parameters())"
   ]
  },
  {
   "cell_type": "code",
   "execution_count": 14,
   "metadata": {},
   "outputs": [],
   "source": [
    "X,_ = load_one_session(data_dir, 0) \n",
    "\n",
    "# logits is the classification for the final point in X\n",
    "logits = model(X.to(device).float())"
   ]
  },
  {
   "cell_type": "markdown",
   "metadata": {},
   "source": [
    "# 2nd LSTM: Many sequences of points\n",
    "- session is padded and windowed into `len(session)` windows\n",
    "- each window is shaped into sequence of 101 3D inputs (xyz)\n",
    "- input to LSTM is ($N$, $L$,$H_{in}$)\n",
    "\n",
    "$N = 64$\n",
    "\n",
    "$L = 101$\n",
    "\n",
    "$H_{in} = 3$"
   ]
  },
  {
   "cell_type": "code",
   "execution_count": 15,
   "metadata": {},
   "outputs": [],
   "source": [
    "class LSTM2(nn.Module):\n",
    "    def __init__(self):\n",
    "        super().__init__()\n",
    "\n",
    "        self.lstm = nn.LSTM(input_size=3, hidden_size=64, bias=False, batch_first=True)\n",
    "        self.mlp = nn.Sequential(\n",
    "            nn.Linear(in_features=64, out_features=10),\n",
    "            nn.ReLU(),\n",
    "            nn.Linear(in_features=10, out_features=1)\n",
    "        )\n",
    "\n",
    "    def forward(self, x):\n",
    "        # x is batch_size x 303, want shape: batch_size x 101 x 3\n",
    "        x = torch.cat(x.unsqueeze(2).split(WINSIZE, dim=1), axis=2)\n",
    "        o, (h,c) = self.lstm(x) # o is shape (batch_size, winsize, 64)\n",
    "        o = nn.functional.relu(o[:,-1,:])\n",
    "        logits = self.mlp(o)\n",
    "\n",
    "        return logits\n",
    "\n",
    "model = LSTM2().to(device)\n",
    "criterion = nn.BCEWithLogitsLoss()\n",
    "optimizer = torch.optim.Adam(model.parameters())"
   ]
  },
  {
   "cell_type": "code",
   "execution_count": 16,
   "metadata": {},
   "outputs": [
    {
     "name": "stdout",
     "output_type": "stream",
     "text": [
      "\u001b[92mStarting train_loop\u001b[0m\n"
     ]
    },
    {
     "name": "stderr",
     "output_type": "stream",
     "text": [
      "  0%|          | 0/10 [00:00<?, ?it/s]"
     ]
    },
    {
     "name": "stderr",
     "output_type": "stream",
     "text": [
      "Epoch 9: Train Loss: 0.0068326: 100%|██████████| 10/10 [00:08<00:00,  1.13it/s]"
     ]
    },
    {
     "name": "stdout",
     "output_type": "stream",
     "text": [
      "\u001b[93mFinished train_loop. Elapsed time: 8.840\u001b[0m\n"
     ]
    },
    {
     "name": "stderr",
     "output_type": "stream",
     "text": [
      "\n"
     ]
    }
   ],
   "source": [
    "dataset = load_one_windowed_session(data_dir, 0)\n",
    "# X = dataset.tensors[0]\n",
    "# X = torch.cat(X.unsqueeze(2).split(WINSIZE, dim=1), axis=2)\n",
    "# dataset = TensorDataset(X, dataset.tensors[1])\n",
    "loader = DataLoader(dataset, shuffle=True, batch_size=64)\n",
    "\n",
    "# Not really accurate, since y here are labels for center of windows,\n",
    "# and this model is predicted the final point in the window\n",
    "train_loop(model, loader, criterion, optimizer, 10, device)"
   ]
  },
  {
   "cell_type": "markdown",
   "metadata": {},
   "source": [
    "# 3rd LSTM: Many Sequences of Windows\n",
    "- session is padded and windowed into `len(session)` windows\n",
    "- each window is sequence of 303 inputs (flattened xyz)\n",
    "- input to model is $(N,L, H_{in})$, $N=64$, $L=303$, $H_{in}=1$\n",
    "- in model, each window is padded and windowed into 303 subwindows of length 15 (shape 303x15) before theyre fed to lstm\n",
    "    - in window, first 101 are x, next 101 are y, etc.\n",
    "    - in subwindows, first 5 are x, next 5 are z, etc.\n",
    "- input to LSTM is ($N$, $L$, $H_{in}$)\n",
    "\n",
    "$N = 64$\n",
    "\n",
    "$L = 303$\n",
    "\n",
    "$H_{in} = 15$"
   ]
  },
  {
   "cell_type": "code",
   "execution_count": 17,
   "metadata": {},
   "outputs": [],
   "source": [
    "class LSTM3(nn.Module):\n",
    "    def __init__(self):\n",
    "        super().__init__()\n",
    "\n",
    "        self.lstm = nn.LSTM(input_size=15, hidden_size=64, bias=False, batch_first=True)\n",
    "        self.mlp = nn.Sequential(\n",
    "            nn.Linear(in_features=64, out_features=10),\n",
    "            nn.ReLU(),\n",
    "            nn.Linear(in_features=10, out_features=1)\n",
    "        )\n",
    "    \n",
    "    def window_window(self, x, subwinsize):\n",
    "\n",
    "        # Seperate x,y,z\n",
    "        x = x.reshape(-1, 3, WINSIZE)\n",
    "\n",
    "        # Pad x,y, and z on both sides with 0s\n",
    "        x = nn.functional.pad(x, (subwinsize//2, subwinsize//2), 'constant', 0)\n",
    "\n",
    "        # Window x,y, and z\n",
    "        xacc = x[:,0].unsqueeze(2)\n",
    "        yacc = x[:,1].unsqueeze(2)\n",
    "        zacc = x[:,2].unsqueeze(2)\n",
    "\n",
    "        w = subwinsize - 1\n",
    "        xs = [xacc[:, :-w]]\n",
    "        ys = [yacc[:, :-w]]\n",
    "        zs = [zacc[:, :-w]]\n",
    "\n",
    "        for i in range(1,w):\n",
    "            xs.append(xacc[:, i:i-w])\n",
    "            ys.append(yacc[:, i:i-w])\n",
    "            zs.append(zacc[:, i:i-w])\n",
    "        \n",
    "        xs.append(xacc[:, w:])\n",
    "        ys.append(yacc[:, w:])\n",
    "        zs.append(zacc[:, w:])\n",
    "\n",
    "        xs = torch.cat(xs, dim=2)\n",
    "        ys = torch.cat(ys, dim=2)\n",
    "        zs = torch.cat(zs, dim=2)\n",
    "\n",
    "        # Re-combine each window of xyz\n",
    "        return torch.cat([xs, ys, zs], dim=2)\n",
    "\n",
    "    def forward(self, x):\n",
    "        # x is batch_size x 303, want shape: batch_size x 101 x 15\n",
    "        x = self.window_window(x, subwinsize=5)\n",
    "        \n",
    "        o, (h,c) = self.lstm(x) # o is shape (batch_size, winsize, 64)\n",
    "        o = nn.functional.relu(o[:,-1,:])\n",
    "        logits = self.mlp(o)\n",
    "\n",
    "        return logits\n",
    "\n",
    "model = LSTM3().to(device)\n",
    "criterion = nn.BCEWithLogitsLoss()\n",
    "optimizer = torch.optim.Adam(model.parameters())"
   ]
  },
  {
   "cell_type": "code",
   "execution_count": null,
   "metadata": {},
   "outputs": [],
   "source": [
    "ids = get_all_session_ids(data_dir)[:10]\n",
    "train_dataset, dev_dataset, _ = nursingv1_train_dev_test_split(data_dir, 0.8, 0.2, 0, True, ids)\n",
    "\n",
    "trainloader = DataLoader(train_dataset, shuffle=True, batch_size=64)\n",
    "devloader = DataLoader(dev_dataset, shuffle=True, batch_size=64)\n",
    "\n",
    "optimization_loop(model, trainloader, devloader, criterion, optimizer, 20, device)"
   ]
  },
  {
   "cell_type": "markdown",
   "metadata": {},
   "source": [
    "# 4th LSTM: CNN -> LSTM\n",
    "- input window to model of shape batch_size x 303\n",
    "- model reshapes input to batch_size x 3 x 101 (three channels)\n",
    "- uses CNN layer with 5 filters and padding to get output shape batch_size x 5 x 101\n",
    "- input shape to CNN is $(N,C_{in},L_{in})$ and output shape is $(N,C_{out},L_{out})$, where:\n",
    "\n",
    "$N=64$,  $C_{in}=3$, $L_{in}=101$, $C_{out}=5$, $L_{in}=101$\n",
    "\n",
    "- This is reshaped to batch_size x 101 x 15 (transpose) and given to LSTM\n",
    "- input to LSTM is $(N,L,H_{in})$, where:\n",
    "\n",
    "$N=64$, $L=101$, $H_{in}=5$\n",
    "\n",
    "- output of LSTM with 64 hidden states is batch_size x 101 x 64\n",
    "- the final hidden state (shape batch_size x 64) is given to MLP to get one output"
   ]
  },
  {
   "cell_type": "code",
   "execution_count": 67,
   "metadata": {},
   "outputs": [],
   "source": [
    "class CNN_LSTM(nn.Module):\n",
    "    def __init__(self):\n",
    "        super().__init__()\n",
    "\n",
    "        self.c1 = nn.Conv1d(in_channels=3, out_channels=5, kernel_size=8, padding='same')\n",
    "        self.l1 = nn.LSTM(input_size=5, hidden_size=64, bias=False, batch_first=True)\n",
    "        self.mlp = nn.Sequential(\n",
    "            nn.Linear(in_features=64, out_features=10),\n",
    "            nn.ReLU(),\n",
    "            nn.Linear(in_features=10, out_features=1)\n",
    "        )\n",
    "    \n",
    "    def forward(self, x):\n",
    "        # x is batch_size x 303, want shape: batch_size x 3 x 101\n",
    "        x = x.view(-1, 3, WINSIZE)\n",
    "\n",
    "        x = self.c1(x)\n",
    "        x = torch.transpose(x, 1, 2)\n",
    "        o, (h,c) = self.l1(x)\n",
    "        o = nn.functional.relu(o[:,-1,:])\n",
    "        logits = self.mlp(o)\n",
    "\n",
    "        return logits\n",
    "\n",
    "model = CNN_LSTM().to(device)\n",
    "criterion = nn.BCEWithLogitsLoss()\n",
    "optimizer = torch.optim.Adam(model.parameters())"
   ]
  },
  {
   "cell_type": "code",
   "execution_count": 69,
   "metadata": {},
   "outputs": [
    {
     "name": "stdout",
     "output_type": "stream",
     "text": [
      "\u001b[92mStarting optimization_loop\u001b[0m\n"
     ]
    },
    {
     "name": "stderr",
     "output_type": "stream",
     "text": [
      "Epoch 28: Train Loss: 0.0083876: Dev Loss: 0.24942:  97%|█████████▋| 29/30 [07:54<00:16, 16.42s/it]"
     ]
    }
   ],
   "source": [
    "ids = get_all_session_ids(data_dir)[:15]\n",
    "train_dataset, dev_dataset, _ = nursingv1_train_dev_test_split(data_dir, 0.8, 0.2, 0, True, ids)\n",
    "\n",
    "trainloader = DataLoader(train_dataset, shuffle=True, batch_size=64)\n",
    "devloader = DataLoader(dev_dataset, shuffle=True, batch_size=64)\n",
    "\n",
    "optimization_loop(model, trainloader, devloader, criterion, optimizer, 30, device)"
   ]
  },
  {
   "cell_type": "code",
   "execution_count": null,
   "metadata": {},
   "outputs": [],
   "source": []
  }
 ],
 "metadata": {
  "kernelspec": {
   "display_name": ".venv",
   "language": "python",
   "name": "python3"
  },
  "language_info": {
   "codemirror_mode": {
    "name": "ipython",
    "version": 3
   },
   "file_extension": ".py",
   "mimetype": "text/x-python",
   "name": "python",
   "nbconvert_exporter": "python",
   "pygments_lexer": "ipython3",
   "version": "3.10.12"
  },
  "orig_nbformat": 4
 },
 "nbformat": 4,
 "nbformat_minor": 2
}
