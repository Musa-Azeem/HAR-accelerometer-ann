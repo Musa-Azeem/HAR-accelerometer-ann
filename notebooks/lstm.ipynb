{
 "cells": [
  {
   "cell_type": "code",
   "execution_count": 90,
   "metadata": {},
   "outputs": [],
   "source": [
    "import torch\n",
    "from torch import nn\n",
    "from pathlib import Path\n",
    "from torch.utils.data import DataLoader, TensorDataset\n",
    "from smokingml.datasets.nursing_dataset_v1 import WINSIZE\n",
    "from smokingml.datasets.nursing_dataset_v1.dataloading import load_one_session, load_one_windowed_session\n",
    "from smokingml.datasets.nursing_dataset_v1.utils import window_session, train_test_split_windows\n",
    "from smokingml.modules import train_loop, optimization_loop, evaluate_loop"
   ]
  },
  {
   "attachments": {},
   "cell_type": "markdown",
   "metadata": {},
   "source": [
    "# 1st LSTM: One Sequence of Points\n",
    "- entire session is sequence of inputs\n",
    "- each input is one data point (xyz)\n",
    "- input shape to model is ($L$,$H_{in}$)\n",
    "\n",
    "$L =$ `len(session)`\n",
    "\n",
    "$H_{in} = 3$"
   ]
  },
  {
   "cell_type": "code",
   "execution_count": 2,
   "metadata": {},
   "outputs": [],
   "source": [
    "data_dir = Path('../data/nursingv1_dataset/')\n",
    "device = 'cuda:0'"
   ]
  },
  {
   "cell_type": "code",
   "execution_count": 3,
   "metadata": {},
   "outputs": [],
   "source": [
    "class LSTM1(nn.Module):\n",
    "    def __init__(self):\n",
    "        super().__init__()\n",
    "\n",
    "        self.lstm = nn.LSTM(input_size=3, hidden_size=64, bias=False)\n",
    "        self.mlp = nn.Sequential(\n",
    "            nn.Linear(in_features=64, out_features=10),\n",
    "            nn.Linear(in_features=10, out_features=1)\n",
    "        )\n",
    "\n",
    "    def forward(self, x):\n",
    "        # x is len(session) x 3\n",
    "        o, (h,c) = self.lstm(x) # o is shape (len(session), 64)\n",
    "        logits = self.mlp(o[-1])\n",
    "\n",
    "        return logits\n",
    "\n",
    "model = LSTM1().to(device)\n",
    "criterion = nn.BCEWithLogitsLoss()\n",
    "optimizer = torch.optim.Adam(model.parameters())"
   ]
  },
  {
   "cell_type": "code",
   "execution_count": 7,
   "metadata": {},
   "outputs": [],
   "source": [
    "X,_ = load_one_session(data_dir, 0) \n",
    "\n",
    "# logits is the classification for the final point in X\n",
    "logits = model(X.to(device).float())"
   ]
  },
  {
   "cell_type": "markdown",
   "metadata": {},
   "source": [
    "# 2nd LSTM: Many sequences of points\n",
    "- session is padded and windowed into `len(session)` windows\n",
    "- each window is shaped into sequence of 101 3D inputs (xyz)\n",
    "- input to LSTM is ($N$, $L$,$H_{in}$)\n",
    "\n",
    "$N = 64$\n",
    "\n",
    "$L = 101$\n",
    "\n",
    "$H_{in} = 3$"
   ]
  },
  {
   "cell_type": "code",
   "execution_count": 128,
   "metadata": {},
   "outputs": [],
   "source": [
    "class LSTM2(nn.Module):\n",
    "    def __init__(self):\n",
    "        super().__init__()\n",
    "\n",
    "        self.lstm = nn.LSTM(input_size=3, hidden_size=64, bias=False, batch_first=True)\n",
    "        self.mlp = nn.Sequential(\n",
    "            nn.Linear(in_features=64, out_features=10),\n",
    "            nn.Linear(in_features=10, out_features=1)\n",
    "        )\n",
    "\n",
    "    def forward(self, x):\n",
    "        # x is batch_size x 303, want shape: batch_size x 101 x 3\n",
    "        x = torch.cat(x.unsqueeze(2).split(WINSIZE, dim=1), axis=2)\n",
    "        o, (h,c) = self.lstm(x) # o is shape (batch_size, winsize, 64)\n",
    "        logits = self.mlp(o[:,-1,:])\n",
    "\n",
    "        return logits\n",
    "\n",
    "model = LSTM2().to(device)\n",
    "criterion = nn.BCEWithLogitsLoss()\n",
    "optimizer = torch.optim.Adam(model.parameters())"
   ]
  },
  {
   "cell_type": "code",
   "execution_count": 129,
   "metadata": {},
   "outputs": [
    {
     "name": "stdout",
     "output_type": "stream",
     "text": [
      "\u001b[92mStarting train_loop\u001b[0m\n"
     ]
    },
    {
     "name": "stderr",
     "output_type": "stream",
     "text": [
      "Epoch 9: Train Loss: 0.0050308: 100%|██████████| 10/10 [00:07<00:00,  1.33it/s]"
     ]
    },
    {
     "name": "stdout",
     "output_type": "stream",
     "text": [
      "\u001b[93mFinished train_loop. Elapsed time: 7.527\u001b[0m\n"
     ]
    },
    {
     "name": "stderr",
     "output_type": "stream",
     "text": [
      "\n"
     ]
    }
   ],
   "source": [
    "dataset = load_one_windowed_session(data_dir, 0)\n",
    "# X = dataset.tensors[0]\n",
    "# X = torch.cat(X.unsqueeze(2).split(WINSIZE, dim=1), axis=2)\n",
    "# dataset = TensorDataset(X, dataset.tensors[1])\n",
    "loader = DataLoader(dataset, shuffle=True, batch_size=64)\n",
    "\n",
    "# Not really accurate, since y here are labels for center of windows,\n",
    "# and this model is predicted the final point in the window\n",
    "train_loop(model, loader, criterion, optimizer, 10, device)"
   ]
  },
  {
   "cell_type": "markdown",
   "metadata": {},
   "source": [
    "# 3rd LSTM: Many Sequences of Windows\n",
    "- session is padded and windowed into `len(session)` windows\n",
    "- each window is sequence of 303 inputs (flattened xyz)\n",
    "- input to model is $(N,L, $H_{in}$)$, $N=64$, $L=303$, $H_{in}=1$\n",
    "- in model, each window is padded and windowed into 303 subwindows of length 15 (shape 303x15) before theyre fed to lstm\n",
    "    - in window, first 101 are x, next 101 are y, etc.\n",
    "    - in subwindow, first 5 are x, next 5 are z, etc.\n",
    "- input to LSTM is ($N$, $L$, $H_{in}$)\n",
    "\n",
    "$N = 64$\n",
    "\n",
    "$L = 303$\n",
    "\n",
    "$H_{in} = 15$"
   ]
  },
  {
   "cell_type": "code",
   "execution_count": null,
   "metadata": {},
   "outputs": [],
   "source": [
    "class LSTM3(nn.Module):\n",
    "    def __init__(self):\n",
    "        super().__init__()\n",
    "\n",
    "        self.lstm = nn.LSTM(input_size=15, hidden_size=64, bias=False, batch_first=True)\n",
    "        self.mlp = nn.Sequential(\n",
    "            nn.Linear(in_features=64, out_features=10),\n",
    "            nn.Linear(in_features=10, out_features=1)\n",
    "        )\n",
    "    \n",
    "    def window_window(self, x, subwinsize):\n",
    "        # pad x\n",
    "        x = torch.pad(x, (0,0,subwinsize//2,subwinsize//2),0,'constant')\n",
    "\n",
    "        # window x\n",
    "        \n",
    "\n",
    "    def forward(self, x):\n",
    "        # x is batch_size x 303, want shape: batch_size x 303 x 15\n",
    "        self.window_window(x, subwinsize=5)\n",
    "        o, (h,c) = self.lstm(x) # o is shape (batch_size, winsize, 64)\n",
    "        logits = self.mlp(o[:,-1,:])\n",
    "\n",
    "        return logits\n",
    "\n",
    "model = LSTM3().to(device)\n",
    "criterion = nn.BCEWithLogitsLoss()\n",
    "optimizer = torch.optim.Adam(model.parameters())"
   ]
  },
  {
   "cell_type": "markdown",
   "metadata": {},
   "source": [
    "# 4th LSTM: CNN -> LSTM"
   ]
  }
 ],
 "metadata": {
  "kernelspec": {
   "display_name": ".venv",
   "language": "python",
   "name": "python3"
  },
  "language_info": {
   "codemirror_mode": {
    "name": "ipython",
    "version": 3
   },
   "file_extension": ".py",
   "mimetype": "text/x-python",
   "name": "python",
   "nbconvert_exporter": "python",
   "pygments_lexer": "ipython3",
   "version": "3.10.12"
  },
  "orig_nbformat": 4
 },
 "nbformat": 4,
 "nbformat_minor": 2
}
