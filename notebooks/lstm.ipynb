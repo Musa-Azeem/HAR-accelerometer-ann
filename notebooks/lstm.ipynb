{
 "cells": [
  {
   "cell_type": "code",
   "execution_count": 1,
   "metadata": {},
   "outputs": [],
   "source": [
    "import torch\n",
    "from torch import nn\n",
    "from pathlib import Path\n",
    "from torch.utils.data import DataLoader, TensorDataset\n",
    "from smokingml.datasets.nursing_dataset_v1 import WINSIZE, NursingDatasetV1, nursingv1_train_dev_test_split\n",
    "from smokingml.datasets.nursing_dataset_v1.dataloading import load_one_session, load_one_windowed_session\n",
    "from smokingml.datasets.nursing_dataset_v1.utils import window_session, train_test_split_windows, get_all_session_ids\n",
    "from smokingml.modules import train_loop, optimization_loop, evaluate_loop\n",
    "from smokingml.models import ResNetConv, ResNetClassifier, ResNetLSTM, MLP_1hl\n",
    "from smokingml.utils import plot_and_save_cm, Colors, prepare_labels_for_plot\n",
    "from sklearn.metrics import precision_recall_fscore_support\n",
    "import matplotlib.pyplot as plt"
   ]
  },
  {
   "cell_type": "code",
   "execution_count": 2,
   "metadata": {},
   "outputs": [],
   "source": [
    "data_dir = Path('../data/nursingv1_dataset/')\n",
    "device = 'cuda:0'"
   ]
  },
  {
   "attachments": {},
   "cell_type": "markdown",
   "metadata": {},
   "source": [
    "# 1st LSTM: One Sequence of Points\n",
    "- entire session is sequence of inputs\n",
    "- each input is one data point (xyz)\n",
    "- input shape to model is ($L$,$H_{in}$)\n",
    "\n",
    "$L =$ `len(session)`\n",
    "\n",
    "$H_{in} = 3$"
   ]
  },
  {
   "cell_type": "code",
   "execution_count": 13,
   "metadata": {},
   "outputs": [],
   "source": [
    "class LSTM1(nn.Module):\n",
    "    def __init__(self):\n",
    "        super().__init__()\n",
    "\n",
    "        self.lstm = nn.LSTM(input_size=3, hidden_size=64, bias=False)\n",
    "        self.mlp = nn.Sequential(\n",
    "            nn.Linear(in_features=64, out_features=10),\n",
    "            nn.ReLU(),\n",
    "            nn.Linear(in_features=10, out_features=1)\n",
    "        )\n",
    "\n",
    "    def forward(self, x):\n",
    "        # x is len(session) x 3\n",
    "        o, (h,c) = self.lstm(x) # o is shape (len(session), 64)\n",
    "        o = nn.functional.relu(o[-1])\n",
    "        logits = self.mlp(o)\n",
    "\n",
    "        return logits\n",
    "\n",
    "model = LSTM1().to(device)\n",
    "criterion = nn.BCEWithLogitsLoss()\n",
    "optimizer = torch.optim.Adam(model.parameters())"
   ]
  },
  {
   "cell_type": "code",
   "execution_count": 14,
   "metadata": {},
   "outputs": [],
   "source": [
    "X,_ = load_one_session(data_dir, 0) \n",
    "\n",
    "# logits is the classification for the final point in X\n",
    "logits = model(X.to(device).float())"
   ]
  },
  {
   "cell_type": "markdown",
   "metadata": {},
   "source": [
    "# 2nd LSTM: Many sequences of points\n",
    "- session is padded and windowed into `len(session)` windows\n",
    "- each window is shaped into sequence of 101 3D inputs (xyz)\n",
    "- input to LSTM is ($N$, $L$,$H_{in}$)\n",
    "\n",
    "$N = 64$\n",
    "\n",
    "$L = 101$\n",
    "\n",
    "$H_{in} = 3$"
   ]
  },
  {
   "cell_type": "code",
   "execution_count": 3,
   "metadata": {},
   "outputs": [],
   "source": [
    "class LSTM2(nn.Module):\n",
    "    def __init__(self):\n",
    "        super().__init__()\n",
    "\n",
    "        self.lstm = nn.LSTM(input_size=3, hidden_size=64, bias=False, batch_first=True)\n",
    "        self.mlp = nn.Sequential(\n",
    "            nn.Linear(in_features=64, out_features=10),\n",
    "            nn.ReLU(),\n",
    "            nn.Linear(in_features=10, out_features=1)\n",
    "        )\n",
    "\n",
    "    def forward(self, x):\n",
    "        # x is batch_size x 303, want shape: batch_size x 101 x 3\n",
    "        x = torch.cat(x.unsqueeze(2).split(WINSIZE, dim=1), axis=2)\n",
    "        o, (h,c) = self.lstm(x) # o is shape (batch_size, winsize, 64)\n",
    "        o = nn.functional.relu(o[:,-1,:])\n",
    "        logits = self.mlp(o)\n",
    "\n",
    "        return logits\n",
    "\n",
    "model = LSTM2().to(device)\n",
    "criterion = nn.BCEWithLogitsLoss()\n",
    "optimizer = torch.optim.Adam(model.parameters())"
   ]
  },
  {
   "cell_type": "code",
   "execution_count": 4,
   "metadata": {},
   "outputs": [
    {
     "name": "stdout",
     "output_type": "stream",
     "text": [
      "\u001b[92mStarting optimization_loop\u001b[0m\n"
     ]
    },
    {
     "name": "stderr",
     "output_type": "stream",
     "text": [
      "  0%|          | 0/40 [00:00<?, ?it/s]"
     ]
    },
    {
     "name": "stderr",
     "output_type": "stream",
     "text": [
      "Epoch 38: Train Loss: 0.0044834: Dev Loss: 0.24951:  98%|█████████▊| 39/40 [05:51<00:09,  9.52s/it]"
     ]
    }
   ],
   "source": [
    "ids = get_all_session_ids(data_dir)[:10]\n",
    "train_dataset, dev_dataset, _ = nursingv1_train_dev_test_split(data_dir, 0.8, 0.2, 0, WINSIZE, True, ids)\n",
    "\n",
    "trainloader = DataLoader(train_dataset, shuffle=True, batch_size=64)\n",
    "devloader = DataLoader(dev_dataset, shuffle=True, batch_size=64)\n",
    "\n",
    "optimization_loop(model, trainloader, devloader, criterion, optimizer, 40, device)"
   ]
  },
  {
   "cell_type": "markdown",
   "metadata": {},
   "source": [
    "# 3rd LSTM: Many Sequences of Windows\n",
    "- session is padded and windowed into `len(session)` windows\n",
    "- each window is sequence of 303 inputs (flattened xyz)\n",
    "- input to model is $(N,L, H_{in})$, $N=64$, $L=303$, $H_{in}=1$\n",
    "- in model, each window is padded and windowed into 303 subwindows of length 15 (shape 303x15) before theyre fed to lstm\n",
    "    - in window, first 101 are x, next 101 are y, etc.\n",
    "    - in subwindows, first 5 are x, next 5 are z, etc.\n",
    "- input to LSTM is ($N$, $L$, $H_{in}$)\n",
    "\n",
    "$N = 64$\n",
    "\n",
    "$L = 303$\n",
    "\n",
    "$H_{in} = 15$"
   ]
  },
  {
   "cell_type": "code",
   "execution_count": 3,
   "metadata": {},
   "outputs": [],
   "source": [
    "class LSTM3(nn.Module):\n",
    "    def __init__(self):\n",
    "        super().__init__()\n",
    "\n",
    "        self.lstm = nn.LSTM(input_size=15, hidden_size=64, bias=False, batch_first=True)\n",
    "        self.mlp = nn.Sequential(\n",
    "            nn.Linear(in_features=64, out_features=10),\n",
    "            nn.ReLU(),\n",
    "            nn.Linear(in_features=10, out_features=1)\n",
    "        )\n",
    "    \n",
    "    def window_window(self, x, subwinsize):\n",
    "\n",
    "        # Seperate x,y,z\n",
    "        x = x.reshape(-1, 3, WINSIZE)\n",
    "\n",
    "        # Pad x,y, and z on both sides with 0s\n",
    "        x = nn.functional.pad(x, (subwinsize//2, subwinsize//2), 'constant', 0)\n",
    "\n",
    "        # Window x,y, and z\n",
    "        xacc = x[:,0].unsqueeze(2)\n",
    "        yacc = x[:,1].unsqueeze(2)\n",
    "        zacc = x[:,2].unsqueeze(2)\n",
    "\n",
    "        w = subwinsize - 1\n",
    "        xs = [xacc[:, :-w]]\n",
    "        ys = [yacc[:, :-w]]\n",
    "        zs = [zacc[:, :-w]]\n",
    "\n",
    "        for i in range(1,w):\n",
    "            xs.append(xacc[:, i:i-w])\n",
    "            ys.append(yacc[:, i:i-w])\n",
    "            zs.append(zacc[:, i:i-w])\n",
    "        \n",
    "        xs.append(xacc[:, w:])\n",
    "        ys.append(yacc[:, w:])\n",
    "        zs.append(zacc[:, w:])\n",
    "\n",
    "        xs = torch.cat(xs, dim=2)\n",
    "        ys = torch.cat(ys, dim=2)\n",
    "        zs = torch.cat(zs, dim=2)\n",
    "\n",
    "        # Re-combine each window of xyz\n",
    "        return torch.cat([xs, ys, zs], dim=2)\n",
    "\n",
    "    def forward(self, x):\n",
    "        # x is batch_size x 303, want shape: batch_size x 101 x 15\n",
    "        x = self.window_window(x, subwinsize=5)\n",
    "        \n",
    "        o, (h,c) = self.lstm(x) # o is shape (batch_size, winsize, 64)\n",
    "        o = nn.functional.relu(o[:,-1,:])\n",
    "        logits = self.mlp(o)\n",
    "\n",
    "        return logits\n",
    "\n",
    "model = LSTM3().to(device)\n",
    "criterion = nn.BCEWithLogitsLoss()\n",
    "optimizer = torch.optim.Adam(model.parameters())"
   ]
  },
  {
   "cell_type": "code",
   "execution_count": null,
   "metadata": {},
   "outputs": [],
   "source": [
    "ids = get_all_session_ids(data_dir)[:8]\n",
    "train_dataset, dev_dataset, _ = nursingv1_train_dev_test_split(data_dir, 0.8, 0.2, 0, WINSIZE, True, ids)\n",
    "\n",
    "trainloader = DataLoader(train_dataset, shuffle=True, batch_size=64)\n",
    "devloader = DataLoader(dev_dataset, shuffle=True, batch_size=64)\n",
    "\n",
    "optimization_loop(model, trainloader, devloader, criterion, optimizer, 20, device, Path('lstm/del'))"
   ]
  },
  {
   "cell_type": "markdown",
   "metadata": {},
   "source": [
    "# 4th LSTM: CNN -> LSTM\n",
    "- input window to model of shape batch_size x 303\n",
    "- model reshapes input to batch_size x 3 x 101 (three channels)\n",
    "- uses CNN layer with 5 filters and padding to get output shape batch_size x 5 x 101\n",
    "- input shape to CNN is $(N,C_{in},L_{in})$ and output shape is $(N,C_{out},L_{out})$, where:\n",
    "\n",
    "$N=64$,  $C_{in}=3$, $L_{in}=101$, $C_{out}=5$, $L_{in}=101$\n",
    "\n",
    "- This is reshaped to batch_size x 101 x 15 (transpose) and given to LSTM\n",
    "- input to LSTM is $(N,L,H_{in})$, where:\n",
    "\n",
    "$N=64$, $L=101$, $H_{in}=5$\n",
    "\n",
    "- output of LSTM with 64 hidden states is batch_size x 101 x 64\n",
    "- the final hidden state (shape batch_size x 64) is given to MLP to get one output"
   ]
  },
  {
   "cell_type": "code",
   "execution_count": 67,
   "metadata": {},
   "outputs": [],
   "source": [
    "class CNN_LSTM(nn.Module):\n",
    "    def __init__(self):\n",
    "        super().__init__()\n",
    "\n",
    "        self.c1 = nn.Conv1d(in_channels=3, out_channels=5, kernel_size=8, padding='same')\n",
    "        self.l1 = nn.LSTM(input_size=5, hidden_size=64, bias=False, batch_first=True)\n",
    "        self.mlp = nn.Sequential(\n",
    "            nn.Linear(in_features=64, out_features=10),\n",
    "            nn.ReLU(),\n",
    "            nn.Linear(in_features=10, out_features=1)\n",
    "        )\n",
    "    \n",
    "    def forward(self, x):\n",
    "        # x is batch_size x 303, want shape: batch_size x 3 x 101\n",
    "        x = x.view(-1, 3, WINSIZE)\n",
    "\n",
    "        x = self.c1(x)\n",
    "        x = torch.transpose(x, 1, 2)\n",
    "        o, (h,c) = self.l1(x)\n",
    "        o = nn.functional.relu(o[:,-1,:])\n",
    "        logits = self.mlp(o)\n",
    "\n",
    "        return logits\n",
    "\n",
    "model = CNN_LSTM().to(device)\n",
    "criterion = nn.BCEWithLogitsLoss()\n",
    "optimizer = torch.optim.Adam(model.parameters())"
   ]
  },
  {
   "cell_type": "code",
   "execution_count": 69,
   "metadata": {},
   "outputs": [
    {
     "name": "stdout",
     "output_type": "stream",
     "text": [
      "\u001b[92mStarting optimization_loop\u001b[0m\n"
     ]
    },
    {
     "name": "stderr",
     "output_type": "stream",
     "text": [
      "Epoch 29: Train Loss: 0.0097216: Dev Loss: 0.23149: 100%|██████████| 30/30 [08:10<00:00, 16.36s/it]"
     ]
    },
    {
     "name": "stdout",
     "output_type": "stream",
     "text": [
      "\u001b[93mFinished optimization_loop. Elapsed time: 490.719\u001b[0m\n"
     ]
    },
    {
     "name": "stderr",
     "output_type": "stream",
     "text": [
      "\n"
     ]
    }
   ],
   "source": [
    "ids = get_all_session_ids(data_dir)[:15]\n",
    "train_dataset, dev_dataset, _ = nursingv1_train_dev_test_split(data_dir, 0.8, 0.2, 0, True, ids)\n",
    "\n",
    "trainloader = DataLoader(train_dataset, shuffle=True, batch_size=64)\n",
    "devloader = DataLoader(dev_dataset, shuffle=True, batch_size=64)\n",
    "\n",
    "optimization_loop(model, trainloader, devloader, criterion, optimizer, 30, device)"
   ]
  },
  {
   "cell_type": "markdown",
   "metadata": {},
   "source": [
    "# 5th LSTM - ResNet"
   ]
  },
  {
   "cell_type": "code",
   "execution_count": 22,
   "metadata": {},
   "outputs": [],
   "source": [
    "import torch\n",
    "from torch import nn\n",
    "\n",
    "class ResNetLSTM(nn.Module):\n",
    "    def __init__(self, winsize: int):\n",
    "        super().__init__()\n",
    "        self.winsize = winsize\n",
    "\n",
    "        out_channels = 5\n",
    "        self.resnet = ResNetMod(in_channels=3, out_channels=out_channels, winsize=self.winsize)\n",
    "        \n",
    "        hidden_size = 5\n",
    "        self.l1 = nn.LSTM(input_size=out_channels, hidden_size=hidden_size, bias=False, batch_first=True)\n",
    "        \n",
    "        nhl = 192\n",
    "        self.mlp = nn.Sequential(\n",
    "            nn.Linear(in_features=hidden_size, out_features=nhl),\n",
    "            nn.Dropout(p=0.05),\n",
    "            nn.ReLU(),\n",
    "            nn.Linear(in_features=nhl, out_features=1)\n",
    "        )\n",
    "    \n",
    "    def forward(self, x):\n",
    "        # x is batch_size x 303, want shape: batch_size x 3 x 101\n",
    "        x = x.view(-1, 3, self.winsize)\n",
    "\n",
    "        x = self.resnet(x)\n",
    "\n",
    "        x = torch.transpose(x, 1, 2)\n",
    "        o, (h,c) = self.l1(x)\n",
    "        o = o[:,-1,:]\n",
    "\n",
    "        logits = self.mlp(o)\n",
    "\n",
    "        return logits\n",
    "\n",
    "    @staticmethod\n",
    "    def get_criterion():\n",
    "        return nn.BCEWithLogitsLoss()\n",
    "\n",
    "    @staticmethod\n",
    "    def get_optimizer(model):\n",
    "        return torch.optim.Adam(model.parameters(), lr=3e-4)\n",
    "\n",
    "class ResNetMod(nn.Module):\n",
    "    def conv_block(self, in_channels, out_channels, kernel_size, use_relu=True):\n",
    "        conv_block = nn.Sequential(\n",
    "            nn.Conv1d(in_channels=in_channels, out_channels=out_channels, kernel_size=kernel_size, padding='same'),\n",
    "            nn.Dropout(p=0.15),\n",
    "            nn.BatchNorm1d(num_features=out_channels),\n",
    "        )\n",
    "        if use_relu:\n",
    "                conv_block.append(nn.ReLU())\n",
    "\n",
    "        return conv_block\n",
    "\n",
    "    def inner_res_block(self, in_channels, out_channels):\n",
    "        return nn.Sequential(\n",
    "            self.conv_block(in_channels=in_channels, out_channels=out_channels, kernel_size=8),\n",
    "            self.conv_block(in_channels=out_channels, out_channels=out_channels, kernel_size=5),\n",
    "            self.conv_block(in_channels=out_channels, out_channels=out_channels, kernel_size=3, use_relu=False)\n",
    "        )\n",
    "    \n",
    "    def shortcut(self, in_channels, out_channels):\n",
    "        return nn.Sequential(\n",
    "            nn.Conv1d(in_channels=in_channels, out_channels=out_channels, kernel_size=1),\n",
    "            nn.BatchNorm1d(num_features=out_channels)\n",
    "        )\n",
    "\n",
    "    def __init__(self, in_channels, out_channels, winsize):\n",
    "        super().__init__()\n",
    "        self.winsize = winsize\n",
    "        self.out_channels = out_channels\n",
    "        nfilters = (2, 2, self.out_channels)\n",
    "\n",
    "        # First ResNet Block components\n",
    "        self.shortcut1 = self.shortcut(in_channels=in_channels, out_channels=nfilters[0])\n",
    "        self.res1 = self.inner_res_block(in_channels=in_channels, out_channels=nfilters[0])\n",
    "        self.relu1 = nn.ReLU()\n",
    "\n",
    "        # Second Res Block components\n",
    "        self.shortcut2 = self.shortcut(in_channels=nfilters[0], out_channels=nfilters[1])\n",
    "        self.res2 = self.inner_res_block(in_channels=nfilters[0], out_channels=nfilters[1])\n",
    "        self.relu2 = nn.ReLU()\n",
    "\n",
    "        # Third Res Block components\n",
    "        self.shortcut3 = self.shortcut(in_channels=nfilters[1], out_channels=nfilters[2])\n",
    "        self.res3 = self.inner_res_block(in_channels=nfilters[1], out_channels=nfilters[2])\n",
    "        self.relu3 = nn.ReLU()\n",
    "\n",
    "    def forward(self, x):\n",
    "        # Reshape x: (batch_size, 303) -> (batch_size, 3, 101)\n",
    "        x = x.view(-1, 3, self.winsize)\n",
    "        \n",
    "        # First Res Block\n",
    "        x_shortcut = self.shortcut1(x)\n",
    "        h = self.res1(x)\n",
    "        y = h + x_shortcut\n",
    "        y = self.relu1(y)\n",
    "\n",
    "        # Second Res Block\n",
    "        y_shortcut = self.shortcut2(y)\n",
    "        h = self.res2(y)\n",
    "        y = h + y_shortcut\n",
    "        y = self.relu2(y)\n",
    "\n",
    "        # Third Res Block\n",
    "        y_shortcut = self.shortcut3(y)\n",
    "        h = self.res3(y)\n",
    "        y = h + y_shortcut\n",
    "        y = self.relu3(y)\n",
    "\n",
    "        return y"
   ]
  },
  {
   "cell_type": "code",
   "execution_count": 23,
   "metadata": {},
   "outputs": [
    {
     "name": "stdout",
     "output_type": "stream",
     "text": [
      "[66 57 41 27 31 60  8 36 23 53 59 29 42 58 35 22]\n",
      "[37 69 44 65]\n",
      "\u001b[92mStarting optimization_loop\u001b[0m\n"
     ]
    },
    {
     "name": "stderr",
     "output_type": "stream",
     "text": [
      "Epoch 6: Train Loss: 0.073805: Dev Loss: 0.097719:  18%|█▊        | 7/40 [06:54<32:34, 59.24s/it]\n"
     ]
    },
    {
     "ename": "KeyboardInterrupt",
     "evalue": "",
     "output_type": "error",
     "traceback": [
      "\u001b[0;31m---------------------------------------------------------------------------\u001b[0m",
      "\u001b[0;31mKeyboardInterrupt\u001b[0m                         Traceback (most recent call last)",
      "Cell \u001b[0;32mIn[23], line 26\u001b[0m\n\u001b[1;32m     23\u001b[0m optimizer \u001b[39m=\u001b[39m ResNetLSTM\u001b[39m.\u001b[39mget_optimizer(model)\n\u001b[1;32m     25\u001b[0m fn \u001b[39m=\u001b[39m \u001b[39m'\u001b[39m\u001b[39mlstm/15\u001b[39m\u001b[39m'\u001b[39m\n\u001b[0;32m---> 26\u001b[0m optimization_loop(\n\u001b[1;32m     27\u001b[0m     model, \n\u001b[1;32m     28\u001b[0m     trainloader, \n\u001b[1;32m     29\u001b[0m     devloader, \n\u001b[1;32m     30\u001b[0m     criterion, \n\u001b[1;32m     31\u001b[0m     optimizer, \n\u001b[1;32m     32\u001b[0m     \u001b[39m40\u001b[39;49m, \n\u001b[1;32m     33\u001b[0m     device,\n\u001b[1;32m     34\u001b[0m     Path(\u001b[39mf\u001b[39;49m\u001b[39m'\u001b[39;49m\u001b[39m../nursingv1_projects/tests/\u001b[39;49m\u001b[39m{\u001b[39;49;00mfn\u001b[39m}\u001b[39;49;00m\u001b[39m'\u001b[39;49m)\n\u001b[1;32m     35\u001b[0m )\n\u001b[1;32m     37\u001b[0m y_true, y_pred, trainloss, prec, recall, f1score \u001b[39m=\u001b[39m evaluate_loop(\n\u001b[1;32m     38\u001b[0m     model\u001b[39m=\u001b[39mmodel, \n\u001b[1;32m     39\u001b[0m     criterion\u001b[39m=\u001b[39mcriterion, \n\u001b[0;32m   (...)\u001b[0m\n\u001b[1;32m     43\u001b[0m     metrics\u001b[39m=\u001b[39m\u001b[39mTrue\u001b[39;00m\n\u001b[1;32m     44\u001b[0m )\n\u001b[1;32m     45\u001b[0m \u001b[39mprint\u001b[39m(\u001b[39mf\u001b[39m\u001b[39m'\u001b[39m\u001b[39m{\u001b[39;00mColors\u001b[39m.\u001b[39mOKGREEN\u001b[39m}\u001b[39;00m\u001b[39mTrain: loss: \u001b[39m\u001b[39m{\u001b[39;00mtrainloss\u001b[39m:\u001b[39;00m\u001b[39m .5f\u001b[39m\u001b[39m}\u001b[39;00m\u001b[39m, precision: \u001b[39m\u001b[39m{\u001b[39;00mprec\u001b[39m:\u001b[39;00m\u001b[39m .5f\u001b[39m\u001b[39m}\u001b[39;00m\u001b[39m, recall: \u001b[39m\u001b[39m{\u001b[39;00mrecall\u001b[39m:\u001b[39;00m\u001b[39m .5f\u001b[39m\u001b[39m}\u001b[39;00m\u001b[39m, f1 score: \u001b[39m\u001b[39m{\u001b[39;00mf1score\u001b[39m:\u001b[39;00m\u001b[39m .5f\u001b[39m\u001b[39m}\u001b[39;00m\u001b[39m{\u001b[39;00mColors\u001b[39m.\u001b[39mENDC\u001b[39m}\u001b[39;00m\u001b[39m'\u001b[39m)\n",
      "File \u001b[0;32m~/Delta/HAR-smoking-ml/.venv/lib/python3.10/site-packages/smokingml/utils/print_on_start_and_end.py:13\u001b[0m, in \u001b[0;36mprint_on_start_and_end.<locals>.wrapper\u001b[0;34m(*args, **kwargs)\u001b[0m\n\u001b[1;32m     11\u001b[0m \u001b[39mprint\u001b[39m(\u001b[39mf\u001b[39m\u001b[39m'\u001b[39m\u001b[39m{\u001b[39;00mColors\u001b[39m.\u001b[39mOKGREEN\u001b[39m}\u001b[39;00m\u001b[39mStarting \u001b[39m\u001b[39m{\u001b[39;00mfunc\u001b[39m.\u001b[39m\u001b[39m__name__\u001b[39m\u001b[39m}\u001b[39;00m\u001b[39m{\u001b[39;00mColors\u001b[39m.\u001b[39mENDC\u001b[39m}\u001b[39;00m\u001b[39m'\u001b[39m)\n\u001b[1;32m     12\u001b[0m start \u001b[39m=\u001b[39m time\u001b[39m.\u001b[39mtime()\n\u001b[0;32m---> 13\u001b[0m ret \u001b[39m=\u001b[39m func(\u001b[39m*\u001b[39;49margs, \u001b[39m*\u001b[39;49m\u001b[39m*\u001b[39;49mkwargs)\n\u001b[1;32m     14\u001b[0m end \u001b[39m=\u001b[39m time\u001b[39m.\u001b[39mtime()\n\u001b[1;32m     15\u001b[0m \u001b[39mprint\u001b[39m(\u001b[39mf\u001b[39m\u001b[39m'\u001b[39m\u001b[39m{\u001b[39;00mColors\u001b[39m.\u001b[39mWARNING\u001b[39m}\u001b[39;00m\u001b[39mFinished \u001b[39m\u001b[39m{\u001b[39;00mfunc\u001b[39m.\u001b[39m\u001b[39m__name__\u001b[39m\u001b[39m}\u001b[39;00m\u001b[39m. Elapsed time: \u001b[39m\u001b[39m{\u001b[39;00mend\u001b[39m-\u001b[39mstart\u001b[39m:\u001b[39;00m\u001b[39m.3f\u001b[39m\u001b[39m}\u001b[39;00m\u001b[39m{\u001b[39;00mColors\u001b[39m.\u001b[39mENDC\u001b[39m}\u001b[39;00m\u001b[39m'\u001b[39m)\n",
      "File \u001b[0;32m~/Delta/HAR-smoking-ml/.venv/lib/python3.10/site-packages/smokingml/modules/optimization_loop.py:34\u001b[0m, in \u001b[0;36moptimization_loop\u001b[0;34m(model, trainloader, devloader, criterion, optimizer, epochs, device, outdir)\u001b[0m\n\u001b[1;32m     30\u001b[0m pbar \u001b[39m=\u001b[39m tqdm(\u001b[39mrange\u001b[39m(epochs))\n\u001b[1;32m     31\u001b[0m \u001b[39mfor\u001b[39;00m epoch \u001b[39min\u001b[39;00m pbar:\n\u001b[1;32m     32\u001b[0m \n\u001b[1;32m     33\u001b[0m     \u001b[39m# Train Loop\u001b[39;00m\n\u001b[0;32m---> 34\u001b[0m     train_lossi \u001b[39m=\u001b[39m inner_train_loop(model, trainloader, criterion, optimizer, device)\n\u001b[1;32m     35\u001b[0m     train_loss\u001b[39m.\u001b[39mappend(\u001b[39msum\u001b[39m(train_lossi) \u001b[39m/\u001b[39m \u001b[39mlen\u001b[39m(trainloader))            \n\u001b[1;32m     37\u001b[0m     \u001b[39m# Dev Loop\u001b[39;00m\n",
      "File \u001b[0;32m~/Delta/HAR-smoking-ml/.venv/lib/python3.10/site-packages/smokingml/modules/inner_train_loop.py:25\u001b[0m, in \u001b[0;36minner_train_loop\u001b[0;34m(model, trainloader, criterion, optimizer, device)\u001b[0m\n\u001b[1;32m     23\u001b[0m     optimizer\u001b[39m.\u001b[39mzero_grad()\n\u001b[1;32m     24\u001b[0m     loss\u001b[39m.\u001b[39mbackward()\n\u001b[0;32m---> 25\u001b[0m     optimizer\u001b[39m.\u001b[39;49mstep()\n\u001b[1;32m     27\u001b[0m     lossi\u001b[39m.\u001b[39mappend(loss\u001b[39m.\u001b[39mitem())\n\u001b[1;32m     29\u001b[0m \u001b[39mreturn\u001b[39;00m lossi\n",
      "File \u001b[0;32m~/Delta/HAR-smoking-ml/.venv/lib/python3.10/site-packages/torch/optim/optimizer.py:280\u001b[0m, in \u001b[0;36mOptimizer.profile_hook_step.<locals>.wrapper\u001b[0;34m(*args, **kwargs)\u001b[0m\n\u001b[1;32m    276\u001b[0m         \u001b[39melse\u001b[39;00m:\n\u001b[1;32m    277\u001b[0m             \u001b[39mraise\u001b[39;00m \u001b[39mRuntimeError\u001b[39;00m(\u001b[39mf\u001b[39m\u001b[39m\"\u001b[39m\u001b[39m{\u001b[39;00mfunc\u001b[39m}\u001b[39;00m\u001b[39m must return None or a tuple of (new_args, new_kwargs),\u001b[39m\u001b[39m\"\u001b[39m\n\u001b[1;32m    278\u001b[0m                                \u001b[39mf\u001b[39m\u001b[39m\"\u001b[39m\u001b[39mbut got \u001b[39m\u001b[39m{\u001b[39;00mresult\u001b[39m}\u001b[39;00m\u001b[39m.\u001b[39m\u001b[39m\"\u001b[39m)\n\u001b[0;32m--> 280\u001b[0m out \u001b[39m=\u001b[39m func(\u001b[39m*\u001b[39;49margs, \u001b[39m*\u001b[39;49m\u001b[39m*\u001b[39;49mkwargs)\n\u001b[1;32m    281\u001b[0m \u001b[39mself\u001b[39m\u001b[39m.\u001b[39m_optimizer_step_code()\n\u001b[1;32m    283\u001b[0m \u001b[39m# call optimizer step post hooks\u001b[39;00m\n",
      "File \u001b[0;32m~/Delta/HAR-smoking-ml/.venv/lib/python3.10/site-packages/torch/optim/optimizer.py:33\u001b[0m, in \u001b[0;36m_use_grad_for_differentiable.<locals>._use_grad\u001b[0;34m(self, *args, **kwargs)\u001b[0m\n\u001b[1;32m     31\u001b[0m \u001b[39mtry\u001b[39;00m:\n\u001b[1;32m     32\u001b[0m     torch\u001b[39m.\u001b[39mset_grad_enabled(\u001b[39mself\u001b[39m\u001b[39m.\u001b[39mdefaults[\u001b[39m'\u001b[39m\u001b[39mdifferentiable\u001b[39m\u001b[39m'\u001b[39m])\n\u001b[0;32m---> 33\u001b[0m     ret \u001b[39m=\u001b[39m func(\u001b[39mself\u001b[39;49m, \u001b[39m*\u001b[39;49margs, \u001b[39m*\u001b[39;49m\u001b[39m*\u001b[39;49mkwargs)\n\u001b[1;32m     34\u001b[0m \u001b[39mfinally\u001b[39;00m:\n\u001b[1;32m     35\u001b[0m     torch\u001b[39m.\u001b[39mset_grad_enabled(prev_grad)\n",
      "File \u001b[0;32m~/Delta/HAR-smoking-ml/.venv/lib/python3.10/site-packages/torch/optim/adam.py:141\u001b[0m, in \u001b[0;36mAdam.step\u001b[0;34m(self, closure)\u001b[0m\n\u001b[1;32m    130\u001b[0m     beta1, beta2 \u001b[39m=\u001b[39m group[\u001b[39m'\u001b[39m\u001b[39mbetas\u001b[39m\u001b[39m'\u001b[39m]\n\u001b[1;32m    132\u001b[0m     \u001b[39mself\u001b[39m\u001b[39m.\u001b[39m_init_group(\n\u001b[1;32m    133\u001b[0m         group,\n\u001b[1;32m    134\u001b[0m         params_with_grad,\n\u001b[0;32m   (...)\u001b[0m\n\u001b[1;32m    138\u001b[0m         max_exp_avg_sqs,\n\u001b[1;32m    139\u001b[0m         state_steps)\n\u001b[0;32m--> 141\u001b[0m     adam(\n\u001b[1;32m    142\u001b[0m         params_with_grad,\n\u001b[1;32m    143\u001b[0m         grads,\n\u001b[1;32m    144\u001b[0m         exp_avgs,\n\u001b[1;32m    145\u001b[0m         exp_avg_sqs,\n\u001b[1;32m    146\u001b[0m         max_exp_avg_sqs,\n\u001b[1;32m    147\u001b[0m         state_steps,\n\u001b[1;32m    148\u001b[0m         amsgrad\u001b[39m=\u001b[39;49mgroup[\u001b[39m'\u001b[39;49m\u001b[39mamsgrad\u001b[39;49m\u001b[39m'\u001b[39;49m],\n\u001b[1;32m    149\u001b[0m         beta1\u001b[39m=\u001b[39;49mbeta1,\n\u001b[1;32m    150\u001b[0m         beta2\u001b[39m=\u001b[39;49mbeta2,\n\u001b[1;32m    151\u001b[0m         lr\u001b[39m=\u001b[39;49mgroup[\u001b[39m'\u001b[39;49m\u001b[39mlr\u001b[39;49m\u001b[39m'\u001b[39;49m],\n\u001b[1;32m    152\u001b[0m         weight_decay\u001b[39m=\u001b[39;49mgroup[\u001b[39m'\u001b[39;49m\u001b[39mweight_decay\u001b[39;49m\u001b[39m'\u001b[39;49m],\n\u001b[1;32m    153\u001b[0m         eps\u001b[39m=\u001b[39;49mgroup[\u001b[39m'\u001b[39;49m\u001b[39meps\u001b[39;49m\u001b[39m'\u001b[39;49m],\n\u001b[1;32m    154\u001b[0m         maximize\u001b[39m=\u001b[39;49mgroup[\u001b[39m'\u001b[39;49m\u001b[39mmaximize\u001b[39;49m\u001b[39m'\u001b[39;49m],\n\u001b[1;32m    155\u001b[0m         foreach\u001b[39m=\u001b[39;49mgroup[\u001b[39m'\u001b[39;49m\u001b[39mforeach\u001b[39;49m\u001b[39m'\u001b[39;49m],\n\u001b[1;32m    156\u001b[0m         capturable\u001b[39m=\u001b[39;49mgroup[\u001b[39m'\u001b[39;49m\u001b[39mcapturable\u001b[39;49m\u001b[39m'\u001b[39;49m],\n\u001b[1;32m    157\u001b[0m         differentiable\u001b[39m=\u001b[39;49mgroup[\u001b[39m'\u001b[39;49m\u001b[39mdifferentiable\u001b[39;49m\u001b[39m'\u001b[39;49m],\n\u001b[1;32m    158\u001b[0m         fused\u001b[39m=\u001b[39;49mgroup[\u001b[39m'\u001b[39;49m\u001b[39mfused\u001b[39;49m\u001b[39m'\u001b[39;49m],\n\u001b[1;32m    159\u001b[0m         grad_scale\u001b[39m=\u001b[39;49m\u001b[39mgetattr\u001b[39;49m(\u001b[39mself\u001b[39;49m, \u001b[39m\"\u001b[39;49m\u001b[39mgrad_scale\u001b[39;49m\u001b[39m\"\u001b[39;49m, \u001b[39mNone\u001b[39;49;00m),\n\u001b[1;32m    160\u001b[0m         found_inf\u001b[39m=\u001b[39;49m\u001b[39mgetattr\u001b[39;49m(\u001b[39mself\u001b[39;49m, \u001b[39m\"\u001b[39;49m\u001b[39mfound_inf\u001b[39;49m\u001b[39m\"\u001b[39;49m, \u001b[39mNone\u001b[39;49;00m),\n\u001b[1;32m    161\u001b[0m     )\n\u001b[1;32m    163\u001b[0m \u001b[39mreturn\u001b[39;00m loss\n",
      "File \u001b[0;32m~/Delta/HAR-smoking-ml/.venv/lib/python3.10/site-packages/torch/optim/adam.py:281\u001b[0m, in \u001b[0;36madam\u001b[0;34m(params, grads, exp_avgs, exp_avg_sqs, max_exp_avg_sqs, state_steps, foreach, capturable, differentiable, fused, grad_scale, found_inf, amsgrad, beta1, beta2, lr, weight_decay, eps, maximize)\u001b[0m\n\u001b[1;32m    278\u001b[0m \u001b[39melse\u001b[39;00m:\n\u001b[1;32m    279\u001b[0m     func \u001b[39m=\u001b[39m _single_tensor_adam\n\u001b[0;32m--> 281\u001b[0m func(params,\n\u001b[1;32m    282\u001b[0m      grads,\n\u001b[1;32m    283\u001b[0m      exp_avgs,\n\u001b[1;32m    284\u001b[0m      exp_avg_sqs,\n\u001b[1;32m    285\u001b[0m      max_exp_avg_sqs,\n\u001b[1;32m    286\u001b[0m      state_steps,\n\u001b[1;32m    287\u001b[0m      amsgrad\u001b[39m=\u001b[39;49mamsgrad,\n\u001b[1;32m    288\u001b[0m      beta1\u001b[39m=\u001b[39;49mbeta1,\n\u001b[1;32m    289\u001b[0m      beta2\u001b[39m=\u001b[39;49mbeta2,\n\u001b[1;32m    290\u001b[0m      lr\u001b[39m=\u001b[39;49mlr,\n\u001b[1;32m    291\u001b[0m      weight_decay\u001b[39m=\u001b[39;49mweight_decay,\n\u001b[1;32m    292\u001b[0m      eps\u001b[39m=\u001b[39;49meps,\n\u001b[1;32m    293\u001b[0m      maximize\u001b[39m=\u001b[39;49mmaximize,\n\u001b[1;32m    294\u001b[0m      capturable\u001b[39m=\u001b[39;49mcapturable,\n\u001b[1;32m    295\u001b[0m      differentiable\u001b[39m=\u001b[39;49mdifferentiable,\n\u001b[1;32m    296\u001b[0m      grad_scale\u001b[39m=\u001b[39;49mgrad_scale,\n\u001b[1;32m    297\u001b[0m      found_inf\u001b[39m=\u001b[39;49mfound_inf)\n",
      "File \u001b[0;32m~/Delta/HAR-smoking-ml/.venv/lib/python3.10/site-packages/torch/optim/adam.py:425\u001b[0m, in \u001b[0;36m_multi_tensor_adam\u001b[0;34m(params, grads, exp_avgs, exp_avg_sqs, max_exp_avg_sqs, state_steps, grad_scale, found_inf, amsgrad, beta1, beta2, lr, weight_decay, eps, maximize, capturable, differentiable)\u001b[0m\n\u001b[1;32m    421\u001b[0m \u001b[39massert\u001b[39;00m grad_scale \u001b[39mis\u001b[39;00m \u001b[39mNone\u001b[39;00m \u001b[39mand\u001b[39;00m found_inf \u001b[39mis\u001b[39;00m \u001b[39mNone\u001b[39;00m\n\u001b[1;32m    423\u001b[0m \u001b[39massert\u001b[39;00m \u001b[39mnot\u001b[39;00m differentiable, \u001b[39m\"\u001b[39m\u001b[39m_foreach ops don\u001b[39m\u001b[39m'\u001b[39m\u001b[39mt support autograd\u001b[39m\u001b[39m\"\u001b[39m\n\u001b[0;32m--> 425\u001b[0m grouped_tensors \u001b[39m=\u001b[39m _group_tensors_by_device_and_dtype([params, grads, exp_avgs, exp_avg_sqs, max_exp_avg_sqs, state_steps])\n\u001b[1;32m    426\u001b[0m \u001b[39mfor\u001b[39;00m (device_params, device_grads, device_exp_avgs, device_exp_avg_sqs,\n\u001b[1;32m    427\u001b[0m      device_max_exp_avg_sqs, device_state_steps) \u001b[39min\u001b[39;00m grouped_tensors\u001b[39m.\u001b[39mvalues():\n\u001b[1;32m    429\u001b[0m     \u001b[39mif\u001b[39;00m maximize:\n",
      "File \u001b[0;32m~/Delta/HAR-smoking-ml/.venv/lib/python3.10/site-packages/torch/utils/_contextlib.py:115\u001b[0m, in \u001b[0;36mcontext_decorator.<locals>.decorate_context\u001b[0;34m(*args, **kwargs)\u001b[0m\n\u001b[1;32m    112\u001b[0m \u001b[39m@functools\u001b[39m\u001b[39m.\u001b[39mwraps(func)\n\u001b[1;32m    113\u001b[0m \u001b[39mdef\u001b[39;00m \u001b[39mdecorate_context\u001b[39m(\u001b[39m*\u001b[39margs, \u001b[39m*\u001b[39m\u001b[39m*\u001b[39mkwargs):\n\u001b[1;32m    114\u001b[0m     \u001b[39mwith\u001b[39;00m ctx_factory():\n\u001b[0;32m--> 115\u001b[0m         \u001b[39mreturn\u001b[39;00m func(\u001b[39m*\u001b[39;49margs, \u001b[39m*\u001b[39;49m\u001b[39m*\u001b[39;49mkwargs)\n",
      "File \u001b[0;32m~/Delta/HAR-smoking-ml/.venv/lib/python3.10/site-packages/torch/utils/_foreach_utils.py:33\u001b[0m, in \u001b[0;36m_group_tensors_by_device_and_dtype\u001b[0;34m(tensorlistlist, with_indices)\u001b[0m\n\u001b[1;32m     30\u001b[0m \u001b[39mfor\u001b[39;00m j \u001b[39min\u001b[39;00m \u001b[39mrange\u001b[39m(\u001b[39mlen\u001b[39m(tensorlistlist)):\n\u001b[1;32m     31\u001b[0m     \u001b[39m# a tensorlist may be empty/None\u001b[39;00m\n\u001b[1;32m     32\u001b[0m     \u001b[39mif\u001b[39;00m tensorlistlist[j]:\n\u001b[0;32m---> 33\u001b[0m         per_device_and_dtype_tensors[key][j]\u001b[39m.\u001b[39;49mappend(tensorlistlist[j][i])\n\u001b[1;32m     34\u001b[0m \u001b[39mif\u001b[39;00m with_indices:\n\u001b[1;32m     35\u001b[0m     \u001b[39m# tack on previous index\u001b[39;00m\n\u001b[1;32m     36\u001b[0m     per_device_and_dtype_tensors[key][j \u001b[39m+\u001b[39m \u001b[39m1\u001b[39m]\u001b[39m.\u001b[39mappend(i)\n",
      "\u001b[0;31mKeyboardInterrupt\u001b[0m: "
     ]
    }
   ],
   "source": [
    "# trainloader = DataLoader(load_one_windowed_session(data_dir, 0), shuffle=True, batch_size=64)\n",
    "# devloader = DataLoader(load_one_windowed_session(data_dir, 1), shuffle=True, batch_size=64)\n",
    "torch.manual_seed(0)\n",
    "\n",
    "ids = get_all_session_ids(data_dir)[:20]\n",
    "train_dataset, dev_dataset, _ = nursingv1_train_dev_test_split(\n",
    "    dir=data_dir, \n",
    "    train_size=0.8, \n",
    "    dev_size=0.2, \n",
    "    test_size=0, \n",
    "    winsize=WINSIZE, \n",
    "    shuffle=False, \n",
    "    session_ids=ids\n",
    ")\n",
    "trainloader = DataLoader(train_dataset, shuffle=True, batch_size=64)\n",
    "devloader = DataLoader(dev_dataset, shuffle=True, batch_size=64)\n",
    "\n",
    "print(train_dataset.session_ids)\n",
    "print(dev_dataset.session_ids)\n",
    "\n",
    "model = ResNetLSTM(winsize=WINSIZE).to(device)\n",
    "criterion = ResNetLSTM.get_criterion()\n",
    "optimizer = ResNetLSTM.get_optimizer(model)\n",
    "\n",
    "fn = 'lstm/15'\n",
    "optimization_loop(\n",
    "    model, \n",
    "    trainloader, \n",
    "    devloader, \n",
    "    criterion, \n",
    "    optimizer, \n",
    "    40, \n",
    "    device,\n",
    "    Path(f'../nursingv1_projects/tests/{fn}')\n",
    ")\n",
    "\n",
    "y_true, y_pred, trainloss, prec, recall, f1score = evaluate_loop(\n",
    "    model=model, \n",
    "    criterion=criterion, \n",
    "    devloader=trainloader, \n",
    "    device=device, \n",
    "    outdir=Path(f'../nursingv1_projects/tests/{fn}/traincm.jpg'),\n",
    "    metrics=True\n",
    ")\n",
    "print(f'{Colors.OKGREEN}Train: loss: {trainloss: .5f}, precision: {prec: .5f}, recall: {recall: .5f}, f1 score: {f1score: .5f}{Colors.ENDC}')\n",
    "\n",
    "y_true, y_pred, trainloss, prec, recall, f1score = evaluate_loop(\n",
    "    model=model, \n",
    "    criterion=criterion, \n",
    "    devloader=devloader, \n",
    "    device=device, \n",
    "    outdir=Path(f'../nursingv1_projects/tests/{fn}/devcm.jpg'),\n",
    "    metrics=True\n",
    ")\n",
    "print(f'{Colors.OKGREEN}Dev: loss: {devloss: .5f}, precision: {prec: .5f}, recall: {recall: .5f}, f1 score: {f1score: .5f}{Colors.ENDC}')"
   ]
  },
  {
   "cell_type": "code",
   "execution_count": 20,
   "metadata": {},
   "outputs": [
    {
     "name": "stdout",
     "output_type": "stream",
     "text": [
      "\u001b[92mStarting evaluate_loop\u001b[0m\n",
      "\u001b[93mFinished evaluate_loop. Elapsed time: 7.299\u001b[0m\n",
      "\u001b[92mTrain: loss:  0.11350, precision:  0.73979, recall:  0.76626, f1 score:  0.75223\u001b[0m\n",
      "\u001b[92mStarting evaluate_loop\u001b[0m\n",
      "\u001b[93mFinished evaluate_loop. Elapsed time: 2.580\u001b[0m\n",
      "\u001b[92mDev: loss:  0.25087, precision:  0.67662, recall:  0.84281, f1 score:  0.72995\u001b[0m\n"
     ]
    }
   ],
   "source": [
    "fn = 'lstm/14'\n",
    "model = ResNetLSTM(winsize=WINSIZE).to(device)\n",
    "model.load_state_dict(torch.load(f'../nursingv1_projects/tests/{fn}/best_model.pt'))\n",
    "\n",
    "y_true, y_pred, trainloss, prec, recall, f1score = evaluate_loop(\n",
    "    model=model, \n",
    "    criterion=criterion, \n",
    "    devloader=trainloader, \n",
    "    device=device, \n",
    "    outdir=Path(f'../nursingv1_projects/tests/{fn}/traincm.jpg'),\n",
    "    metrics=True\n",
    ")\n",
    "print(f'{Colors.OKGREEN}Train: loss: {trainloss: .5f}, precision: {prec: .5f}, recall: {recall: .5f}, f1 score: {f1score: .5f}{Colors.ENDC}')\n",
    "\n",
    "y_true, y_pred, trainloss, prec, recall, f1score = evaluate_loop(\n",
    "    model=model, \n",
    "    criterion=criterion, \n",
    "    devloader=devloader, \n",
    "    device=device, \n",
    "    outdir=Path(f'../nursingv1_projects/tests/{fn}/devcm.jpg'),\n",
    "    metrics=True\n",
    ")\n",
    "print(f'{Colors.OKGREEN}Dev: loss: {devloss: .5f}, precision: {prec: .5f}, recall: {recall: .5f}, f1 score: {f1score: .5f}{Colors.ENDC}')"
   ]
  },
  {
   "cell_type": "code",
   "execution_count": 50,
   "metadata": {},
   "outputs": [
    {
     "name": "stdout",
     "output_type": "stream",
     "text": [
      "\u001b[92mStarting evaluate_loop\u001b[0m\n",
      "\u001b[93mFinished evaluate_loop. Elapsed time: 0.088\u001b[0m\n"
     ]
    },
    {
     "data": {
      "text/plain": [
       "[<matplotlib.lines.Line2D at 0x7fe8e2a85cc0>]"
      ]
     },
     "execution_count": 50,
     "metadata": {},
     "output_type": "execute_result"
    },
    {
     "data": {
      "image/png": "[encoded data removed]",
      "text/plain": [
       "<Figure size 640x480 with 1 Axes>"
      ]
     },
     "metadata": {},
     "output_type": "display_data"
    }
   ],
   "source": [
    "id = 3\n",
    "session,y = load_one_session(data_dir, id)\n",
    "test_dataset = load_one_windowed_session(data_dir, id, winsize=WINSIZE)\n",
    "testloader = DataLoader(test_dataset, batch_size=10000)\n",
    "y_true, y_pred, testloss = evaluate_loop(model, criterion, testloader, device)\n",
    "\n",
    "y_pred = prepare_labels_for_plot(y_pred, WINSIZE)\n",
    "y_true = prepare_labels_for_plot(y_true, WINSIZE)\n",
    "\n",
    "plt.plot(session[:,0])\n",
    "plt.plot(y_pred)\n",
    "plt.plot(y_true*-1)"
   ]
  },
  {
   "cell_type": "code",
   "execution_count": 21,
   "metadata": {},
   "outputs": [
    {
     "ename": "RuntimeError",
     "evalue": "shape '[-1, 3, 101]' is invalid for input of size 3",
     "output_type": "error",
     "traceback": [
      "\u001b[0;31m---------------------------------------------------------------------------\u001b[0m",
      "\u001b[0;31mRuntimeError\u001b[0m                              Traceback (most recent call last)",
      "Cell \u001b[0;32mIn[21], line 2\u001b[0m\n\u001b[1;32m      1\u001b[0m \u001b[39mimport\u001b[39;00m \u001b[39mmatplotlib\u001b[39;00m\u001b[39m.\u001b[39;00m\u001b[39mpyplot\u001b[39;00m \u001b[39mas\u001b[39;00m \u001b[39mplt\u001b[39;00m\n\u001b[0;32m----> 2\u001b[0m model(X[\u001b[39m0\u001b[39;49m]\u001b[39m.\u001b[39;49mto(device))\n\u001b[1;32m      3\u001b[0m y_pred \u001b[39m=\u001b[39m model(test_dataset\u001b[39m.\u001b[39mtensors[\u001b[39m0\u001b[39m]\u001b[39m.\u001b[39mto(device))\n",
      "File \u001b[0;32m~/Delta/HAR-smoking-ml/.venv/lib/python3.10/site-packages/torch/nn/modules/module.py:1501\u001b[0m, in \u001b[0;36mModule._call_impl\u001b[0;34m(self, *args, **kwargs)\u001b[0m\n\u001b[1;32m   1496\u001b[0m \u001b[39m# If we don't have any hooks, we want to skip the rest of the logic in\u001b[39;00m\n\u001b[1;32m   1497\u001b[0m \u001b[39m# this function, and just call forward.\u001b[39;00m\n\u001b[1;32m   1498\u001b[0m \u001b[39mif\u001b[39;00m \u001b[39mnot\u001b[39;00m (\u001b[39mself\u001b[39m\u001b[39m.\u001b[39m_backward_hooks \u001b[39mor\u001b[39;00m \u001b[39mself\u001b[39m\u001b[39m.\u001b[39m_backward_pre_hooks \u001b[39mor\u001b[39;00m \u001b[39mself\u001b[39m\u001b[39m.\u001b[39m_forward_hooks \u001b[39mor\u001b[39;00m \u001b[39mself\u001b[39m\u001b[39m.\u001b[39m_forward_pre_hooks\n\u001b[1;32m   1499\u001b[0m         \u001b[39mor\u001b[39;00m _global_backward_pre_hooks \u001b[39mor\u001b[39;00m _global_backward_hooks\n\u001b[1;32m   1500\u001b[0m         \u001b[39mor\u001b[39;00m _global_forward_hooks \u001b[39mor\u001b[39;00m _global_forward_pre_hooks):\n\u001b[0;32m-> 1501\u001b[0m     \u001b[39mreturn\u001b[39;00m forward_call(\u001b[39m*\u001b[39;49margs, \u001b[39m*\u001b[39;49m\u001b[39m*\u001b[39;49mkwargs)\n\u001b[1;32m   1502\u001b[0m \u001b[39m# Do not call functions when jit is used\u001b[39;00m\n\u001b[1;32m   1503\u001b[0m full_backward_hooks, non_full_backward_hooks \u001b[39m=\u001b[39m [], []\n",
      "Cell \u001b[0;32mIn[6], line 138\u001b[0m, in \u001b[0;36mResNetModLSTM.forward\u001b[0;34m(self, x)\u001b[0m\n\u001b[1;32m    136\u001b[0m \u001b[39mdef\u001b[39;00m \u001b[39mforward\u001b[39m(\u001b[39mself\u001b[39m, x):\n\u001b[1;32m    137\u001b[0m     \u001b[39m# x is batch_size x 303, want shape: batch_size x 3 x 101\u001b[39;00m\n\u001b[0;32m--> 138\u001b[0m     x \u001b[39m=\u001b[39m x\u001b[39m.\u001b[39;49mview(\u001b[39m-\u001b[39;49m\u001b[39m1\u001b[39;49m, \u001b[39m3\u001b[39;49m, \u001b[39mself\u001b[39;49m\u001b[39m.\u001b[39;49mwinsize)\n\u001b[1;32m    140\u001b[0m     x \u001b[39m=\u001b[39m \u001b[39mself\u001b[39m\u001b[39m.\u001b[39mresnet(x)\n\u001b[1;32m    142\u001b[0m     x \u001b[39m=\u001b[39m torch\u001b[39m.\u001b[39mtranspose(x, \u001b[39m1\u001b[39m, \u001b[39m2\u001b[39m)\n",
      "\u001b[0;31mRuntimeError\u001b[0m: shape '[-1, 3, 101]' is invalid for input of size 3"
     ]
    }
   ],
   "source": [
    "model(X[0].to(device))\n",
    "y_pred = model(test_dataset.tensors[0].to(device))"
   ]
  },
  {
   "cell_type": "markdown",
   "metadata": {},
   "source": [
    "# Test Trained Models"
   ]
  },
  {
   "cell_type": "code",
   "execution_count": 6,
   "metadata": {},
   "outputs": [
    {
     "data": {
      "text/plain": [
       "<All keys matched successfully>"
      ]
     },
     "execution_count": 6,
     "metadata": {},
     "output_type": "execute_result"
    }
   ],
   "source": [
    "model = ResNetLSTM(winsize=WINSIZE)\n",
    "model.load_state_dict(torch.load('../nursingv1_projects/evaluation_tests/07.23.23-23-42-35_resnetlstm_mixed/model/99.pt'))\n",
    "\n",
    "X,y = torch.load_one_windowed_session"
   ]
  }
 ],
 "metadata": {
  "kernelspec": {
   "display_name": "Python 3.10.12 ('.venv': venv)",
   "language": "python",
   "name": "python3"
  },
  "language_info": {
   "codemirror_mode": {
    "name": "ipython",
    "version": 3
   },
   "file_extension": ".py",
   "mimetype": "text/x-python",
   "name": "python",
   "nbconvert_exporter": "python",
   "pygments_lexer": "ipython3",
   "version": "3.10.12"
  },
  "orig_nbformat": 4,
  "vscode": {
   "interpreter": {
    "hash": "8cb3555db5016569e3059ff948719f5f9b91f038af439fb57df08d70e6cb778e"
   }
  }
 },
 "nbformat": 4,
 "nbformat_minor": 2
}
