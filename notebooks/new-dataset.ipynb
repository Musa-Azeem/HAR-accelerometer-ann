{
 "cells": [
  {
   "cell_type": "code",
   "execution_count": 1,
   "metadata": {},
   "outputs": [],
   "source": [
    "from smokingml.datasets.nursing_dataset_v1 import produce_nursingv1_dataset_from_raw, NursingDatasetV1\n",
    "from smokingml.datasets.nursing_dataset_v1.utils import get_all_session_ids, window_session\n",
    "from smokingml.datasets.nursing_dataset_v1.dataloading import load_one_session, load_windowed_sessions\n",
    "from pathlib import Path\n",
    "import torch"
   ]
  },
  {
   "cell_type": "code",
   "execution_count": null,
   "metadata": {},
   "outputs": [],
   "source": [
    "produce_nursingv1_dataset_from_raw(\n",
    "    data_dir='../data/nursing_raw/',\n",
    "    labels_dir='../data/nursing_labels_musa/',\n",
    "    nursingv1_outdir='../data/nursingv1_dataset'\n",
    ")"
   ]
  },
  {
   "cell_type": "code",
   "execution_count": 11,
   "metadata": {},
   "outputs": [],
   "source": [
    "nursingv1_dir = Path('../data/nursingv1_dataset/')\n",
    "ids = get_all_session_ids(nursingv1_dir)[:10]\n",
    "dataset = NursingDatasetV1(nursingv1_dir, ids)"
   ]
  },
  {
   "cell_type": "code",
   "execution_count": 6,
   "metadata": {},
   "outputs": [
    {
     "data": {
      "text/plain": [
       "torch.Size([28600, 303])"
      ]
     },
     "execution_count": 6,
     "metadata": {},
     "output_type": "execute_result"
    }
   ],
   "source": [
    "session,labels = load_one_session(nursingv1_dir, 0)\n",
    "X = window_session(session)"
   ]
  },
  {
   "attachments": {},
   "cell_type": "markdown",
   "metadata": {},
   "source": [
    "Prototyping:"
   ]
  },
  {
   "cell_type": "code",
   "execution_count": 2,
   "metadata": {},
   "outputs": [],
   "source": [
    "import pandas as pd\n",
    "import torch\n",
    "from pathlib import Path\n",
    "from tqdm import tqdm\n",
    "import json\n",
    "from torch import nn"
   ]
  },
  {
   "cell_type": "code",
   "execution_count": 3,
   "metadata": {},
   "outputs": [],
   "source": [
    "working_dir = Path('../data')\n",
    "data_dir = Path(working_dir / 'nursing_raw')\n",
    "labels_dir = Path(working_dir / 'nursing_labels_musa')\n",
    "nursingv1_outdir = Path(working_dir / 'nursingv1_dataset')\n",
    "# nursingv1_outdir.mkdir()\n",
    "DM_FACTOR = 5\n",
    "WINSIZE = 101"
   ]
  },
  {
   "cell_type": "code",
   "execution_count": 4,
   "metadata": {},
   "outputs": [],
   "source": [
    "# Read json labels and get list of which sessions are labelled\n",
    "\n",
    "json_labels = {}    # labels for each labelled session\n",
    "for file in labels_dir.iterdir():\n",
    "\n",
    "    # Get session index from label filename\n",
    "    session_idx = int(file.name.split('_')[0])\n",
    "\n",
    "    # Read json and save it if session is labelled\n",
    "    with file.open() as f:\n",
    "        doc = json.load(f)\n",
    "\n",
    "        # If the \"puffs\" key exists in the json document, the session has been labelled\n",
    "        if doc.get('puffs'):\n",
    "            json_labels[session_idx] = doc"
   ]
  },
  {
   "cell_type": "code",
   "execution_count": 13,
   "metadata": {},
   "outputs": [
    {
     "name": "stderr",
     "output_type": "stream",
     "text": [
      "  0%|          | 0/58 [00:00<?, ?it/s]"
     ]
    },
    {
     "name": "stdout",
     "output_type": "stream",
     "text": [
      "x torch.Size([3, 31200])\n",
      "y torch.Size([31100, 1])\n",
      "xp torch.Size([31300, 3])\n",
      "yp torch.Size([31200, 1])\n",
      "torch.Size([31200, 1])\n",
      "torch.Size([31300, 1])\n"
     ]
    },
    {
     "name": "stderr",
     "output_type": "stream",
     "text": [
      "\n"
     ]
    },
    {
     "data": {
      "text/plain": [
       "[<matplotlib.lines.Line2D at 0x7f9c0b075a50>]"
      ]
     },
     "execution_count": 13,
     "metadata": {},
     "output_type": "execute_result"
    },
    {
     "data": {
      "image/png": "[encoded data removed]",
      "text/plain": [
       "<Figure size 640x480 with 1 Axes>"
      ]
     },
     "metadata": {},
     "output_type": "display_data"
    }
   ],
   "source": [
    "# pbar = tqdm(json_labels.items())\n",
    "pbar = tqdm(json_labels.items())\n",
    "for session_idx, y_json in pbar:\n",
    "\n",
    "    ## Get X from csv\n",
    "    # Read x,y,z data for this session\n",
    "    data_df = pd.read_csv(\n",
    "        data_dir / f'{session_idx}' / 'raw_data.csv', \n",
    "        header=None,\n",
    "        usecols=[2,3,4]\n",
    "    )[::DM_FACTOR]\n",
    "\n",
    "    # Save data as torch tensor, with x,y,z as rows and each datapoint as columns\n",
    "    X = torch.tensor(data_df.values).T\n",
    "\n",
    "    ## Get y from json labels\n",
    "    y = torch.zeros(len(X[0]) - WINSIZE + 1).reshape([-1,1])   \n",
    "    for puff in y_json['puffs']:\n",
    "\n",
    "        # Get start and stop of puff, in same frequency as data\n",
    "        puff_start = puff['start'] // DM_FACTOR\n",
    "        puff_end = puff['end'] // DM_FACTOR\n",
    "\n",
    "        # All windows whose center is within puff get y of 1\n",
    "        # All windows `WINSIZE//2` before start and end have a center within puff\n",
    "        puff_start_idx = max(puff_start - WINSIZE//2, 0)\n",
    "        puff_end_idx = max(puff_end - WINSIZE//2, 0)\n",
    "\n",
    "        y[puff_start_idx:puff_end_idx] = 1\n",
    "\n",
    "    ## Save X and y in dataset\n",
    "    session_outdir = nursingv1_outdir / f'{session_idx}'\n",
    "    Path(session_outdir).mkdir()\n",
    "    \n",
    "    # Save X and y\n",
    "    torch.save(X, session_outdir / 'X.pt')\n",
    "    torch.save(y, session_outdir / 'y.pt')\n",
    "    \n",
    "    # Save size of session\n",
    "    torch.save(X.shape, session_outdir / 'Xshape.pt')\n",
    "\n",
    "    # # Save X of each session in files of size 5000 for less file overhead\n",
    "    # for i in range(0, len(X[0], 5000)):\n",
    "    #     end_idx = min(len(X[0:], )\n",
    "    #     torch.save(\n",
    "    #         X[]\n",
    "    #     )\n",
    "    # torch.save(\n",
    "    #     TensorDataset(X,y),\n",
    "    #     f'{len(X[0])}.pt'       # use length of session as filename\n",
    "    # )"
   ]
  },
  {
   "cell_type": "code",
   "execution_count": 108,
   "metadata": {},
   "outputs": [
    {
     "data": {
      "text/plain": [
       "torch.Size([100, 1])"
      ]
     },
     "execution_count": 108,
     "metadata": {},
     "output_type": "execute_result"
    }
   ],
   "source": [
    "X = torch.cat([torch.ones(100,1)*-1, torch.ones(100,1)*-1, torch.ones(100,1)*-1], axis=1)\n",
    "X[0:20, :] = torch.ones(3) * 2\n",
    "X[40:70, :] = torch.ones(3) * 2\n",
    "\n",
    "y_json = {\n",
    "    'puffs': [\n",
    "        {\n",
    "            'start': 0,\n",
    "            'end': 20\n",
    "        },\n",
    "        {\n",
    "            \"start\": 40,\n",
    "            \"end\": 70\n",
    "        }\n",
    "    ]\n",
    "}\n",
    "\n",
    "winsize = 11\n",
    "Xpad = nn.functional.pad(X, (0,0,winsize//2,winsize//2))\n",
    "\n",
    "y = torch.zeros(len(Xpad) - (winsize - 1), 1)\n",
    "for puff in y_json['puffs']:\n",
    "    start = puff['start']\n",
    "    end = puff['end']\n",
    "\n",
    "    # If index of this window is within range(start, end), then its \n",
    "    # center point is within the original puff (before padding)\n",
    "    start_idx = max(start, 0)\n",
    "    end_idx = max(end, 0)\n",
    "\n",
    "    y[start_idx:end_idx] = 1\n",
    "\n",
    "\n",
    "# Window Xpad:\n",
    "\n",
    "session = Xpad\n",
    "x_acc = session[:,0].unsqueeze(1)\n",
    "y_acc = session[:,1].unsqueeze(1)\n",
    "z_acc = session[:,2].unsqueeze(1)\n",
    "# x_acc = session[0].reshape(-1, 1)\n",
    "# y_acc = session[1].reshape(-1, 1)\n",
    "# z_acc = session[2].reshape(-1, 1)\n",
    "\n",
    "w = winsize-1\n",
    "\n",
    "xs = [x_acc[:-w]]\n",
    "ys = [y_acc[:-w]]\n",
    "zs = [z_acc[:-w]]\n",
    "\n",
    "for i in range(1,w):\n",
    "    xs.append(x_acc[i:i-w])\n",
    "    ys.append(y_acc[i:i-w])\n",
    "    zs.append(z_acc[i:i-w])\n",
    "\n",
    "xs.append(x_acc[w:])\n",
    "ys.append(y_acc[w:])\n",
    "zs.append(z_acc[w:])\n",
    "\n",
    "xs = torch.cat(xs,axis=1).float()\n",
    "ys = torch.cat(ys,axis=1).float()\n",
    "zs = torch.cat(zs,axis=1).float()\n",
    "\n",
    "xs[-1], y[-1]\n",
    "# X = torch.cat([xs,ys,zs], axis=1)\n",
    "\n",
    "# fig = plt.figure(1)\n",
    "# ax = fig.add_subplot(111)\n",
    "# plt.minorticks_on()\n",
    "# plt.grid(visible=True, which='major')\n",
    "# plt.grid(visible=True, which='minor')\n",
    "# ax.grid(True)\n",
    "# plt.plot(X[:,0])\n",
    "# plt.plot(y[:,0])\n",
    "# plt.plot(Xpad[:,0])"
   ]
  }
 ],
 "metadata": {
  "kernelspec": {
   "display_name": "Python 3.10.6 64-bit",
   "language": "python",
   "name": "python3"
  },
  "language_info": {
   "codemirror_mode": {
    "name": "ipython",
    "version": 3
   },
   "file_extension": ".py",
   "mimetype": "text/x-python",
   "name": "python",
   "nbconvert_exporter": "python",
   "pygments_lexer": "ipython3",
   "version": "3.10.12"
  },
  "orig_nbformat": 4,
  "vscode": {
   "interpreter": {
    "hash": "31f2aee4e71d21fbe5cf8b01ff0e069b9275f58929596ceb00d14d90e3e16cd6"
   }
  }
 },
 "nbformat": 4,
 "nbformat_minor": 2
}
