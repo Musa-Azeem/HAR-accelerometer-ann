{
 "cells": [
  {
   "cell_type": "code",
   "execution_count": 41,
   "metadata": {},
   "outputs": [],
   "source": [
    "import pandas as pd\n",
    "import numpy as np\n",
    "import torch\n",
    "from pathlib import Path\n",
    "from tqdm import tqdm"
   ]
  },
  {
   "cell_type": "code",
   "execution_count": 47,
   "metadata": {},
   "outputs": [],
   "source": [
    "working_dir = Path('../data')\n",
    "data_dir = Path(working_dir / 'nursing_raw')\n",
    "labels_dir = Path(working_dir / 'nursing_labels_musa')\n",
    "nursingv1_outdir = Path(working_dir / 'nursingv1_dataset')\n",
    "nursingv1_outdir.mkdir()\n",
    "DM_FACTOR = 5"
   ]
  },
  {
   "cell_type": "code",
   "execution_count": 32,
   "metadata": {},
   "outputs": [],
   "source": [
    "labeled_idxs = []    # list of session idxs that have been labelled\n",
    "for file in labels_dir.iterdir():\n",
    "    session_idx = int(file.name.split('_')[0])\n",
    "    labeled_idxs.append(session_idx)"
   ]
  },
  {
   "cell_type": "code",
   "execution_count": 28,
   "metadata": {},
   "outputs": [],
   "source": [
    "data = pd.read_csv(data_dir / '0/raw_data.csv', header=None)[[2,3,4]]\n",
    "data.columns = ['acc_x','acc_y','acc_z']"
   ]
  },
  {
   "cell_type": "code",
   "execution_count": 50,
   "metadata": {},
   "outputs": [
    {
     "name": "stderr",
     "output_type": "stream",
     "text": [
      "Skipping session 10: : 1it [00:00,  4.61it/s]\n"
     ]
    },
    {
     "ename": "FileExistsError",
     "evalue": "[Errno 17] File exists: '../data/nursingv1_dataset/sessions'",
     "output_type": "error",
     "traceback": [
      "\u001b[0;31m---------------------------------------------------------------------------\u001b[0m",
      "\u001b[0;31mFileExistsError\u001b[0m                           Traceback (most recent call last)",
      "Cell \u001b[0;32mIn[50], line 11\u001b[0m\n\u001b[1;32m      9\u001b[0m data \u001b[39m=\u001b[39m pd\u001b[39m.\u001b[39mread_csv(data_dir \u001b[39m/\u001b[39m \u001b[39m'\u001b[39m\u001b[39m0/raw_data.csv\u001b[39m\u001b[39m'\u001b[39m, header\u001b[39m=\u001b[39m\u001b[39mNone\u001b[39;00m)[[\u001b[39m2\u001b[39m,\u001b[39m3\u001b[39m,\u001b[39m4\u001b[39m]][::DM_FACTOR]\n\u001b[1;32m     10\u001b[0m data \u001b[39m=\u001b[39m torch\u001b[39m.\u001b[39mtensor(data\u001b[39m.\u001b[39mvalues)\n\u001b[0;32m---> 11\u001b[0m outdir\u001b[39m.\u001b[39;49mmkdir()\n\u001b[1;32m     12\u001b[0m torch\u001b[39m.\u001b[39msave(data, outdir \u001b[39m/\u001b[39m idx)\n",
      "File \u001b[0;32m/usr/lib/python3.10/pathlib.py:1175\u001b[0m, in \u001b[0;36mPath.mkdir\u001b[0;34m(self, mode, parents, exist_ok)\u001b[0m\n\u001b[1;32m   1171\u001b[0m \u001b[39m\u001b[39m\u001b[39m\"\"\"\u001b[39;00m\n\u001b[1;32m   1172\u001b[0m \u001b[39mCreate a new directory at this given path.\u001b[39;00m\n\u001b[1;32m   1173\u001b[0m \u001b[39m\"\"\"\u001b[39;00m\n\u001b[1;32m   1174\u001b[0m \u001b[39mtry\u001b[39;00m:\n\u001b[0;32m-> 1175\u001b[0m     \u001b[39mself\u001b[39;49m\u001b[39m.\u001b[39;49m_accessor\u001b[39m.\u001b[39;49mmkdir(\u001b[39mself\u001b[39;49m, mode)\n\u001b[1;32m   1176\u001b[0m \u001b[39mexcept\u001b[39;00m \u001b[39mFileNotFoundError\u001b[39;00m:\n\u001b[1;32m   1177\u001b[0m     \u001b[39mif\u001b[39;00m \u001b[39mnot\u001b[39;00m parents \u001b[39mor\u001b[39;00m \u001b[39mself\u001b[39m\u001b[39m.\u001b[39mparent \u001b[39m==\u001b[39m \u001b[39mself\u001b[39m:\n",
      "\u001b[0;31mFileExistsError\u001b[0m: [Errno 17] File exists: '../data/nursingv1_dataset/sessions'"
     ]
    }
   ],
   "source": [
    "outdir = nursingv1_outdir / 'sessions'\n",
    "outdir.mkdir()\n",
    "\n",
    "pbar = tqdm(data_dir.iterdir())\n",
    "for session_file in pbar:\n",
    "    idx = session_file.name\n",
    "    if idx not in labeled_idxs:\n",
    "        pbar.set_description(f'Skipping session {idx}')\n",
    "\n",
    "    data = pd.read_csv(data_dir / '0/raw_data.csv', header=None)[[2,3,4]][::DM_FACTOR]\n",
    "    data = torch.tensor(data.values)\n",
    "    torch.save(data, outdir / idx)\n"
   ]
  }
 ],
 "metadata": {
  "kernelspec": {
   "display_name": "Python 3.10.6 64-bit",
   "language": "python",
   "name": "python3"
  },
  "language_info": {
   "codemirror_mode": {
    "name": "ipython",
    "version": 3
   },
   "file_extension": ".py",
   "mimetype": "text/x-python",
   "name": "python",
   "nbconvert_exporter": "python",
   "pygments_lexer": "ipython3",
   "version": "3.10.6"
  },
  "orig_nbformat": 4,
  "vscode": {
   "interpreter": {
    "hash": "31f2aee4e71d21fbe5cf8b01ff0e069b9275f58929596ceb00d14d90e3e16cd6"
   }
  }
 },
 "nbformat": 4,
 "nbformat_minor": 2
}
