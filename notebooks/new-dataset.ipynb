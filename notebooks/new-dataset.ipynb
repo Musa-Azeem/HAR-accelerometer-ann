{
 "cells": [
  {
   "cell_type": "code",
   "execution_count": 41,
   "metadata": {},
   "outputs": [],
   "source": [
    "import pandas as pd\n",
    "import numpy as np\n",
    "import torch\n",
    "from pathlib import Path\n",
    "from tqdm import tqdm"
   ]
  },
  {
   "cell_type": "code",
   "execution_count": 47,
   "metadata": {},
   "outputs": [],
   "source": [
    "working_dir = Path('../data')\n",
    "data_dir = Path(working_dir / 'nursing_raw')\n",
    "labels_dir = Path(working_dir / 'nursing_labels_musa')\n",
    "nursingv1_outdir = Path(working_dir / 'nursingv1_dataset')\n",
    "nursingv1_outdir.mkdir()\n",
    "DM_FACTOR = 5"
   ]
  },
  {
   "cell_type": "code",
   "execution_count": 32,
   "metadata": {},
   "outputs": [],
   "source": [
    "labeled_idxs = []    # list of session idxs that have been labelled\n",
    "for file in labels_dir.iterdir():\n",
    "    session_idx = int(file.name.split('_')[0])\n",
    "    labeled_idxs.append(session_idx)"
   ]
  },
  {
   "cell_type": "code",
   "execution_count": 28,
   "metadata": {},
   "outputs": [],
   "source": [
    "data = pd.read_csv(data_dir / '0/raw_data.csv', header=None)[[2,3,4]]\n",
    "data.columns = ['acc_x','acc_y','acc_z']"
   ]
  },
  {
   "cell_type": "code",
   "execution_count": 52,
   "metadata": {},
   "outputs": [
    {
     "name": "stderr",
     "output_type": "stream",
     "text": [
      "Skipping session 3: : 71it [00:07,  9.72it/s] \n"
     ]
    }
   ],
   "source": [
    "outdir = nursingv1_outdir / 'sessions'\n",
    "outdir.mkdir()\n",
    "\n",
    "pbar = tqdm(data_dir.iterdir())\n",
    "for session_file in pbar:\n",
    "    idx = session_file.name\n",
    "    if idx not in labeled_idxs:\n",
    "        pbar.set_description(f'Skipping session {idx}')\n",
    "\n",
    "    data = pd.read_csv(data_dir / '0/raw_data.csv', header=None)[[2,3,4]][::DM_FACTOR]\n",
    "    data = torch.tensor(data.values)\n",
    "    torch.save(data, outdir / f'{idx}.pt')\n"
   ]
  }
 ],
 "metadata": {
  "kernelspec": {
   "display_name": "Python 3.10.6 64-bit",
   "language": "python",
   "name": "python3"
  },
  "language_info": {
   "codemirror_mode": {
    "name": "ipython",
    "version": 3
   },
   "file_extension": ".py",
   "mimetype": "text/x-python",
   "name": "python",
   "nbconvert_exporter": "python",
   "pygments_lexer": "ipython3",
   "version": "3.10.6"
  },
  "orig_nbformat": 4,
  "vscode": {
   "interpreter": {
    "hash": "31f2aee4e71d21fbe5cf8b01ff0e069b9275f58929596ceb00d14d90e3e16cd6"
   }
  }
 },
 "nbformat": 4,
 "nbformat_minor": 2
}
