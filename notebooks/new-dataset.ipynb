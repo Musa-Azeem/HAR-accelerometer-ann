{
 "cells": [
  {
   "cell_type": "code",
   "execution_count": null,
   "metadata": {},
   "outputs": [],
   "source": [
    "import pandas as pd\n",
    "import torch\n",
    "from pathlib import Path\n",
    "from tqdm import tqdm\n",
    "import json"
   ]
  },
  {
   "cell_type": "code",
   "execution_count": null,
   "metadata": {},
   "outputs": [],
   "source": [
    "working_dir = Path('../data')\n",
    "data_dir = Path(working_dir / 'nursing_raw')\n",
    "labels_dir = Path(working_dir / 'nursing_labels_musa')\n",
    "nursingv1_outdir = Path(working_dir / 'nursingv1_dataset')\n",
    "nursingv1_outdir.mkdir()\n",
    "DM_FACTOR = 5\n",
    "WINSIZE = 101"
   ]
  },
  {
   "cell_type": "code",
   "execution_count": null,
   "metadata": {},
   "outputs": [],
   "source": [
    "# Read json labels and get list of which sessions are labelled\n",
    "\n",
    "json_labels = {}    # labels for each labelled session\n",
    "for file in labels_dir.iterdir():\n",
    "\n",
    "    # Get session index from label filename\n",
    "    session_idx = int(file.name.split('_')[0])\n",
    "\n",
    "    # Read json and save it if session is labelled\n",
    "    with file.open() as f:\n",
    "        doc = json.load(f)\n",
    "\n",
    "        # If the \"puffs\" key exists in the json document, the session has been labelled\n",
    "        if doc.get('puffs'):\n",
    "            json_labels[session_idx] = doc"
   ]
  },
  {
   "cell_type": "code",
   "execution_count": null,
   "metadata": {},
   "outputs": [],
   "source": [
    "# pbar = tqdm(json_labels.items())\n",
    "pbar = tqdm(json_labels.items())\n",
    "for session_idx, y_json in pbar:\n",
    "\n",
    "    ## Get X from csv\n",
    "    # Read x,y,z data for this session\n",
    "    data_df = pd.read_csv(\n",
    "        data_dir / f'{session_idx}' / 'raw_data.csv', \n",
    "        header=None,\n",
    "        usecols=[2,3,4]\n",
    "    )[::DM_FACTOR]\n",
    "\n",
    "    # Save data as torch tensor, with x,y,z as rows and each datapoint as columns\n",
    "    X = torch.tensor(data_df.values).T\n",
    "\n",
    "    ## Get y from json labels\n",
    "    y = torch.zeros(len(X[0]) - WINSIZE + 1).reshape([-1,1])   \n",
    "    for puff in y_json['puffs']:\n",
    "\n",
    "        # Get start and stop of puff, in same frequency as data\n",
    "        puff_start = puff['start'] // DM_FACTOR\n",
    "        puff_end = puff['end'] // DM_FACTOR\n",
    "\n",
    "        # All windows whose center is within puff get y of 1\n",
    "        # All windows `WINSIZE//2` before start and end have a center within puff\n",
    "        puff_start_idx = max(puff_start - WINSIZE//2, 0)\n",
    "        puff_end_idx = max(puff_end - WINSIZE//2, 0)\n",
    "        y[puff_start_idx:puff_end_idx] = 1\n",
    "    \n",
    "    \n",
    "    ## Save X and y in dataset\n",
    "    session_outdir = nursingv1_outdir / f'{session_idx}'\n",
    "    Path(session_outdir).mkdir()\n",
    "    \n",
    "    # Save X and y\n",
    "    torch.save(X, session_outdir / 'X.pt')\n",
    "    torch.save(y, session_outdir / 'y.pt')\n",
    "    \n",
    "    # Save size of session\n",
    "    torch.save(X.shape, session_outdir / 'Xshape.pt')\n",
    "\n",
    "    # Save X of each session in files of size 5000 for less file overhead\n",
    "    # for i in range(0, len(X[0], 5000)):\n",
    "    #     end_idx = min(len(X[0:], )\n",
    "    #     torch.save(\n",
    "    #         X[]\n",
    "    #     )\n",
    "    # torch.save(\n",
    "    #     TensorDataset(X,y),\n",
    "    #     f'{len(X[0])}.pt'       # use length of session as filename\n",
    "    # )"
   ]
  }
 ],
 "metadata": {
  "kernelspec": {
   "display_name": "Python 3.10.6 64-bit",
   "language": "python",
   "name": "python3"
  },
  "language_info": {
   "codemirror_mode": {
    "name": "ipython",
    "version": 3
   },
   "file_extension": ".py",
   "mimetype": "text/x-python",
   "name": "python",
   "nbconvert_exporter": "python",
   "pygments_lexer": "ipython3",
   "version": "3.10.6"
  },
  "orig_nbformat": 4,
  "vscode": {
   "interpreter": {
    "hash": "31f2aee4e71d21fbe5cf8b01ff0e069b9275f58929596ceb00d14d90e3e16cd6"
   }
  }
 },
 "nbformat": 4,
 "nbformat_minor": 2
}
