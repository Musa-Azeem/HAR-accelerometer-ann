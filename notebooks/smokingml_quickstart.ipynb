{
 "cells": [
  {
   "cell_type": "code",
   "execution_count": 2,
   "metadata": {},
   "outputs": [
    {
     "name": "stderr",
     "output_type": "stream",
     "text": [
      "/home/mmazeem/.local/lib/python3.10/site-packages/tqdm/auto.py:21: TqdmWarning: IProgress not found. Please update jupyter and ipywidgets. See https://ipywidgets.readthedocs.io/en/stable/user_install.html\n",
      "  from .autonotebook import tqdm as notebook_tqdm\n"
     ]
    }
   ],
   "source": [
    "import torch\n",
    "from torch import nn\n",
    "from torch.utils.data import DataLoader, Dataset, TensorDataset\n",
    "from tqdm import tqdm\n",
    "from pathlib import Path\n",
    "from sklearn.model_selection import train_test_split\n",
    "import numpy as np\n",
    "from time import time\n",
    "import matplotlib.pyplot as plt\n",
    "from smokingml.utils import plot_and_save_cm\n",
    "from smokingml.models import MLP_1hl\n",
    "from smokingml.modules import optimization_loop, evaluate_loop\n",
    "from smokingml.datasets.nursing_dataset_v1 import (\n",
    "    NursingDatasetV1,\n",
    "    WINSIZE,\n",
    "    nursingv1_train_dev_test_split,\n",
    "    load_one_session,\n",
    "    load_sessions,\n",
    "    load_one_windowed_session,\n",
    "    load_windowed_sessions,\n",
    "    utils\n",
    ")\n",
    "from sklearn.metrics import precision_recall_fscore_support"
   ]
  },
  {
   "cell_type": "code",
   "execution_count": 2,
   "metadata": {},
   "outputs": [],
   "source": [
    "# nursingv1_dir = Path('../data/nursingv1_dataset')\n",
    "# np.random.seed(0)\n",
    "\n",
    "# # # Using train dev test split function on all sessions\n",
    "# # train_dataset, dev_dataset, test_dataset = nursingv1_train_dev_test_split(nursingv1_dir, 0.5, 0.2, 0.3)\n",
    "\n",
    "# session_ids = utils.get_all_session_ids(nursingv1_dir)\n",
    "\n",
    "# ## Using all sessions in fs - takes 13.5 minutes\n",
    "# start_time = time()\n",
    "# dataset = NursingDatasetV1(nursingv1_dir, session_ids)\n",
    "# for X,y in DataLoader(dataset):\n",
    "#     pass\n",
    "# print(f'Elapsed Time fs: {time() - start_time}')\n",
    "\n",
    "# ## Load all sessions into memory - takes 1 minute\n",
    "# start_time = time()\n",
    "# dataset = load_windowed_sessions(nursingv1_dir, session_ids)\n",
    "# for X,y in DataLoader(dataset):\n",
    "#     pass\n",
    "# print(f'Elapsed Time fs: {time() - start_time}')"
   ]
  },
  {
   "cell_type": "code",
   "execution_count": 3,
   "metadata": {},
   "outputs": [],
   "source": [
    "# Load 10 sessions\n",
    "dev_size = 0.2\n",
    "batch_size = 64\n",
    "\n",
    "nursingv1_dir = Path('../data/nursingv1_dataset')\n",
    "session_ids = utils.get_all_session_ids(nursingv1_dir)\n",
    "dataset = load_windowed_sessions(nursingv1_dir, session_ids=session_ids)\n",
    "\n",
    "train_dataset, dev_dataset = utils.train_test_split_windows(dataset, test_size=dev_size)\n",
    "trainloader = DataLoader(train_dataset, batch_size=batch_size, shuffle=True)\n",
    "devloader = DataLoader(dev_dataset, batch_size=batch_size, shuffle=True)\n",
    "\n",
    "device = 'cuda' if torch.cuda.is_available() else 'cpu'"
   ]
  },
  {
   "cell_type": "code",
   "execution_count": 35,
   "metadata": {},
   "outputs": [
    {
     "name": "stderr",
     "output_type": "stream",
     "text": [
      "Epoch 9: Train Loss: 0.080002: Dev Loss: 0.080857: 100%|██████████| 10/10 [06:16<00:00, 37.68s/it]\n"
     ]
    }
   ],
   "source": [
    "model = MLP_1hl(n_hl=10, n_features=WINSIZE*3).to(device)\n",
    "optimizer = MLP_1hl.get_optimizer(model)\n",
    "criterion = MLP_1hl.get_criterion()\n",
    "epochs = 10\n",
    "\n",
    "optimization_loop(model, trainloader, devloader, criterion, optimizer, epochs, device)"
   ]
  },
  {
   "cell_type": "code",
   "execution_count": 36,
   "metadata": {},
   "outputs": [
    {
     "name": "stdout",
     "output_type": "stream",
     "text": [
      "Train: precision: [0.9596681  0.04132102], recall: [0.97845376 0.02208525], f1 score: [0.96896989 0.02878532]\n",
      "Dev: precision: [0.95947279 0.04282844], recall: [0.9784664  0.02278193], f1 score: [0.96887652 0.0297427 ]\n"
     ]
    }
   ],
   "source": [
    "y_train_pred = evaluate_loop(model, trainloader, device).flatten()\n",
    "y_train_true = train_dataset.tensors[1].flatten()\n",
    "prec_tr, recall_tr, f1score_tr, _ = precision_recall_fscore_support(\n",
    "    y_train_true, y_train_pred\n",
    ")\n",
    "print(f'Train: precision: {prec_tr}, recall: {recall_tr}, f1 score: {f1score_tr}')\n",
    "plot_and_save_cm(y_train_true, y_train_pred, \"train_cm.jpg\")\n",
    "\n",
    "y_dev_pred = evaluate_loop(model, devloader, device).flatten()\n",
    "y_dev_true = dev_dataset.tensors[1].flatten()\n",
    "prec_dev, recall_dev, f1score_dev, _ = precision_recall_fscore_support(\n",
    "    y_dev_true, y_dev_pred\n",
    ")\n",
    "print(f'Dev: precision: {prec_dev}, recall: {recall_dev}, f1 score: {f1score_dev}')\n",
    "plot_and_save_cm(y_dev_true, y_dev_pred, \"dev_cm.jpg\")"
   ]
  }
 ],
 "metadata": {
  "kernelspec": {
   "display_name": "Python 3.10.6 64-bit",
   "language": "python",
   "name": "python3"
  },
  "language_info": {
   "codemirror_mode": {
    "name": "ipython",
    "version": 3
   },
   "file_extension": ".py",
   "mimetype": "text/x-python",
   "name": "python",
   "nbconvert_exporter": "python",
   "pygments_lexer": "ipython3",
   "version": "3.10.6"
  },
  "orig_nbformat": 4,
  "vscode": {
   "interpreter": {
    "hash": "31f2aee4e71d21fbe5cf8b01ff0e069b9275f58929596ceb00d14d90e3e16cd6"
   }
  }
 },
 "nbformat": 4,
 "nbformat_minor": 2
}
