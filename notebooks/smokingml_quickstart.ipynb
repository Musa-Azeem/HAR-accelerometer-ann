{
 "cells": [
  {
   "cell_type": "code",
   "execution_count": null,
   "metadata": {},
   "outputs": [],
   "source": [
    "import torch\n",
    "from torch import nn\n",
    "from torch.utils.data import DataLoader, Dataset, TensorDataset\n",
    "from tqdm import tqdm\n",
    "from pathlib import Path\n",
    "from sklearn.model_selection import train_test_split\n",
    "import numpy as np\n",
    "from time import time\n",
    "import matplotlib.pyplot as plt\n",
    "from smokingml.utils import plot_and_save_cm\n",
    "from smokingml.models import MLP_1hl\n",
    "from smokingml.modules import optimization_loop, evaluate_loop\n",
    "from smokingml.datasets.nursing_dataset_v1 import (\n",
    "    NursingDatasetV1,\n",
    "    WINSIZE,\n",
    "    nursingv1_train_dev_test_split,\n",
    "    load_one_session,\n",
    "    load_sessions,\n",
    "    load_one_windowed_session,\n",
    "    load_windowed_sessions,\n",
    "    utils\n",
    ")\n",
    "from sklearn.metrics import precision_recall_fscore_support"
   ]
  },
  {
   "cell_type": "code",
   "execution_count": null,
   "metadata": {},
   "outputs": [],
   "source": [
    "# nursingv1_dir = Path('../data/nursingv1_dataset')\n",
    "# np.random.seed(0)\n",
    "\n",
    "# # # Using train dev test split function on all sessions\n",
    "# # train_dataset, dev_dataset, test_dataset = nursingv1_train_dev_test_split(nursingv1_dir, 0.5, 0.2, 0.3)\n",
    "\n",
    "# session_ids = utils.get_all_session_ids(nursingv1_dir)\n",
    "\n",
    "# ## Using all sessions with custom class - takes 90 seconds\n",
    "# start_time = time()\n",
    "# dataset = NursingDatasetV1(nursingv1_dir, session_ids)\n",
    "# for X,y in DataLoader(dataset):\n",
    "#     pass\n",
    "# print(f'Elapsed Time Custom: {time() - start_time}')\n",
    "\n",
    "# ## Load all sessions into memory - takes 69 seconds\n",
    "# start_time = time()\n",
    "# dataset = load_windowed_sessions(nursingv1_dir, session_ids)\n",
    "# for X,y in DataLoader(dataset):\n",
    "#     pass\n",
    "# print(f'Elapsed Time TensorDataset: {time() - start_time}')"
   ]
  },
  {
   "cell_type": "code",
   "execution_count": 38,
   "metadata": {},
   "outputs": [],
   "source": [
    "# Load 10 sessions\n",
    "dev_size = 0.2\n",
    "batch_size = 64\n",
    "\n",
    "nursingv1_dir = Path('../data/nursingv1_dataset')\n",
    "session_ids = utils.get_all_session_ids(nursingv1_dir)[:10]\n",
    "dataset = load_windowed_sessions(nursingv1_dir, session_ids=session_ids)\n",
    "\n",
    "train_dataset, dev_dataset = utils.train_test_split_windows(dataset, test_size=dev_size)\n",
    "trainloader = DataLoader(train_dataset, batch_size=batch_size, shuffle=True)\n",
    "devloader = DataLoader(dev_dataset, batch_size=batch_size, shuffle=True)\n",
    "\n",
    "device = 'cuda' if torch.cuda.is_available() else 'cpu'"
   ]
  },
  {
   "cell_type": "code",
   "execution_count": null,
   "metadata": {},
   "outputs": [],
   "source": [
    "model = MLP_1hl(n_hl=10, n_features=WINSIZE*3).to(device)\n",
    "optimizer = MLP_1hl.get_optimizer(model)\n",
    "criterion = MLP_1hl.get_criterion()\n",
    "epochs = 100\n",
    "\n",
    "optimization_loop(model, trainloader, devloader, criterion, optimizer, epochs, device)"
   ]
  },
  {
   "cell_type": "code",
   "execution_count": 62,
   "metadata": {},
   "outputs": [
    {
     "ename": "ValueError",
     "evalue": "too many values to unpack (expected 2)",
     "output_type": "error",
     "traceback": [
      "\u001b[0;31m---------------------------------------------------------------------------\u001b[0m",
      "\u001b[0;31mValueError\u001b[0m                                Traceback (most recent call last)",
      "Cell \u001b[0;32mIn[62], line 1\u001b[0m\n\u001b[0;32m----> 1\u001b[0m y_train_true, y_train_pred \u001b[39m=\u001b[39m evaluate_loop(model, trainloader, device)\n\u001b[1;32m      2\u001b[0m y_train_true,y_train_pred \u001b[39m=\u001b[39m y_train_true\u001b[39m.\u001b[39mflatten(), y_train_pred\u001b[39m.\u001b[39mflatten()\n\u001b[1;32m      3\u001b[0m prec_tr, recall_tr, f1score_tr, _ \u001b[39m=\u001b[39m precision_recall_fscore_support(\n\u001b[1;32m      4\u001b[0m     y_train_true, y_train_pred\n\u001b[1;32m      5\u001b[0m )\n",
      "\u001b[0;31mValueError\u001b[0m: too many values to unpack (expected 2)"
     ]
    }
   ],
   "source": [
    "y_train_true, y_train_pred = evaluate_loop(model, trainloader, device)\n",
    "y_train_true,y_train_pred = y_train_true.flatten(), y_train_pred.flatten()\n",
    "prec_tr, recall_tr, f1score_tr, _ = precision_recall_fscore_support(\n",
    "    y_train_true, y_train_pred\n",
    ")\n",
    "print(f'Train: precision: {prec_tr}, recall: {recall_tr}, f1 score: {f1score_tr}')\n",
    "plot_and_save_cm(y_train_true, y_train_pred, \"train_cm.jpg\")\n",
    "\n",
    "y_dev_true, y_dev_pred = evaluate_loop(model, devloader, device).flatten()\n",
    "y_dev_true,y_dev_pred = y_dev_true.flatten(), y_dev_pred.flatten()\n",
    "prec_dev, recall_dev, f1score_dev, _ = precision_recall_fscore_support(\n",
    "    y_dev_true, y_dev_pred\n",
    ")\n",
    "print(f'Dev: precision: {prec_dev}, recall: {recall_dev}, f1 score: {f1score_dev}')\n",
    "plot_and_save_cm(y_dev_true, y_dev_pred, \"dev_cm.jpg\")"
   ]
  }
 ],
 "metadata": {
  "kernelspec": {
   "display_name": "Python 3.10.12 64-bit",
   "language": "python",
   "name": "python3"
  },
  "language_info": {
   "codemirror_mode": {
    "name": "ipython",
    "version": 3
   },
   "file_extension": ".py",
   "mimetype": "text/x-python",
   "name": "python",
   "nbconvert_exporter": "python",
   "pygments_lexer": "ipython3",
   "version": "3.10.12"
  },
  "orig_nbformat": 4,
  "vscode": {
   "interpreter": {
    "hash": "97cc609b13305c559618ec78a438abc56230b9381f827f22d070313b9a1f3777"
   }
  }
 },
 "nbformat": 4,
 "nbformat_minor": 2
}
