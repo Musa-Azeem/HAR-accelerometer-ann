{
 "cells": [
  {
   "cell_type": "code",
   "execution_count": 3,
   "metadata": {},
   "outputs": [],
   "source": [
    "from pathlib import Path\n",
    "from smokingml.datasets.nursing_dataset_v1 import nursing_dataset_v1, nursingv1_train_dev_test_split, utils\n",
    "from smokingml.modules import evaluate_loop\n",
    "from torch.utils.data import DataLoader\n",
    "from torch import nn\n",
    "import torch\n",
    "import matplotlib.pyplot as plt\n",
    "from smokingml.utils import plot_and_save_cm\n",
    "from tqdm import tqdm"
   ]
  },
  {
   "cell_type": "code",
   "execution_count": 16,
   "metadata": {},
   "outputs": [],
   "source": [
    "def evaluate_loop(model: nn.Module, criterion: nn.Module, loader: DataLoader, device: str) -> tuple[torch.tensor, torch.tensor]:\n",
    "    y_preds = []\n",
    "    y_true = []\n",
    "    loss_total = 0\n",
    "\n",
    "    model.eval()\n",
    "    for X,y in loader:\n",
    "        y_true.append(y)\n",
    "        X,y = X.to(device), y.to(device)\n",
    "        logits = model(X)\n",
    "        loss_total += criterion(logits, y).item()\n",
    "        pred = torch.round(nn.Sigmoid()(logits)).detach().to('cpu')\n",
    "        y_preds.append(pred)\n",
    "\n",
    "\n",
    "    return (torch.cat(y_true), torch.cat(y_preds), loss_total / len(loader))"
   ]
  },
  {
   "cell_type": "code",
   "execution_count": 5,
   "metadata": {},
   "outputs": [],
   "source": [
    "nursingv1_dir = Path('../data/nursingv1_dataset')\n",
    "session_ids = utils.get_all_session_ids(nursingv1_dir)[:10]\n",
    "train_dataset, dev_dataset, _ = nursingv1_train_dev_test_split(\n",
    "    nursingv1_dir,\n",
    "    train_size=1-0.5,\n",
    "    dev_size=0.5,\n",
    "    test_size=0.0,\n",
    "    shuffle=True,\n",
    "    session_ids=session_ids,\n",
    "    for_cnn=True\n",
    ")\n",
    "trainloader = DataLoader(train_dataset, batch_size=64, shuffle=True)\n",
    "devloader = DataLoader(dev_dataset, batch_size=64, shuffle=True)"
   ]
  },
  {
   "cell_type": "code",
   "execution_count": 6,
   "metadata": {},
   "outputs": [],
   "source": [
    "class Model(nn.Module):\n",
    "    def __init__(self):\n",
    "        super().__init__()\n",
    "        self.h1 = nn.Linear(in_features=303, out_features=10)\n",
    "        self.relu = nn.ReLU()\n",
    "        self.out = nn.Linear(in_features=10, out_features=1)\n",
    "\n",
    "    def forward(self, x):\n",
    "        x = self.h1(x)\n",
    "        x = self.relu(x)\n",
    "        logits = self.out(x)\n",
    "        return logits\n",
    "\n",
    "device = 'cuda:1'\n",
    "model = Model().to(device)\n",
    "optimizer = torch.optim.Adam(model.parameters())\n",
    "criterion = nn.BCEWithLogitsLoss()"
   ]
  },
  {
   "cell_type": "code",
   "execution_count": 7,
   "metadata": {},
   "outputs": [],
   "source": [
    "class CNNModel(nn.Module):\n",
    "    def __init__(self):\n",
    "        super().__init__()\n",
    "        self.c1 = nn.Conv1d(in_channels=3, out_channels=2, kernel_size=5, padding='same', bias=False)\n",
    "        self.ln1 = nn.LayerNorm((2,101))\n",
    "        self.relu = nn.ReLU()\n",
    "\n",
    "        self.h1 = nn.Linear(in_features=202, out_features=10)\n",
    "        self.h2 = nn.Linear(in_features=10, out_features=1)\n",
    "        \n",
    "\n",
    "    def forward(self, x):\n",
    "        x = self.c1(x)\n",
    "        x = self.ln1(x)\n",
    "        x = self.relu(x)\n",
    "\n",
    "        x = x.flatten(start_dim=1)\n",
    "        x = self.h1(x)\n",
    "        x = self.relu(x)\n",
    "        logits = self.h2(x)\n",
    "\n",
    "        return logits\n",
    "\n",
    "device = 'cuda:1'\n",
    "model = CNNModel().to(device)\n",
    "optimizer = torch.optim.Adam(model.parameters())\n",
    "criterion = nn.BCEWithLogitsLoss()"
   ]
  },
  {
   "cell_type": "code",
   "execution_count": 29,
   "metadata": {},
   "outputs": [],
   "source": [
    "class FCN(nn.Module):\n",
    "    def __init__(self):\n",
    "        super().__init__()\n",
    "        \n",
    "        # First Convolution Block\n",
    "        self.conv1 = nn.Conv1d(in_channels=3, out_channels=128, kernel_size=8)\n",
    "        self.bn1 = nn.BatchNorm1d(num_features=128)\n",
    "        self.relu1 = nn.ReLU()\n",
    "\n",
    "        # Second Convolution Block\n",
    "        self.conv2 = nn.Conv1d(in_channels=128, out_channels=256, kernel_size=5)\n",
    "        self.bn2 = nn.BatchNorm1d(num_features=256)\n",
    "        self.relu2 = nn.ReLU()\n",
    "\n",
    "        # Third Convolution Block\n",
    "        self.conv3 = nn.Conv1d(in_channels=256, out_channels=128, kernel_size=3)\n",
    "        self.bn3 = nn.BatchNorm1d(num_features=128)\n",
    "        self.relu3 = nn.ReLU()\n",
    "\n",
    "        # Global Average Pooling\n",
    "        self.gp = lambda x: torch.mean(x, dim=2)    # Take mean across each feature map (N, C, L) => (N,C)\n",
    "        \n",
    "        # Output Later\n",
    "        self.output = nn.Linear(in_features=128, out_features=1)\n",
    "    \n",
    "    def forward(self, x):\n",
    "        x = self.conv1(x)\n",
    "        x = self.bn1(x)\n",
    "        x = self.relu1(x)\n",
    "\n",
    "        x = self.conv2(x)\n",
    "        x = self.bn2(x)\n",
    "        x = self.relu2(x)\n",
    "\n",
    "        x = self.conv3(x)\n",
    "        x = self.bn3(x)\n",
    "        x = self.relu3(x)\n",
    "\n",
    "        x = self.gp(x)\n",
    "        logits = self.output(x)\n",
    "\n",
    "        return logits\n",
    "\n",
    "model = FCN().to(device)\n",
    "\n",
    "criterion = nn.BCEWithLogitsLoss()\n",
    "optimizer = torch.optim.Adam(model.parameters(), lr=0.001, betas=(0.9, 0.999), eps=1e-8)"
   ]
  },
  {
   "cell_type": "code",
   "execution_count": 30,
   "metadata": {},
   "outputs": [
    {
     "name": "stderr",
     "output_type": "stream",
     "text": [
      "100%|██████████| 2850/2850 [00:06<00:00, 425.31it/s]\n",
      "100%|██████████| 2850/2850 [00:06<00:00, 444.88it/s]\n",
      "100%|██████████| 2850/2850 [00:05<00:00, 478.29it/s]\n",
      "100%|██████████| 2850/2850 [00:05<00:00, 478.64it/s]\n",
      "100%|██████████| 2850/2850 [00:05<00:00, 476.87it/s]\n"
     ]
    },
    {
     "data": {
      "text/plain": [
       "[<matplotlib.lines.Line2D at 0x7fa4446d3310>]"
      ]
     },
     "execution_count": 30,
     "metadata": {},
     "output_type": "execute_result"
    },
    {
     "data": {
      "image/png": "[encoded data removed]",
      "text/plain": [
       "<Figure size 640x480 with 1 Axes>"
      ]
     },
     "metadata": {},
     "output_type": "display_data"
    }
   ],
   "source": [
    "\n",
    "model.train()\n",
    "lossi = []\n",
    "for i in range(5):\n",
    "    for (X_tr,y_tr) in tqdm(trainloader):\n",
    "        X_tr,y_tr = X_tr.to(device),y_tr.to(device)\n",
    "        logits = model(X_tr)\n",
    "        loss = criterion(logits,y_tr)\n",
    "        optimizer.zero_grad()\n",
    "        loss.backward()\n",
    "        optimizer.step()\n",
    "        lossi.append(loss.item())\n",
    "\n",
    "\n",
    "plt.plot(lossi)"
   ]
  },
  {
   "cell_type": "code",
   "execution_count": 31,
   "metadata": {},
   "outputs": [
    {
     "data": {
      "text/plain": [
       "0.010244890466102222"
      ]
     },
     "execution_count": 31,
     "metadata": {},
     "output_type": "execute_result"
    }
   ],
   "source": [
    "y_true, y_pred, loss = evaluate_loop(model, criterion, trainloader, device)\n",
    "\n",
    "# with torch.no_grad():\n",
    "#     y_true = torch.Tensor()\n",
    "#     y_pred = torch.Tensor()\n",
    "#     y_logits = torch.Tensor()\n",
    "#     loss_total = 0\n",
    "#     for (Xi,yi) in tqdm(trainloader):\n",
    "#         y_true = torch.cat([y_true,yi])\n",
    "\n",
    "#         Xi,yi = Xi.to(device),yi.to(device)\n",
    "#         logits = model(Xi)\n",
    "#         loss = criterion(logits,yi)\n",
    "#         loss_total += loss.item()\n",
    "        \n",
    "#         y_logits = torch.cat([y_logits,torch.sigmoid(logits).detach().cpu()])\n",
    "#         y_pred = torch.cat([y_pred,torch.sigmoid(logits).round().detach().cpu()])\n",
    "\n",
    "\n",
    "plot_and_save_cm(y_true, y_pred, 'cm.jpg')\n",
    "loss"
   ]
  },
  {
   "cell_type": "code",
   "execution_count": 32,
   "metadata": {},
   "outputs": [
    {
     "data": {
      "text/plain": [
       "0.3090636387665905"
      ]
     },
     "execution_count": 32,
     "metadata": {},
     "output_type": "execute_result"
    }
   ],
   "source": [
    "y_true, y_pred, loss = evaluate_loop(model, criterion, devloader, device)\n",
    "plot_and_save_cm(y_true, y_pred, 'cm.jpg')\n",
    "loss"
   ]
  },
  {
   "cell_type": "code",
   "execution_count": 19,
   "metadata": {},
   "outputs": [
    {
     "data": {
      "text/plain": [
       "array([60, 27, 41, 53,  8])"
      ]
     },
     "execution_count": 19,
     "metadata": {},
     "output_type": "execute_result"
    }
   ],
   "source": [
    "dev_dataset.session_ids"
   ]
  },
  {
   "cell_type": "code",
   "execution_count": 22,
   "metadata": {},
   "outputs": [
    {
     "name": "stderr",
     "output_type": "stream",
     "text": [
      "100%|██████████| 510/510 [00:00<00:00, 1365.68it/s]\n"
     ]
    }
   ],
   "source": [
    "session = dev_dataset.load_one_windowed_session(60)\n",
    "\n",
    "one_guyloader = DataLoader(session, batch_size=64)\n",
    "\n",
    "with torch.no_grad():\n",
    "    y_true = torch.Tensor()\n",
    "    y_pred = torch.Tensor()\n",
    "    y_logits = torch.Tensor()\n",
    "    loss_total = 0\n",
    "    for (Xi,yi) in tqdm(one_guyloader):\n",
    "        y_true = torch.cat([y_true,yi])\n",
    "\n",
    "        Xi,yi = Xi.reshape(-1,3,101).to(device),yi.to(device)\n",
    "        logits = model(Xi)\n",
    "        loss = criterion(logits,yi)\n",
    "        loss_total += loss.item()\n",
    "        \n",
    "        y_logits = torch.cat([y_logits,torch.sigmoid(logits).detach().cpu()])\n",
    "        y_pred = torch.cat([y_pred,torch.sigmoid(logits).round().detach().cpu()])\n",
    "\n",
    "\n",
    "plot_and_save_cm(y_true, y_pred, 'cm.jpg')"
   ]
  },
  {
   "cell_type": "code",
   "execution_count": 23,
   "metadata": {},
   "outputs": [
    {
     "data": {
      "image/png": "[encoded data removed]",
      "text/plain": [
       "<Figure size 3000x500 with 1 Axes>"
      ]
     },
     "metadata": {},
     "output_type": "display_data"
    }
   ],
   "source": [
    "plt.figure(figsize=(30,5))\n",
    "plt.plot(y_true)\n",
    "plt.plot(y_pred)\n",
    "plt.savefig('out.pdf')"
   ]
  }
 ],
 "metadata": {
  "kernelspec": {
   "display_name": "Python 3.10.6 64-bit",
   "language": "python",
   "name": "python3"
  },
  "language_info": {
   "codemirror_mode": {
    "name": "ipython",
    "version": 3
   },
   "file_extension": ".py",
   "mimetype": "text/x-python",
   "name": "python",
   "nbconvert_exporter": "python",
   "pygments_lexer": "ipython3",
   "version": "3.10.12"
  },
  "orig_nbformat": 4,
  "vscode": {
   "interpreter": {
    "hash": "916dbcbb3f70747c44a77c7bcd40155683ae19c65e1c03b4aa3499c5328201f1"
   }
  }
 },
 "nbformat": 4,
 "nbformat_minor": 2
}
