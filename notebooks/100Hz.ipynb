{
 "cells": [
  {
   "cell_type": "code",
   "execution_count": 12,
   "metadata": {},
   "outputs": [],
   "source": [
    "import torch\n",
    "from torch import nn\n",
    "from pathlib import Path\n",
    "from torch.utils.data import DataLoader, TensorDataset\n",
    "from smokingml.datasets.nursing_dataset_v1 import WINSIZE_100Hz, NursingDatasetV1, nursingv1_train_dev_test_split\n",
    "from smokingml.datasets.nursing_dataset_v1.dataloading import load_one_session, load_one_windowed_session\n",
    "from smokingml.datasets.nursing_dataset_v1.utils import window_session, train_test_split_windows, get_all_session_ids\n",
    "from smokingml.modules import train_loop, optimization_loop, evaluate_loop\n",
    "from smokingml.models import MLP_1hl"
   ]
  },
  {
   "cell_type": "code",
   "execution_count": 3,
   "metadata": {},
   "outputs": [],
   "source": [
    "# produce_nursingv1_dataset_from_raw('../data/nursing_raw/', '../data/nursing_labels_musa/', '../data/nursingv1_100Hz_dataset', win_size=505, dm_factor=1)"
   ]
  },
  {
   "cell_type": "code",
   "execution_count": 5,
   "metadata": {},
   "outputs": [],
   "source": [
    "data_dir = Path('../data/nursingv1_100Hz_dataset/')\n",
    "device = 'cuda:0'"
   ]
  },
  {
   "cell_type": "code",
   "execution_count": 14,
   "metadata": {},
   "outputs": [
    {
     "name": "stdout",
     "output_type": "stream",
     "text": [
      "\u001b[92mStarting optimization_loop\u001b[0m\n"
     ]
    },
    {
     "name": "stderr",
     "output_type": "stream",
     "text": [
      "Epoch 19: Train Loss: 0.06192: Dev Loss: 0.15709: 100%|██████████| 20/20 [19:07<00:00, 57.39s/it] "
     ]
    },
    {
     "name": "stdout",
     "output_type": "stream",
     "text": [
      "\u001b[93mFinished optimization_loop. Elapsed time: 1147.888\u001b[0m\n"
     ]
    },
    {
     "name": "stderr",
     "output_type": "stream",
     "text": [
      "\n"
     ]
    }
   ],
   "source": [
    "ids = get_all_session_ids(data_dir)[:16]\n",
    "train_dataset, dev_dataset, _ = nursingv1_train_dev_test_split(data_dir, 0.8, 0.2, 0, WINSIZE_100Hz, True, ids)\n",
    "\n",
    "trainloader = DataLoader(train_dataset, batch_size=64, shuffle=True)\n",
    "devloader = DataLoader(dev_dataset, batch_size=64, shuffle=True)\n",
    "\n",
    "model = MLP_1hl(n_hl=10, n_features=1515).to(device)\n",
    "criterion = MLP_1hl.get_criterion()\n",
    "optimizer = MLP_1hl.get_optimizer(model)\n",
    "\n",
    "optimization_loop(model, trainloader, devloader, criterion, optimizer, 20, device, Path('../nursingv1_projects/100hz/0'))"
   ]
  }
 ],
 "metadata": {
  "kernelspec": {
   "display_name": ".venv",
   "language": "python",
   "name": "python3"
  },
  "language_info": {
   "codemirror_mode": {
    "name": "ipython",
    "version": 3
   },
   "file_extension": ".py",
   "mimetype": "text/x-python",
   "name": "python",
   "nbconvert_exporter": "python",
   "pygments_lexer": "ipython3",
   "version": "3.10.12"
  },
  "orig_nbformat": 4
 },
 "nbformat": 4,
 "nbformat_minor": 2
}
