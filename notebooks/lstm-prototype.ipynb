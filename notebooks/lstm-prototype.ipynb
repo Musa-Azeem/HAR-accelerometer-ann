{
 "cells": [
  {
   "cell_type": "code",
   "execution_count": 85,
   "metadata": {},
   "outputs": [],
   "source": [
    "from pathlib import Path\n",
    "from smokingml.datasets.nursing_dataset_v1 import nursing_dataset_v1, nursingv1_train_dev_test_split, utils, WINSIZE\n",
    "from smokingml.datasets.nursing_dataset_v1.dataloading import load_one_session\n",
    "from smokingml.modules import evaluate_loop, train_loop, inner_evaluate_loop, inner_train_loop, optimization_loop\n",
    "from smokingml.models import mlp_1hl, FCN, CNNModel\n",
    "from torch.utils.data import DataLoader, TensorDataset\n",
    "from torch import nn\n",
    "import torch\n",
    "import matplotlib.pyplot as plt\n",
    "from smokingml.utils import plot_and_save_cm\n",
    "from tqdm import tqdm"
   ]
  },
  {
   "cell_type": "code",
   "execution_count": 131,
   "metadata": {},
   "outputs": [],
   "source": [
    "def window_session(session: torch.Tensor) -> torch.Tensor:\n",
    "    # Window session\n",
    "    x_acc = session[0].reshape(-1, 1)\n",
    "    y_acc = session[1].reshape(-1, 1)\n",
    "    z_acc = session[2].reshape(-1, 1)\n",
    "\n",
    "    w = 5-1\n",
    "\n",
    "    xs = [x_acc[:-w]]\n",
    "    ys = [y_acc[:-w]]\n",
    "    zs = [z_acc[:-w]]\n",
    "\n",
    "    for i in range(1,w):\n",
    "        xs.append(x_acc[i:i-w])\n",
    "        ys.append(y_acc[i:i-w])\n",
    "        zs.append(z_acc[i:i-w])\n",
    "\n",
    "    xs.append(x_acc[w:])\n",
    "    ys.append(y_acc[w:])\n",
    "    zs.append(z_acc[w:])\n",
    "\n",
    "    xs = torch.cat(xs,axis=1).float()\n",
    "    ys = torch.cat(ys,axis=1).float()\n",
    "    zs = torch.cat(zs,axis=1).float()\n",
    "\n",
    "    # X = torch.cat([xs,ys,zs], axis=1)\n",
    "    X = torch.cat([xs.unsqueeze(2), ys.unsqueeze(2), zs.unsqueeze(2)], axis=2)\n",
    "\n",
    "    return X"
   ]
  },
  {
   "cell_type": "code",
   "execution_count": 134,
   "metadata": {},
   "outputs": [],
   "source": [
    "guy = load_one_session(Path('../data/nursingv1_dataset'), 0)\n",
    "X = guy[0]\n",
    "X = torch.cat([torch.zeros(3, 5//2), X, torch.zeros(3, 5//2)], axis=1)\n",
    "X = window_session(X)\n",
    "y = torch.tensor(guy[1]).unsqueeze(1)\n",
    "loader = DataLoader(TensorDataset(X,y), batch_size=64)"
   ]
  },
  {
   "cell_type": "code",
   "execution_count": 160,
   "metadata": {},
   "outputs": [],
   "source": [
    "class LSTMModel(nn.Module):\n",
    "    def __init__(self):\n",
    "        super().__init__()\n",
    "        self.lstm = nn.LSTM(input_size=3, hidden_size=64)\n",
    "        self.h1 = nn.Linear(in_features=64, out_features=10)\n",
    "        self.h2 = nn.Linear(in_features=10, out_features=1)\n",
    "    \n",
    "    def forward(self, x):\n",
    "        o,h = self.lstm(x)\n",
    "        x = self.h1(o[:, -1, :])\n",
    "        x = torch.relu(x)\n",
    "        logits = self.h2(x)\n",
    "        return logits\n",
    "\n",
    "device = 'cuda:0'\n",
    "model = LSTMModel().to(device)\n",
    "criterion = nn.BCEWithLogitsLoss()\n",
    "optimizer = torch.optim.Adam(model.parameters())"
   ]
  },
  {
   "cell_type": "code",
   "execution_count": 162,
   "metadata": {},
   "outputs": [
    {
     "data": {
      "text/plain": [
       "[<matplotlib.lines.Line2D at 0x7f7221f5d5a0>]"
      ]
     },
     "execution_count": 162,
     "metadata": {},
     "output_type": "execute_result"
    },
    {
     "data": {
      "image/png": "[encoded data removed]",
      "text/plain": [
       "<Figure size 640x480 with 1 Axes>"
      ]
     },
     "metadata": {},
     "output_type": "display_data"
    }
   ],
   "source": [
    "X = X.float()\n",
    "y = y.float()\n",
    "\n",
    "\n",
    "lossi = []\n",
    "\n",
    "for i in range(10):\n",
    "    for X,y in loader:\n",
    "        X,y = X.to(device), y.to(device)\n",
    "        logits = model(X)\n",
    "        loss = criterion(logits, y)\n",
    "        optimizer.zero_grad()\n",
    "        loss.backward()\n",
    "        optimizer.step()\n",
    "\n",
    "    lossi.append(loss.item())\n",
    "\n",
    "    \n",
    "plt.plot(lossi)\n"
   ]
  }
 ],
 "metadata": {
  "kernelspec": {
   "display_name": "env",
   "language": "python",
   "name": "python3"
  },
  "language_info": {
   "codemirror_mode": {
    "name": "ipython",
    "version": 3
   },
   "file_extension": ".py",
   "mimetype": "text/x-python",
   "name": "python",
   "nbconvert_exporter": "python",
   "pygments_lexer": "ipython3",
   "version": "3.10.12"
  },
  "orig_nbformat": 4
 },
 "nbformat": 4,
 "nbformat_minor": 2
}
