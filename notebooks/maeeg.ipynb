{
 "cells": [
  {
   "attachments": {},
   "cell_type": "markdown",
   "metadata": {},
   "source": [
    "# MAEEG\n",
    "\n",
    "## Implementation of the MAEEG model from [this](https://arxiv.org/abs/2211.02625) paper by Apple"
   ]
  },
  {
   "cell_type": "code",
   "execution_count": 29,
   "metadata": {},
   "outputs": [],
   "source": [
    "import sys\n",
    "sys.path.insert(0, '../../smoking_ml')\n",
    "from lib.utils import *\n",
    "import torch\n",
    "from torch import nn\n",
    "from torch.utils.data import DataLoader, TensorDataset\n",
    "from sklearn.model_selection import train_test_split\n",
    "import numpy as np"
   ]
  },
  {
   "cell_type": "code",
   "execution_count": 27,
   "metadata": {},
   "outputs": [
    {
     "name": "stdout",
     "output_type": "stream",
     "text": [
      "Using cuda device\n"
     ]
    }
   ],
   "source": [
    "# Get cpu or gpu device for training\n",
    "device = \"cuda\" if torch.cuda.is_available() else \"mps\" if torch.backends.mps.is_available() else \"cpu\"\n",
    "print(f\"Using {device} device\")"
   ]
  },
  {
   "cell_type": "code",
   "execution_count": 84,
   "metadata": {},
   "outputs": [],
   "source": [
    "X, y = load_and_window_nursing_list_for_convolution([0])\n",
    "X = X[:,:1,:] # get only x\n",
    "X_train,X_dev,y_train,y_dev = train_test_split(X,y,test_size=.5,stratify=y)\n",
    "trainloader = DataLoader(TensorDataset(X_train,y_train),batch_size=128,shuffle=True)\n",
    "devloader = DataLoader(TensorDataset(X_dev,y_dev),batch_size=128,shuffle=True)"
   ]
  },
  {
   "cell_type": "code",
   "execution_count": 126,
   "metadata": {},
   "outputs": [],
   "source": [
    "class MAAEEG(nn.Module):\n",
    "    def conv_layer(self, in_channels, out_channels, kernel_size=8, n_groups=4, p_dropout=0.2):\n",
    "        return nn.Sequential(\n",
    "            nn.Conv1d(in_channels=in_channels, out_channels=out_channels, kernel_size=kernel_size, padding='same'),\n",
    "            nn.Dropout(p=p_dropout),\n",
    "            nn.GroupNorm(n_groups, out_channels),\n",
    "            nn.GELU()\n",
    "        )   \n",
    "         \n",
    "    def get_im_mask_fn(self, n_channels, p_mask=0.25):\n",
    "        def mask_fn(x):\n",
    "            n_channels_mask = int(np.floor(p_mask*x.shape[0]))  # num of channels to mask based on p_mask (% of channels to mask)\n",
    "            mask_channel_idxs = torch.randint(0, n_channels, size=(x.shape[0], n_channels_mask)) # get random idxs of channels to mask for each batch\n",
    "            for i,mask_channel_idx in enumerate(mask_channel_idxs): # for each random idxs (one for each batch)\n",
    "                x[i, mask_channel_idx] = torch.randn(n_channels_mask, x.shape[2]) * np.sqrt(1/x.shape[1]) # set those channels to random normal values with std sqrt(1/n_channels)\n",
    "            return x\n",
    "        return mask_fn\n",
    "    \n",
    "    \n",
    "\n",
    "    def __init__(self, in_channels):\n",
    "        super().__init__()\n",
    "        out_channels = 64\n",
    "        self.six_layer_conv = nn.Sequential(\n",
    "            self.conv_layer(in_channels= in_channels, out_channels=out_channels),\n",
    "            self.conv_layer(in_channels=out_channels, out_channels=out_channels),\n",
    "            self.conv_layer(in_channels=out_channels, out_channels=out_channels),\n",
    "            self.conv_layer(in_channels=out_channels, out_channels=out_channels),\n",
    "            self.conv_layer(in_channels=out_channels, out_channels=out_channels),\n",
    "            self.conv_layer(in_channels=out_channels, out_channels=out_channels)\n",
    "        )\n",
    "        self.im_mask = self.get_im_mask_fn(n_channels=out_channels)\n",
    "\n",
    "    def forward(self, x):\n",
    "        ti = self.six_layer_conv(x)\n",
    "        qi = self.im_mask(ti)\n",
    "        return qi\n",
    "\n",
    "model = MAAEEG(in_channels=1)\n",
    "criterion = nn.MSELoss()\n",
    "optimizer = torch.optim.Adam(model.parameters())"
   ]
  },
  {
   "cell_type": "code",
   "execution_count": 127,
   "metadata": {},
   "outputs": [
    {
     "name": "stdout",
     "output_type": "stream",
     "text": [
      "torch.Size([128, 64, 101])\n"
     ]
    }
   ],
   "source": [
    "for X,_ in trainloader:\n",
    "    x = model(X)\n",
    "    print(x.shape)\n",
    "    break"
   ]
  }
 ],
 "metadata": {
  "kernelspec": {
   "display_name": "Python 3",
   "language": "python",
   "name": "python3"
  },
  "language_info": {
   "codemirror_mode": {
    "name": "ipython",
    "version": 3
   },
   "file_extension": ".py",
   "mimetype": "text/x-python",
   "name": "python",
   "nbconvert_exporter": "python",
   "pygments_lexer": "ipython3",
   "version": "3.10.6"
  },
  "orig_nbformat": 4
 },
 "nbformat": 4,
 "nbformat_minor": 2
}
