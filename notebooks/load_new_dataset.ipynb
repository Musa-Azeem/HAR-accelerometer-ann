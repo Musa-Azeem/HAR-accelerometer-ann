{
 "cells": [
  {
   "cell_type": "code",
   "execution_count": 1,
   "metadata": {},
   "outputs": [
    {
     "name": "stderr",
     "output_type": "stream",
     "text": [
      "/home/mmazeem/.local/lib/python3.10/site-packages/tqdm/auto.py:21: TqdmWarning: IProgress not found. Please update jupyter and ipywidgets. See https://ipywidgets.readthedocs.io/en/stable/user_install.html\n",
      "  from .autonotebook import tqdm as notebook_tqdm\n"
     ]
    }
   ],
   "source": [
    "import torch\n",
    "from torch import nn\n",
    "from torch.utils.data import DataLoader, Dataset, TensorDataset\n",
    "from tqdm import tqdm\n",
    "from pathlib import Path\n",
    "from sklearn.model_selection import train_test_split\n",
    "import numpy as np\n",
    "from time import time\n",
    "import matplotlib.pyplot as plt\n",
    "from smokingml.utils import plot_and_save_cm\n",
    "from smokingml.models import MLP_1hl\n",
    "from smokingml.modules import optimization_loop, evaluate_loop\n",
    "from smokingml.datasets.nursing_dataset_v1 import (\n",
    "    NursingDatasetV1,\n",
    "    WINSIZE,\n",
    "    nursingv1_train_dev_test_split,\n",
    "    load_one_session,\n",
    "    load_sessions,\n",
    "    load_one_windowed_session,\n",
    "    load_windowed_sessions,\n",
    "    utils\n",
    ")\n",
    "from sklearn.metrics import precision_recall_fscore_support"
   ]
  },
  {
   "cell_type": "code",
   "execution_count": 2,
   "metadata": {},
   "outputs": [],
   "source": [
    "# nursingv1_dir = Path('../data/nursingv1_dataset')\n",
    "# np.random.seed(0)\n",
    "\n",
    "# # # Using train dev test split function on all sessions\n",
    "# # train_dataset, dev_dataset, test_dataset = nursingv1_train_dev_test_split(nursingv1_dir, 0.5, 0.2, 0.3)\n",
    "\n",
    "# session_ids = utils.get_all_session_ids(nursingv1_dir)\n",
    "\n",
    "# ## Using all sessions in fs - takes 13.5 minutes\n",
    "# start_time = time()\n",
    "# dataset = NursingDatasetV1(nursingv1_dir, session_ids)\n",
    "# for X,y in DataLoader(dataset):\n",
    "#     pass\n",
    "# print(f'Elapsed Time fs: {time() - start_time}')\n",
    "\n",
    "# ## Load all sessions into memory - takes 1 minute\n",
    "# start_time = time()\n",
    "# dataset = load_windowed_sessions(nursingv1_dir, session_ids)\n",
    "# for X,y in DataLoader(dataset):\n",
    "#     pass\n",
    "# print(f'Elapsed Time fs: {time() - start_time}')"
   ]
  },
  {
   "cell_type": "markdown",
   "metadata": {},
   "source": [
    "Create a dataset as follows. \n",
    "1. Load and individually-window data from 10 participants\n",
    "2. aggregate (concatenate)\n",
    "3. shuffle windows (across all 10)\n",
    "4. train-dev split (80-20, no testing here)\n",
    "5. optimize a simple MLP for a number of epochs\n",
    "6. plot train and dev loss\n",
    "7. print f1 score for trainloader and devloader\n",
    "8. plot confusion matrix for both train and dev sets."
   ]
  },
  {
   "cell_type": "code",
   "execution_count": 2,
   "metadata": {},
   "outputs": [],
   "source": [
    "# Load 10 sessions\n",
    "dev_size = 0.2\n",
    "batch_size = 64\n",
    "\n",
    "nursingv1_dir = Path('../data/nursingv1_dataset')\n",
    "session_ids = utils.get_all_session_ids(nursingv1_dir)\n",
    "dataset = load_windowed_sessions(nursingv1_dir, session_ids=session_ids)\n",
    "\n",
    "train_dataset, dev_dataset = utils.train_test_split_windows(dataset, test_size=dev_size)\n",
    "trainloader = DataLoader(train_dataset, batch_size=batch_size, shuffle=True)\n",
    "devloader = DataLoader(dev_dataset, batch_size=batch_size, shuffle=True)\n",
    "\n",
    "device = 'cuda' if torch.cuda.is_available() else 'cpu'"
   ]
  },
  {
   "cell_type": "code",
   "execution_count": 3,
   "metadata": {},
   "outputs": [
    {
     "name": "stderr",
     "output_type": "stream",
     "text": [
      "Epoch 0: Train Loss: 0.091939: Dev Loss: 0.087565: 100%|██████████| 1/1 [00:44<00:00, 44.74s/it]\n"
     ]
    },
    {
     "name": "stdout",
     "output_type": "stream",
     "text": [
      "Train: precision: [0.95947572 0.04012306], recall: [0.98413262 0.01570628], f1 score: [0.97164777 0.02257537]\n",
      "Dev: precision: [0.96014772 0.04406662], recall: [0.98444184 0.01724958], f1 score: [0.97214303 0.02479379]\n"
     ]
    }
   ],
   "source": [
    "model = MLP_1hl(n_hl=10, n_features=WINSIZE*3).to(device)\n",
    "optimizer = MLP_1hl.get_optimizer(model)\n",
    "criterion = MLP_1hl.get_criterion()\n",
    "epochs = 1\n",
    "\n",
    "optimization_loop(model, trainloader, devloader, criterion, optimizer, epochs, device)\n",
    "\n",
    "y_train_pred = evaluate_loop(model, trainloader, device)\n",
    "y_train_true = train_dataset.tensors[1]\n",
    "prec_tr, recall_tr, f1score_tr, _ = precision_recall_fscore_support(\n",
    "    y_train_true, y_train_pred\n",
    ")\n",
    "print(f'Train: precision: {prec_tr}, recall: {recall_tr}, f1 score: {f1score_tr}')\n",
    "plot_and_save_cm(y_train_pred, y_train_true, \"train_cm.jpg\")\n",
    "\n",
    "y_dev_pred = evaluate_loop(model, devloader, device)\n",
    "y_dev_true = dev_dataset.tensors[1]\n",
    "prec_dev, recall_dev, f1score_dev, _ = precision_recall_fscore_support(\n",
    "    y_dev_true, y_dev_pred\n",
    ")\n",
    "print(f'Dev: precision: {prec_dev}, recall: {recall_dev}, f1 score: {f1score_dev}')\n",
    "plot_and_save_cm(y_dev_pred, y_dev_true, \"dev_cm.jpg\")"
   ]
  }
 ],
 "metadata": {
  "kernelspec": {
   "display_name": "Python 3.10.6 64-bit",
   "language": "python",
   "name": "python3"
  },
  "language_info": {
   "codemirror_mode": {
    "name": "ipython",
    "version": 3
   },
   "file_extension": ".py",
   "mimetype": "text/x-python",
   "name": "python",
   "nbconvert_exporter": "python",
   "pygments_lexer": "ipython3",
   "version": "3.10.6"
  },
  "orig_nbformat": 4,
  "vscode": {
   "interpreter": {
    "hash": "31f2aee4e71d21fbe5cf8b01ff0e069b9275f58929596ceb00d14d90e3e16cd6"
   }
  }
 },
 "nbformat": 4,
 "nbformat_minor": 2
}
