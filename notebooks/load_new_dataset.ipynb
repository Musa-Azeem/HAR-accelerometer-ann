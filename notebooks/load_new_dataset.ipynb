{
 "cells": [
  {
   "cell_type": "code",
   "execution_count": 26,
   "metadata": {},
   "outputs": [],
   "source": [
    "import torch\n",
    "from torch.utils.data import DataLoader, Dataset\n",
    "from tqdm import tqdm\n",
    "from pathlib import Path\n",
    "from sklearn.model_selection import train_test_split"
   ]
  },
  {
   "cell_type": "code",
   "execution_count": 36,
   "metadata": {},
   "outputs": [],
   "source": [
    "WINSIZE = 101   # for this dataset\n",
    "\n",
    "class NursingDatasetV1(Dataset):\n",
    "\n",
    "    def __init__(self, dir: Path, session_idxs: list) -> None:\n",
    "        super().__init__()\n",
    "        self.dir = dir\n",
    "\n",
    "    def __getitem__(self, index: int) -> torch.Tensor:\n",
    "        pass\n",
    "\n",
    "    def __len__(self) -> int:\n",
    "        # Total number of windows is length of dataset\n",
    "        return sum(self._lengths)\n",
    "    \n",
    "    @staticmethod\n",
    "    def nursingv1_train_dev_test_split(dir: Path, train_size: float, dev_size: float, test_size: float) -> tuple:\n",
    "        # Returns tuple of NursingDatasetV1 objects\n",
    "        # Each of the objects is given a subset of total sessions corrosponding\n",
    "        #   to the parameters\n",
    "\n",
    "        # Get list of all session idxs in dataset and their lengths (# of windows)\n",
    "        sessions = []\n",
    "        lengths = []\n",
    "\n",
    "        for session in dir.iterdir():\n",
    "            sessions.append(session.name)\n",
    "            session_shape = torch.load(session / 'Xshape.pt')\n",
    "\n",
    "            # Save number of windows, which is session length - winsize + 1\n",
    "            lengths.append(session_shape[1] - WINSIZE + 1)\n",
    "        \n",
    "        # Split sessions into train, dev, and test\n",
    "        train_idxs, dev_test_idxs = train_test_split(sessions, train_size=train_size)\n",
    "        dev_idxs, test_idxs = train_test_split(dev_test_idxs, train_size=dev_size)  # TODO fix - dev_size is % of subset not entire set now\n",
    "\n",
    "        print(len(train_idxs))\n",
    "        print(len(dev_idxs))\n",
    "        print(len(test_idxs))\n"
   ]
  },
  {
   "cell_type": "code",
   "execution_count": 37,
   "metadata": {},
   "outputs": [
    {
     "name": "stdout",
     "output_type": "stream",
     "text": [
      "29\n",
      "8\n",
      "21\n"
     ]
    }
   ],
   "source": [
    "nursingv1_dir = Path('../data/nursingv1_dataset')\n",
    "# nursing_v1 = NursingDatasetV1(nursingv1_dir, 0.5, 0.2, 0.3)\n",
    "NursingDatasetV1.nursingv1_train_dev_test_split(nursingv1_dir, 0.5, 0.3, 0.2)"
   ]
  }
 ],
 "metadata": {
  "kernelspec": {
   "display_name": "Python 3",
   "language": "python",
   "name": "python3"
  },
  "language_info": {
   "codemirror_mode": {
    "name": "ipython",
    "version": 3
   },
   "file_extension": ".py",
   "mimetype": "text/x-python",
   "name": "python",
   "nbconvert_exporter": "python",
   "pygments_lexer": "ipython3",
   "version": "3.10.6"
  },
  "orig_nbformat": 4
 },
 "nbformat": 4,
 "nbformat_minor": 2
}
