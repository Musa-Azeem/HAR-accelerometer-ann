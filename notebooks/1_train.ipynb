{
 "cells": [
  {
   "cell_type": "code",
   "execution_count": null,
   "metadata": {},
   "outputs": [],
   "source": [
    "import numpy as np\n",
    "import torch\n",
    "from torch import nn\n",
    "import seaborn as sns\n",
    "import matplotlib.pyplot as plt\n",
    "import os\n",
    "from torch.utils.data import Dataset, DataLoader\n",
    "from sklearn.metrics import confusion_matrix\n",
    "from tqdm import tqdm\n",
    "from datetime import datetime"
   ]
  },
  {
   "cell_type": "markdown",
   "metadata": {},
   "source": [
    "# Train Model"
   ]
  },
  {
   "attachments": {},
   "cell_type": "markdown",
   "metadata": {},
   "source": [
    "### Dataloader"
   ]
  },
  {
   "cell_type": "code",
   "execution_count": null,
   "metadata": {},
   "outputs": [],
   "source": [
    "WIN_SIZE = 500\n",
    "\n",
    "class SmokingDataset(Dataset):\n",
    "    def __init__(self, dir):\n",
    "        self.dir = dir\n",
    "    \n",
    "    def __len__(self):\n",
    "        return len(os.listdir(self.dir))\n",
    "    \n",
    "    def __getitem__(self, key):\n",
    "        if isinstance(key, slice):\n",
    "            stop, start, step = key.indices(len(self))\n",
    "\n",
    "            length = len(range(stop, start, step))\n",
    "            X = torch.zeros([length, 3*WIN_SIZE])\n",
    "            y = torch.zeros([length, 1])\n",
    "\n",
    "            for j,i in enumerate(range(stop, start, step)):\n",
    "                xi, yi = self[i]\n",
    "                X[j] = xi\n",
    "                y[j] = yi\n",
    "\n",
    "            return (X, y)\n",
    "\n",
    "        elif isinstance(key, int):\n",
    "            X, y = torch.load(os.path.join(self.dir, f'{key}.pt'))\n",
    "            return (X.flatten(), y)"
   ]
  },
  {
   "cell_type": "code",
   "execution_count": null,
   "metadata": {},
   "outputs": [],
   "source": [
    "dir = '../data/working-dataset/'\n",
    "train_dataset = SmokingDataset(f'{dir}/4_all/train/')\n",
    "test_dataset = SmokingDataset(f'{dir}/4_all/test/')\n",
    "\n",
    "train_length = len(train_dataset)\n",
    "test_length = len(test_dataset)"
   ]
  },
  {
   "cell_type": "code",
   "execution_count": null,
   "metadata": {},
   "outputs": [],
   "source": [
    "# Get cpu or gpu device for training\n",
    "device = \"cuda:1\" if torch.cuda.is_available() else \"mps\" if torch.backends.mps.is_available() else \"cpu\"\n",
    "print(f\"Using {device} device\")"
   ]
  },
  {
   "cell_type": "code",
   "execution_count": null,
   "metadata": {},
   "outputs": [],
   "source": [
    "# Define Model\n",
    "n_hl = 10\n",
    "\n",
    "class MLP(nn.Module):\n",
    "    def __init__(self):\n",
    "        super().__init__()\n",
    "        self.linear_relu_stack = nn.Sequential(\n",
    "            nn.Linear(WIN_SIZE*3, n_hl),\n",
    "            nn.ReLU(),\n",
    "            nn.Linear(n_hl, 1)\n",
    "        )\n",
    "    \n",
    "    def forward(self, x):\n",
    "        logits = self.linear_relu_stack(x)\n",
    "        return logits  \n",
    "\n",
    "model = MLP().to(device)\n",
    "    \n",
    "criterion = nn.BCEWithLogitsLoss()\n",
    "optimizer = torch.optim.Adam(model.parameters(), lr=0.001)"
   ]
  },
  {
   "cell_type": "code",
   "execution_count": null,
   "metadata": {},
   "outputs": [],
   "source": [
    "# Define training parameters and preapre dataloaders from saved datasets\n",
    "\n",
    "epochs = 1\n",
    "batch_size = 64\n",
    "\n",
    "losses = []\n",
    "test_losses = []\n",
    "\n",
    "train_dataloader = DataLoader(train_dataset, batch_size=batch_size)\n",
    "test_dataloader = DataLoader(test_dataset, batch_size=10000)    # batches for memory\n",
    "\n",
    "n_train_batches = len(train_dataloader)\n",
    "n_test_batches = len(test_dataloader)\n",
    "\n",
    "date = datetime.now().strftime(\"%m.%d.%y-%H-%M-%S\")\n",
    "os.system(f'mkdir -p results/{date}/training')\n",
    "os.system(f'mkdir -p results/{date}/model/');"
   ]
  },
  {
   "cell_type": "code",
   "execution_count": null,
   "metadata": {},
   "outputs": [],
   "source": [
    "# Train\n",
    "for epoch in range(epochs):\n",
    "\n",
    "    print(f'Epoch {epoch} - Training')\n",
    "    model.train()\n",
    "    losses.append(0)\n",
    "\n",
    "    for X_train, y_train in tqdm(train_dataloader):\n",
    "\n",
    "        X_train = X_train.to(device)\n",
    "        y_train = y_train.to(device)\n",
    "\n",
    "        # Forward Pass\n",
    "        logits = model(X_train)\n",
    "        loss = criterion(logits, y_train)\n",
    "\n",
    "        # Backward Pass\n",
    "        optimizer.zero_grad()\n",
    "        loss.backward()\n",
    "        optimizer.step()\n",
    "\n",
    "        losses[-1] += loss.item()\n",
    "\n",
    "    losses[-1] /= n_train_batches\n",
    "    print(f'\\tloss: {losses[-1]}')\n",
    "\n",
    "\n",
    "    ## Test\n",
    "    print(f'Epoch {epoch} - Testing')\n",
    "    model.eval()\n",
    "\n",
    "    preds = []\n",
    "    n_correct = 0\n",
    "    test_losses.append(0)\n",
    "\n",
    "    for X_test, y_test in tqdm(test_dataloader):\n",
    "        X_test = X_test.to(device)\n",
    "        y_test = y_test.to(device)\n",
    "\n",
    "        logits = model(X_test)\n",
    "        pred = torch.round(nn.Sigmoid()(logits))\n",
    "\n",
    "        n_correct += sum(y_test == pred)\n",
    "        preds += pred.flatten().tolist()\n",
    "        loss = criterion(logits, y_test)\n",
    "        test_losses[-1] += loss.item()\n",
    "\n",
    "    test_losses[-1] /= n_test_batches\n",
    "    accuracy = (n_correct / test_length).item()\n",
    "    print(f'\\tTest Accuracy: {100*accuracy:.4}%')\n",
    "    print(f'\\tTest Loss: {test_losses[-1]}')\n",
    "\n",
    "    torch.save(model.state_dict(), f'results/{date}/model/model-epoch-{epoch}.pt')\n",
    "\n",
    "torch.save(losses, f'results/{date}/training/train_losses.pt')\n",
    "torch.save(test_losses, f'results/{date}/training/test_losses.pt')"
   ]
  },
  {
   "cell_type": "code",
   "execution_count": null,
   "metadata": {},
   "outputs": [],
   "source": [
    "# Plot loss curve at specified resolution (save losses and plot)\n",
    "os.system(f'mkdir -p results/{date}figures')\n",
    "\n",
    "epoch_toplot = 10\n",
    "losses_toplot = torch.load(f'results/{date}/training/train_losses.pt')[:epoch_toplot]\n",
    "test_losses_toplot = torch.load(f'results/{date}/training/test_losses.pt')[:epoch_toplot]\n",
    "\n",
    "fig, ax = plt.subplots(1)\n",
    "ax.plot(torch.tensor(losses_toplot), label='Train Loss')\n",
    "ax.plot(torch.tensor(test_losses_toplot), label='Test Loss')\n",
    "ax.set_ylabel(\"Loss\")\n",
    "ax.set_xlabel('Epochs')\n",
    "ax.legend()\n",
    "ax.set_title(f'Train and Test Loss over {epoch} Epochs')\n",
    "fig.set_size_inches(16, 9)\n",
    "plt.savefig(f'results/{date}/training/train_test_loss-{epoch}-epochs.jpg', dpi=400)"
   ]
  }
 ],
 "metadata": {
  "kernelspec": {
   "display_name": "Python 3.10.6 64-bit",
   "language": "python",
   "name": "python3"
  },
  "language_info": {
   "codemirror_mode": {
    "name": "ipython",
    "version": 3
   },
   "file_extension": ".py",
   "mimetype": "text/x-python",
   "name": "python",
   "nbconvert_exporter": "python",
   "pygments_lexer": "ipython3",
   "version": "3.8.10"
  },
  "orig_nbformat": 4,
  "vscode": {
   "interpreter": {
    "hash": "916dbcbb3f70747c44a77c7bcd40155683ae19c65e1c03b4aa3499c5328201f1"
   }
  }
 },
 "nbformat": 4,
 "nbformat_minor": 2
}
