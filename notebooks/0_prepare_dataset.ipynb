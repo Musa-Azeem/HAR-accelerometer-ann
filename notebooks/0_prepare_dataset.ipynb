{
 "cells": [
  {
   "attachments": {},
   "cell_type": "markdown",
   "metadata": {},
   "source": [
    "# Prepare Dataset\n",
    "- Read raw session files that are annoted (include .json file)\n",
    "- Save just x y z columns\n",
    "- Window the data into 500 datapoint long windows of xyz\n",
    "- Save xyz acc data and the labels to pytorch dataset files in:\n",
    "    - `pipeline/datasets/train_dataset` \n",
    "    - `pipeline/datasets/test_dataset` with specified `test_size` \n",
    "    - `pipeline/datasets/<session_name>-holdout_dataset` with specified sessions"
   ]
  },
  {
   "cell_type": "code",
   "execution_count": null,
   "metadata": {},
   "outputs": [],
   "source": [
    "import pandas as pd\n",
    "import numpy as np\n",
    "import torch\n",
    "import json\n",
    "from sklearn.model_selection import train_test_split\n",
    "import os\n",
    "from torch.utils.data import TensorDataset\n",
    "from tqdm import tqdm\n",
    "import plotly.express as px"
   ]
  },
  {
   "attachments": {},
   "cell_type": "markdown",
   "metadata": {},
   "source": [
    "# Process Raw Data"
   ]
  },
  {
   "cell_type": "code",
   "execution_count": null,
   "metadata": {},
   "outputs": [],
   "source": [
    "# make directories\n",
    "if not os.path.isdir('pipeline'):\n",
    "    os.system('mkdir -p pipeline')\n",
    "else:\n",
    "    print(\"pipeline directory already exists - delete or rename it\")"
   ]
  },
  {
   "cell_type": "code",
   "execution_count": null,
   "metadata": {},
   "outputs": [],
   "source": [
    "json_labels = {}\n",
    "\n",
    "total_length = 0\n",
    "nfiles = 71     # set to limit number of sessions to read\n",
    "i=0\n",
    "\n",
    "raw_dir = './data'\n",
    "\n",
    "os.system('mkdir pipeline/1_xyz')\n",
    "\n",
    "for subdir in os.listdir(raw_dir):\n",
    "    if os.path.exists(f'{raw_dir}/{subdir}/{subdir}_data.json'):\n",
    "        # json files with annotations exists - dataset is annotated\n",
    "        i += 1\n",
    "\n",
    "        # Read labels\n",
    "        with open(f'{raw_dir}/{subdir}/{subdir}_data.json', 'r') as f:\n",
    "            annot = json.load(f)\n",
    "            if not annot.get('puffs'):\n",
    "                print(f'Skipped {subdir}')\n",
    "                continue\n",
    "            json_labels[subdir] = annot\n",
    "        \n",
    "        # if dataset is annotated, read raw data file and save just x,y,z in 1_xyz dir\n",
    "        df = pd.read_csv(f'{raw_dir}/{subdir}/raw_data.csv', header=None, usecols=[2,3,4], names=['x','y','z'])\n",
    "        json_labels[subdir]['length'] = len(df)\n",
    "        total_length += len(df)\n",
    "        df.to_csv(f'pipeline/1_xyz/{subdir}.csv', index=False)\n",
    "\n",
    "        print(f'{subdir} - Length: {len(df)}')\n",
    "\n",
    "    else:\n",
    "        print(f'Skipped {subdir}')\n",
    "        \n",
    "    if i == nfiles:\n",
    "        break"
   ]
  },
  {
   "cell_type": "code",
   "execution_count": null,
   "metadata": {},
   "outputs": [],
   "source": [
    "# Window data\n",
    "\n",
    "os.system('mkdir pipeline/2_windowed')\n",
    "\n",
    "WIN_LEN = 500\n",
    "\n",
    "for i,file in enumerate(tqdm(os.listdir('pipeline/1_xyz/'))):\n",
    "    X = torch.from_numpy(pd.read_csv(f'pipeline/1_xyz/{file}').to_numpy())\n",
    "    x = X[:,0].unsqueeze(1)\n",
    "    y = X[:,1].unsqueeze(1)\n",
    "    z = X[:,2].unsqueeze(1)\n",
    "\n",
    "    w = 500 - 1\n",
    "\n",
    "    xs = [x[:-w]]\n",
    "    ys = [y[:-w]]\n",
    "    zs = [z[:-w]]\n",
    "\n",
    "    for i in range(1,w):\n",
    "        xs.append(x[i:i-w])\n",
    "        ys.append(y[i:i-w])\n",
    "        zs.append(z[i:i-w])\n",
    "\n",
    "    xs.append(x[w:])\n",
    "    ys.append(y[w:])\n",
    "    zs.append(z[w:])\n",
    "    xs = torch.cat(xs,axis=1).float()\n",
    "    ys = torch.cat(ys,axis=1).float()\n",
    "    zs = torch.cat(zs,axis=1).float()\n",
    "\n",
    "    X = torch.cat([xs,ys,zs],axis=1)\n",
    "\n",
    "    torch.save(X, f'pipeline/2_windowed/{file.split(\".\")[0]}.pt')"
   ]
  },
  {
   "cell_type": "code",
   "execution_count": null,
   "metadata": {},
   "outputs": [],
   "source": [
    "# Make Labels from annotations\n",
    "\n",
    "os.system('mkdir pipeline/3_labels')\n",
    "\n",
    "for i, (key, annot) in enumerate(json_labels.items()):\n",
    "    l = torch.zeros(annot['length'] - (WIN_LEN - 1))\n",
    "    for j in range(annot['start'], annot['end']):\n",
    "        for puff in annot['puffs']:\n",
    "            # If the midpoint of window j is within a puff, label the window as a puff\n",
    "            if j+WIN_LEN/2 >= puff['start'] and j+WIN_LEN/2 <= puff['end']:\n",
    "                l[j] = 1\n",
    "    \n",
    "    torch.save(l.reshape(-1,1), f'pipeline/3_labels/{key}.pt')"
   ]
  },
  {
   "cell_type": "code",
   "execution_count": null,
   "metadata": {},
   "outputs": [],
   "source": [
    "# visualize true labels on continous signal\n",
    "i = 14\n",
    "\n",
    "labels = torch.load(f'pipeline/3_labels/{i}.pt').flatten()\n",
    "\n",
    "df = pd.read_csv(f'pipeline/1_xyz/{i}.csv')\n",
    "df['label'] = np.pad(labels*10, (WIN_LEN//2-1,WIN_LEN//2), mode='constant', constant_values=0)\n",
    "\n",
    "fig = px.line(data_frame=df[::5])\n",
    "fig.show(renderer='browser')"
   ]
  },
  {
   "cell_type": "code",
   "execution_count": null,
   "metadata": {},
   "outputs": [],
   "source": [
    "# Prepare Pytorch Datasets\n",
    "holdout_sessions = ['4', '7', '9', '17', '25', '31', '35', '36', '51', '59']\n",
    "\n",
    "os.system('mkdir -p pipeline/holdouts')\n",
    "os.system('mkdir -p pipeline/4_all/')\n",
    "\n",
    "j = 0\n",
    "for i,file in enumerate(tqdm(os.listdir('pipeline/2_windowed'))):\n",
    "    # First, save <n_sessions_holdout> sessions\n",
    "    session_name = file.split('.')[0]\n",
    "    if session_name in holdout_sessions:\n",
    "        print(f'Saving holdout for session {session_name}')\n",
    "        X_holdout = torch.load(f'pipeline/2_windowed/{file}')\n",
    "        y_holdout = torch.load(f'pipeline/3_labels/{file}')\n",
    "        torch.save(TensorDataset(X_holdout, y_holdout), f'pipeline/holdouts/{session_name}-holdout.pt')\n",
    "        continue\n",
    "\n",
    "    # print(f'{i} - Saving windows of session {file.split(\".\")[0]}')\n",
    "    X = torch.load(f'pipeline/2_windowed/{file}')\n",
    "    y = torch.load(f'pipeline/3_labels/{file}')\n",
    "\n",
    "    # Save each window from every session in its own file in 'pipeline/4_all'\n",
    "    for (xi,yi) in zip(X,y):\n",
    "        torch.save((xi.clone(), yi.clone()), f'pipeline/4_all/{j}.pt')\n",
    "        j += 1"
   ]
  },
  {
   "cell_type": "code",
   "execution_count": null,
   "metadata": {},
   "outputs": [],
   "source": [
    "# Get total number of window-files\n",
    "n = len(os.listdir('pipeline/4_all'))\n",
    "n"
   ]
  },
  {
   "cell_type": "code",
   "execution_count": null,
   "metadata": {},
   "outputs": [],
   "source": [
    "# Train test split window-files into 'pipeline/4_all/train' and 'pipeline/4_all/test'\n",
    "test_size = 0.3\n",
    "\n",
    "os.system('mkdir -p pipeline/4_all/train')\n",
    "os.system('mkdir -p pipeline/4_all/test')\n",
    "\n",
    "# todo possibly stratify by splitting pos. and neg. samples and taking train/test samples from each\n",
    "(train_idx, test_idx) = train_test_split(range(n), test_size=test_size, shuffle=True, random_state=0)\n",
    "\n",
    "for i,idx in enumerate(tqdm(train_idx)):\n",
    "    os.system(f'mv pipeline/4_all/{idx}.pt pipeline/4_all/train/{i}.pt')\n",
    "\n",
    "for i,idx in enumerate(tqdm(test_idx)):\n",
    "    os.system(f'mv pipeline/4_all/{idx}.pt pipeline/4_all/test/{i}.pt')"
   ]
  }
 ],
 "metadata": {
  "kernelspec": {
   "display_name": "Python 3.10.6 64-bit",
   "language": "python",
   "name": "python3"
  },
  "language_info": {
   "codemirror_mode": {
    "name": "ipython",
    "version": 3
   },
   "file_extension": ".py",
   "mimetype": "text/x-python",
   "name": "python",
   "nbconvert_exporter": "python",
   "pygments_lexer": "ipython3",
   "version": "3.8.10"
  },
  "orig_nbformat": 4,
  "vscode": {
   "interpreter": {
    "hash": "916dbcbb3f70747c44a77c7bcd40155683ae19c65e1c03b4aa3499c5328201f1"
   }
  }
 },
 "nbformat": 4,
 "nbformat_minor": 2
}
