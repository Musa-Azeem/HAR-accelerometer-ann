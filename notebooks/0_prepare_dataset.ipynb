{
 "cells": [
  {
   "attachments": {},
   "cell_type": "markdown",
   "metadata": {},
   "source": [
    "# Prepare Dataset\n",
    "- Read raw session files that are annoted (include .json file)\n",
    "- Save just x y z columns\n",
    "- Window the data into 500 datapoint long windows of xyz\n",
    "- Save xyz acc data and the labels to pytorch dataset files in:\n",
    "    - `pipeline/datasets/train_dataset` \n",
    "    - `pipeline/datasets/test_dataset` with specified `test_size` \n",
    "    - `pipeline/datasets/<session_name>-holdout_dataset` with specified sessions"
   ]
  },
  {
   "cell_type": "code",
   "execution_count": null,
   "metadata": {},
   "outputs": [],
   "source": [
    "import pandas as pd\n",
    "import numpy as np\n",
    "import torch\n",
    "import json\n",
    "from sklearn.model_selection import train_test_split\n",
    "import os\n",
    "from torch.utils.data import TensorDataset\n",
    "from tqdm import tqdm\n",
    "import plotly.express as px"
   ]
  },
  {
   "attachments": {},
   "cell_type": "markdown",
   "metadata": {},
   "source": [
    "# Process Raw Data"
   ]
  },
  {
   "cell_type": "code",
   "execution_count": null,
   "metadata": {},
   "outputs": [],
   "source": [
    "# make directories\n",
    "dir = '../data/working-dataset'\n",
    "\n",
    "if not os.path.isdir(f'{dir}'):\n",
    "    os.system(f'mkdir -p {dir}')\n",
    "else:\n",
    "    print(f\"{dir} directory already exists - delete or rename it\")"
   ]
  },
  {
   "cell_type": "code",
   "execution_count": null,
   "metadata": {},
   "outputs": [],
   "source": [
    "# Get raw data\n",
    "os.system(f'cp -r ../data/data {dir}/0_raw')"
   ]
  },
  {
   "cell_type": "code",
   "execution_count": null,
   "metadata": {},
   "outputs": [],
   "source": [
    "DM_FACTOR = 1               # Factor to decimate recording (take every {dm_factor}th sample)\n",
    "WIN_LEN = 101               # Length of each sample window (usually ~ 5 seconds)\n",
    "nfiles = 1                  # set to limit number of sessions to read\n",
    "nholdout_sessions = 0       # Number of holdout sessions to save\n",
    "\n",
    "raw_dir = f'{dir}/0_raw/'\n",
    "os.system(f'mkdir {dir}/1_xyz')\n",
    "\n",
    "total_length = 0\n",
    "json_labels = {}\n",
    "i=0\n",
    "\n",
    "for subdir in os.listdir(raw_dir):\n",
    "    if os.path.exists(f'{raw_dir}/{subdir}/{subdir}_data.json'):\n",
    "        # json files with annotations exists - dataset is annotated\n",
    "        i += 1\n",
    "\n",
    "        # Read labels\n",
    "        with open(f'{raw_dir}/{subdir}/{subdir}_data.json', 'r') as f:\n",
    "            annot = json.load(f)\n",
    "            if not annot.get('puffs'):\n",
    "                print(f'Skipped {subdir}')\n",
    "                continue\n",
    "            json_labels[subdir] = annot\n",
    "        \n",
    "        # if dataset is annotated, read raw data file and save just x,y,z in 1_xyz dir\n",
    "        df = pd.read_csv(f'{raw_dir}/{subdir}/raw_data.csv', header=None, usecols=[2,3,4], names=['x','y','z'])\n",
    "        json_labels[subdir]['length'] = len(df)\n",
    "        total_length += len(df)\n",
    "        df.to_csv(f'{dir}/1_xyz/{subdir}.csv', index=False)\n",
    "\n",
    "        print(f'{subdir} - Length: {len(df)}')\n",
    "\n",
    "    else:\n",
    "        print(f'Skipped {subdir}')\n",
    "        \n",
    "    if i == nfiles:\n",
    "        break"
   ]
  },
  {
   "cell_type": "code",
   "execution_count": null,
   "metadata": {},
   "outputs": [],
   "source": [
    "# Window data\n",
    "\n",
    "os.system(f'mkdir {dir}/2_windowed')\n",
    "\n",
    "\n",
    "for i,file in enumerate(tqdm(os.listdir(f'{dir}/1_xyz/'))):\n",
    "    X = torch.from_numpy(pd.read_csv(f'{dir}/1_xyz/{file}').to_numpy())\n",
    "    x = X[:,0].unsqueeze(1)\n",
    "    y = X[:,1].unsqueeze(1)\n",
    "    z = X[:,2].unsqueeze(1)\n",
    "\n",
    "    w = 500 - 1\n",
    "\n",
    "    xs = [x[:-w]]\n",
    "    ys = [y[:-w]]\n",
    "    zs = [z[:-w]]\n",
    "\n",
    "    for i in range(1,w):\n",
    "        xs.append(x[i:i-w])\n",
    "        ys.append(y[i:i-w])\n",
    "        zs.append(z[i:i-w])\n",
    "\n",
    "    xs.append(x[w:])\n",
    "    ys.append(y[w:])\n",
    "    zs.append(z[w:])\n",
    "    xs = torch.cat(xs,axis=1).float()\n",
    "    ys = torch.cat(ys,axis=1).float()\n",
    "    zs = torch.cat(zs,axis=1).float()\n",
    "\n",
    "    X = torch.cat([xs,ys,zs],axis=1)\n",
    "\n",
    "    torch.save(X, f'{dir}/2_windowed/{file.split(\".\")[0]}.pt')"
   ]
  },
  {
   "cell_type": "code",
   "execution_count": null,
   "metadata": {},
   "outputs": [],
   "source": [
    "# Make Labels from annotations\n",
    "\n",
    "os.system(f'mkdir {dir}/3_labels')\n",
    "\n",
    "for i, (key, annot) in enumerate(json_labels.items()):\n",
    "    l = torch.zeros(annot['length'] - (WIN_LEN - 1))\n",
    "    for j in range(annot['start'], annot['end']):\n",
    "        for puff in annot['puffs']:\n",
    "            # If the midpoint of window j is within a puff, label the window as a puff\n",
    "            if j+WIN_LEN/2 >= puff['start'] and j+WIN_LEN/2 <= puff['end']:\n",
    "                l[j] = 1\n",
    "    \n",
    "    torch.save(l.reshape(-1,1), f'{dir}/3_labels/{key}.pt')"
   ]
  },
  {
   "cell_type": "code",
   "execution_count": null,
   "metadata": {},
   "outputs": [],
   "source": [
    "# visualize true labels on continous signal\n",
    "# i = 14\n",
    "\n",
    "# labels = torch.load(f'{dir}/3_labels/{i}.pt').flatten()\n",
    "\n",
    "# df = pd.read_csv(f'{dir}/1_xyz/{i}.csv')\n",
    "# df['label'] = np.pad(labels*10, (WIN_LEN//2-1,WIN_LEN//2), mode='constant', constant_values=0)\n",
    "\n",
    "# fig = px.line(data_frame=df[::5])\n",
    "# fig.show(renderer='browser')"
   ]
  },
  {
   "cell_type": "code",
   "execution_count": null,
   "metadata": {},
   "outputs": [],
   "source": [
    "# Prepare Pytorch Datasets\n",
    "holdout_sessions = #TODO use random choice of nholdout_sessions from 1_xyz #[8,27]#['4', '7', '9', '17', '25', '31', '35', '36', '51', '59']\n",
    "\n",
    "\n",
    "os.system(f'mkdir -p {dir}/holdouts')\n",
    "os.system(f'mkdir -p {dir}/4_all/')\n",
    "\n",
    "j = 0\n",
    "y_true = []\n",
    "pbar = tqdm(os.listdir(f'{dir}/2_windowed'))\n",
    "for i,file in enumerate(pbar):\n",
    "    # First, save <n_sessions_holdout> sessions\n",
    "    session_name = file.split('.')[0]\n",
    "    if int(session_name) in holdout_sessions or session_name in holdout_sessions:\n",
    "        pbar.set_description(f'Saving holdout for session {session_name}')\n",
    "        X_holdout = torch.load(f'{dir}/2_windowed/{file}')\n",
    "        y_holdout = torch.load(f'{dir}/3_labels/{file}')\n",
    "        torch.save(TensorDataset(X_holdout, y_holdout), f'{dir}/holdouts/{session_name}-holdout.pt')\n",
    "        continue\n",
    "\n",
    "    pbar.set_description(f'Saving windows of session {session_name}')\n",
    "    X = torch.load(f'{dir}/2_windowed/{file}')\n",
    "    y = torch.load(f'{dir}/3_labels/{file}')\n",
    "\n",
    "    # Save each window from every session in its own file in '{dir}/4_all'\n",
    "    for (xi,yi) in zip(X,y):\n",
    "        torch.save((xi.clone(), yi.clone()), f'{dir}/4_all/{j}.pt')\n",
    "        y_true.append(yi.item())\n",
    "        j += 1\n",
    "\n",
    "y_true = torch.tensor(y_true).reshape(-1,1)"
   ]
  },
  {
   "cell_type": "code",
   "execution_count": null,
   "metadata": {},
   "outputs": [],
   "source": [
    "# Get total number of window-files\n",
    "n = len(os.listdir(f'{dir}/4_all'))\n",
    "n"
   ]
  },
  {
   "cell_type": "code",
   "execution_count": null,
   "metadata": {},
   "outputs": [],
   "source": [
    "# Train test split window-files into '{dir}/4_all/train' and '{dir}/4_all/test'\n",
    "test_size = 0.3\n",
    "\n",
    "os.system(f'mkdir -p {dir}/4_all/train')\n",
    "os.system(f'mkdir -p {dir}/4_all/test')\n",
    "\n",
    "# todo possibly stratify by splitting pos. and neg. samples and taking train/test samples from each\n",
    "(train_idx, test_idx) = train_test_split(range(n), test_size=test_size, shuffle=True, random_state=0)\n",
    "\n",
    "for i,idx in enumerate(tqdm(train_idx)):\n",
    "    os.system(f'mv {dir}/4_all/{idx}.pt {dir}/4_all/train/{i}.pt')\n",
    "    \n",
    "\n",
    "for i,idx in enumerate(tqdm(test_idx)):\n",
    "    os.system(f'mv {dir}/4_all/{idx}.pt {dir}/4_all/test/{i}.pt')"
   ]
  },
  {
   "cell_type": "code",
   "execution_count": null,
   "metadata": {},
   "outputs": [],
   "source": [
    "os.system(f'mkdir {dir}/y_true')\n",
    "torch.save(y_true[train_idx], f'{dir}/y_true/y_train.pt')\n",
    "torch.save(y_true[test_idx], f'{dir}/y_true/y_test.pt')"
   ]
  },
  {
   "cell_type": "code",
   "execution_count": null,
   "metadata": {},
   "outputs": [],
   "source": [
    "# Save info\n",
    "info = {\n",
    "    'directories': {\n",
    "        '1_xyz': f'x, y, z columns of raw data - sampled at {100/DM_FACTOR} Hz',\n",
    "        '2_windowed': f'pytorch files of {WIN_LEN} datapoint windows for each session [x_0, ... , x_499, y_0, ... , y_499, z_0, ... , z_499]',\n",
    "        '3_labels': 'pytorch files of sessions - windows labeled 0 or 1 [[0], [0], [1], ... ]',\n",
    "        '4_all/test': f'pytorch files of individual windows and their labels - {(test_size)*100}% of samples',\n",
    "        '4_all/train': f'pytorch files of individual windows and their labels - {(1-test_size)*100}% of samples',\n",
    "        'holdouts': 'pytorch dataset files of whole sessions and their labels'\n",
    "    },\n",
    "    'total_sessions_included': nfiles,\n",
    "    'n_holdout_sessions': nholdout_sessions,\n",
    "    'holdout_sessions': holdout_sessions,\n",
    "}\n",
    "\n",
    "json.dump(info, open(f'{dir}/info.json'))"
   ]
  }
 ],
 "metadata": {
  "kernelspec": {
   "display_name": "Python 3.10.6 64-bit",
   "language": "python",
   "name": "python3"
  },
  "language_info": {
   "codemirror_mode": {
    "name": "ipython",
    "version": 3
   },
   "file_extension": ".py",
   "mimetype": "text/x-python",
   "name": "python",
   "nbconvert_exporter": "python",
   "pygments_lexer": "ipython3",
   "version": "3.10.6"
  },
  "orig_nbformat": 4,
  "vscode": {
   "interpreter": {
    "hash": "916dbcbb3f70747c44a77c7bcd40155683ae19c65e1c03b4aa3499c5328201f1"
   }
  }
 },
 "nbformat": 4,
 "nbformat_minor": 2
}
