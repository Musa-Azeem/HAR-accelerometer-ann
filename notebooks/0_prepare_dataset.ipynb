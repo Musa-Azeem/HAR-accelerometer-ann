{
 "cells": [
  {
   "attachments": {},
   "cell_type": "markdown",
   "metadata": {},
   "source": [
    "# Prepare Dataset\n",
    "- Read raw session files that are annoted (include .json file)\n",
    "- Save just x y z columns\n",
    "- Window the data into 500 datapoint long windows of xyz\n",
    "- Save xyz acc data and the labels to pytorch dataset files in:\n",
    "    - `pipeline/datasets/train_dataset` \n",
    "    - `pipeline/datasets/test_dataset` with specified `test_size` \n",
    "    - `pipeline/datasets/<session_name>-holdout_dataset` with specified sessions"
   ]
  },
  {
   "cell_type": "code",
   "execution_count": 2,
   "metadata": {},
   "outputs": [],
   "source": [
    "import pandas as pd\n",
    "import numpy as np\n",
    "import torch\n",
    "import json\n",
    "from sklearn.model_selection import train_test_split\n",
    "import os\n",
    "from torch.utils.data import TensorDataset\n",
    "from tqdm import tqdm\n",
    "import plotly.express as px"
   ]
  },
  {
   "attachments": {},
   "cell_type": "markdown",
   "metadata": {},
   "source": [
    "# Process Raw Data"
   ]
  },
  {
   "cell_type": "code",
   "execution_count": 3,
   "metadata": {},
   "outputs": [],
   "source": [
    "# make directories\n",
    "dir = '../test-dataset'\n",
    "\n",
    "if not os.path.isdir(f'{dir}'):\n",
    "    os.system(f'mkdir -p {dir}')\n",
    "else:\n",
    "    print(f\"{dir} directory already exists - delete or rename it\")"
   ]
  },
  {
   "cell_type": "code",
   "execution_count": 5,
   "metadata": {},
   "outputs": [
    {
     "name": "stderr",
     "output_type": "stream",
     "text": [
      "mkdir: cannot create directory ‘../test-dataset/1_xyz’: File exists\n"
     ]
    },
    {
     "name": "stdout",
     "output_type": "stream",
     "text": [
      "Skipped 70\n",
      "66 - Length: 192500\n",
      "57 - Length: 206500\n",
      "41 - Length: 133500\n"
     ]
    }
   ],
   "source": [
    "json_labels = {}\n",
    "\n",
    "total_length = 0\n",
    "nfiles = 3     # set to limit number of sessions to read\n",
    "i=0\n",
    "\n",
    "raw_dir = f'../smoking_dataset_100Hz/0_raw/'\n",
    "\n",
    "os.system(f'mkdir {dir}/1_xyz')\n",
    "\n",
    "for subdir in os.listdir(raw_dir):\n",
    "    if os.path.exists(f'{raw_dir}/{subdir}/{subdir}_data.json'):\n",
    "        # json files with annotations exists - dataset is annotated\n",
    "        i += 1\n",
    "\n",
    "        # Read labels\n",
    "        with open(f'{raw_dir}/{subdir}/{subdir}_data.json', 'r') as f:\n",
    "            annot = json.load(f)\n",
    "            if not annot.get('puffs'):\n",
    "                print(f'Skipped {subdir}')\n",
    "                continue\n",
    "            json_labels[subdir] = annot\n",
    "        \n",
    "        # if dataset is annotated, read raw data file and save just x,y,z in 1_xyz dir\n",
    "        df = pd.read_csv(f'{raw_dir}/{subdir}/raw_data.csv', header=None, usecols=[2,3,4], names=['x','y','z'])\n",
    "        json_labels[subdir]['length'] = len(df)\n",
    "        total_length += len(df)\n",
    "        df.to_csv(f'{dir}/1_xyz/{subdir}.csv', index=False)\n",
    "\n",
    "        print(f'{subdir} - Length: {len(df)}')\n",
    "\n",
    "    else:\n",
    "        print(f'Skipped {subdir}')\n",
    "        \n",
    "    if i == nfiles:\n",
    "        break"
   ]
  },
  {
   "cell_type": "code",
   "execution_count": 6,
   "metadata": {},
   "outputs": [
    {
     "name": "stderr",
     "output_type": "stream",
     "text": [
      "100%|██████████| 3/3 [00:06<00:00,  2.21s/it]\n"
     ]
    }
   ],
   "source": [
    "# Window data\n",
    "\n",
    "os.system(f'mkdir {dir}/2_windowed')\n",
    "\n",
    "WIN_LEN = 500\n",
    "\n",
    "for i,file in enumerate(tqdm(os.listdir(f'{dir}/1_xyz/'))):\n",
    "    X = torch.from_numpy(pd.read_csv(f'{dir}/1_xyz/{file}').to_numpy())\n",
    "    x = X[:,0].unsqueeze(1)\n",
    "    y = X[:,1].unsqueeze(1)\n",
    "    z = X[:,2].unsqueeze(1)\n",
    "\n",
    "    w = 500 - 1\n",
    "\n",
    "    xs = [x[:-w]]\n",
    "    ys = [y[:-w]]\n",
    "    zs = [z[:-w]]\n",
    "\n",
    "    for i in range(1,w):\n",
    "        xs.append(x[i:i-w])\n",
    "        ys.append(y[i:i-w])\n",
    "        zs.append(z[i:i-w])\n",
    "\n",
    "    xs.append(x[w:])\n",
    "    ys.append(y[w:])\n",
    "    zs.append(z[w:])\n",
    "    xs = torch.cat(xs,axis=1).float()\n",
    "    ys = torch.cat(ys,axis=1).float()\n",
    "    zs = torch.cat(zs,axis=1).float()\n",
    "\n",
    "    X = torch.cat([xs,ys,zs],axis=1)\n",
    "\n",
    "    torch.save(X, f'{dir}/2_windowed/{file.split(\".\")[0]}.pt')"
   ]
  },
  {
   "cell_type": "code",
   "execution_count": 7,
   "metadata": {},
   "outputs": [],
   "source": [
    "# Make Labels from annotations\n",
    "\n",
    "os.system(f'mkdir {dir}/3_labels')\n",
    "\n",
    "for i, (key, annot) in enumerate(json_labels.items()):\n",
    "    l = torch.zeros(annot['length'] - (WIN_LEN - 1))\n",
    "    for j in range(annot['start'], annot['end']):\n",
    "        for puff in annot['puffs']:\n",
    "            # If the midpoint of window j is within a puff, label the window as a puff\n",
    "            if j+WIN_LEN/2 >= puff['start'] and j+WIN_LEN/2 <= puff['end']:\n",
    "                l[j] = 1\n",
    "    \n",
    "    torch.save(l.reshape(-1,1), f'{dir}/3_labels/{key}.pt')"
   ]
  },
  {
   "cell_type": "code",
   "execution_count": 8,
   "metadata": {},
   "outputs": [
    {
     "ename": "FileNotFoundError",
     "evalue": "[Errno 2] No such file or directory: '../test-dataset/3_labels/14.pt'",
     "output_type": "error",
     "traceback": [
      "\u001b[0;31m---------------------------------------------------------------------------\u001b[0m",
      "\u001b[0;31mFileNotFoundError\u001b[0m                         Traceback (most recent call last)",
      "Cell \u001b[0;32mIn[8], line 4\u001b[0m\n\u001b[1;32m      1\u001b[0m \u001b[39m# visualize true labels on continous signal\u001b[39;00m\n\u001b[1;32m      2\u001b[0m i \u001b[39m=\u001b[39m \u001b[39m14\u001b[39m\n\u001b[0;32m----> 4\u001b[0m labels \u001b[39m=\u001b[39m torch\u001b[39m.\u001b[39;49mload(\u001b[39mf\u001b[39;49m\u001b[39m'\u001b[39;49m\u001b[39m{\u001b[39;49;00m\u001b[39mdir\u001b[39;49m\u001b[39m}\u001b[39;49;00m\u001b[39m/3_labels/\u001b[39;49m\u001b[39m{\u001b[39;49;00mi\u001b[39m}\u001b[39;49;00m\u001b[39m.pt\u001b[39;49m\u001b[39m'\u001b[39;49m)\u001b[39m.\u001b[39mflatten()\n\u001b[1;32m      6\u001b[0m df \u001b[39m=\u001b[39m pd\u001b[39m.\u001b[39mread_csv(\u001b[39mf\u001b[39m\u001b[39m'\u001b[39m\u001b[39m{\u001b[39;00m\u001b[39mdir\u001b[39m\u001b[39m}\u001b[39;00m\u001b[39m/1_xyz/\u001b[39m\u001b[39m{\u001b[39;00mi\u001b[39m}\u001b[39;00m\u001b[39m.csv\u001b[39m\u001b[39m'\u001b[39m)\n\u001b[1;32m      7\u001b[0m df[\u001b[39m'\u001b[39m\u001b[39mlabel\u001b[39m\u001b[39m'\u001b[39m] \u001b[39m=\u001b[39m np\u001b[39m.\u001b[39mpad(labels\u001b[39m*\u001b[39m\u001b[39m10\u001b[39m, (WIN_LEN\u001b[39m/\u001b[39m\u001b[39m/\u001b[39m\u001b[39m2\u001b[39m\u001b[39m-\u001b[39m\u001b[39m1\u001b[39m,WIN_LEN\u001b[39m/\u001b[39m\u001b[39m/\u001b[39m\u001b[39m2\u001b[39m), mode\u001b[39m=\u001b[39m\u001b[39m'\u001b[39m\u001b[39mconstant\u001b[39m\u001b[39m'\u001b[39m, constant_values\u001b[39m=\u001b[39m\u001b[39m0\u001b[39m)\n",
      "File \u001b[0;32m~/.local/lib/python3.8/site-packages/torch/serialization.py:791\u001b[0m, in \u001b[0;36mload\u001b[0;34m(f, map_location, pickle_module, weights_only, **pickle_load_args)\u001b[0m\n\u001b[1;32m    788\u001b[0m \u001b[39mif\u001b[39;00m \u001b[39m'\u001b[39m\u001b[39mencoding\u001b[39m\u001b[39m'\u001b[39m \u001b[39mnot\u001b[39;00m \u001b[39min\u001b[39;00m pickle_load_args\u001b[39m.\u001b[39mkeys():\n\u001b[1;32m    789\u001b[0m     pickle_load_args[\u001b[39m'\u001b[39m\u001b[39mencoding\u001b[39m\u001b[39m'\u001b[39m] \u001b[39m=\u001b[39m \u001b[39m'\u001b[39m\u001b[39mutf-8\u001b[39m\u001b[39m'\u001b[39m\n\u001b[0;32m--> 791\u001b[0m \u001b[39mwith\u001b[39;00m _open_file_like(f, \u001b[39m'\u001b[39;49m\u001b[39mrb\u001b[39;49m\u001b[39m'\u001b[39;49m) \u001b[39mas\u001b[39;00m opened_file:\n\u001b[1;32m    792\u001b[0m     \u001b[39mif\u001b[39;00m _is_zipfile(opened_file):\n\u001b[1;32m    793\u001b[0m         \u001b[39m# The zipfile reader is going to advance the current file position.\u001b[39;00m\n\u001b[1;32m    794\u001b[0m         \u001b[39m# If we want to actually tail call to torch.jit.load, we need to\u001b[39;00m\n\u001b[1;32m    795\u001b[0m         \u001b[39m# reset back to the original position.\u001b[39;00m\n\u001b[1;32m    796\u001b[0m         orig_position \u001b[39m=\u001b[39m opened_file\u001b[39m.\u001b[39mtell()\n",
      "File \u001b[0;32m~/.local/lib/python3.8/site-packages/torch/serialization.py:271\u001b[0m, in \u001b[0;36m_open_file_like\u001b[0;34m(name_or_buffer, mode)\u001b[0m\n\u001b[1;32m    269\u001b[0m \u001b[39mdef\u001b[39;00m \u001b[39m_open_file_like\u001b[39m(name_or_buffer, mode):\n\u001b[1;32m    270\u001b[0m     \u001b[39mif\u001b[39;00m _is_path(name_or_buffer):\n\u001b[0;32m--> 271\u001b[0m         \u001b[39mreturn\u001b[39;00m _open_file(name_or_buffer, mode)\n\u001b[1;32m    272\u001b[0m     \u001b[39melse\u001b[39;00m:\n\u001b[1;32m    273\u001b[0m         \u001b[39mif\u001b[39;00m \u001b[39m'\u001b[39m\u001b[39mw\u001b[39m\u001b[39m'\u001b[39m \u001b[39min\u001b[39;00m mode:\n",
      "File \u001b[0;32m~/.local/lib/python3.8/site-packages/torch/serialization.py:252\u001b[0m, in \u001b[0;36m_open_file.__init__\u001b[0;34m(self, name, mode)\u001b[0m\n\u001b[1;32m    251\u001b[0m \u001b[39mdef\u001b[39;00m \u001b[39m__init__\u001b[39m(\u001b[39mself\u001b[39m, name, mode):\n\u001b[0;32m--> 252\u001b[0m     \u001b[39msuper\u001b[39m()\u001b[39m.\u001b[39m\u001b[39m__init__\u001b[39m(\u001b[39mopen\u001b[39;49m(name, mode))\n",
      "\u001b[0;31mFileNotFoundError\u001b[0m: [Errno 2] No such file or directory: '../test-dataset/3_labels/14.pt'"
     ]
    }
   ],
   "source": [
    "# visualize true labels on continous signal\n",
    "i = 14\n",
    "\n",
    "labels = torch.load(f'{dir}/3_labels/{i}.pt').flatten()\n",
    "\n",
    "df = pd.read_csv(f'{dir}/1_xyz/{i}.csv')\n",
    "df['label'] = np.pad(labels*10, (WIN_LEN//2-1,WIN_LEN//2), mode='constant', constant_values=0)\n",
    "\n",
    "fig = px.line(data_frame=df[::5])\n",
    "fig.show(renderer='browser')"
   ]
  },
  {
   "cell_type": "code",
   "execution_count": 9,
   "metadata": {},
   "outputs": [
    {
     "name": "stderr",
     "output_type": "stream",
     "text": [
      "100%|██████████| 3/3 [00:57<00:00, 19.12s/it]\n"
     ]
    }
   ],
   "source": [
    "# Prepare Pytorch Datasets\n",
    "holdout_sessions = [57]#['4', '7', '9', '17', '25', '31', '35', '36', '51', '59']\n",
    "\n",
    "os.system(f'mkdir -p {dir}/holdouts')\n",
    "os.system(f'mkdir -p {dir}/4_all/')\n",
    "\n",
    "j = 0\n",
    "for i,file in enumerate(tqdm(os.listdir(f'{dir}/2_windowed'))):\n",
    "    # First, save <n_sessions_holdout> sessions\n",
    "    print(i)\n",
    "    session_name = file.split('.')[0]\n",
    "    if session_name in holdout_sessions:\n",
    "        print(f'Saving holdout for session {session_name}')\n",
    "        X_holdout = torch.load(f'{dir}/2_windowed/{file}')\n",
    "        y_holdout = torch.load(f'{dir}/3_labels/{file}')\n",
    "        torch.save(TensorDataset(X_holdout, y_holdout), f'{dir}/holdouts/{session_name}-holdout.pt')\n",
    "        continue\n",
    "\n",
    "    # print(f'{i} - Saving windows of session {file.split(\".\")[0]}')\n",
    "    X = torch.load(f'{dir}/2_windowed/{file}')\n",
    "    y = torch.load(f'{dir}/3_labels/{file}')\n",
    "\n",
    "    # Save each window from every session in its own file in '{dir}/4_all'\n",
    "    for (xi,yi) in zip(X,y):\n",
    "        torch.save((xi.clone(), yi.clone()), f'{dir}/4_all/{j}.pt')\n",
    "        j += 1"
   ]
  },
  {
   "cell_type": "code",
   "execution_count": null,
   "metadata": {},
   "outputs": [],
   "source": [
    "# Get total number of window-files\n",
    "n = len(os.listdir(f'{dir}/4_all'))\n",
    "n"
   ]
  },
  {
   "cell_type": "code",
   "execution_count": null,
   "metadata": {},
   "outputs": [],
   "source": [
    "# Train test split window-files into '{dir}/4_all/train' and '{dir}/4_all/test'\n",
    "test_size = 0.3\n",
    "\n",
    "os.system(f'mkdir -p {dir}/4_all/train')\n",
    "os.system(f'mkdir -p {dir}/4_all/test')\n",
    "\n",
    "# todo possibly stratify by splitting pos. and neg. samples and taking train/test samples from each\n",
    "(train_idx, test_idx) = train_test_split(range(n), test_size=test_size, shuffle=True, random_state=0)\n",
    "\n",
    "for i,idx in enumerate(tqdm(train_idx)):\n",
    "    os.system(f'mv {dir}/4_all/{idx}.pt {dir}/4_all/train/{i}.pt')\n",
    "\n",
    "for i,idx in enumerate(tqdm(test_idx)):\n",
    "    os.system(f'mv {dir}/4_all/{idx}.pt {dir}/4_all/test/{i}.pt')"
   ]
  }
 ],
 "metadata": {
  "kernelspec": {
   "display_name": "Python 3.10.6 64-bit",
   "language": "python",
   "name": "python3"
  },
  "language_info": {
   "codemirror_mode": {
    "name": "ipython",
    "version": 3
   },
   "file_extension": ".py",
   "mimetype": "text/x-python",
   "name": "python",
   "nbconvert_exporter": "python",
   "pygments_lexer": "ipython3",
   "version": "3.8.10"
  },
  "orig_nbformat": 4,
  "vscode": {
   "interpreter": {
    "hash": "916dbcbb3f70747c44a77c7bcd40155683ae19c65e1c03b4aa3499c5328201f1"
   }
  }
 },
 "nbformat": 4,
 "nbformat_minor": 2
}
