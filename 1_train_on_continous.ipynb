{
 "cells": [
  {
   "cell_type": "code",
   "execution_count": 1,
   "metadata": {},
   "outputs": [
    {
     "name": "stderr",
     "output_type": "stream",
     "text": [
      "/home/mmazeem/.local/lib/python3.10/site-packages/tqdm/auto.py:21: TqdmWarning: IProgress not found. Please update jupyter and ipywidgets. See https://ipywidgets.readthedocs.io/en/stable/user_install.html\n",
      "  from .autonotebook import tqdm as notebook_tqdm\n"
     ]
    }
   ],
   "source": [
    "import numpy as np\n",
    "import torch\n",
    "from torch import nn\n",
    "import seaborn as sns\n",
    "import matplotlib.pyplot as plt\n",
    "import os\n",
    "from torch.utils.data import Dataset, DataLoader\n",
    "from sklearn.metrics import confusion_matrix\n",
    "from tqdm import tqdm"
   ]
  },
  {
   "cell_type": "markdown",
   "metadata": {},
   "source": [
    "# Train Model"
   ]
  },
  {
   "attachments": {},
   "cell_type": "markdown",
   "metadata": {},
   "source": [
    "### Dataloader"
   ]
  },
  {
   "cell_type": "code",
   "execution_count": 2,
   "metadata": {},
   "outputs": [],
   "source": [
    "class SmokingDataset(Dataset):\n",
    "    def __init__(self, dir):\n",
    "        self.dir = dir\n",
    "    \n",
    "    def __len__(self):\n",
    "        return len(os.listdir(self.dir))\n",
    "    \n",
    "    def __getitem__(self, key):\n",
    "        if isinstance(key, slice):\n",
    "            stop, start, step = key.indices(len(self))\n",
    "\n",
    "            length = len(range(stop, start, step))\n",
    "            X = torch.zeros([length, 300])\n",
    "            y = torch.zeros([length, 1])\n",
    "\n",
    "            for j,i in enumerate(range(stop, start, step)):\n",
    "                xi, yi = self[i]\n",
    "                X[j] = xi\n",
    "                y[j] = yi\n",
    "\n",
    "            return (X, y)\n",
    "\n",
    "        elif isinstance(key, int):\n",
    "            X, y = torch.load(os.path.join(self.dir, f'{key}.pt'))\n",
    "            return (X.flatten(), y)"
   ]
  },
  {
   "cell_type": "code",
   "execution_count": 3,
   "metadata": {},
   "outputs": [],
   "source": [
    "train_dataset = SmokingDataset('pipeline/4_all/train/')\n",
    "test_dataset = SmokingDataset('pipeline/4_all/test/')\n",
    "\n",
    "train_length = len(train_dataset)\n",
    "test_length = len(test_dataset)"
   ]
  },
  {
   "cell_type": "code",
   "execution_count": 4,
   "metadata": {},
   "outputs": [
    {
     "name": "stdout",
     "output_type": "stream",
     "text": [
      "Using cuda device\n"
     ]
    }
   ],
   "source": [
    "# Get cpu or gpu device for training\n",
    "device = \"cuda\" if torch.cuda.is_available() else \"mps\" if torch.backends.mps.is_available() else \"cpu\"\n",
    "print(f\"Using {device} device\")"
   ]
  },
  {
   "cell_type": "code",
   "execution_count": 5,
   "metadata": {},
   "outputs": [],
   "source": [
    "# Define Model\n",
    "n_hl = 10\n",
    "\n",
    "class MLP(nn.Module):\n",
    "    def __init__(self):\n",
    "        super().__init__()\n",
    "        self.linear_relu_stack = nn.Sequential(\n",
    "            nn.Linear(300, n_hl),\n",
    "            nn.ReLU(),\n",
    "            nn.Linear(n_hl, 1)\n",
    "        )\n",
    "    \n",
    "    def forward(self, x):\n",
    "        logits = self.linear_relu_stack(x)\n",
    "        return logits  \n",
    "\n",
    "model = MLP().to(device)\n",
    "    \n",
    "criterion = nn.BCEWithLogitsLoss()\n",
    "optimizer = torch.optim.Adam(model.parameters(), lr=0.001)"
   ]
  },
  {
   "cell_type": "code",
   "execution_count": 29,
   "metadata": {},
   "outputs": [],
   "source": [
    "# Define training parameters and preapre dataloaders from saved datasets\n",
    "\n",
    "epochs = 2\n",
    "batch_size = 64\n",
    "\n",
    "losses = []\n",
    "test_losses = []\n",
    "\n",
    "train_dataloader = DataLoader(train_dataset, batch_size=batch_size)\n",
    "test_dataloader = DataLoader(test_dataset, batch_size=907)    # batches for memory (907 is magic number that leads to close to whole ratio between n_train_batches and n_test_batches)\n",
    "\n",
    "n_train_batches = len(train_dataloader)\n",
    "n_test_batches = len(test_dataloader)\n",
    "\n",
    "os.system('mkdir -p model results/training/train_losses results/training/test_losses');"
   ]
  },
  {
   "cell_type": "code",
   "execution_count": 30,
   "metadata": {},
   "outputs": [
    {
     "name": "stdout",
     "output_type": "stream",
     "text": [
      "Epoch 0 - Training\n"
     ]
    },
    {
     "name": "stderr",
     "output_type": "stream",
     "text": [
      " 24%|██▎       | 3148/13393 [01:13<04:15, 40.15it/s]"
     ]
    }
   ],
   "source": [
    "# Train\n",
    "for epoch in range(epochs):\n",
    "\n",
    "    print(f'Epoch {epoch} - Training')\n",
    "    model.train()\n",
    "    for X_train, y_train in tqdm(train_dataloader):\n",
    "\n",
    "        X_train = X_train.to(device)\n",
    "        y_train = y_train.to(device)\n",
    "\n",
    "        # Forward Pass\n",
    "        logits = model(X_train)\n",
    "        loss = criterion(logits, y_train)\n",
    "\n",
    "        # Backward Pass\n",
    "        optimizer.zero_grad()\n",
    "        loss.backward()\n",
    "        optimizer.step()\n",
    "\n",
    "        losses.append(loss.item())\n",
    "    \n",
    "    print(f'loss: {sum(losses[-n_train_batches:])/n_train_batches}')\n",
    "\n",
    "\n",
    "    ## Test\n",
    "    print(f'Epoch {epoch} - Testing')\n",
    "    model.eval()\n",
    "\n",
    "    preds = []\n",
    "    n_correct = 0\n",
    "\n",
    "    for X_test, y_test in tqdm(test_dataloader):\n",
    "        X_test = X_test.to(device)\n",
    "        y_test = y_test.to(device)\n",
    "\n",
    "        logits = model(X_test)\n",
    "        pred = torch.round(nn.Sigmoid()(logits))\n",
    "\n",
    "        n_correct += sum(y_test == pred)\n",
    "        preds += pred.flatten().tolist()\n",
    "        loss = criterion(logits, y_test)\n",
    "        test_losses.append(loss.item())\n",
    "\n",
    "\n",
    "    accuracy = (n_correct / test_length).item()\n",
    "    print(f'Test Accuracy: {100*accuracy:.4}%')\n",
    "    print(f'Test Loss: {sum(test_losses[-n_test_batches:])/n_test_batches}')\n",
    "\n",
    "    os.system('mkdir model')\n",
    "    torch.save(model.state_dict(), f'model/model-epoch-{epoch}.pt')\n",
    "    torch.save(losses, f'results/training/train_losses/train_losses-epoch-{epoch}.pt')\n",
    "    torch.save(test_losses, f'results/training/test_losses/test_losses-epoch-{epoch}.pt')"
   ]
  },
  {
   "cell_type": "code",
   "execution_count": null,
   "metadata": {},
   "outputs": [],
   "source": [
    "# Plot loss curve at specified resolution (save losses and plot)\n",
    "os.system('mkdir -p results/figures')\n",
    "\n",
    "epoch_toplot = epochs\n",
    "losses_toplot = torch.load(f'results/training/train_losses/train_losses-epoch-{epoch_toplot}.pt')\n",
    "test_losses_toplot = torch.load(f'results/training/test_losses/test_losses-epoch-{epoch_toplot}.pt')\n",
    "\n",
    "res = 0\n",
    "\n",
    "factor = round(len(losses_toplot) / len(test_losses_toplot))\n",
    "test_losses_toplot = np.pad(np.pad(np.array(test_losses_toplot).reshape(-1, 1), ((0,0), (0,factor-1)), mode='edge').flatten(), (0, len(losses_toplot) - len(test_losses_toplot)*factor), mode='edge')\n",
    "\n",
    "fig, ax = plt.subplots(1)\n",
    "ax.plot(torch.tensor(losses_toplot)[:len(losses_toplot)-len(losses_toplot)%res].view(-1,res).mean(1), label='Train Loss')\n",
    "ax.plot(torch.tensor(test_losses_toplot)[:len(test_losses_toplot)-len(test_losses_toplot)%res].view(-1,res).mean(1), label='Test Loss')\n",
    "ax.set_ylabel(\"Loss\")\n",
    "ax.set_xticklabels([])\n",
    "ax.legend()\n",
    "ax.set_title('Train and Test Loss over 10 Epochs')\n",
    "fig.set_size_inches(16, 9)\n",
    "plt.savefig('results/figures/train_test_loss.jpg', dpi=400)"
   ]
  },
  {
   "cell_type": "code",
   "execution_count": null,
   "metadata": {},
   "outputs": [],
   "source": [
    "# Test on test dataset\n",
    "model.eval()\n",
    "\n",
    "preds = []\n",
    "n_correct = 0\n",
    "loss = 0\n",
    "i =0\n",
    "for X_test, y_test in tqdm(test_dataloader):\n",
    "    X_test = X_test.to(device)\n",
    "    y_test = y_test.to(device)\n",
    "\n",
    "    logits = model(X_test)\n",
    "    pred = torch.round(nn.Sigmoid()(logits))\n",
    "\n",
    "    n_correct += sum(y_test == pred)\n",
    "    preds += pred.flatten().tolist()\n",
    "    loss += criterion(logits, y_test).item()\n",
    "    i+=1\n",
    "\n",
    "y_pred = np.array(preds).reshape(-1,1)\n",
    "accuracy = (n_correct / test_length).item()\n",
    "loss = loss / len(test_dataloader)\n",
    "print(f'Accuracy: {100*accuracy:.4}%')\n",
    "print(f'Loss: {loss:.5}')\n",
    "\n"
   ]
  },
  {
   "cell_type": "code",
   "execution_count": null,
   "metadata": {},
   "outputs": [],
   "source": [
    "# Confusion Matrix\n",
    "\n",
    "y_true = test_dataset[:][1]\n",
    "\n",
    "fig,axes = plt.subplots(1,3,sharey=True,figsize=(10,5))\n",
    "sns.heatmap(confusion_matrix(y_true=y_true,y_pred=y_pred,normalize='true'),annot=True,ax=axes[0],cbar=False,fmt='.2f')\n",
    "sns.heatmap(confusion_matrix(y_true=y_true,y_pred=y_pred,normalize='pred'),annot=True,ax=axes[1],cbar=False,fmt='.2f')\n",
    "sns.heatmap(confusion_matrix(y_true=y_true,y_pred=y_pred),annot=True,ax=axes[2],cbar=False,fmt='.2f')\n",
    "axes[0].set_title('Recall')\n",
    "axes[1].set_title('Precision')\n",
    "axes[2].set_title('Count')\n",
    "fig.set_size_inches(16, 9)\n",
    "plt.savefig(f'cm.jpg',dpi=400,bbox_inches='tight')"
   ]
  },
  {
   "cell_type": "code",
   "execution_count": null,
   "metadata": {},
   "outputs": [],
   "source": [
    "# Confusion Matrix (precision)\n",
    "\n",
    "y_true = test_dataset[:][1]\n",
    "\n",
    "fig,axes = plt.subplots(1,figsize=(16,9))\n",
    "sns.heatmap(confusion_matrix(y_true=y_true,y_pred=y_pred,normalize='pred'),annot=True,ax=axes,cbar=False,fmt='.2f')\n",
    "axes.set_title('Precision')\n",
    "axes.set_xlabel(\"Predictions\")\n",
    "axes.set_ylabel(\"True\")\n",
    "plt.savefig(f'cm_pres.jpg',dpi=400,bbox_inches='tight')"
   ]
  },
  {
   "cell_type": "code",
   "execution_count": null,
   "metadata": {},
   "outputs": [],
   "source": [
    "# Save model\n",
    "\n",
    "os.system('mkdir model')\n",
    "torch.save(model.state_dict(), 'model/model.pt')"
   ]
  },
  {
   "cell_type": "code",
   "execution_count": null,
   "metadata": {},
   "outputs": [],
   "source": [
    "import dill\n",
    "dill.dump_session('archive/1_train_on_continous_env.db')"
   ]
  }
 ],
 "metadata": {
  "kernelspec": {
   "display_name": "Python 3.10.6 64-bit",
   "language": "python",
   "name": "python3"
  },
  "language_info": {
   "codemirror_mode": {
    "name": "ipython",
    "version": 3
   },
   "file_extension": ".py",
   "mimetype": "text/x-python",
   "name": "python",
   "nbconvert_exporter": "python",
   "pygments_lexer": "ipython3",
   "version": "3.10.6"
  },
  "orig_nbformat": 4,
  "vscode": {
   "interpreter": {
    "hash": "916dbcbb3f70747c44a77c7bcd40155683ae19c65e1c03b4aa3499c5328201f1"
   }
  }
 },
 "nbformat": 4,
 "nbformat_minor": 2
}
