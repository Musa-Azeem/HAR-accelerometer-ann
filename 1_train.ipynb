{
 "cells": [
  {
   "cell_type": "code",
   "execution_count": 1,
   "metadata": {},
   "outputs": [
    {
     "name": "stderr",
     "output_type": "stream",
     "text": [
      "/home/mmazeem/.local/lib/python3.10/site-packages/tqdm/auto.py:21: TqdmWarning: IProgress not found. Please update jupyter and ipywidgets. See https://ipywidgets.readthedocs.io/en/stable/user_install.html\n",
      "  from .autonotebook import tqdm as notebook_tqdm\n"
     ]
    }
   ],
   "source": [
    "import numpy as np\n",
    "import torch\n",
    "from torch import nn\n",
    "import seaborn as sns\n",
    "import matplotlib.pyplot as plt\n",
    "import os\n",
    "from torch.utils.data import Dataset, DataLoader\n",
    "from sklearn.metrics import confusion_matrix\n",
    "from tqdm import tqdm"
   ]
  },
  {
   "cell_type": "markdown",
   "metadata": {},
   "source": [
    "# Train Model"
   ]
  },
  {
   "attachments": {},
   "cell_type": "markdown",
   "metadata": {},
   "source": [
    "### Dataloader"
   ]
  },
  {
   "cell_type": "code",
   "execution_count": 2,
   "metadata": {},
   "outputs": [],
   "source": [
    "class SmokingDataset(Dataset):\n",
    "    def __init__(self, dir):\n",
    "        self.dir = dir\n",
    "    \n",
    "    def __len__(self):\n",
    "        return len(os.listdir(self.dir))\n",
    "    \n",
    "    def __getitem__(self, key):\n",
    "        if isinstance(key, slice):\n",
    "            stop, start, step = key.indices(len(self))\n",
    "\n",
    "            length = len(range(stop, start, step))\n",
    "            X = torch.zeros([length, 300])\n",
    "            y = torch.zeros([length, 1])\n",
    "\n",
    "            for j,i in enumerate(range(stop, start, step)):\n",
    "                xi, yi = self[i]\n",
    "                X[j] = xi\n",
    "                y[j] = yi\n",
    "\n",
    "            return (X, y)\n",
    "\n",
    "        elif isinstance(key, int):\n",
    "            X, y = torch.load(os.path.join(self.dir, f'{key}.pt'))\n",
    "            return (X.flatten(), y)"
   ]
  },
  {
   "cell_type": "code",
   "execution_count": 3,
   "metadata": {},
   "outputs": [],
   "source": [
    "train_dataset = SmokingDataset('pipeline/4_all/train/')\n",
    "test_dataset = SmokingDataset('pipeline/4_all/test/')\n",
    "\n",
    "train_length = len(train_dataset)\n",
    "test_length = len(test_dataset)"
   ]
  },
  {
   "cell_type": "code",
   "execution_count": 4,
   "metadata": {},
   "outputs": [
    {
     "name": "stdout",
     "output_type": "stream",
     "text": [
      "Using cuda device\n"
     ]
    }
   ],
   "source": [
    "# Get cpu or gpu device for training\n",
    "device = \"cuda\" if torch.cuda.is_available() else \"mps\" if torch.backends.mps.is_available() else \"cpu\"\n",
    "print(f\"Using {device} device\")"
   ]
  },
  {
   "cell_type": "code",
   "execution_count": 5,
   "metadata": {},
   "outputs": [],
   "source": [
    "# Define Model\n",
    "n_hl = 10\n",
    "\n",
    "class MLP(nn.Module):\n",
    "    def __init__(self):\n",
    "        super().__init__()\n",
    "        self.linear_relu_stack = nn.Sequential(\n",
    "            nn.Linear(300, n_hl),\n",
    "            nn.ReLU(),\n",
    "            nn.Linear(n_hl, 1)\n",
    "        )\n",
    "    \n",
    "    def forward(self, x):\n",
    "        logits = self.linear_relu_stack(x)\n",
    "        return logits  \n",
    "\n",
    "model = MLP().to(device)\n",
    "    \n",
    "criterion = nn.BCEWithLogitsLoss()\n",
    "optimizer = torch.optim.Adam(model.parameters(), lr=0.001)"
   ]
  },
  {
   "cell_type": "code",
   "execution_count": 44,
   "metadata": {},
   "outputs": [],
   "source": [
    "# Define training parameters and preapre dataloaders from saved datasets\n",
    "\n",
    "epochs = 10\n",
    "batch_size = 64\n",
    "\n",
    "losses = []\n",
    "test_losses = []\n",
    "\n",
    "train_dataloader = DataLoader(train_dataset, batch_size=batch_size)\n",
    "test_dataloader = DataLoader(test_dataset, batch_size=907)    # batches for memory (907 is magic number that leads to close to whole ratio between n_train_batches and n_test_batches)\n",
    "\n",
    "n_train_batches = len(train_dataloader)\n",
    "n_test_batches = len(test_dataloader)\n",
    "\n",
    "os.system('mkdir -p model results/training');"
   ]
  },
  {
   "cell_type": "code",
   "execution_count": 45,
   "metadata": {},
   "outputs": [
    {
     "name": "stdout",
     "output_type": "stream",
     "text": [
      "Epoch 0 - Training\n"
     ]
    },
    {
     "name": "stderr",
     "output_type": "stream",
     "text": [
      "100%|██████████| 13393/13393 [02:43<00:00, 81.98it/s]\n"
     ]
    },
    {
     "name": "stdout",
     "output_type": "stream",
     "text": [
      "\tloss: 0.09262478279276963\n",
      "Epoch 0 - Testing\n"
     ]
    },
    {
     "name": "stderr",
     "output_type": "stream",
     "text": [
      "100%|██████████| 405/405 [01:08<00:00,  5.92it/s]\n",
      "mkdir: cannot create directory ‘model’: File exists\n"
     ]
    },
    {
     "name": "stdout",
     "output_type": "stream",
     "text": [
      "\tTest Accuracy: 96.5%\n",
      "\tTest Loss: 0.094824073932789\n",
      "Epoch 1 - Training\n"
     ]
    },
    {
     "name": "stderr",
     "output_type": "stream",
     "text": [
      "100%|██████████| 13393/13393 [02:48<00:00, 79.29it/s]\n"
     ]
    },
    {
     "name": "stdout",
     "output_type": "stream",
     "text": [
      "\tloss: 0.0920874889533087\n",
      "Epoch 1 - Testing\n"
     ]
    },
    {
     "name": "stderr",
     "output_type": "stream",
     "text": [
      "100%|██████████| 405/405 [01:05<00:00,  6.18it/s]\n",
      "mkdir: cannot create directory ‘model’: File exists\n"
     ]
    },
    {
     "name": "stdout",
     "output_type": "stream",
     "text": [
      "\tTest Accuracy: 96.5%\n",
      "\tTest Loss: 0.09457448334605606\n",
      "Epoch 2 - Training\n"
     ]
    },
    {
     "name": "stderr",
     "output_type": "stream",
     "text": [
      "100%|██████████| 13393/13393 [03:09<00:00, 70.75it/s]\n"
     ]
    },
    {
     "name": "stdout",
     "output_type": "stream",
     "text": [
      "\tloss: 0.09166642533626913\n",
      "Epoch 2 - Testing\n"
     ]
    },
    {
     "name": "stderr",
     "output_type": "stream",
     "text": [
      "100%|██████████| 405/405 [01:17<00:00,  5.20it/s]\n",
      "mkdir: cannot create directory ‘model’: File exists\n"
     ]
    },
    {
     "name": "stdout",
     "output_type": "stream",
     "text": [
      "\tTest Accuracy: 96.52%\n",
      "\tTest Loss: 0.09464886653938412\n",
      "Epoch 3 - Training\n"
     ]
    },
    {
     "name": "stderr",
     "output_type": "stream",
     "text": [
      "100%|██████████| 13393/13393 [02:39<00:00, 84.15it/s]\n"
     ]
    },
    {
     "name": "stdout",
     "output_type": "stream",
     "text": [
      "\tloss: 0.09129273860083854\n",
      "Epoch 3 - Testing\n"
     ]
    },
    {
     "name": "stderr",
     "output_type": "stream",
     "text": [
      "100%|██████████| 405/405 [00:59<00:00,  6.86it/s]\n",
      "mkdir: cannot create directory ‘model’: File exists\n"
     ]
    },
    {
     "name": "stdout",
     "output_type": "stream",
     "text": [
      "\tTest Accuracy: 96.51%\n",
      "\tTest Loss: 0.09478478713168038\n",
      "Epoch 4 - Training\n"
     ]
    },
    {
     "name": "stderr",
     "output_type": "stream",
     "text": [
      "100%|██████████| 13393/13393 [02:45<00:00, 80.68it/s]\n"
     ]
    },
    {
     "name": "stdout",
     "output_type": "stream",
     "text": [
      "\tloss: 0.09067846071608557\n",
      "Epoch 4 - Testing\n"
     ]
    },
    {
     "name": "stderr",
     "output_type": "stream",
     "text": [
      "100%|██████████| 405/405 [01:09<00:00,  5.85it/s]\n",
      "mkdir: cannot create directory ‘model’: File exists\n"
     ]
    },
    {
     "name": "stdout",
     "output_type": "stream",
     "text": [
      "\tTest Accuracy: 96.64%\n",
      "\tTest Loss: 0.093352704807932\n",
      "Epoch 5 - Training\n"
     ]
    },
    {
     "name": "stderr",
     "output_type": "stream",
     "text": [
      "100%|██████████| 13393/13393 [02:56<00:00, 76.09it/s]\n"
     ]
    },
    {
     "name": "stdout",
     "output_type": "stream",
     "text": [
      "\tloss: 0.09010906938196701\n",
      "Epoch 5 - Testing\n"
     ]
    },
    {
     "name": "stderr",
     "output_type": "stream",
     "text": [
      "100%|██████████| 405/405 [01:00<00:00,  6.68it/s]\n",
      "mkdir: cannot create directory ‘model’: File exists\n"
     ]
    },
    {
     "name": "stdout",
     "output_type": "stream",
     "text": [
      "\tTest Accuracy: 96.7%\n",
      "\tTest Loss: 0.09241447726517547\n",
      "Epoch 6 - Training\n"
     ]
    },
    {
     "name": "stderr",
     "output_type": "stream",
     "text": [
      "100%|██████████| 13393/13393 [02:27<00:00, 91.03it/s]\n"
     ]
    },
    {
     "name": "stdout",
     "output_type": "stream",
     "text": [
      "\tloss: 0.089684315851014\n",
      "Epoch 6 - Testing\n"
     ]
    },
    {
     "name": "stderr",
     "output_type": "stream",
     "text": [
      "100%|██████████| 405/405 [00:58<00:00,  6.92it/s]\n",
      "mkdir: cannot create directory ‘model’: File exists\n"
     ]
    },
    {
     "name": "stdout",
     "output_type": "stream",
     "text": [
      "\tTest Accuracy: 96.69%\n",
      "\tTest Loss: 0.0921757073774014\n",
      "Epoch 7 - Training\n"
     ]
    },
    {
     "name": "stderr",
     "output_type": "stream",
     "text": [
      "100%|██████████| 13393/13393 [02:27<00:00, 91.03it/s]\n"
     ]
    },
    {
     "name": "stdout",
     "output_type": "stream",
     "text": [
      "\tloss: 0.0891781454405333\n",
      "Epoch 7 - Testing\n"
     ]
    },
    {
     "name": "stderr",
     "output_type": "stream",
     "text": [
      "100%|██████████| 405/405 [00:58<00:00,  6.87it/s]\n",
      "mkdir: cannot create directory ‘model’: File exists\n"
     ]
    },
    {
     "name": "stdout",
     "output_type": "stream",
     "text": [
      "\tTest Accuracy: 96.7%\n",
      "\tTest Loss: 0.09162142638255048\n",
      "Epoch 8 - Training\n"
     ]
    },
    {
     "name": "stderr",
     "output_type": "stream",
     "text": [
      "100%|██████████| 13393/13393 [02:46<00:00, 80.68it/s]\n"
     ]
    },
    {
     "name": "stdout",
     "output_type": "stream",
     "text": [
      "\tloss: 0.08880288790872355\n",
      "Epoch 8 - Testing\n"
     ]
    },
    {
     "name": "stderr",
     "output_type": "stream",
     "text": [
      "100%|██████████| 405/405 [01:02<00:00,  6.47it/s]\n",
      "mkdir: cannot create directory ‘model’: File exists\n"
     ]
    },
    {
     "name": "stdout",
     "output_type": "stream",
     "text": [
      "\tTest Accuracy: 96.74%\n",
      "\tTest Loss: 0.09081562650792392\n",
      "Epoch 9 - Training\n"
     ]
    },
    {
     "name": "stderr",
     "output_type": "stream",
     "text": [
      "100%|██████████| 13393/13393 [02:39<00:00, 83.91it/s]\n"
     ]
    },
    {
     "name": "stdout",
     "output_type": "stream",
     "text": [
      "\tloss: 0.08851578689342268\n",
      "Epoch 9 - Testing\n"
     ]
    },
    {
     "name": "stderr",
     "output_type": "stream",
     "text": [
      "100%|██████████| 405/405 [00:59<00:00,  6.83it/s]"
     ]
    },
    {
     "name": "stdout",
     "output_type": "stream",
     "text": [
      "\tTest Accuracy: 96.74%\n",
      "\tTest Loss: 0.09046494902835953\n"
     ]
    },
    {
     "name": "stderr",
     "output_type": "stream",
     "text": [
      "\n",
      "mkdir: cannot create directory ‘model’: File exists\n"
     ]
    }
   ],
   "source": [
    "# Train\n",
    "for epoch in range(epochs):\n",
    "\n",
    "    print(f'Epoch {epoch} - Training')\n",
    "    model.train()\n",
    "    losses.append(0)\n",
    "\n",
    "    for X_train, y_train in tqdm(train_dataloader):\n",
    "\n",
    "        X_train = X_train.to(device)\n",
    "        y_train = y_train.to(device)\n",
    "\n",
    "        # Forward Pass\n",
    "        logits = model(X_train)\n",
    "        loss = criterion(logits, y_train)\n",
    "\n",
    "        # Backward Pass\n",
    "        optimizer.zero_grad()\n",
    "        loss.backward()\n",
    "        optimizer.step()\n",
    "\n",
    "        losses[-1] += loss.item()\n",
    "\n",
    "    losses[-1] /= n_train_batches\n",
    "    print(f'\\tloss: {losses[-1]}')\n",
    "\n",
    "\n",
    "    ## Test\n",
    "    print(f'Epoch {epoch} - Testing')\n",
    "    model.eval()\n",
    "\n",
    "    preds = []\n",
    "    n_correct = 0\n",
    "    test_losses.append(0)\n",
    "\n",
    "    for X_test, y_test in tqdm(test_dataloader):\n",
    "        X_test = X_test.to(device)\n",
    "        y_test = y_test.to(device)\n",
    "\n",
    "        logits = model(X_test)\n",
    "        pred = torch.round(nn.Sigmoid()(logits))\n",
    "\n",
    "        n_correct += sum(y_test == pred)\n",
    "        preds += pred.flatten().tolist()\n",
    "        loss = criterion(logits, y_test)\n",
    "        test_losses[-1] += loss.item()\n",
    "\n",
    "    test_losses[-1] /= n_test_batches\n",
    "    accuracy = (n_correct / test_length).item()\n",
    "    print(f'\\tTest Accuracy: {100*accuracy:.4}%')\n",
    "    print(f'\\tTest Loss: {test_losses[-1]}')\n",
    "\n",
    "    os.system('mkdir model')\n",
    "    torch.save(model.state_dict(), f'model/model-epoch-{epoch}.pt')\n",
    "\n",
    "torch.save(losses, f'results/training/train_losses.pt')\n",
    "torch.save(test_losses, f'results/training/test_losses.pt')"
   ]
  },
  {
   "cell_type": "code",
   "execution_count": 49,
   "metadata": {},
   "outputs": [
    {
     "data": {
      "image/png": "[encoded data removed]",
      "text/plain": [
       "<Figure size 1600x900 with 1 Axes>"
      ]
     },
     "metadata": {},
     "output_type": "display_data"
    }
   ],
   "source": [
    "# Plot loss curve at specified resolution (save losses and plot)\n",
    "os.system('mkdir -p results/figures')\n",
    "\n",
    "epoch_toplot = 10\n",
    "losses_toplot = torch.load(f'results/training/train_losses.pt')[:epoch_toplot]\n",
    "test_losses_toplot = torch.load(f'results/training/test_losses.pt')[:epoch_toplot]\n",
    "\n",
    "fig, ax = plt.subplots(1)\n",
    "ax.plot(torch.tensor(losses_toplot), label='Train Loss')\n",
    "ax.plot(torch.tensor(test_losses_toplot), label='Test Loss')\n",
    "ax.set_ylabel(\"Loss\")\n",
    "ax.set_xlabel('Epochs')\n",
    "ax.legend()\n",
    "ax.set_title(f'Train and Test Loss over {epoch} Epochs')\n",
    "fig.set_size_inches(16, 9)\n",
    "plt.savefig(f'results/training/train_test_loss-{epoch}-epochs.jpg', dpi=400)"
   ]
  }
 ],
 "metadata": {
  "kernelspec": {
   "display_name": "Python 3.10.6 64-bit",
   "language": "python",
   "name": "python3"
  },
  "language_info": {
   "codemirror_mode": {
    "name": "ipython",
    "version": 3
   },
   "file_extension": ".py",
   "mimetype": "text/x-python",
   "name": "python",
   "nbconvert_exporter": "python",
   "pygments_lexer": "ipython3",
   "version": "3.10.6"
  },
  "orig_nbformat": 4,
  "vscode": {
   "interpreter": {
    "hash": "916dbcbb3f70747c44a77c7bcd40155683ae19c65e1c03b4aa3499c5328201f1"
   }
  }
 },
 "nbformat": 4,
 "nbformat_minor": 2
}
