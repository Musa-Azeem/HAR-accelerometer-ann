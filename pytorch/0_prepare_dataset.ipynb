{
 "cells": [
  {
   "attachments": {},
   "cell_type": "markdown",
   "metadata": {},
   "source": [
    "# Prepare Dataset\n",
    "- Read raw session files that are annoted (include .json file)\n",
    "- decimate sessions files from 100 Hz to 20 Hz\n",
    "- Window the data into 100 datapoint (in 5 Hz) long windows of xyz\n",
    "- Save xyz acc data and the labels to pytorch dataset files in:\n",
    "    - `pipeline/datasets/train_dataset` \n",
    "    - `pipeline/datasets/test_dataset` with specified `test_size` \n",
    "    - `pipeline/datasets/<session_name>-holdout_dataset` with specified sessions"
   ]
  },
  {
   "cell_type": "code",
   "execution_count": 2,
   "metadata": {},
   "outputs": [],
   "source": [
    "import pandas as pd\n",
    "import numpy as np\n",
    "import torch\n",
    "import json\n",
    "from sklearn.model_selection import train_test_split\n",
    "import os\n",
    "from torch.utils.data import TensorDataset\n",
    "from tqdm import tqdm\n",
    "import plotly.express as px"
   ]
  },
  {
   "attachments": {},
   "cell_type": "markdown",
   "metadata": {},
   "source": [
    "# Process Raw Data"
   ]
  },
  {
   "cell_type": "code",
   "execution_count": 3,
   "metadata": {},
   "outputs": [],
   "source": [
    "# make directories\n",
    "if not os.path.isdir('pipeline'):\n",
    "    os.system('mkdir -p pipeline')\n",
    "else:\n",
    "    print(\"pipeline directory already exists - delete or rename it\")"
   ]
  },
  {
   "cell_type": "code",
   "execution_count": 4,
   "metadata": {},
   "outputs": [
    {
     "name": "stdout",
     "output_type": "stream",
     "text": [
      "27 - Length: 28400\n",
      "58 - Length: 41100\n",
      "Skipped 29\n",
      "67 - Length: 34600\n",
      "Skipped 13\n",
      "53 - Length: 31000\n",
      "Skipped 7\n",
      "61 - Length: 31200\n",
      "41 - Length: 26700\n",
      "Skipped 9\n",
      "Skipped 46\n",
      "Skipped 19\n",
      "Skipped 5\n",
      "Skipped 10\n",
      "21 - Length: 38700\n",
      "50 - Length: 23100\n",
      "65 - Length: 36000\n",
      "Skipped 6\n",
      "Skipped 70\n",
      "22 - Length: 39100\n",
      "Skipped 52\n",
      "Skipped 40\n",
      "28 - Length: 27000\n",
      "Skipped 49\n",
      "Skipped 26\n",
      "Skipped 0\n",
      "Skipped 14\n",
      "23 - Length: 39000\n",
      "47 - Length: 31200\n",
      "31 - Length: 23000\n",
      "17 - Length: 21200\n",
      "68 - Length: 33500\n",
      "Skipped 32\n",
      "35 - Length: 32400\n",
      "57 - Length: 41300\n",
      "20 - Length: 32300\n",
      "43 - Length: 28900\n",
      "Skipped 2\n",
      "Skipped 38\n",
      "18 - Length: 30800\n",
      "51 - Length: 23800\n",
      "37 - Length: 28700\n",
      "45 - Length: 28200\n",
      "Skipped 55\n",
      "Skipped 15\n",
      "16 - Length: 28500\n",
      "Skipped 8\n",
      "25 - Length: 31300\n",
      "33 - Length: 33500\n",
      "62 - Length: 32700\n",
      "Skipped 3\n",
      "63 - Length: 30100\n",
      "Skipped 24\n",
      "60 - Length: 32700\n",
      "64 - Length: 38600\n",
      "30 - Length: 26100\n",
      "56 - Length: 41500\n",
      "Skipped 12\n",
      "Skipped 34\n",
      "59 - Length: 41200\n",
      "42 - Length: 34900\n",
      "Skipped 11\n",
      "Skipped 1\n",
      "66 - Length: 38500\n",
      "69 - Length: 36000\n",
      "36 - Length: 41100\n",
      "39 - Length: 28400\n",
      "54 - Length: 30000\n",
      "44 - Length: 28600\n",
      "48 - Length: 31100\n",
      "Skipped 4\n"
     ]
    }
   ],
   "source": [
    "json_labels = {}\n",
    "\n",
    "total_length = 0\n",
    "nfiles = 80     # set to limit number of sessions to read\n",
    "i=0\n",
    "\n",
    "raw_dir = './data'\n",
    "\n",
    "os.system('mkdir pipeline/1_dm')\n",
    "\n",
    "for subdir in os.listdir(raw_dir):\n",
    "    if os.path.exists(f'{raw_dir}/{subdir}/{subdir}_data.json'):\n",
    "        # json files with annotations exists - dataset is annotated\n",
    "        i += 1\n",
    "\n",
    "        # Read labels\n",
    "        with open(f'{raw_dir}/{subdir}/{subdir}_data.json', 'r') as f:\n",
    "            annot = json.load(f)\n",
    "            if not annot.get('puffs'):\n",
    "                print(f'Skipped {subdir}')\n",
    "                continue\n",
    "            json_labels[subdir] = annot\n",
    "        \n",
    "        # if dataset is annotated, read raw data file, decimate from 100 to 20 Hz, and save just x,y,z in 1_dm dir\n",
    "        df = pd.read_csv(f'{raw_dir}/{subdir}/raw_data.csv', header=None, usecols=[2,3,4], names=['x','y','z'])\n",
    "        json_labels[subdir]['length'] = len(df[::5])\n",
    "        total_length += len(df[::5])\n",
    "        df[::5].to_csv(f'pipeline/1_dm/{subdir}.csv', index=False)\n",
    "\n",
    "        print(f'{subdir} - Length: {len(df[::5])}')\n",
    "\n",
    "    else:\n",
    "        print(f'Skipped {subdir}')\n",
    "        \n",
    "    if i == nfiles:\n",
    "        break"
   ]
  },
  {
   "cell_type": "code",
   "execution_count": 5,
   "metadata": {},
   "outputs": [
    {
     "name": "stderr",
     "output_type": "stream",
     "text": [
      "100%|██████████| 42/42 [00:27<00:00,  1.55it/s]\n"
     ]
    }
   ],
   "source": [
    "# Window data\n",
    "\n",
    "os.system('mkdir pipeline/2_windowed')\n",
    "\n",
    "for i,file in enumerate(tqdm(os.listdir('pipeline/1_dm/'))):\n",
    "    df = pd.read_csv(f'pipeline/1_dm/{file}')\n",
    "    # print(f'{file} - Before {df.shape}')\n",
    "    w = np.empty((len(df)-99, 300), dtype=float)\n",
    "    for j in range(len(df)-99):\n",
    "        w[j] = df[j:j+100].to_numpy().T.flatten()\n",
    "    # print(f'After {w.shape}')\n",
    "    np.save(f'pipeline/2_windowed/{file.split(\".\")[0]}.npy', w)"
   ]
  },
  {
   "cell_type": "code",
   "execution_count": 6,
   "metadata": {},
   "outputs": [],
   "source": [
    "# Make Labels from annotations\n",
    "\n",
    "os.system('mkdir pipeline/3_labels')\n",
    "\n",
    "for i, (key, annot) in enumerate(json_labels.items()):\n",
    "    l = np.zeros(annot['length'] - 99)\n",
    "    for j in range(annot['start']//5, annot['end']//5):\n",
    "        for puff in annot['puffs']:\n",
    "            if j >= puff['start']//5 and j <= puff['end']//5:\n",
    "                l[j] = 1\n",
    "    \n",
    "    np.save(f'pipeline/3_labels/{key}.npy', l.reshape(-1,1))"
   ]
  },
  {
   "cell_type": "code",
   "execution_count": 31,
   "metadata": {},
   "outputs": [],
   "source": [
    "# visualize true labels on continous signal\n",
    "i = 35\n",
    "labels = np.load(f'pipeline/3_labels/{i}.npy').flatten()\n",
    "\n",
    "df = pd.read_csv(f'pipeline/1_dm/{i}.csv')\n",
    "df['label'] = np.pad(labels*10, (0,99), mode='constant', constant_values=0)\n",
    "\n",
    "fig = px.line(data_frame=df)\n",
    "fig.show(renderer='browser')"
   ]
  },
  {
   "cell_type": "code",
   "execution_count": 3,
   "metadata": {},
   "outputs": [
    {
     "name": "stderr",
     "output_type": "stream",
     "text": [
      " 40%|████      | 17/42 [01:24<01:59,  4.77s/it]"
     ]
    },
    {
     "name": "stdout",
     "output_type": "stream",
     "text": [
      "Saving holdout for session 35\n"
     ]
    },
    {
     "name": "stderr",
     "output_type": "stream",
     "text": [
      " 81%|████████  | 34/42 [02:38<00:29,  3.71s/it]"
     ]
    },
    {
     "name": "stdout",
     "output_type": "stream",
     "text": [
      "Saving holdout for session 16\n"
     ]
    },
    {
     "name": "stderr",
     "output_type": "stream",
     "text": [
      "100%|██████████| 42/42 [03:17<00:00,  4.69s/it]\n"
     ]
    }
   ],
   "source": [
    "# Prepare Pytorch Datasets\n",
    "holdout_sessions = ['16', '35']\n",
    "\n",
    "os.system('mkdir -p pipeline/holdouts')\n",
    "os.system('mkdir -p pipeline/4_all/')\n",
    "\n",
    "for i,file in enumerate(tqdm(os.listdir('pipeline/2_windowed'))):\n",
    "    # First, save <n_sessions_holdout> sessions\n",
    "    session_name = file.split('.')[0]\n",
    "    if session_name in holdout_sessions:\n",
    "        print(f'Saving holdout for session {session_name}')\n",
    "        X_holdout = torch.from_numpy(np.load(f'pipeline/2_windowed/{file}')).float()\n",
    "        y_holdout = torch.from_numpy(np.load(f'pipeline/3_labels/{file}')).float()\n",
    "        torch.save(TensorDataset(X_holdout, y_holdout), f'pipeline/holdouts/{session_name}-holdout.pt')\n",
    "        continue\n",
    "\n",
    "    # print(f'{i} - Saving windows of session {file.split(\".\")[0]}')\n",
    "    X = np.load(f'pipeline/2_windowed/{file}')\n",
    "    y = np.load(f'pipeline/3_labels/{file}')\n",
    "\n",
    "    # Save each window from every session in its own file in 'pipeline/4_all'\n",
    "    for j, (xi,yi) in enumerate(zip(X,y)):\n",
    "        xi = torch.from_numpy(xi).float()\n",
    "        yi = torch.from_numpy(yi).float()\n",
    "        torch.save((xi,yi), f'pipeline/4_all/{j}.pt')"
   ]
  },
  {
   "cell_type": "code",
   "execution_count": 4,
   "metadata": {},
   "outputs": [
    {
     "data": {
      "text/plain": [
       "41401"
      ]
     },
     "execution_count": 4,
     "metadata": {},
     "output_type": "execute_result"
    }
   ],
   "source": [
    "# Get total number of window-files\n",
    "n = len(os.listdir('pipeline/4_all'))\n",
    "n"
   ]
  },
  {
   "cell_type": "code",
   "execution_count": 5,
   "metadata": {},
   "outputs": [
    {
     "name": "stderr",
     "output_type": "stream",
     "text": [
      "100%|██████████| 28980/28980 [00:20<00:00, 1386.20it/s]\n",
      "100%|██████████| 12421/12421 [00:08<00:00, 1386.68it/s]\n"
     ]
    }
   ],
   "source": [
    "# Train test split window-files into 'pipeline/4_all/train' and 'pipeline/4_all/test'\n",
    "test_size = 0.3\n",
    "\n",
    "os.system('mkdir -p pipeline/4_all/train')\n",
    "os.system('mkdir -p pipeline/4_all/test')\n",
    "\n",
    "# todo possibly stratify by splitting pos. and neg. samples and taking train/test samples from each\n",
    "(train_idx, test_idx) = train_test_split(range(n), test_size=test_size, shuffle=True, random_state=0)\n",
    "\n",
    "for i,idx in enumerate(tqdm(train_idx)):\n",
    "    os.system(f'mv pipeline/4_all/{idx}.pt pipeline/4_all/train/{i}.pt')\n",
    "\n",
    "for i,idx in enumerate(tqdm(test_idx)):\n",
    "    os.system(f'mv pipeline/4_all/{idx}.pt pipeline/4_all/test/{i}.pt')"
   ]
  }
 ],
 "metadata": {
  "kernelspec": {
   "display_name": "Python 3",
   "language": "python",
   "name": "python3"
  },
  "language_info": {
   "codemirror_mode": {
    "name": "ipython",
    "version": 3
   },
   "file_extension": ".py",
   "mimetype": "text/x-python",
   "name": "python",
   "nbconvert_exporter": "python",
   "pygments_lexer": "ipython3",
   "version": "3.10.6"
  },
  "orig_nbformat": 4
 },
 "nbformat": 4,
 "nbformat_minor": 2
}
