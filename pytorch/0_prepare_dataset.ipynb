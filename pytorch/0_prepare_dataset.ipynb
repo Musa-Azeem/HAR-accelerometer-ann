{
 "cells": [
  {
   "attachments": {},
   "cell_type": "markdown",
   "metadata": {},
   "source": [
    "# Prepare Dataset\n",
    "- Read raw session files that are annoted (include .json file)\n",
    "- decimate sessions files from 100 Hz to 20 Hz\n",
    "- Window the data into 100 datapoint (in 5 Hz) long windows of xyz\n",
    "- Save xyz acc data and the labels to pytorch dataset files in:\n",
    "    - `pipeline/datasets/train_dataset` \n",
    "    - `pipeline/datasets/test_dataset` with specified `test_size` \n",
    "    - `pipeline/datasets/<session_name>-holdout_dataset` with specified `n_sessions_holdout`"
   ]
  },
  {
   "cell_type": "code",
   "execution_count": null,
   "metadata": {},
   "outputs": [],
   "source": [
    "import pandas as pd\n",
    "import numpy as np\n",
    "import torch\n",
    "from torch import nn\n",
    "import seaborn as sns\n",
    "import plotly.express as px\n",
    "import json\n",
    "from sklearn.model_selection import train_test_split\n",
    "import matplotlib.pyplot as plt\n",
    "import os\n",
    "from torch.utils.data import TensorDataset,DataLoader\n",
    "from tqdm import tqdm"
   ]
  },
  {
   "attachments": {},
   "cell_type": "markdown",
   "metadata": {},
   "source": [
    "# Process Raw Data"
   ]
  },
  {
   "cell_type": "code",
   "execution_count": null,
   "metadata": {},
   "outputs": [],
   "source": [
    "# make directories\n",
    "if not os.path.isdir('pipeline'):\n",
    "    os.system('mkdir -p pipeline')\n",
    "else:\n",
    "    print(\"pipeline directory already exists - delete or rename it\")"
   ]
  },
  {
   "cell_type": "code",
   "execution_count": null,
   "metadata": {},
   "outputs": [],
   "source": [
    "json_labels = {}\n",
    "\n",
    "total_length = 0\n",
    "nfiles = 5     # set to limit number of sessions to read\n",
    "i=0\n",
    "\n",
    "raw_dir = './data'\n",
    "\n",
    "os.system('mkdir pipeline/1_dm')\n",
    "\n",
    "for subdir in os.listdir(raw_dir):\n",
    "    if os.path.exists(f'{raw_dir}/{subdir}/{subdir}_data.json'):\n",
    "        # json files with annotations exists - dataset is annotated\n",
    "        i += 1\n",
    "\n",
    "        # Read labels\n",
    "        with open(f'{raw_dir}/{subdir}/{subdir}_data.json', 'r') as f:\n",
    "            json_labels[subdir] = json.load(f)\n",
    "        \n",
    "        # if dataset is annotated, read raw data file, decimate from 100 to 20 Hz, and save just x,y,z in 1_dm dir\n",
    "        df = pd.read_csv(f'{raw_dir}/{subdir}/raw_data.csv', header=None, usecols=[2,3,4], names=['x','y','z'])\n",
    "        json_labels[subdir]['length'] = len(df[::5])\n",
    "        total_length += len(df[::5])\n",
    "        df[::5].to_csv(f'pipeline/1_dm/{subdir}.csv', index=False)\n",
    "\n",
    "        print(f'{subdir} - Length: {len(df[::5])}')\n",
    "\n",
    "    else:\n",
    "        print(f'Skipped {subdir}')\n",
    "        \n",
    "    if i == nfiles:\n",
    "        break"
   ]
  },
  {
   "cell_type": "code",
   "execution_count": null,
   "metadata": {},
   "outputs": [],
   "source": [
    "# Window data\n",
    "\n",
    "os.system('mkdir pipeline/2_windowed')\n",
    "\n",
    "for i,file in enumerate(os.listdir('pipeline/1_dm/')):\n",
    "    df = pd.read_csv(f'pipeline/1_dm/{file}')\n",
    "    print(f'{file} - Before {df.shape}')\n",
    "    w = np.empty((len(df)-99, 300), dtype=float)\n",
    "    for j in range(len(df)-99):\n",
    "        w[j] = df[j:j+100].to_numpy().T.flatten()\n",
    "    print(f'After {w.shape}')\n",
    "    np.save(f'pipeline/2_windowed/{file.split(\".\")[0]}.npy', w)"
   ]
  },
  {
   "cell_type": "code",
   "execution_count": null,
   "metadata": {},
   "outputs": [],
   "source": [
    "# Make Labels from annotations\n",
    "\n",
    "os.system('mkdir pipeline/labels')\n",
    "\n",
    "for i, (key, annot) in enumerate(json_labels.items()):\n",
    "    l = np.zeros(annot['length'] - 99)\n",
    "    for j in range(annot['start']//5, annot['end']//5):\n",
    "        for puff in annot['puffs']:\n",
    "            if j >= puff['start']//5 and j <= puff['end']//5:\n",
    "                l[j] = 1\n",
    "    \n",
    "    np.save(f'pipeline/labels/{key}.npy', l)"
   ]
  },
  {
   "cell_type": "code",
   "execution_count": null,
   "metadata": {},
   "outputs": [],
   "source": [
    "# # visualize true labels on continous signal\n",
    "# i = 21\n",
    "# labels = np.load(f'pipeline/labels/{i}.npy')\n",
    "\n",
    "# df = pd.read_csv(f'pipeline/1_dm/{i}.csv')\n",
    "# df['label'] = np.pad(labels*10, (0,99), mode='constant', constant_values=0)\n",
    "\n",
    "# fig = px.line(data_frame=df)\n",
    "# fig.show(renderer='browser')"
   ]
  },
  {
   "cell_type": "code",
   "execution_count": null,
   "metadata": {},
   "outputs": [],
   "source": [
    "# Prepare Pytorch Datasets\n",
    "n_sessions_holdout = 2\n",
    "test_size = 0.3\n",
    "\n",
    "os.system('mkdir pipeline/datasets')\n",
    "\n",
    "X = np.zeros((0,300))\n",
    "y = np.zeros((0,1))\n",
    "\n",
    "for i,file in enumerate(os.listdir('pipeline/2_windowed')):\n",
    "    # First, save <n_sessions_holdout> sessions\n",
    "    if i < n_sessions_holdout:\n",
    "        session_name = file.split('.')[0]\n",
    "        X_holdout = torch.from_numpy(np.load(f'pipeline/2_windowed/{file}')).float()\n",
    "        y_holdout = torch.from_numpy(np.load(f'pipeline/labels/{file}').reshape(-1,1)).float()\n",
    "        torch.save(TensorDataset(X_holdout, y_holdout), f'pipeline/datasets/{session_name}-holdout.pt')\n",
    "        i += 1\n",
    "\n",
    "    X = np.concatenate([X, np.load(f'pipeline/2_windowed/{file}')])\n",
    "    y = np.concatenate([y, np.load(f'pipeline/labels/{file}').reshape(-1,1)])\n",
    "\n",
    "(X_train, X_test, y_train, y_test) = train_test_split(X, y, test_size=test_size, stratify=y, shuffle=True, random_state=0)\n",
    "\n",
    "train_dataset = TensorDataset(torch.from_numpy(X_train).float(), torch.from_numpy(y_train).float())\n",
    "test_dataset = TensorDataset(torch.from_numpy(X_test).float(), torch.from_numpy(y_test).float())\n",
    "\n",
    "torch.save(train_dataset, 'pipeline/datasets/train_dataset.pt')\n",
    "torch.save(test_dataset, 'pipeline/datasets/test_dataset.pt')"
   ]
  }
 ],
 "metadata": {
  "kernelspec": {
   "display_name": "Python 3",
   "language": "python",
   "name": "python3"
  },
  "language_info": {
   "codemirror_mode": {
    "name": "ipython",
    "version": 3
   },
   "file_extension": ".py",
   "mimetype": "text/x-python",
   "name": "python",
   "nbconvert_exporter": "python",
   "pygments_lexer": "ipython3",
   "version": "3.10.6"
  },
  "orig_nbformat": 4
 },
 "nbformat": 4,
 "nbformat_minor": 2
}
