{
 "cells": [
  {
   "attachments": {},
   "cell_type": "markdown",
   "metadata": {},
   "source": [
    "# Prepare Dataset\n",
    "- Read raw session files that are annoted (include .json file)\n",
    "- decimate sessions files from 100 Hz to 20 Hz\n",
    "- Window the data into 100 datapoint (in 5 Hz) long windows of xyz\n",
    "- Save xyz acc data and the labels to pytorch dataset files in:\n",
    "    - `pipeline/datasets/train_dataset` \n",
    "    - `pipeline/datasets/test_dataset` with specified `test_size` \n",
    "    - `pipeline/datasets/<session_name>-holdout_dataset` with specified `n_sessions_holdout`"
   ]
  },
  {
   "cell_type": "code",
   "execution_count": 1,
   "metadata": {},
   "outputs": [],
   "source": [
    "import pandas as pd\n",
    "import numpy as np\n",
    "import torch\n",
    "from torch import nn\n",
    "import seaborn as sns\n",
    "import plotly.express as px\n",
    "import json\n",
    "from sklearn.model_selection import train_test_split\n",
    "import matplotlib.pyplot as plt\n",
    "import os\n",
    "from torch.utils.data import TensorDataset,DataLoader\n",
    "from tqdm import tqdm"
   ]
  },
  {
   "attachments": {},
   "cell_type": "markdown",
   "metadata": {},
   "source": [
    "# Process Raw Data"
   ]
  },
  {
   "cell_type": "code",
   "execution_count": 2,
   "metadata": {},
   "outputs": [],
   "source": [
    "# make directories\n",
    "if not os.path.isdir('pipeline'):\n",
    "    os.system('mkdir -p pipeline')\n",
    "else:\n",
    "    print(\"pipeline directory already exists - delete or rename it\")"
   ]
  },
  {
   "cell_type": "code",
   "execution_count": 3,
   "metadata": {},
   "outputs": [
    {
     "name": "stdout",
     "output_type": "stream",
     "text": [
      "27 - Length: 28400\n",
      "58 - Length: 41100\n",
      "Skipped 29\n",
      "67 - Length: 34600\n",
      "Skipped 13\n",
      "53 - Length: 31000\n",
      "Skipped 7\n",
      "61 - Length: 31200\n"
     ]
    }
   ],
   "source": [
    "json_labels = {}\n",
    "\n",
    "total_length = 0\n",
    "nfiles = 5     # set to limit number of sessions to read\n",
    "i=0\n",
    "\n",
    "raw_dir = './data'\n",
    "\n",
    "os.system('mkdir pipeline/1_dm')\n",
    "\n",
    "for subdir in os.listdir(raw_dir):\n",
    "    if os.path.exists(f'{raw_dir}/{subdir}/{subdir}_data.json'):\n",
    "        # json files with annotations exists - dataset is annotated\n",
    "        i += 1\n",
    "\n",
    "        # Read labels\n",
    "        with open(f'{raw_dir}/{subdir}/{subdir}_data.json', 'r') as f:\n",
    "            annot = json.load(f)\n",
    "            if not annot.get('puffs'):\n",
    "                print(f'Skipped {subdir}')\n",
    "                continue\n",
    "            json_labels[subdir] = annot\n",
    "        \n",
    "        # if dataset is annotated, read raw data file, decimate from 100 to 20 Hz, and save just x,y,z in 1_dm dir\n",
    "        df = pd.read_csv(f'{raw_dir}/{subdir}/raw_data.csv', header=None, usecols=[2,3,4], names=['x','y','z'])\n",
    "        json_labels[subdir]['length'] = len(df[::5])\n",
    "        total_length += len(df[::5])\n",
    "        df[::5].to_csv(f'pipeline/1_dm/{subdir}.csv', index=False)\n",
    "\n",
    "        print(f'{subdir} - Length: {len(df[::5])}')\n",
    "\n",
    "    else:\n",
    "        print(f'Skipped {subdir}')\n",
    "        \n",
    "    if i == nfiles:\n",
    "        break"
   ]
  },
  {
   "cell_type": "code",
   "execution_count": 6,
   "metadata": {},
   "outputs": [
    {
     "name": "stderr",
     "output_type": "stream",
     "text": [
      "100%|██████████| 5/5 [00:03<00:00,  1.43it/s]\n"
     ]
    }
   ],
   "source": [
    "# Window data\n",
    "\n",
    "os.system('mkdir pipeline/2_windowed')\n",
    "\n",
    "for i,file in enumerate(tqdm(os.listdir('pipeline/1_dm/'))):\n",
    "    df = pd.read_csv(f'pipeline/1_dm/{file}')\n",
    "    # print(f'{file} - Before {df.shape}')\n",
    "    w = np.empty((len(df)-99, 300), dtype=float)\n",
    "    for j in range(len(df)-99):\n",
    "        w[j] = df[j:j+100].to_numpy().T.flatten()\n",
    "    # print(f'After {w.shape}')\n",
    "    np.save(f'pipeline/2_windowed/{file.split(\".\")[0]}.npy', w)"
   ]
  },
  {
   "cell_type": "code",
   "execution_count": 7,
   "metadata": {},
   "outputs": [
    {
     "name": "stderr",
     "output_type": "stream",
     "text": [
      "mkdir: cannot create directory ‘pipeline/3_labels’: File exists\n"
     ]
    }
   ],
   "source": [
    "# Make Labels from annotations\n",
    "\n",
    "os.system('mkdir pipeline/3_labels')\n",
    "\n",
    "for i, (key, annot) in enumerate(json_labels.items()):\n",
    "    l = np.zeros(annot['length'] - 99)\n",
    "    for j in range(annot['start']//5, annot['end']//5):\n",
    "        for puff in annot['puffs']:\n",
    "            if j >= puff['start']//5 and j <= puff['end']//5:\n",
    "                l[j] = 1\n",
    "    \n",
    "    np.save(f'pipeline/3_labels/{key}.npy', l.reshape(-1,1))"
   ]
  },
  {
   "cell_type": "code",
   "execution_count": null,
   "metadata": {},
   "outputs": [],
   "source": [
    "# # visualize true labels on continous signal\n",
    "# i = 21\n",
    "# labels = np.load(f'pipeline/labels/{i}.npy')\n",
    "\n",
    "# df = pd.read_csv(f'pipeline/1_dm/{i}.csv')\n",
    "# df['label'] = np.pad(labels*10, (0,99), mode='constant', constant_values=0)\n",
    "\n",
    "# fig = px.line(data_frame=df)\n",
    "# fig.show(renderer='browser')"
   ]
  },
  {
   "cell_type": "code",
   "execution_count": 10,
   "metadata": {},
   "outputs": [
    {
     "name": "stderr",
     "output_type": "stream",
     "text": [
      "  0%|          | 0/5 [00:00<?, ?it/s]"
     ]
    },
    {
     "name": "stdout",
     "output_type": "stream",
     "text": [
      "Saving holdout for session 58\n",
      "Saving holdout for session 61\n"
     ]
    },
    {
     "name": "stderr",
     "output_type": "stream",
     "text": [
      "100%|██████████| 5/5 [00:13<00:00,  2.68s/it]\n"
     ]
    }
   ],
   "source": [
    "# Prepare Pytorch Datasets\n",
    "n_sessions_holdout = 2\n",
    "\n",
    "os.system('mkdir -p pipeline/holdouts')\n",
    "os.system('mkdir -p pipeline/4_all/')\n",
    "\n",
    "for i,file in enumerate(tqdm(os.listdir('pipeline/2_windowed'))):\n",
    "    # First, save <n_sessions_holdout> sessions\n",
    "    if i < n_sessions_holdout:\n",
    "        print(f'Saving holdout for session {file.split(\".\")[0]}')\n",
    "        session_name = file.split('.')[0]\n",
    "        X_holdout = torch.from_numpy(np.load(f'pipeline/2_windowed/{file}')).float()\n",
    "        y_holdout = torch.from_numpy(np.load(f'pipeline/3_labels/{file}')).float()\n",
    "        # torch.save(TensorDataset(X_holdout, y_holdout), f'pipeline/holdouts/{session_name}-holdout.pt')\n",
    "        continue\n",
    "\n",
    "    # print(f'{i} - Saving windows of session {file.split(\".\")[0]}')\n",
    "    X = np.load(f'pipeline/2_windowed/{file}')\n",
    "    y = np.load(f'pipeline/3_labels/{file}')\n",
    "\n",
    "    # Save each window from every session in its own file in 'pipeline/4_all'\n",
    "    for j, (xi,yi) in enumerate(zip(X,y)):\n",
    "        xi = torch.from_numpy(xi).float()\n",
    "        yi = torch.from_numpy(yi).float()\n",
    "        torch.save((xi,yi), f'pipeline/4_all/{j}.pt')"
   ]
  },
  {
   "cell_type": "code",
   "execution_count": 11,
   "metadata": {},
   "outputs": [
    {
     "data": {
      "text/plain": [
       "34501"
      ]
     },
     "execution_count": 11,
     "metadata": {},
     "output_type": "execute_result"
    }
   ],
   "source": [
    "# Get total number of window-files\n",
    "n = len(os.listdir('pipeline/4_all'))\n",
    "n"
   ]
  },
  {
   "cell_type": "code",
   "execution_count": 12,
   "metadata": {},
   "outputs": [
    {
     "name": "stderr",
     "output_type": "stream",
     "text": [
      "100%|██████████| 24150/24150 [00:18<00:00, 1286.33it/s]\n",
      "100%|██████████| 10351/10351 [00:07<00:00, 1308.99it/s]\n"
     ]
    }
   ],
   "source": [
    "# Train test split window-files into 'pipeline/4_all/train' and 'pipeline/4_all/test'\n",
    "test_size = 0.3\n",
    "\n",
    "os.system('mkdir -p pipeline/4_all/train')\n",
    "os.system('mkdir -p pipeline/4_all/test')\n",
    "\n",
    "# todo possibly stratify by splitting pos. and neg. samples and taking train/test samples from each\n",
    "(train_idx, test_idx) = train_test_split(range(n), test_size=test_size, shuffle=True, random_state=0)\n",
    "\n",
    "for i,idx in enumerate(tqdm(train_idx)):\n",
    "    os.system(f'mv pipeline/4_all/{idx}.pt pipeline/4_all/train/{i}.pt')\n",
    "\n",
    "for i,idx in enumerate(tqdm(test_idx)):\n",
    "    os.system(f'mv pipeline/4_all/{idx}.pt pipeline/4_all/test/{i}.pt')"
   ]
  }
 ],
 "metadata": {
  "kernelspec": {
   "display_name": "Python 3",
   "language": "python",
   "name": "python3"
  },
  "language_info": {
   "codemirror_mode": {
    "name": "ipython",
    "version": 3
   },
   "file_extension": ".py",
   "mimetype": "text/x-python",
   "name": "python",
   "nbconvert_exporter": "python",
   "pygments_lexer": "ipython3",
   "version": "3.10.6"
  },
  "orig_nbformat": 4
 },
 "nbformat": 4,
 "nbformat_minor": 2
}
