{
 "cells": [
  {
   "cell_type": "code",
   "execution_count": null,
   "metadata": {},
   "outputs": [],
   "source": [
    "import pandas as pd\n",
    "import numpy as np\n",
    "import torch\n",
    "from torch import nn\n",
    "import seaborn as sns"
   ]
  },
  {
   "cell_type": "code",
   "execution_count": null,
   "metadata": {},
   "outputs": [],
   "source": [
    "# Get raw, windowed data\n",
    "import os\n",
    "import urllib.request\n",
    "\n",
    "if not os.path.exists('./data/raw/smoking_input.csv') or not os.path.exists('./data/raw/smoking_targets.csv'):\n",
    "    os.system('mkdir -p data/raw')\n",
    "    urllib.request.urlretrieve(\"http://ifestos.cse.sc.edu/datasets/smoking_data.tar.gz\", \"data/smoking_data.tar.gz\")\n",
    "\n",
    "    os.system('tar -xzvf data/smoking_data.tar.gz -C data/raw/ --strip-components=1')"
   ]
  },
  {
   "cell_type": "code",
   "execution_count": 12,
   "metadata": {},
   "outputs": [],
   "source": [
    "# Load data\n",
    "X = pd.read_csv('data/raw/smoking_input.csv', header=None)\n",
    "y = pd.read_csv('data/raw/smoking_targets.csv', header=None)"
   ]
  },
  {
   "cell_type": "code",
   "execution_count": 18,
   "metadata": {},
   "outputs": [
    {
     "name": "stdout",
     "output_type": "stream",
     "text": [
      "Using cuda device\n"
     ]
    }
   ],
   "source": [
    "# Formatting & Preprocessing\n",
    "\n",
    "# Get cpu or gpu device for training\n",
    "device = \"cuda\" if torch.cuda.is_available() else \"mps\" if torch.backends.mps.is_available() else \"cpu\"\n",
    "print(f\"Using {device} device\")\n",
    "\n",
    "y.columns = [\"label\"]\n",
    "\n",
    "# Fill NaNs\n",
    "X = X.fillna(method='bfill')\n",
    "\n",
    "# Put in torch tensors\n",
    "X_pt = torch.from_numpy(X.to_numpy()).float().to(device)\n",
    "y_pt = torch.from_numpy(y.to_numpy()).float().to(device)\n",
    "\n",
    "# train-test split\n",
    "\n",
    "from sklearn.model_selection import train_test_split\n",
    "\n",
    "(X_train, X_test, y_train, y_test) = train_test_split(X_pt, y_pt, test_size=0.2)"
   ]
  },
  {
   "attachments": {},
   "cell_type": "markdown",
   "metadata": {},
   "source": [
    "# Neural network"
   ]
  },
  {
   "cell_type": "code",
   "execution_count": 127,
   "metadata": {},
   "outputs": [
    {
     "data": {
      "text/plain": [
       "tensor([[-0.1700],\n",
       "        [-0.6913],\n",
       "        [    nan],\n",
       "        ...,\n",
       "        [-0.6913],\n",
       "        [-0.6950],\n",
       "        [-0.6950]], device='cuda:0', grad_fn=<AddBackward0>)"
      ]
     },
     "execution_count": 127,
     "metadata": {},
     "output_type": "execute_result"
    }
   ],
   "source": [
    "# Hidden layer\n",
    "\n",
    "# X_test:   70306 x 300\n",
    "# W1:         300 x  10\n",
    "# b1:                10 -> broadcasted to 70306 x 10\n",
    "W1 = torch.rand(300, 10, requires_grad=True).to(device)\n",
    "b1 = torch.rand(10, requires_grad=True).to(device)\n",
    "h1 = nn.ReLU()(X_test @ W1 + b1)\n",
    "\n",
    "# Output Layer\n",
    "# h1:   70306 x 10\n",
    "# W2:      10 x  1\n",
    "# b2:            1 -> broadcasted to 70306 x 1\n",
    "W2 = torch.rand(10, 1, requires_grad=True).to(device)\n",
    "b2 = torch.rand(1, requires_grad=True).to(device)\n",
    "logits = h1 @ W2 + b2\n",
    "probs = 1 / (1 + torch.exp(-logits)) # sigmoid\n",
    "\n",
    "loss = y_test * torch.log(probs) + (1-y_test) * torch.log(1-probs)\n",
    "loss"
   ]
  },
  {
   "cell_type": "code",
   "execution_count": 129,
   "metadata": {},
   "outputs": [
    {
     "data": {
      "text/plain": [
       "tensor([2208.2280], device='cuda:0', grad_fn=<UnbindBackward0>)"
      ]
     },
     "execution_count": 129,
     "metadata": {},
     "output_type": "execute_result"
    }
   ],
   "source": [
    "logits"
   ]
  },
  {
   "attachments": {},
   "cell_type": "markdown",
   "metadata": {},
   "source": [
    "## Pytorch Class Model\n",
    "- input layer 300 -> 10\n",
    "- activation function ReLU\n",
    "- hidden layer 10 -> 1\n",
    "- output function Tanh"
   ]
  },
  {
   "cell_type": "code",
   "execution_count": 14,
   "metadata": {},
   "outputs": [],
   "source": [
    "class MLP(nn.Module):\n",
    "    def __init__(self):\n",
    "        super().__init__()\n",
    "        self.linear_relu_stack = nn.Sequential(\n",
    "            nn.Linear(300, 10),\n",
    "            nn.ReLU(),\n",
    "            nn.Linear(10, 1)\n",
    "        )\n",
    "    \n",
    "    def forward(self, x):\n",
    "        logits = self.linear_relu_stack(x)\n",
    "        return logits    "
   ]
  },
  {
   "cell_type": "markdown",
   "metadata": {},
   "source": [
    "### Train Model"
   ]
  },
  {
   "cell_type": "code",
   "execution_count": null,
   "metadata": {},
   "outputs": [],
   "source": [
    "model = MLP().to(device)\n",
    "\n",
    "# Loss function and optimizer\n",
    "loss_fn = nn.BCEWithLogitsLoss()\n",
    "optimizer = torch.optim.SGD(model.parameters(), lr=1e-3)\n",
    "\n",
    "model.train()\n",
    "\n",
    "epochs = 1000\n",
    "for i in range(epochs):\n",
    "    # Predict and calulate loss on X train\n",
    "    pred = model(X_train)\n",
    "    loss = loss_fn(pred, y_train)\n",
    "\n",
    "    # Backpropagation\n",
    "    optimizer.zero_grad()\n",
    "    loss.backward()\n",
    "    optimizer.step()\n",
    "    if i%50 == 0:\n",
    "        print(f\"Epoch {i}: \", end='')\n",
    "        print(f'\\tLoss={loss.item()}')"
   ]
  },
  {
   "attachments": {},
   "cell_type": "markdown",
   "metadata": {},
   "source": [
    "### Test Model"
   ]
  },
  {
   "cell_type": "code",
   "execution_count": null,
   "metadata": {},
   "outputs": [],
   "source": [
    "model.eval()\n",
    "with torch.no_grad():\n",
    "    pred = model(X_test)\n",
    "\n",
    "loss = loss_fn(pred, y_test).item()\n",
    "\n",
    "# couldn't help but make this a one-liner but not sure about this, how to choose whether pred is 0 or 1 label? (right now: 1 if pred >=0 else 0)\n",
    "accuracy = (y_test.to('cpu').numpy() == np.array([ (lambda p: 1 if p>=0 else 0)(p) for p in pred.detach().to('cpu').numpy()]).reshape(-1,1)).sum()/len(y_test)\n",
    "\n",
    "print(f'Test Loss: {loss:.3}')\n",
    "print(f'Accuracy: {100*accuracy:.3}%')"
   ]
  },
  {
   "attachments": {},
   "cell_type": "markdown",
   "metadata": {},
   "source": [
    "# Test on Continous Signal"
   ]
  },
  {
   "cell_type": "code",
   "execution_count": 10,
   "metadata": {},
   "outputs": [
    {
     "data": {
      "text/html": [
       "<div>\n",
       "<style scoped>\n",
       "    .dataframe tbody tr th:only-of-type {\n",
       "        vertical-align: middle;\n",
       "    }\n",
       "\n",
       "    .dataframe tbody tr th {\n",
       "        vertical-align: top;\n",
       "    }\n",
       "\n",
       "    .dataframe thead th {\n",
       "        text-align: right;\n",
       "    }\n",
       "</style>\n",
       "<table border=\"1\" class=\"dataframe\">\n",
       "  <thead>\n",
       "    <tr style=\"text-align: right;\">\n",
       "      <th></th>\n",
       "      <th>0</th>\n",
       "      <th>1</th>\n",
       "      <th>2</th>\n",
       "      <th>3</th>\n",
       "      <th>4</th>\n",
       "      <th>5</th>\n",
       "      <th>6</th>\n",
       "      <th>7</th>\n",
       "      <th>8</th>\n",
       "      <th>9</th>\n",
       "      <th>10</th>\n",
       "    </tr>\n",
       "  </thead>\n",
       "  <tbody>\n",
       "    <tr>\n",
       "      <th>0</th>\n",
       "      <td>86932173146667</td>\n",
       "      <td>0</td>\n",
       "      <td>0.823242</td>\n",
       "      <td>0.227417</td>\n",
       "      <td>10.031250</td>\n",
       "      <td>0</td>\n",
       "      <td>0</td>\n",
       "      <td>19-Apr-22 11:25:49</td>\n",
       "      <td>ACCEL</td>\n",
       "      <td>NONE</td>\n",
       "      <td>1</td>\n",
       "    </tr>\n",
       "    <tr>\n",
       "      <th>1</th>\n",
       "      <td>86932183046667</td>\n",
       "      <td>0</td>\n",
       "      <td>0.809082</td>\n",
       "      <td>0.318359</td>\n",
       "      <td>10.125000</td>\n",
       "      <td>0</td>\n",
       "      <td>0</td>\n",
       "      <td>19-Apr-22 11:25:49</td>\n",
       "      <td>ACCEL</td>\n",
       "      <td>NONE</td>\n",
       "      <td>2</td>\n",
       "    </tr>\n",
       "    <tr>\n",
       "      <th>2</th>\n",
       "      <td>86932192946667</td>\n",
       "      <td>0</td>\n",
       "      <td>0.749023</td>\n",
       "      <td>0.406982</td>\n",
       "      <td>10.031250</td>\n",
       "      <td>0</td>\n",
       "      <td>0</td>\n",
       "      <td>19-Apr-22 11:25:49</td>\n",
       "      <td>ACCEL</td>\n",
       "      <td>NONE</td>\n",
       "      <td>3</td>\n",
       "    </tr>\n",
       "    <tr>\n",
       "      <th>3</th>\n",
       "      <td>86932202846667</td>\n",
       "      <td>0</td>\n",
       "      <td>0.780273</td>\n",
       "      <td>0.437988</td>\n",
       "      <td>10.054688</td>\n",
       "      <td>0</td>\n",
       "      <td>0</td>\n",
       "      <td>19-Apr-22 11:25:49</td>\n",
       "      <td>ACCEL</td>\n",
       "      <td>NONE</td>\n",
       "      <td>4</td>\n",
       "    </tr>\n",
       "    <tr>\n",
       "      <th>4</th>\n",
       "      <td>86932212746667</td>\n",
       "      <td>0</td>\n",
       "      <td>0.878418</td>\n",
       "      <td>0.442871</td>\n",
       "      <td>10.179688</td>\n",
       "      <td>0</td>\n",
       "      <td>0</td>\n",
       "      <td>19-Apr-22 11:25:49</td>\n",
       "      <td>ACCEL</td>\n",
       "      <td>NONE</td>\n",
       "      <td>5</td>\n",
       "    </tr>\n",
       "    <tr>\n",
       "      <th>...</th>\n",
       "      <td>...</td>\n",
       "      <td>...</td>\n",
       "      <td>...</td>\n",
       "      <td>...</td>\n",
       "      <td>...</td>\n",
       "      <td>...</td>\n",
       "      <td>...</td>\n",
       "      <td>...</td>\n",
       "      <td>...</td>\n",
       "      <td>...</td>\n",
       "      <td>...</td>\n",
       "    </tr>\n",
       "    <tr>\n",
       "      <th>142495</th>\n",
       "      <td>88370976246667</td>\n",
       "      <td>0</td>\n",
       "      <td>-3.537109</td>\n",
       "      <td>1.498047</td>\n",
       "      <td>10.898438</td>\n",
       "      <td>5</td>\n",
       "      <td>3</td>\n",
       "      <td>19-Apr-22 11:49:49</td>\n",
       "      <td>ACCEL</td>\n",
       "      <td>Medication</td>\n",
       "      <td>142496</td>\n",
       "    </tr>\n",
       "    <tr>\n",
       "      <th>142496</th>\n",
       "      <td>88370986346667</td>\n",
       "      <td>0</td>\n",
       "      <td>-1.946289</td>\n",
       "      <td>-2.875000</td>\n",
       "      <td>8.726562</td>\n",
       "      <td>5</td>\n",
       "      <td>3</td>\n",
       "      <td>19-Apr-22 11:49:49</td>\n",
       "      <td>ACCEL</td>\n",
       "      <td>Medication</td>\n",
       "      <td>142497</td>\n",
       "    </tr>\n",
       "    <tr>\n",
       "      <th>142497</th>\n",
       "      <td>88370996446667</td>\n",
       "      <td>0</td>\n",
       "      <td>-2.613281</td>\n",
       "      <td>-1.670898</td>\n",
       "      <td>9.234375</td>\n",
       "      <td>5</td>\n",
       "      <td>3</td>\n",
       "      <td>19-Apr-22 11:49:49</td>\n",
       "      <td>ACCEL</td>\n",
       "      <td>Medication</td>\n",
       "      <td>142498</td>\n",
       "    </tr>\n",
       "    <tr>\n",
       "      <th>142498</th>\n",
       "      <td>88371006546667</td>\n",
       "      <td>0</td>\n",
       "      <td>-1.484375</td>\n",
       "      <td>-0.368652</td>\n",
       "      <td>9.132812</td>\n",
       "      <td>5</td>\n",
       "      <td>3</td>\n",
       "      <td>19-Apr-22 11:49:49</td>\n",
       "      <td>ACCEL</td>\n",
       "      <td>Medication</td>\n",
       "      <td>142499</td>\n",
       "    </tr>\n",
       "    <tr>\n",
       "      <th>142499</th>\n",
       "      <td>88371016646667</td>\n",
       "      <td>0</td>\n",
       "      <td>-4.023438</td>\n",
       "      <td>-0.528809</td>\n",
       "      <td>11.242188</td>\n",
       "      <td>5</td>\n",
       "      <td>3</td>\n",
       "      <td>19-Apr-22 11:49:49</td>\n",
       "      <td>ACCEL</td>\n",
       "      <td>Medication</td>\n",
       "      <td>142500</td>\n",
       "    </tr>\n",
       "  </tbody>\n",
       "</table>\n",
       "<p>142500 rows × 11 columns</p>\n",
       "</div>"
      ],
      "text/plain": [
       "                    0   1         2         3          4   5   6   \\\n",
       "0       86932173146667   0  0.823242  0.227417  10.031250   0   0   \n",
       "1       86932183046667   0  0.809082  0.318359  10.125000   0   0   \n",
       "2       86932192946667   0  0.749023  0.406982  10.031250   0   0   \n",
       "3       86932202846667   0  0.780273  0.437988  10.054688   0   0   \n",
       "4       86932212746667   0  0.878418  0.442871  10.179688   0   0   \n",
       "...                ...  ..       ...       ...        ...  ..  ..   \n",
       "142495  88370976246667   0 -3.537109  1.498047  10.898438   5   3   \n",
       "142496  88370986346667   0 -1.946289 -2.875000   8.726562   5   3   \n",
       "142497  88370996446667   0 -2.613281 -1.670898   9.234375   5   3   \n",
       "142498  88371006546667   0 -1.484375 -0.368652   9.132812   5   3   \n",
       "142499  88371016646667   0 -4.023438 -0.528809  11.242188   5   3   \n",
       "\n",
       "                        7      8           9       10  \n",
       "0       19-Apr-22 11:25:49  ACCEL        NONE       1  \n",
       "1       19-Apr-22 11:25:49  ACCEL        NONE       2  \n",
       "2       19-Apr-22 11:25:49  ACCEL        NONE       3  \n",
       "3       19-Apr-22 11:25:49  ACCEL        NONE       4  \n",
       "4       19-Apr-22 11:25:49  ACCEL        NONE       5  \n",
       "...                    ...    ...         ...     ...  \n",
       "142495  19-Apr-22 11:49:49  ACCEL  Medication  142496  \n",
       "142496  19-Apr-22 11:49:49  ACCEL  Medication  142497  \n",
       "142497  19-Apr-22 11:49:49  ACCEL  Medication  142498  \n",
       "142498  19-Apr-22 11:49:49  ACCEL  Medication  142499  \n",
       "142499  19-Apr-22 11:49:49  ACCEL  Medication  142500  \n",
       "\n",
       "[142500 rows x 11 columns]"
      ]
     },
     "execution_count": 10,
     "metadata": {},
     "output_type": "execute_result"
    }
   ],
   "source": [
    "df = pd.read_csv('data/16/raw_data.csv', header=None)\n",
    "df"
   ]
  }
 ],
 "metadata": {
  "kernelspec": {
   "display_name": "Python 3",
   "language": "python",
   "name": "python3"
  },
  "language_info": {
   "codemirror_mode": {
    "name": "ipython",
    "version": 3
   },
   "file_extension": ".py",
   "mimetype": "text/x-python",
   "name": "python",
   "nbconvert_exporter": "python",
   "pygments_lexer": "ipython3",
   "version": "3.10.6"
  },
  "orig_nbformat": 4
 },
 "nbformat": 4,
 "nbformat_minor": 2
}
