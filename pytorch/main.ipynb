{
 "cells": [
  {
   "cell_type": "code",
   "execution_count": 81,
   "metadata": {},
   "outputs": [],
   "source": [
    "import pandas as pd\n",
    "import numpy as np\n",
    "import torch\n",
    "from torch import nn\n",
    "import seaborn as sns\n",
    "import plotly.express as px\n",
    "import json"
   ]
  },
  {
   "cell_type": "code",
   "execution_count": 2,
   "metadata": {},
   "outputs": [
    {
     "name": "stdout",
     "output_type": "stream",
     "text": [
      "smoking_data/smoking_input.csv\n",
      "smoking_data/smoking_targets.csv\n"
     ]
    }
   ],
   "source": [
    "# Get raw, windowed data\n",
    "import os\n",
    "import urllib.request\n",
    "\n",
    "if not os.path.exists('./data/raw/smoking_input.csv') or not os.path.exists('./data/raw/smoking_targets.csv'):\n",
    "    os.system('mkdir -p data/raw')\n",
    "    urllib.request.urlretrieve(\"http://ifestos.cse.sc.edu/datasets/smoking_data.tar.gz\", \"data/smoking_data.tar.gz\")\n",
    "\n",
    "    os.system('tar -xzvf data/smoking_data.tar.gz -C data/raw/ --strip-components=1')"
   ]
  },
  {
   "cell_type": "code",
   "execution_count": 2,
   "metadata": {},
   "outputs": [],
   "source": [
    "# Load data\n",
    "X = pd.read_csv('data/raw/smoking_input.csv', header=None)\n",
    "y = pd.read_csv('data/raw/smoking_targets.csv', header=None)"
   ]
  },
  {
   "cell_type": "code",
   "execution_count": 3,
   "metadata": {},
   "outputs": [
    {
     "name": "stdout",
     "output_type": "stream",
     "text": [
      "Using cuda device\n"
     ]
    }
   ],
   "source": [
    "# Get cpu or gpu device for training\n",
    "device = \"cuda\" if torch.cuda.is_available() else \"mps\" if torch.backends.mps.is_available() else \"cpu\"\n",
    "print(f\"Using {device} device\")"
   ]
  },
  {
   "cell_type": "code",
   "execution_count": 4,
   "metadata": {},
   "outputs": [],
   "source": [
    "# Formatting & Preprocessing\n",
    "\n",
    "y.columns = [\"label\"]\n",
    "\n",
    "# Fill NaNs\n",
    "X = X.fillna(method='bfill')\n",
    "\n",
    "# Put in torch tensors\n",
    "X_pt = torch.from_numpy(X.to_numpy()).float().to(device)\n",
    "y_pt = torch.from_numpy(y.to_numpy()).float().to(device)\n",
    "\n",
    "# train-test split\n",
    "\n",
    "from sklearn.model_selection import train_test_split\n",
    "\n",
    "(X_train, X_test, y_train, y_test) = train_test_split(X_pt, y_pt, test_size=0.2)"
   ]
  },
  {
   "attachments": {},
   "cell_type": "markdown",
   "metadata": {},
   "source": [
    "# Neural network"
   ]
  },
  {
   "attachments": {},
   "cell_type": "markdown",
   "metadata": {},
   "source": [
    "## Pytorch Model\n",
    "- input layer 300 -> 10\n",
    "- activation function ReLU\n",
    "- hidden layer 10 -> 1\n",
    "- output function Tanh"
   ]
  },
  {
   "cell_type": "code",
   "execution_count": 8,
   "metadata": {},
   "outputs": [],
   "source": [
    "class MLP(nn.Module):\n",
    "    def __init__(self):\n",
    "        super().__init__()\n",
    "        self.linear_relu_stack = nn.Sequential(\n",
    "            nn.Linear(300, 10),\n",
    "            nn.ReLU(),\n",
    "            nn.Linear(10, 1)\n",
    "        )\n",
    "    \n",
    "    def forward(self, x):\n",
    "        logits = self.linear_relu_stack(x)\n",
    "        return logits  \n"
   ]
  },
  {
   "cell_type": "code",
   "execution_count": null,
   "metadata": {},
   "outputs": [],
   "source": [
    "\n",
    "model = MLP().to(device)"
   ]
  },
  {
   "cell_type": "markdown",
   "metadata": {},
   "source": [
    "### Train Model"
   ]
  },
  {
   "cell_type": "code",
   "execution_count": 9,
   "metadata": {},
   "outputs": [
    {
     "name": "stdout",
     "output_type": "stream",
     "text": [
      "Epoch 0: \tLoss=1.1477705240249634\n",
      "Epoch 100: \tLoss=0.062152549624443054\n",
      "Epoch 200: \tLoss=0.03356499224901199\n",
      "Epoch 300: \tLoss=0.01922791637480259\n",
      "Epoch 400: \tLoss=0.012007568031549454\n"
     ]
    }
   ],
   "source": [
    "# Loss function and optimizer\n",
    "loss_fn = nn.BCEWithLogitsLoss()\n",
    "optimizer = torch.optim.Adam(model.parameters(), lr=0.01)\n",
    "\n",
    "model.train()\n",
    "\n",
    "epochs = 500\n",
    "for i in range(epochs):\n",
    "    # Predict and calulate loss on X train\n",
    "    logits = model(X_train)\n",
    "    loss = loss_fn(logits, y_train)\n",
    "\n",
    "    # Backpropagation\n",
    "\n",
    "\n",
    "    optimizer.zero_grad()\n",
    "    loss.backward()\n",
    "    optimizer.step()\n",
    "    if i%100 == 0:\n",
    "        print(f\"Epoch {i}: \", end='')\n",
    "        print(f'\\tLoss={loss.item()}')"
   ]
  },
  {
   "attachments": {},
   "cell_type": "markdown",
   "metadata": {},
   "source": [
    "### Test Model"
   ]
  },
  {
   "cell_type": "code",
   "execution_count": 10,
   "metadata": {},
   "outputs": [
    {
     "name": "stdout",
     "output_type": "stream",
     "text": [
      "Test Loss: 0.01104\n",
      "Accuracy: 99.76%\n"
     ]
    }
   ],
   "source": [
    "model.eval()\n",
    "with torch.no_grad():\n",
    "    logits = model(X_test)\n",
    "\n",
    "    loss = loss_fn(logits, y_test)\n",
    "\n",
    "    pred = torch.round(nn.Sigmoid()(logits))\n",
    "    accuracy = (sum(y_test == pred) / len(y_test)).item()\n",
    "\n",
    "print(f'Test Loss: {loss:.4}')\n",
    "print(f'Accuracy: {100*accuracy:.4}%')"
   ]
  },
  {
   "cell_type": "code",
   "execution_count": 50,
   "metadata": {},
   "outputs": [],
   "source": [
    "# Save model\n",
    "\n",
    "os.system('mkdir model')\n",
    "torch.save(model.state_dict(), 'model/model.pt')"
   ]
  },
  {
   "attachments": {},
   "cell_type": "markdown",
   "metadata": {},
   "source": [
    "# Test on Continous Signal"
   ]
  },
  {
   "cell_type": "code",
   "execution_count": 15,
   "metadata": {},
   "outputs": [
    {
     "name": "stdout",
     "output_type": "stream",
     "text": [
      "Using cuda device\n"
     ]
    }
   ],
   "source": [
    "# Get cpu or gpu device for training\n",
    "device = \"cuda\" if torch.cuda.is_available() else \"mps\" if torch.backends.mps.is_available() else \"cpu\"\n",
    "print(f\"Using {device} device\")"
   ]
  },
  {
   "cell_type": "code",
   "execution_count": 16,
   "metadata": {},
   "outputs": [],
   "source": [
    "file_index = 16"
   ]
  },
  {
   "cell_type": "code",
   "execution_count": 17,
   "metadata": {},
   "outputs": [],
   "source": [
    "# Features\n",
    "\n",
    "raw = pd.read_csv(f'data/{file_index}/raw_data.csv', header=None)\n",
    "\n",
    "# Window Data\n",
    "df = raw[[2,3,4]]\n",
    "\n",
    "X = np.empty((len(df)-99, 300), dtype=float)\n",
    "for i in range(len(df)-99):\n",
    "    X[i] = df[i:i+100].to_numpy().T.flatten()"
   ]
  },
  {
   "cell_type": "code",
   "execution_count": 79,
   "metadata": {},
   "outputs": [],
   "source": [
    "# Labels\n",
    "annot = {}\n",
    "y = np.zeros((len(X)))\n",
    "\n",
    "\n",
    "with open(f'data/{file_index}/16_data.json') as f:\n",
    "    annot = json.load(f)\n",
    "\n",
    "for i in range(annot['start'], annot['end']):\n",
    "    for puff in annot['puffs']:\n",
    "        if i >= puff['start'] and i <= puff['end'] - 99:\n",
    "            y[i] = 1"
   ]
  },
  {
   "cell_type": "code",
   "execution_count": null,
   "metadata": {},
   "outputs": [],
   "source": [
    "# visualize true labels\n",
    "\n",
    "df['labels'] = np.pad(y*10, (0,99), mode='constant', constant_values=5)\n",
    "\n",
    "fig = px.line(data_frame=df.loc[::10,[2, \"labels\"]])\n",
    "fig.show(renderer='browser')"
   ]
  },
  {
   "cell_type": "code",
   "execution_count": 98,
   "metadata": {},
   "outputs": [
    {
     "name": "stdout",
     "output_type": "stream",
     "text": [
      "Accuracy: 96.13%\n"
     ]
    }
   ],
   "source": [
    "# Predict labels\n",
    "\n",
    "X_pt = torch.from_numpy(X).float().to(device)\n",
    "y_pt = torch.from_numpy(y).reshape(-1,1).float().to(device)\n",
    "\n",
    "model = MLP().to(device)\n",
    "model.load_state_dict(torch.load('model/model.pt'))\n",
    "model.eval()\n",
    "\n",
    "step = 10000    # for memory\n",
    "preds = []\n",
    "correct = 0\n",
    "for i in range(0, len(X_pt), step):\n",
    "    end = i+step if i+step < len(X_pt) else len(X_pt)\n",
    "    with torch.no_grad():\n",
    "        logits = model(X_pt[i:end])\n",
    "        pred = torch.round(nn.Sigmoid()(logits))\n",
    "        correct += sum(y_pt[i:end] == pred)\n",
    "        preds += pred.flatten().tolist()\n",
    "\n",
    "preds = np.array(preds)\n",
    "accuracy = (correct / len(y_pt)).item()\n",
    "print(f'Accuracy: {100*accuracy:.4}%')  # falsely high bc of all the true negatives"
   ]
  },
  {
   "cell_type": "code",
   "execution_count": 135,
   "metadata": {},
   "outputs": [
    {
     "name": "stdout",
     "output_type": "stream",
     "text": [
      "Accuracy in Smoking Session: 73.51%\n"
     ]
    },
    {
     "data": {
      "text/plain": [
       "13"
      ]
     },
     "execution_count": 135,
     "metadata": {},
     "output_type": "execute_result"
    }
   ],
   "source": [
    "# Calculate accuracy based on just the smoking session windows\n",
    "X_smoking = X[annot['start']:annot['end']]\n",
    "preds_smoking = preds[annot['start']:annot['end']]\n",
    "\n",
    "acc_smoking = sum(preds_smoking == y[annot['start']:annot['end']]) / len(preds_smoking)\n",
    "\n",
    "print(f'Accuracy in Smoking Session: {100*acc_smoking:.4}%')  # still high bc of the true negatives"
   ]
  },
  {
   "cell_type": "code",
   "execution_count": null,
   "metadata": {},
   "outputs": [
    {
     "name": "stdout",
     "output_type": "stream",
     "text": [
      "Accuracy in Smoking Session: 73.51%\n"
     ]
    }
   ],
   "source": [
    "# Calculate accuracy based on just the smoking session windows\n",
    "X_smoking = X[annot['start']:annot['end']]\n",
    "preds_smoking = preds[annot['start']:annot['end']]\n",
    "\n",
    "acc_smoking = sum(preds_smoking == y[annot['start']:annot['end']]) / len(preds_smoking)\n",
    "\n",
    "print(f'Accuracy in Smoking Session: {100*acc_smoking:.4}%')  # still high bc of the true negatives"
   ]
  },
  {
   "cell_type": "code",
   "execution_count": 140,
   "metadata": {},
   "outputs": [
    {
     "name": "stdout",
     "output_type": "stream",
     "text": [
      "Percent of positives predicted: 0.2674%\n"
     ]
    }
   ],
   "source": [
    "# Accuracy by true positives\n",
    "\n",
    "tps = 0\n",
    "for i in range(len(y)):\n",
    "    tps += (y[i] and preds[i])  # add one if both are 1\n",
    "\n",
    "# acc_tp = len(np.where(preds==1)[0]) / len(np.where(y==1)[0])\n",
    "acc_tp = tps / len(np.where(y==1)[0])\n",
    "print(f'Percent of positives predicted: {100*acc_tp:.4}%')  # oof"
   ]
  },
  {
   "cell_type": "code",
   "execution_count": 99,
   "metadata": {},
   "outputs": [
    {
     "name": "stderr",
     "output_type": "stream",
     "text": [
      "/tmp/ipykernel_2058143/4183707528.py:3: SettingWithCopyWarning:\n",
      "\n",
      "\n",
      "A value is trying to be set on a copy of a slice from a DataFrame.\n",
      "Try using .loc[row_indexer,col_indexer] = value instead\n",
      "\n",
      "See the caveats in the documentation: https://pandas.pydata.org/pandas-docs/stable/user_guide/indexing.html#returning-a-view-versus-a-copy\n",
      "\n"
     ]
    },
    {
     "name": "stdout",
     "output_type": "stream",
     "text": [
      "Opening in existing browser session.\n"
     ]
    },
    {
     "name": "stderr",
     "output_type": "stream",
     "text": [
      "Gtk-Message: 15:19:07.665: Failed to load module \"xapp-gtk3-module\"\n",
      "Gtk-Message: 15:19:07.666: Failed to load module \"appmenu-gtk-module\"\n"
     ]
    }
   ],
   "source": [
    "# Visualize predictions\n",
    "\n",
    "df['preds'] = np.pad(preds*10, (0, 99), mode='constant', constant_values=0)\n",
    "\n",
    "figure = px.line(df.loc[annot['start']:annot['end'], [2, 'labels', 'preds']])\n",
    "figure.show(renderer='browser')"
   ]
  }
 ],
 "metadata": {
  "kernelspec": {
   "display_name": "Python 3.10.6 64-bit",
   "language": "python",
   "name": "python3"
  },
  "language_info": {
   "codemirror_mode": {
    "name": "ipython",
    "version": 3
   },
   "file_extension": ".py",
   "mimetype": "text/x-python",
   "name": "python",
   "nbconvert_exporter": "python",
   "pygments_lexer": "ipython3",
   "version": "3.10.6"
  },
  "orig_nbformat": 4,
  "vscode": {
   "interpreter": {
    "hash": "916dbcbb3f70747c44a77c7bcd40155683ae19c65e1c03b4aa3499c5328201f1"
   }
  }
 },
 "nbformat": 4,
 "nbformat_minor": 2
}
