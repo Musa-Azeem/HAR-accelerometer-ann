{
 "cells": [
  {
   "cell_type": "code",
   "execution_count": null,
   "metadata": {},
   "outputs": [],
   "source": [
    "import pandas as pd\n",
    "import numpy as np\n",
    "import torch\n",
    "from torch import nn\n",
    "import seaborn as sns\n",
    "import plotly.express as px\n",
    "import json\n",
    "from sklearn.model_selection import train_test_split\n",
    "import matplotlib.pyplot as plt\n",
    "import os\n",
    "from torch.utils.data import TensorDataset,DataLoader\n",
    "from tqdm import tqdm\n",
    "from sklearn.metrics import confusion_matrix"
   ]
  },
  {
   "cell_type": "markdown",
   "metadata": {},
   "source": [
    "# Train Model"
   ]
  },
  {
   "cell_type": "code",
   "execution_count": null,
   "metadata": {},
   "outputs": [],
   "source": [
    "# Get cpu or gpu device for training\n",
    "device = \"cuda\" if torch.cuda.is_available() else \"mps\" if torch.backends.mps.is_available() else \"cpu\"\n",
    "print(f\"Using {device} device\")"
   ]
  },
  {
   "cell_type": "code",
   "execution_count": null,
   "metadata": {},
   "outputs": [],
   "source": [
    "# Define Model\n",
    "n_hl = 10\n",
    "\n",
    "class MLP(nn.Module):\n",
    "    def __init__(self):\n",
    "        super().__init__()\n",
    "        self.linear_relu_stack = nn.Sequential(\n",
    "            nn.Linear(300, n_hl),\n",
    "            nn.ReLU(),\n",
    "            nn.Linear(n_hl, 1)\n",
    "        )\n",
    "    \n",
    "    def forward(self, x):\n",
    "        logits = self.linear_relu_stack(x)\n",
    "        return logits  \n",
    "\n",
    "model = MLP().to(device)\n",
    "    \n",
    "criterion = nn.BCEWithLogitsLoss()\n",
    "optimizer = torch.optim.Adam(model.parameters(), lr=0.0001)"
   ]
  },
  {
   "cell_type": "code",
   "execution_count": null,
   "metadata": {},
   "outputs": [],
   "source": [
    "# Define training parameters and preapre dataloaders from saved datasets\n",
    "\n",
    "epochs = 25\n",
    "batch_size = 64\n",
    "\n",
    "losses = []\n",
    "test_losses = []\n",
    "\n",
    "train_dataset = torch.load('pipeline/datasets/train_dataset.pt')\n",
    "test_dataset = torch.load('pipeline/datasets/test_dataset.pt')\n",
    "\n",
    "train_length = len(train_dataset)\n",
    "test_length = len(test_dataset)\n",
    "\n",
    "train_dataloader = DataLoader(train_dataset, batch_size=batch_size)\n",
    "test_dataloader = DataLoader(test_dataset, batch_size=10000)    # batches for memory\n",
    "\n",
    "n_train_batches = len(train_dataloader)\n",
    "n_test_batches = len(test_dataloader)"
   ]
  },
  {
   "cell_type": "code",
   "execution_count": null,
   "metadata": {},
   "outputs": [],
   "source": [
    "# Train\n",
    "model.train()\n",
    "for epoch in range(epochs):\n",
    "    for X_train, y_train in train_dataloader:\n",
    "\n",
    "        X_train = X_train.to(device)\n",
    "        y_train = y_train.to(device)\n",
    "\n",
    "        # Forward Pass\n",
    "        logits = model(X_train)\n",
    "        loss = criterion(logits, y_train)\n",
    "\n",
    "        # Backward Pass\n",
    "        optimizer.zero_grad()\n",
    "        loss.backward()\n",
    "        optimizer.step()\n",
    "\n",
    "        losses.append(loss.item())\n",
    "    print(f'Epoch {epoch} - loss: {sum(losses[-n_train_batches:])/n_train_batches}')"
   ]
  },
  {
   "cell_type": "code",
   "execution_count": null,
   "metadata": {},
   "outputs": [],
   "source": [
    "# Plot loss curve at specified resolution\n",
    "res = 250\n",
    "plt.plot(torch.tensor(losses)[:len(losses)-len(losses)%res].view(-1,res).mean(1))\n",
    "plt.savefig('loss.jpg')"
   ]
  },
  {
   "cell_type": "code",
   "execution_count": null,
   "metadata": {},
   "outputs": [],
   "source": [
    "# Test on test dataset\n",
    "model.eval()\n",
    "\n",
    "preds = []\n",
    "n_correct = 0\n",
    "loss = 0\n",
    "\n",
    "for X_test, y_test in test_dataloader:\n",
    "    X_test = X_test.to(device)\n",
    "    y_test = y_test.to(device)\n",
    "\n",
    "    logits = model(X_test)\n",
    "    pred = torch.round(nn.Sigmoid()(logits))\n",
    "\n",
    "    n_correct += sum(y_test == pred)\n",
    "    preds += pred.flatten().tolist()\n",
    "    loss += criterion(logits, y_test).item()\n",
    "\n",
    "y_pred = np.array(preds).reshape(-1,1)\n",
    "accuracy = (n_correct / test_length).item()\n",
    "loss = loss/test_length\n",
    "print(f'Accuracy: {100*accuracy:.4}%')\n",
    "print(f'Loss: {loss:.5}')"
   ]
  },
  {
   "cell_type": "code",
   "execution_count": null,
   "metadata": {},
   "outputs": [],
   "source": [
    "# Heatmap\n",
    "\n",
    "y_true = test_dataset[:][1]\n",
    "\n",
    "fig,axes = plt.subplots(1,3,sharey=True,figsize=(10,5))\n",
    "sns.heatmap(confusion_matrix(y_true=y_true,y_pred=y_pred,normalize='true'),annot=True,ax=axes[0],cbar=False,fmt='.2f')\n",
    "sns.heatmap(confusion_matrix(y_true=y_true,y_pred=y_pred,normalize='pred'),annot=True,ax=axes[1],cbar=False,fmt='.2f')\n",
    "sns.heatmap(confusion_matrix(y_true=y_true,y_pred=y_pred),annot=True,ax=axes[2],cbar=False,fmt='.2f')\n",
    "axes[0].set_title('Recall')\n",
    "axes[1].set_title('Precision')\n",
    "axes[2].set_title('Count')\n",
    "plt.savefig(f'cm.jpg',dpi=200,bbox_inches='tight')"
   ]
  },
  {
   "cell_type": "code",
   "execution_count": null,
   "metadata": {},
   "outputs": [],
   "source": [
    "# Save model\n",
    "\n",
    "os.system('mkdir model')\n",
    "torch.save(model.state_dict(), 'model/model.pt')"
   ]
  }
 ],
 "metadata": {
  "kernelspec": {
   "display_name": "Python 3.10.6 64-bit",
   "language": "python",
   "name": "python3"
  },
  "language_info": {
   "codemirror_mode": {
    "name": "ipython",
    "version": 3
   },
   "file_extension": ".py",
   "mimetype": "text/x-python",
   "name": "python",
   "nbconvert_exporter": "python",
   "pygments_lexer": "ipython3",
   "version": "3.10.6"
  },
  "orig_nbformat": 4,
  "vscode": {
   "interpreter": {
    "hash": "916dbcbb3f70747c44a77c7bcd40155683ae19c65e1c03b4aa3499c5328201f1"
   }
  }
 },
 "nbformat": 4,
 "nbformat_minor": 2
}
