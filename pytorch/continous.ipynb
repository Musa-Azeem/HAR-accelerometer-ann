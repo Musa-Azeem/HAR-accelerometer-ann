{
 "cells": [
  {
   "cell_type": "code",
   "execution_count": 93,
   "metadata": {},
   "outputs": [],
   "source": [
    "import pandas as pd\n",
    "import numpy as np\n",
    "import torch\n",
    "from torch import nn\n",
    "import seaborn as sns\n",
    "import plotly.express as px\n",
    "import json\n",
    "from sklearn.model_selection import train_test_split\n",
    "import matplotlib.pyplot as plt\n",
    "import os"
   ]
  },
  {
   "cell_type": "markdown",
   "metadata": {},
   "source": [
    "# Read Data"
   ]
  },
  {
   "cell_type": "code",
   "execution_count": 94,
   "metadata": {},
   "outputs": [],
   "source": [
    "# make directories\n",
    "if not os.path.isdir('pipeline'):\n",
    "    os.system('mkdir -p pipeline')\n",
    "else:\n",
    "    print(\"pipeline directory already exists - delete or rename it\")"
   ]
  },
  {
   "cell_type": "code",
   "execution_count": 111,
   "metadata": {},
   "outputs": [
    {
     "name": "stderr",
     "output_type": "stream",
     "text": [
      "mkdir: cannot create directory ‘pipeline/1_xyz’: File exists\n"
     ]
    },
    {
     "name": "stdout",
     "output_type": "stream",
     "text": [
      "16\n",
      "Skipped 10\n",
      "Skipped 38\n",
      "47\n",
      "56\n",
      "61\n",
      "Skipped 26\n",
      "Skipped 52\n",
      "59\n"
     ]
    }
   ],
   "source": [
    "json_labels = {}\n",
    "\n",
    "total_length = 0\n",
    "nfiles = 5\n",
    "i=0\n",
    "\n",
    "raw_dir = './data'\n",
    "\n",
    "os.system('mkdir pipeline/1_xyz')\n",
    "\n",
    "for subdir in os.listdir(raw_dir):\n",
    "    is_annot = False\n",
    "    for file in os.listdir(f'./{raw_dir}/{subdir}'):\n",
    "        if file.endswith('.json'):      \n",
    "            # json files with annotations - dataset is annotated\n",
    "            i += 1\n",
    "            is_annot = True\n",
    "\n",
    "            # Read labels\n",
    "            with open(f'{raw_dir}/{subdir}/{file}', 'r') as f:\n",
    "                json_labels[subdir] = json.load(f)\n",
    "        \n",
    "        if is_annot and file.startswith('raw_data'):\n",
    "            # if dataset is annotated, read raw data file and save just x,y,z in 1_xyz dir\n",
    "            df = pd.read_csv(f'{raw_dir}/{subdir}/{file}', header=None, usecols=[2,3,4], names=['x','y','z'])\n",
    "            json_labels[subdir]['length'] = len(df)\n",
    "            total_length += len(df)\n",
    "            df.to_csv(f'pipeline/1_xyz/{subdir}.csv', index=False)\n",
    "\n",
    "    if(is_annot):\n",
    "        print(subdir)\n",
    "    else:\n",
    "        print(f'Skipped {subdir}')\n",
    "        \n",
    "    if i == nfiles:\n",
    "        break"
   ]
  },
  {
   "cell_type": "code",
   "execution_count": 96,
   "metadata": {},
   "outputs": [
    {
     "name": "stdout",
     "output_type": "stream",
     "text": [
      "Before (156000, 3)\n",
      "After (155901, 300)\n",
      "Before (206000, 3)\n",
      "After (205901, 300)\n",
      "Before (142500, 3)\n",
      "After (142401, 300)\n",
      "Before (207500, 3)\n",
      "After (207401, 300)\n",
      "Before (156000, 3)\n",
      "After (155901, 300)\n"
     ]
    }
   ],
   "source": [
    "# Window data\n",
    "\n",
    "os.system('mkdir pipeline/2_windowed')\n",
    "num_rows = 5000\n",
    "\n",
    "for i,file in enumerate(os.listdir('pipeline/1_xyz/')):\n",
    "    df = pd.read_csv(f'pipeline/1_xyz/{file}')\n",
    "    print(f'Before {df.shape}')\n",
    "    w = np.empty((len(df)-99, 300), dtype=float)\n",
    "    for j in range(len(df)-99):\n",
    "        w[j] = df[j:j+100].to_numpy().T.flatten()\n",
    "    print(f'After {w.shape}')\n",
    "    np.save(f'pipeline/2_windowed/{file.split(\".\")[0]}.npy', w)"
   ]
  },
  {
   "cell_type": "code",
   "execution_count": 97,
   "metadata": {},
   "outputs": [],
   "source": [
    "# Labels\n",
    "\n",
    "os.system('mkdir pipeline/labels')\n",
    "\n",
    "for i, (key, annot) in enumerate(json_labels.items()):\n",
    "    l = np.zeros(annot['length'] - 99)\n",
    "    for j in range(annot['start'], annot['end']):\n",
    "        for puff in annot['puffs']:\n",
    "            if j >= puff['start'] and j <= puff['end']:\n",
    "                l[j] = 1\n",
    "    \n",
    "    np.save(f'pipeline/labels/{key}.npy', l)"
   ]
  },
  {
   "cell_type": "code",
   "execution_count": 99,
   "metadata": {},
   "outputs": [
    {
     "name": "stdout",
     "output_type": "stream",
     "text": [
      "Opening in existing browser session.\n"
     ]
    },
    {
     "name": "stderr",
     "output_type": "stream",
     "text": [
      "Gtk-Message: 13:58:25.289: Failed to load module \"xapp-gtk3-module\"\n",
      "Gtk-Message: 13:58:25.290: Failed to load module \"appmenu-gtk-module\"\n"
     ]
    }
   ],
   "source": [
    "# visualize true labels on continous signal\n",
    "i = 47\n",
    "labels = np.load(f'pipeline/labels/{i}.npy')\n",
    "\n",
    "df = pd.read_csv(f'pipeline/1_xyz/{i}.csv')\n",
    "df['label'] = np.pad(labels*10, (0,99), mode='constant', constant_values=0)\n",
    "\n",
    "fig = px.line(data_frame=df.loc[::10])\n",
    "fig.show(renderer='browser')"
   ]
  },
  {
   "cell_type": "markdown",
   "metadata": {},
   "source": [
    "# Train Model"
   ]
  },
  {
   "cell_type": "code",
   "execution_count": 100,
   "metadata": {},
   "outputs": [
    {
     "name": "stdout",
     "output_type": "stream",
     "text": [
      "Using cuda device\n"
     ]
    }
   ],
   "source": [
    "# Get cpu or gpu device for training\n",
    "device = \"cuda\" if torch.cuda.is_available() else \"mps\" if torch.backends.mps.is_available() else \"cpu\"\n",
    "print(f\"Using {device} device\")"
   ]
  },
  {
   "cell_type": "code",
   "execution_count": null,
   "metadata": {},
   "outputs": [],
   "source": [
    "# # Prepare Data for Pytorch\n",
    "# X_pt = torch.from_numpy(X).float()\n",
    "# y_pt = torch.from_numpy(y).reshape(-1,1).float()"
   ]
  },
  {
   "cell_type": "code",
   "execution_count": 75,
   "metadata": {},
   "outputs": [],
   "source": [
    "# Define Model\n",
    "class MLP(nn.Module):\n",
    "    def __init__(self):\n",
    "        super().__init__()\n",
    "        self.linear_relu_stack = nn.Sequential(\n",
    "            nn.Linear(300, 10),\n",
    "            nn.ReLU(),\n",
    "            nn.Linear(10, 1)\n",
    "        )\n",
    "    \n",
    "    def forward(self, x):\n",
    "        logits = self.linear_relu_stack(x)\n",
    "        return logits  \n"
   ]
  },
  {
   "cell_type": "code",
   "execution_count": 76,
   "metadata": {},
   "outputs": [],
   "source": [
    "def train(model, epochs, batch_size, loss_fn, optimizer, X_train, X_test, y_train, y_test):\n",
    "    losses = []\n",
    "    test_losses = []\n",
    "\n",
    "    model.train()\n",
    "    for i in range(epochs):\n",
    "        print(f'Epoch: {i}')\n",
    "        k = 0\n",
    "        for j in range(0, len(X_train), batch_size):\n",
    "            end = j+batch_size if j+batch_size < len(X_train) else len(X_train)\n",
    "\n",
    "            X_train_batch = X_train[j:end].to(device)\n",
    "            y_train_batch = y_train[j:end].to(device)\n",
    "\n",
    "            # Forward pass\n",
    "            logits = model(X_train_batch)\n",
    "\n",
    "            loss = loss_fn(logits, y_train_batch)\n",
    "\n",
    "            # Backward pass\n",
    "            optimizer.zero_grad()\n",
    "            loss.backward()\n",
    "            optimizer.step()\n",
    "\n",
    "            losses.append(loss.item())\n",
    "\n",
    "\n",
    "            # Test\n",
    "            test_end = j+batch_size if j+batch_size < len(X_test) else len(X_test)\n",
    "\n",
    "            X_test_batch = X_test[j:test_end].to(device)\n",
    "            y_test_batch = y_test[j:test_end].to(device)\n",
    "            test_logits = model(X_test_batch)\n",
    "            test_loss = loss_fn(test_logits, y_test_batch)\n",
    "            test_losses.append(test_loss.item())\n",
    "\n",
    "            if k%100 == 0:\n",
    "                print(f\"Batch {k}: \", end='')\n",
    "                print(f'\\tLoss={loss.item():.5}', end='')\n",
    "                print(f'\\tTest Loss={test_loss.item():.5}')\n",
    "            k += 1\n",
    "    \n",
    "    return (losses, test_losses)"
   ]
  },
  {
   "cell_type": "code",
   "execution_count": 77,
   "metadata": {},
   "outputs": [],
   "source": [
    "model = MLP().to(device)"
   ]
  },
  {
   "cell_type": "code",
   "execution_count": 124,
   "metadata": {},
   "outputs": [
    {
     "name": "stdout",
     "output_type": "stream",
     "text": [
      "(867505, 1)\n",
      "[-1.9003906 -1.8066406 -1.7373047 -1.6845703 -1.7207031 -1.8525391\n",
      " -1.9462891 -1.9316406 -1.8476562 -1.8740234 -2.0253906 -2.0683594\n",
      " -2.0175781 -1.8984375 -1.8857422 -1.9101562 -1.9267578 -1.9697266\n",
      " -1.953125  -1.9199219 -1.9365234 -1.953125  -1.9384766 -1.9072266\n",
      " -1.9775391 -2.0703125 -2.0585938 -2.0175781 -1.9814453 -1.9599609\n",
      " -1.9003906 -1.8691406 -1.8623047 -1.8144531 -1.6875    -1.6181641\n",
      " -1.7089844 -1.7734375 -1.7929688 -1.9052734 -2.0410156 -2.0898438\n",
      " -2.0820312 -2.0957031 -2.1601562 -2.1054688 -2.0742188 -2.0175781\n",
      " -2.0292969 -1.9863281 -1.9101562 -1.8330078 -1.8291016 -1.9199219\n",
      " -1.9365234 -1.8886719 -1.8935547 -1.8740234 -1.8310547 -1.8027344\n",
      " -1.65625   -1.5869141 -1.5869141 -1.6201172 -1.7666016 -1.890625\n",
      " -1.921875  -1.9052734 -1.8330078 -1.7763672 -1.8046875 -1.8574219\n",
      " -1.8769531 -1.9580078 -2.078125  -2.0917969 -2.1035156 -2.1914062\n",
      " -2.1542969 -2.1582031 -2.1855469 -2.1816406 -2.0996094 -2.0253906\n",
      " -1.9990234 -1.9599609 -1.9580078 -1.9697266 -1.984375  -1.9775391\n",
      " -1.9267578 -1.9052734 -2.0371094 -2.1523438 -2.2304688 -2.2441406\n",
      " -2.1777344 -2.1289062 -2.1035156 -2.0996094  2.8144531  2.75\n",
      "  2.5722656  2.421875   2.3964844  2.5371094  2.7792969  2.8847656\n",
      "  2.8242188  2.7167969  2.5273438  2.375      2.4570312  2.6972656\n",
      "  2.7910156  2.7636719  2.7578125  2.65625    2.4863281  2.3769531\n",
      "  2.3515625  2.3476562  2.375      2.3339844  2.2617188  2.2285156\n",
      "  2.2265625  2.28125    2.3476562  2.34375    2.3144531  2.28125\n",
      "  2.2382812  2.2929688  2.4023438  2.4335938  2.4101562  2.4042969\n",
      "  2.3554688  2.2832031  2.1953125  2.1855469  2.2617188  2.2304688\n",
      "  2.1484375  2.2402344  2.375      2.3085938  2.1738281  2.09375\n",
      "  2.0507812  2.015625   2.0527344  2.2070312  2.1914062  2.0703125\n",
      "  2.0332031  2.0527344  2.0996094  2.09375    2.0488281  2.0117188\n",
      "  2.0195312  1.9912109  2.0410156  2.1464844  2.15625    2.1464844\n",
      "  2.1601562  2.1679688  2.1601562  2.15625    2.1367188  2.1074219\n",
      "  2.0507812  2.0253906  2.0742188  2.2226562  2.1679688  2.0507812\n",
      "  2.0078125  2.0507812  2.1289062  2.2128906  2.2871094  2.2167969\n",
      "  2.1035156  2.09375    2.0292969  1.9990234  2.1035156  2.1855469\n",
      "  2.2011719  2.1113281  2.0253906  1.9628906  1.9169922  1.8671875\n",
      "  1.8359375  1.8642578  9.4765625  9.4453125  9.3984375  9.3515625\n",
      "  9.34375    9.4375     9.4921875  9.4765625  9.484375   9.453125\n",
      "  9.3984375  9.3203125  9.40625    9.4609375  9.5234375  9.53125\n",
      "  9.46875    9.421875   9.375      9.3515625  9.3203125  9.2890625\n",
      "  9.28125    9.2421875  9.3203125  9.375      9.359375   9.4375\n",
      "  9.5        9.59375    9.6171875  9.5546875  9.4921875  9.484375\n",
      "  9.578125   9.578125   9.5703125  9.625      9.625      9.6171875\n",
      "  9.625      9.6328125  9.5859375  9.5625     9.5859375  9.6171875\n",
      "  9.6796875  9.6796875  9.65625    9.625      9.6015625  9.6328125\n",
      "  9.6796875  9.7890625  9.8359375  9.7890625  9.7421875  9.75\n",
      "  9.671875   9.6015625  9.640625   9.65625    9.71875    9.71875\n",
      "  9.6875     9.640625   9.59375    9.5703125  9.578125   9.53125\n",
      "  9.46875    9.4296875  9.3828125  9.3984375  9.421875   9.3515625\n",
      "  9.3203125  9.3203125  9.375      9.375      9.421875   9.5234375\n",
      "  9.5234375  9.5234375  9.578125   9.5625     9.5625     9.578125\n",
      "  9.6171875  9.6171875  9.6171875  9.6875     9.734375   9.6484375\n",
      "  9.4921875  9.453125   9.46875    9.5546875  9.625      9.6796875]\n"
     ]
    },
    {
     "data": {
      "text/plain": [
       "867505"
      ]
     },
     "execution_count": 124,
     "metadata": {},
     "output_type": "execute_result"
    }
   ],
   "source": [
    "X = np.zeros((0, 300))\n",
    "y = np.zeros((0, 1))\n",
    "\n",
    "# Get X and y\n",
    "for file in os.listdir('pipeline/2_windowed'):\n",
    "    X = np.concatenate([X, np.load(f'pipeline/2_windowed/{file}')])\n",
    "    y = np.concatenate([y, np.load(f'pipeline/labels/{file}').reshape(-1,1)])"
   ]
  },
  {
   "cell_type": "code",
   "execution_count": 106,
   "metadata": {},
   "outputs": [
    {
     "name": "stdout",
     "output_type": "stream",
     "text": [
      "Starting file 47\n",
      "Batch 0: \tLoss=0.36105\tTest Loss=0.25988\n",
      "Batch 100: \tLoss=0.13024\tTest Loss=0.11171\n",
      "Batch 200: \tLoss=0.059678\tTest Loss=0.10581\n",
      "Batch 300: \tLoss=0.051927\tTest Loss=0.022507\n",
      "Batch 400: \tLoss=0.084085\tTest Loss=0.12683\n",
      "Batch 500: \tLoss=0.060093\tTest Loss=0.10556\n",
      "Batch 600: \tLoss=0.030768\tTest Loss=0.092163\n",
      "Starting file 59\n",
      "Batch 0: \tLoss=0.43432\tTest Loss=0.41763\n",
      "Batch 100: \tLoss=0.073547\tTest Loss=0.11882\n",
      "Batch 200: \tLoss=0.13922\tTest Loss=0.088461\n",
      "Batch 300: \tLoss=0.080599\tTest Loss=0.049551\n",
      "Batch 400: \tLoss=0.045343\tTest Loss=0.087375\n",
      "Batch 500: \tLoss=0.13691\tTest Loss=0.12193\n",
      "Batch 600: \tLoss=0.10053\tTest Loss=0.059013\n",
      "Batch 700: \tLoss=0.098748\tTest Loss=0.040098\n",
      "Batch 800: \tLoss=0.09064\tTest Loss=0.076462\n",
      "Starting file 61\n",
      "Batch 0: \tLoss=0.439\tTest Loss=0.37457\n",
      "Batch 100: \tLoss=0.20838\tTest Loss=0.11925\n",
      "Batch 200: \tLoss=0.13362\tTest Loss=0.20924\n",
      "Batch 300: \tLoss=0.097438\tTest Loss=0.19026\n",
      "Batch 400: \tLoss=0.078356\tTest Loss=0.097806\n",
      "Batch 500: \tLoss=0.15348\tTest Loss=0.17673\n",
      "Batch 600: \tLoss=0.11924\tTest Loss=0.13963\n",
      "Starting file 16\n",
      "Batch 0: \tLoss=0.12158\tTest Loss=0.16627\n",
      "Batch 100: \tLoss=0.069918\tTest Loss=0.080155\n",
      "Batch 200: \tLoss=0.060151\tTest Loss=0.10592\n",
      "Batch 300: \tLoss=0.043537\tTest Loss=0.072566\n",
      "Batch 400: \tLoss=0.045872\tTest Loss=0.12908\n",
      "Batch 500: \tLoss=0.079363\tTest Loss=0.10395\n",
      "Starting file 56\n",
      "Batch 0: \tLoss=0.045056\tTest Loss=0.081467\n",
      "Batch 100: \tLoss=0.042035\tTest Loss=0.036489\n",
      "Batch 200: \tLoss=0.07271\tTest Loss=0.018368\n",
      "Batch 300: \tLoss=0.051825\tTest Loss=0.021728\n",
      "Batch 400: \tLoss=0.1206\tTest Loss=0.049539\n",
      "Batch 500: \tLoss=0.028052\tTest Loss=0.013798\n",
      "Batch 600: \tLoss=0.11923\tTest Loss=0.12541\n",
      "Batch 700: \tLoss=0.15482\tTest Loss=0.036421\n",
      "Batch 800: \tLoss=0.17144\tTest Loss=0.036915\n",
      "Opening in existing browser session.\n"
     ]
    },
    {
     "name": "stderr",
     "output_type": "stream",
     "text": [
      "Gtk-Message: 14:10:00.034: Failed to load module \"xapp-gtk3-module\"\n",
      "Gtk-Message: 14:10:00.034: Failed to load module \"appmenu-gtk-module\"\n"
     ]
    }
   ],
   "source": [
    "# Train model\n",
    "\n",
    "loss_fn = nn.BCEWithLogitsLoss()\n",
    "optimizer = torch.optim.Adam(model.parameters(), lr=0.0001)\n",
    "\n",
    "epochs = 2\n",
    "batch_size = 128\n",
    "\n",
    "losses = []\n",
    "test_losses = []\n",
    "\n",
    "for file in os.listdir('pipeline/2_windowed'):\n",
    "    print(f'Starting file {file.split(\".\")[0]}')\n",
    "    X = torch.from_numpy(np.load(f'pipeline/2_windowed/{file}')).float()\n",
    "    y = torch.from_numpy(np.load(f'pipeline/labels/{file}')).reshape(-1,1).float()\n",
    "\n",
    "    (X_train, X_test, y_train, y_test) = train_test_split(X, y, test_size=0.5, stratify=y)\n",
    "\n",
    "    # (l, tl) = train(model, epochs, batch_size, loss_fn, optimizer, X_train, X_test, y_train, y_test)\n",
    "    k = 0\n",
    "    for j in range(0, len(X_train), batch_size):\n",
    "        end = j+batch_size if j+batch_size < len(X_train) else len(X_train)\n",
    "\n",
    "        X_train_batch = X_train[j:end].to(device)\n",
    "        y_train_batch = y_train[j:end].to(device)\n",
    "\n",
    "        # Forward pass\n",
    "        logits = model(X_train_batch)\n",
    "\n",
    "        loss = loss_fn(logits, y_train_batch)\n",
    "\n",
    "        # Backward pass\n",
    "        optimizer.zero_grad()\n",
    "        loss.backward()\n",
    "        optimizer.step()\n",
    "\n",
    "        losses.append(loss.item())\n",
    "\n",
    "\n",
    "        # Test\n",
    "        test_end = j+batch_size if j+batch_size < len(X_test) else len(X_test)\n",
    "\n",
    "        X_test_batch = X_test[j:test_end].to(device)\n",
    "        y_test_batch = y_test[j:test_end].to(device)\n",
    "        test_logits = model(X_test_batch)\n",
    "        test_loss = loss_fn(test_logits, y_test_batch)\n",
    "        test_losses.append(test_loss.item())\n",
    "\n",
    "        if k % 100 == 0:\n",
    "            print(f\"Batch {k}: \", end='')\n",
    "            print(f'\\tLoss={loss.item():.5}', end='')\n",
    "            print(f'\\tTest Loss={test_loss.item():.5}')\n",
    "        k += 1\n",
    "\n",
    "figure = px.line(pd.DataFrame({\"loss\": losses, \"validation loss\":test_losses}))\n",
    "figure.show(renderer='browser')"
   ]
  },
  {
   "cell_type": "code",
   "execution_count": null,
   "metadata": {},
   "outputs": [],
   "source": [
    "# Test by Predicting with Model\n",
    "\n",
    "# Get one file\n",
    "index = 1\n",
    "X_pred = torch.tensor(windowed[index]).float().to(device)\n",
    "y_true = torch.tensor(all_labels[index]).float().reshape(-1,1).to(device)\n",
    "\n",
    "model.eval()\n",
    "\n",
    "step = 10000    # for memory\n",
    "preds = []\n",
    "correct = 0\n",
    "loss = 0\n",
    "for i in range(0, len(X_pred), step):\n",
    "    end = i+step if i+step < len(X_pred) else len(X_pred)\n",
    "    with torch.no_grad():\n",
    "        logits = model(X_pred[i:end])\n",
    "        pred = torch.round(nn.Sigmoid()(logits))\n",
    "        correct += sum(y_true[i:end] == pred)\n",
    "        preds += pred.flatten().tolist()\n",
    "        loss += loss_fn(logits, y_true[i:end]).item()\n",
    "\n",
    "preds = np.array(preds).reshape(-1,1)\n",
    "accuracy = (correct / len(y_pt)).item()\n",
    "loss = loss/len(X_pred)\n",
    "print(f'Accuracy: {100*accuracy:.4}%')\n",
    "print(f'Loss: {loss:.4}')"
   ]
  },
  {
   "cell_type": "code",
   "execution_count": null,
   "metadata": {},
   "outputs": [],
   "source": [
    "# Visualize predictions\n",
    "df_pred = raw_dfs[index]\n",
    "df_pred['preds'] = np.pad(preds.flatten()*10, (0, 99), mode='constant', constant_values=0)\n",
    "\n",
    "figure = px.line(df_pred.loc[::10])\n",
    "figure.show(renderer='browser')"
   ]
  }
 ],
 "metadata": {
  "kernelspec": {
   "display_name": "Python 3.10.6 64-bit",
   "language": "python",
   "name": "python3"
  },
  "language_info": {
   "codemirror_mode": {
    "name": "ipython",
    "version": 3
   },
   "file_extension": ".py",
   "mimetype": "text/x-python",
   "name": "python",
   "nbconvert_exporter": "python",
   "pygments_lexer": "ipython3",
   "version": "3.10.6"
  },
  "orig_nbformat": 4,
  "vscode": {
   "interpreter": {
    "hash": "916dbcbb3f70747c44a77c7bcd40155683ae19c65e1c03b4aa3499c5328201f1"
   }
  }
 },
 "nbformat": 4,
 "nbformat_minor": 2
}
