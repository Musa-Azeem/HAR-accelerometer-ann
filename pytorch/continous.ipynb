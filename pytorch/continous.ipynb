{
 "cells": [
  {
   "cell_type": "code",
   "execution_count": 1,
   "metadata": {},
   "outputs": [],
   "source": [
    "import pandas as pd\n",
    "import numpy as np\n",
    "import torch\n",
    "from torch import nn\n",
    "import seaborn as sns\n",
    "import plotly.express as px\n",
    "import json\n",
    "from sklearn.model_selection import train_test_split\n",
    "import matplotlib.pyplot as plt\n",
    "import os"
   ]
  },
  {
   "cell_type": "markdown",
   "metadata": {},
   "source": [
    "# Read Data"
   ]
  },
  {
   "cell_type": "code",
   "execution_count": 7,
   "metadata": {},
   "outputs": [],
   "source": [
    "# make directories\n",
    "if not os.path.isdir('pipeline'):\n",
    "    os.system('mkdir -p pipeline')\n",
    "else:\n",
    "    print(\"pipeline directory already exists - delete or rename it\")"
   ]
  },
  {
   "cell_type": "code",
   "execution_count": 8,
   "metadata": {},
   "outputs": [
    {
     "name": "stdout",
     "output_type": "stream",
     "text": [
      "27\n",
      "58\n",
      "Skipped 29\n",
      "67\n",
      "Skipped 13\n",
      "53\n",
      "Skipped 7\n",
      "61\n"
     ]
    }
   ],
   "source": [
    "json_labels = {}\n",
    "\n",
    "total_length = 0\n",
    "nfiles = 5\n",
    "i=0\n",
    "\n",
    "raw_dir = './data'\n",
    "\n",
    "os.system('mkdir pipeline/1_xyz')\n",
    "\n",
    "for subdir in os.listdir(raw_dir):\n",
    "    if os.path.exists(f'{raw_dir}/{subdir}/{subdir}_data.json'):\n",
    "        # json files with annotations exists - dataset is annotated\n",
    "        i += 1\n",
    "\n",
    "        # Read labels\n",
    "        with open(f'{raw_dir}/{subdir}/{subdir}_data.json', 'r') as f:\n",
    "            json_labels[subdir] = json.load(f)\n",
    "        \n",
    "        # if dataset is annotated, read raw data file and save just x,y,z in 1_xyz dir\n",
    "        df = pd.read_csv(f'{raw_dir}/{subdir}/raw_data.csv', header=None, usecols=[2,3,4], names=['x','y','z'])\n",
    "        json_labels[subdir]['length'] = len(df)\n",
    "        total_length += len(df)\n",
    "        df.to_csv(f'pipeline/1_xyz/{subdir}.csv', index=False)\n",
    "\n",
    "        print(subdir)\n",
    "\n",
    "    else:\n",
    "        print(f'Skipped {subdir}')\n",
    "        \n",
    "    if i == nfiles:\n",
    "        break"
   ]
  },
  {
   "cell_type": "code",
   "execution_count": 11,
   "metadata": {},
   "outputs": [
    {
     "name": "stdout",
     "output_type": "stream",
     "text": [
      "Before (156000, 3)\n",
      "After (155901, 300)\n",
      "Before (173000, 3)\n",
      "After (172901, 300)\n",
      "Before (205500, 3)\n",
      "After (205401, 300)\n",
      "Before (155000, 3)\n",
      "After (154901, 300)\n",
      "Before (142000, 3)\n",
      "After (141901, 300)\n"
     ]
    }
   ],
   "source": [
    "# Window data\n",
    "\n",
    "os.system('mkdir pipeline/2_windowed')\n",
    "\n",
    "for i,file in enumerate(os.listdir('pipeline/1_xyz/')):\n",
    "    df = pd.read_csv(f'pipeline/1_xyz/{file}')\n",
    "    print(f'Before {df.shape}')\n",
    "    w = np.empty((len(df)-99, 300), dtype=float)\n",
    "    for j in range(len(df)-99):\n",
    "        w[j] = df[j:j+100].to_numpy().T.flatten()\n",
    "    print(f'After {w.shape}')\n",
    "    np.save(f'pipeline/2_windowed/{file.split(\".\")[0]}.npy', w)"
   ]
  },
  {
   "cell_type": "code",
   "execution_count": 12,
   "metadata": {},
   "outputs": [],
   "source": [
    "# Labels\n",
    "\n",
    "os.system('mkdir pipeline/labels')\n",
    "\n",
    "for i, (key, annot) in enumerate(json_labels.items()):\n",
    "    l = np.zeros(annot['length'] - 99)\n",
    "    for j in range(annot['start'], annot['end']):\n",
    "        for puff in annot['puffs']:\n",
    "            if j >= puff['start'] and j <= puff['end']:\n",
    "                l[j] = 1\n",
    "    \n",
    "    np.save(f'pipeline/labels/{key}.npy', l)"
   ]
  },
  {
   "cell_type": "code",
   "execution_count": 15,
   "metadata": {},
   "outputs": [],
   "source": [
    "# visualize true labels on continous signal\n",
    "i = 53\n",
    "labels = np.load(f'pipeline/labels/{i}.npy')\n",
    "\n",
    "df = pd.read_csv(f'pipeline/1_xyz/{i}.csv')\n",
    "df['label'] = np.pad(labels*10, (0,99), mode='constant', constant_values=0)\n",
    "\n",
    "fig = px.line(data_frame=df.loc[::10])\n",
    "fig.show(renderer='browser')"
   ]
  },
  {
   "cell_type": "markdown",
   "metadata": {},
   "source": [
    "# Train Model"
   ]
  },
  {
   "cell_type": "code",
   "execution_count": 16,
   "metadata": {},
   "outputs": [
    {
     "name": "stdout",
     "output_type": "stream",
     "text": [
      "Using cuda device\n"
     ]
    }
   ],
   "source": [
    "# Get cpu or gpu device for training\n",
    "device = \"cuda\" if torch.cuda.is_available() else \"mps\" if torch.backends.mps.is_available() else \"cpu\"\n",
    "print(f\"Using {device} device\")"
   ]
  },
  {
   "cell_type": "code",
   "execution_count": 17,
   "metadata": {},
   "outputs": [],
   "source": [
    "# Define Model\n",
    "class MLP(nn.Module):\n",
    "    def __init__(self):\n",
    "        super().__init__()\n",
    "        self.linear_relu_stack = nn.Sequential(\n",
    "            nn.Linear(300, 10),\n",
    "            nn.ReLU(),\n",
    "            nn.Linear(10, 1)\n",
    "        )\n",
    "    \n",
    "    def forward(self, x):\n",
    "        logits = self.linear_relu_stack(x)\n",
    "        return logits  \n",
    "\n",
    "model = MLP().to(device)\n",
    "    \n",
    "loss_fn = nn.BCEWithLogitsLoss()\n",
    "optimizer = torch.optim.Adam(model.parameters(), lr=0.0001)"
   ]
  },
  {
   "cell_type": "code",
   "execution_count": 18,
   "metadata": {},
   "outputs": [],
   "source": [
    "def train(model, epochs, batch_size, loss_fn, optimizer, X_train, X_test, y_train, y_test):\n",
    "    losses = []\n",
    "    test_losses = []\n",
    "\n",
    "    model.train()\n",
    "    for i in range(epochs):\n",
    "        print(f'Epoch: {i}')\n",
    "        k = 0\n",
    "        for j in range(0, len(X_train), batch_size):\n",
    "            end = j+batch_size if j+batch_size < len(X_train) else len(X_train)\n",
    "\n",
    "            X_train_batch = X_train[j:end].to(device)\n",
    "            y_train_batch = y_train[j:end].to(device)\n",
    "\n",
    "            # Forward pass\n",
    "            logits = model(X_train_batch)\n",
    "\n",
    "            loss = loss_fn(logits, y_train_batch)\n",
    "\n",
    "            # Backward pass\n",
    "            optimizer.zero_grad()\n",
    "            loss.backward()\n",
    "            optimizer.step()\n",
    "\n",
    "            losses.append(loss.item())\n",
    "\n",
    "\n",
    "            # Test\n",
    "            test_end = j+batch_size if j+batch_size < len(X_test) else len(X_test)\n",
    "\n",
    "            X_test_batch = X_test[j:test_end].to(device)\n",
    "            y_test_batch = y_test[j:test_end].to(device)\n",
    "            test_logits = model(X_test_batch)\n",
    "            test_loss = loss_fn(test_logits, y_test_batch)\n",
    "            test_losses.append(test_loss.item())\n",
    "\n",
    "            if k%100 == 0:\n",
    "                print(f\"Batch {k}: \", end='')\n",
    "                print(f'\\tLoss={loss.item():.5}', end='')\n",
    "                print(f'\\tTest Loss={test_loss.item():.5}')\n",
    "            k += 1\n",
    "    \n",
    "    return (losses, test_losses)"
   ]
  },
  {
   "cell_type": "code",
   "execution_count": 19,
   "metadata": {},
   "outputs": [],
   "source": [
    "X = np.zeros((0, 300))\n",
    "y = np.zeros((0, 1))\n",
    "\n",
    "# Get X and y\n",
    "for file in os.listdir('pipeline/2_windowed'):\n",
    "    X = np.concatenate([X, np.load(f'pipeline/2_windowed/{file}')])\n",
    "    y = np.concatenate([y, np.load(f'pipeline/labels/{file}').reshape(-1,1)])"
   ]
  },
  {
   "cell_type": "code",
   "execution_count": 20,
   "metadata": {},
   "outputs": [
    {
     "name": "stdout",
     "output_type": "stream",
     "text": [
      "Starting file 58\n",
      "Batch 0: \tLoss=0.65312\tTest Loss=0.61859\n",
      "Batch 100: \tLoss=0.083986\tTest Loss=0.10501\n",
      "Batch 200: \tLoss=0.12874\tTest Loss=0.066273\n",
      "Batch 300: \tLoss=0.092118\tTest Loss=0.04721\n",
      "Batch 400: \tLoss=0.08628\tTest Loss=0.097426\n",
      "Batch 500: \tLoss=0.16838\tTest Loss=0.087953\n",
      "Batch 600: \tLoss=0.065063\tTest Loss=0.083355\n",
      "Batch 700: \tLoss=0.074287\tTest Loss=0.082098\n",
      "Batch 800: \tLoss=0.050943\tTest Loss=0.076156\n",
      "Starting file 61\n",
      "Batch 0: \tLoss=0.29975\tTest Loss=0.28051\n",
      "Batch 100: \tLoss=0.21634\tTest Loss=0.19925\n",
      "Batch 200: \tLoss=0.1085\tTest Loss=0.14408\n",
      "Batch 300: \tLoss=0.14958\tTest Loss=0.13052\n",
      "Batch 400: \tLoss=0.15751\tTest Loss=0.15359\n",
      "Batch 500: \tLoss=0.20926\tTest Loss=0.15518\n",
      "Batch 600: \tLoss=0.12605\tTest Loss=0.13361\n",
      "Starting file 53\n",
      "Batch 0: \tLoss=0.11294\tTest Loss=0.023258\n",
      "Batch 100: \tLoss=0.12734\tTest Loss=0.17019\n",
      "Batch 200: \tLoss=0.10555\tTest Loss=0.093085\n",
      "Batch 300: \tLoss=0.13942\tTest Loss=0.064525\n",
      "Batch 400: \tLoss=0.19428\tTest Loss=0.11779\n",
      "Batch 500: \tLoss=0.062048\tTest Loss=0.073279\n",
      "Batch 600: \tLoss=0.081581\tTest Loss=0.077147\n",
      "Starting file 27\n",
      "Batch 0: \tLoss=0.45434\tTest Loss=0.26867\n",
      "Batch 100: \tLoss=0.083706\tTest Loss=0.08899\n",
      "Batch 200: \tLoss=0.10284\tTest Loss=0.061839\n",
      "Batch 300: \tLoss=0.12826\tTest Loss=0.096983\n",
      "Batch 400: \tLoss=0.10234\tTest Loss=0.12111\n",
      "Batch 500: \tLoss=0.07807\tTest Loss=0.073582\n",
      "Starting file 67\n",
      "Batch 0: \tLoss=0.63366\tTest Loss=0.35397\n",
      "Batch 100: \tLoss=0.2606\tTest Loss=0.17023\n",
      "Batch 200: \tLoss=0.14214\tTest Loss=0.15052\n",
      "Batch 300: \tLoss=0.20471\tTest Loss=0.18847\n",
      "Batch 400: \tLoss=0.20293\tTest Loss=0.15548\n",
      "Batch 500: \tLoss=0.2807\tTest Loss=0.13837\n",
      "Batch 600: \tLoss=0.12456\tTest Loss=0.15107\n"
     ]
    }
   ],
   "source": [
    "# Train model\n",
    "\n",
    "epochs = 2\n",
    "batch_size = 128\n",
    "\n",
    "losses = []\n",
    "test_losses = []\n",
    "\n",
    "for file in os.listdir('pipeline/2_windowed'):\n",
    "    print(f'Starting file {file.split(\".\")[0]}')\n",
    "    X = torch.from_numpy(np.load(f'pipeline/2_windowed/{file}')).float()\n",
    "    y = torch.from_numpy(np.load(f'pipeline/labels/{file}')).reshape(-1,1).float()\n",
    "\n",
    "    (X_train, X_test, y_train, y_test) = train_test_split(X, y, test_size=0.5, stratify=y)\n",
    "\n",
    "    # (l, tl) = train(model, epochs, batch_size, loss_fn, optimizer, X_train, X_test, y_train, y_test)\n",
    "    k = 0\n",
    "    for j in range(0, len(X_train), batch_size):\n",
    "        end = j+batch_size if j+batch_size < len(X_train) else len(X_train)\n",
    "\n",
    "        X_train_batch = X_train[j:end].to(device)\n",
    "        y_train_batch = y_train[j:end].to(device)\n",
    "\n",
    "        # Forward pass\n",
    "        logits = model(X_train_batch)\n",
    "\n",
    "        loss = loss_fn(logits, y_train_batch)\n",
    "\n",
    "        # Backward pass\n",
    "        optimizer.zero_grad()\n",
    "        loss.backward()\n",
    "        optimizer.step()\n",
    "\n",
    "        losses.append(loss.item())\n",
    "\n",
    "\n",
    "        # Test\n",
    "        test_end = j+batch_size if j+batch_size < len(X_test) else len(X_test)\n",
    "\n",
    "        X_test_batch = X_test[j:test_end].to(device)\n",
    "        y_test_batch = y_test[j:test_end].to(device)\n",
    "        test_logits = model(X_test_batch)\n",
    "        test_loss = loss_fn(test_logits, y_test_batch)\n",
    "        test_losses.append(test_loss.item())\n",
    "\n",
    "        if k % 100 == 0:\n",
    "            print(f\"Batch {k}: \", end='')\n",
    "            print(f'\\tLoss={loss.item():.5}', end='')\n",
    "            print(f'\\tTest Loss={test_loss.item():.5}')\n",
    "        k += 1\n",
    "\n",
    "figure = px.line(pd.DataFrame({\"loss\": losses, \"validation loss\":test_losses}))\n",
    "figure.show(renderer='browser')"
   ]
  },
  {
   "cell_type": "code",
   "execution_count": 27,
   "metadata": {},
   "outputs": [
    {
     "name": "stdout",
     "output_type": "stream",
     "text": [
      "Accuracy: 96.67%\n",
      "Loss: 1.537e-05\n"
     ]
    }
   ],
   "source": [
    "# Test by Predicting with Model\n",
    "\n",
    "# Get one file\n",
    "index = 53\n",
    "X_pred = torch.from_numpy(np.load(f'pipeline/2_windowed/{index}.npy')).float()\n",
    "y_true = torch.from_numpy(np.load(f'pipeline/labels/{index}.npy')).reshape(-1,1).float()\n",
    "\n",
    "model.eval()\n",
    "\n",
    "step = 10000    # for memory\n",
    "preds = []\n",
    "correct = 0\n",
    "loss = 0\n",
    "for i in range(0, len(X_pred), step):\n",
    "    end = i+step if i+step < len(X_pred) else len(X_pred)\n",
    "\n",
    "    X_batch = X_pred[i:end].to(device)    \n",
    "    y_true_batch = y_true[i:end].to(device)\n",
    "\n",
    "    logits = model(X_batch)\n",
    "    pred = torch.round(nn.Sigmoid()(logits))\n",
    "    correct += sum(y_true_batch == pred)\n",
    "    preds += pred.flatten().tolist()\n",
    "    loss += loss_fn(logits, y_true_batch).item()\n",
    "\n",
    "preds = np.array(preds).reshape(-1,1)\n",
    "accuracy = (correct / len(y_true)).item()\n",
    "loss = loss/len(X_pred)\n",
    "print(f'Accuracy: {100*accuracy:.4}%')\n",
    "print(f'Loss: {loss:.4}')"
   ]
  },
  {
   "cell_type": "code",
   "execution_count": 28,
   "metadata": {},
   "outputs": [],
   "source": [
    "# Visualize predictions\n",
    "df_pred = pd.read_csv(f'pipeline/1_xyz/{index}.csv')\n",
    "df_pred['preds'] = np.pad(preds.flatten()*10, (0, 99), mode='constant', constant_values=0)\n",
    "\n",
    "figure = px.line(df_pred.loc[::10])\n",
    "figure.show(renderer='browser')"
   ]
  },
  {
   "cell_type": "code",
   "execution_count": 29,
   "metadata": {},
   "outputs": [
    {
     "data": {
      "text/plain": [
       "<AxesSubplot: >"
      ]
     },
     "execution_count": 29,
     "metadata": {},
     "output_type": "execute_result"
    },
    {
     "data": {
      "image/png": "[encoded data removed]",
      "text/plain": [
       "<Figure size 640x480 with 2 Axes>"
      ]
     },
     "metadata": {},
     "output_type": "display_data"
    }
   ],
   "source": [
    "from sklearn.metrics import confusion_matrix\n",
    "\n",
    "cm = confusion_matrix(y_true.detach().to('cpu'), preds)\n",
    "sns.heatmap(cm, annot=True)"
   ]
  }
 ],
 "metadata": {
  "kernelspec": {
   "display_name": "Python 3.10.6 64-bit",
   "language": "python",
   "name": "python3"
  },
  "language_info": {
   "codemirror_mode": {
    "name": "ipython",
    "version": 3
   },
   "file_extension": ".py",
   "mimetype": "text/x-python",
   "name": "python",
   "nbconvert_exporter": "python",
   "pygments_lexer": "ipython3",
   "version": "3.10.6"
  },
  "orig_nbformat": 4,
  "vscode": {
   "interpreter": {
    "hash": "916dbcbb3f70747c44a77c7bcd40155683ae19c65e1c03b4aa3499c5328201f1"
   }
  }
 },
 "nbformat": 4,
 "nbformat_minor": 2
}
