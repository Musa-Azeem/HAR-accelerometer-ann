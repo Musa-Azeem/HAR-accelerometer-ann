{
 "cells": [
  {
   "cell_type": "code",
   "execution_count": 1,
   "metadata": {},
   "outputs": [],
   "source": [
    "import pandas as pd\n",
    "import numpy as np\n",
    "import torch\n",
    "from torch import nn\n",
    "import seaborn as sns\n",
    "import plotly.express as px\n",
    "import json\n",
    "from sklearn.model_selection import train_test_split\n",
    "import matplotlib.pyplot as plt\n",
    "import os\n",
    "from torch.utils.data import TensorDataset,DataLoader\n",
    "from tqdm import tqdm"
   ]
  },
  {
   "cell_type": "markdown",
   "metadata": {},
   "source": [
    "# Train Model"
   ]
  },
  {
   "cell_type": "code",
   "execution_count": null,
   "metadata": {},
   "outputs": [],
   "source": [
    "# Get cpu or gpu device for training\n",
    "device = \"cuda\" if torch.cuda.is_available() else \"mps\" if torch.backends.mps.is_available() else \"cpu\"\n",
    "print(f\"Using {device} device\")"
   ]
  },
  {
   "cell_type": "code",
   "execution_count": null,
   "metadata": {},
   "outputs": [],
   "source": [
    "# Define Model\n",
    "class MLP(nn.Module):\n",
    "    def __init__(self):\n",
    "        super().__init__()\n",
    "        self.linear_relu_stack = nn.Sequential(\n",
    "            nn.Linear(300, 10),\n",
    "            nn.ReLU(),\n",
    "            nn.Linear(10, 1)\n",
    "        )\n",
    "    \n",
    "    def forward(self, x):\n",
    "        logits = self.linear_relu_stack(x)\n",
    "        return logits  \n",
    "\n",
    "model = MLP().to(device)\n",
    "    \n",
    "criterion = nn.BCEWithLogitsLoss()\n",
    "optimizer = torch.optim.Adam(model.parameters(), lr=0.0001)"
   ]
  },
  {
   "cell_type": "code",
   "execution_count": null,
   "metadata": {},
   "outputs": [],
   "source": [
    "# Define training parameters and preapre dataloaders from saved datasets\n",
    "\n",
    "epochs = 10\n",
    "batch_size = 64\n",
    "\n",
    "losses = []\n",
    "test_losses = []\n",
    "\n",
    "train_dataset = torch.load('pipeline/datasets/train_dataset.pt')\n",
    "test_dataset = torch.load('pipeline/datasets/test_dataset.pt')\n",
    "\n",
    "train_length = len(train_dataset)\n",
    "test_length = len(test_dataset)\n",
    "\n",
    "train_dataloader = DataLoader(train_dataset, batch_size=batch_size)\n",
    "test_dataloader = DataLoader(test_dataset)"
   ]
  },
  {
   "cell_type": "code",
   "execution_count": null,
   "metadata": {},
   "outputs": [],
   "source": [
    "# Train\n",
    "\n",
    "for epoch in range(epochs):\n",
    "    for X_train_batch, y_train_batch in train_dataloader:\n",
    "        \n",
    "        X_train_batch = X_train_batch.to(device)\n",
    "        y_train_batch = y_train_batch.to(device)\n",
    "        \n",
    "        # Forward Pass\n",
    "        logits = model(X_train_batch)\n",
    "\n",
    "        loss = criterion(logits, y_train_batch)\n",
    "\n",
    "        # Backward Pass\n",
    "        optimizer.zero_grad\n",
    "        loss.backward()\n",
    "        optimizer.step()\n",
    "\n",
    "        losses.append(loss.cpu().item())\n",
    "    print(f'Epoch {epoch} - loss: {losses[-train_length:]/train_length}')"
   ]
  },
  {
   "cell_type": "code",
   "execution_count": null,
   "metadata": {},
   "outputs": [],
   "source": [
    "# Plot loss curve at specified resolution\n",
    "\n",
    "res = 100\n",
    "plt.plot(torch.tensor(losses)[:len(losses)-len(losses)%res].view(-1,res).mean(1))"
   ]
  },
  {
   "cell_type": "code",
   "execution_count": null,
   "metadata": {},
   "outputs": [],
   "source": [
    "# Save model\n",
    "\n",
    "torch.save"
   ]
  },
  {
   "attachments": {},
   "cell_type": "markdown",
   "metadata": {},
   "source": [
    "# Test"
   ]
  },
  {
   "cell_type": "code",
   "execution_count": null,
   "metadata": {},
   "outputs": [],
   "source": [
    "# Test by Predicting with Model\n",
    "\n",
    "# Get one file\n",
    "index = 53\n",
    "X_pred = torch.from_numpy(np.load(f'pipeline/2_windowed/{index}.npy')).float()\n",
    "y_true = torch.from_numpy(np.load(f'pipeline/labels/{index}.npy')).reshape(-1,1).float()\n",
    "\n",
    "model.eval()\n",
    "\n",
    "step = 10000    # for memory\n",
    "preds = []\n",
    "correct = 0\n",
    "loss = 0\n",
    "for i in range(0, len(X_pred), step):\n",
    "    end = i+step if i+step < len(X_pred) else len(X_pred)\n",
    "\n",
    "    X_batch = X_pred[i:end].to(device)    \n",
    "    y_true_batch = y_true[i:end].to(device)\n",
    "\n",
    "    logits = model(X_batch)\n",
    "    pred = torch.round(nn.Sigmoid()(logits))\n",
    "    correct += sum(y_true_batch == pred)\n",
    "    preds += pred.flatten().tolist()\n",
    "    loss += loss_fn(logits, y_true_batch).item()\n",
    "\n",
    "preds = np.array(preds).reshape(-1,1)\n",
    "accuracy = (correct / len(y_true)).item()\n",
    "loss = loss/len(X_pred)\n",
    "print(f'Accuracy: {100*accuracy:.4}%')\n",
    "print(f'Loss: {loss:.4}')"
   ]
  },
  {
   "cell_type": "code",
   "execution_count": null,
   "metadata": {},
   "outputs": [],
   "source": [
    "# Visualize predictions\n",
    "df_pred = pd.read_csv(f'pipeline/1_xyz/{index}.csv')\n",
    "df_pred['preds'] = np.pad(preds.flatten()*10, (0, 99), mode='constant', constant_values=0)\n",
    "\n",
    "figure = px.line(df_pred.loc[::10])\n",
    "figure.show(renderer='browser')"
   ]
  },
  {
   "cell_type": "code",
   "execution_count": null,
   "metadata": {},
   "outputs": [],
   "source": [
    "from sklearn.metrics import confusion_matrix\n",
    "\n",
    "cm = confusion_matrix(y_true.detach().to('cpu'), preds)\n",
    "sns.heatmap(cm, annot=True)"
   ]
  }
 ],
 "metadata": {
  "kernelspec": {
   "display_name": "Python 3.10.6 64-bit",
   "language": "python",
   "name": "python3"
  },
  "language_info": {
   "codemirror_mode": {
    "name": "ipython",
    "version": 3
   },
   "file_extension": ".py",
   "mimetype": "text/x-python",
   "name": "python",
   "nbconvert_exporter": "python",
   "pygments_lexer": "ipython3",
   "version": "3.10.6"
  },
  "orig_nbformat": 4,
  "vscode": {
   "interpreter": {
    "hash": "916dbcbb3f70747c44a77c7bcd40155683ae19c65e1c03b4aa3499c5328201f1"
   }
  }
 },
 "nbformat": 4,
 "nbformat_minor": 2
}
