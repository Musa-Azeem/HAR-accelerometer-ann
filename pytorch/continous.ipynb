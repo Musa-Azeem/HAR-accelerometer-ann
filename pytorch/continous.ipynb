{
 "cells": [
  {
   "cell_type": "code",
   "execution_count": 1,
   "metadata": {},
   "outputs": [],
   "source": [
    "import pandas as pd\n",
    "import numpy as np\n",
    "import torch\n",
    "from torch import nn\n",
    "import seaborn as sns\n",
    "import plotly.express as px\n",
    "import json\n",
    "from sklearn.model_selection import train_test_split\n",
    "import matplotlib.pyplot as plt\n",
    "import os\n",
    "from torch.utils.data import TensorDataset,DataLoader\n",
    "from tqdm import tqdm"
   ]
  },
  {
   "cell_type": "markdown",
   "metadata": {},
   "source": [
    "# Read Data"
   ]
  },
  {
   "cell_type": "code",
   "execution_count": 4,
   "metadata": {},
   "outputs": [],
   "source": [
    "# make directories\n",
    "if not os.path.isdir('pipeline'):\n",
    "    os.system('mkdir -p pipeline')\n",
    "else:\n",
    "    print(\"pipeline directory already exists - delete or rename it\")"
   ]
  },
  {
   "cell_type": "code",
   "execution_count": 6,
   "metadata": {},
   "outputs": [
    {
     "name": "stderr",
     "output_type": "stream",
     "text": [
      "mkdir: cannot create directory ‘pipeline/1_dm’: File exists\n"
     ]
    },
    {
     "name": "stdout",
     "output_type": "stream",
     "text": [
      "27 - Length: 28400\n",
      "58 - Length: 41100\n",
      "Skipped 29\n",
      "67 - Length: 34600\n",
      "Skipped 13\n",
      "53 - Length: 31000\n",
      "Skipped 7\n",
      "61 - Length: 31200\n",
      "41 - Length: 26700\n",
      "Skipped 9\n",
      "Skipped 46\n",
      "Skipped 19\n",
      "Skipped 5\n",
      "Skipped 10\n",
      "21 - Length: 38700\n",
      "50 - Length: 23100\n",
      "65 - Length: 36000\n",
      "Skipped 6\n",
      "Skipped 70\n",
      "22 - Length: 39100\n"
     ]
    }
   ],
   "source": [
    "json_labels = {}\n",
    "\n",
    "total_length = 0\n",
    "nfiles = 10\n",
    "i=0\n",
    "\n",
    "raw_dir = './data'\n",
    "\n",
    "os.system('mkdir pipeline/1_dm')\n",
    "\n",
    "for subdir in os.listdir(raw_dir):\n",
    "    if os.path.exists(f'{raw_dir}/{subdir}/{subdir}_data.json'):\n",
    "        # json files with annotations exists - dataset is annotated\n",
    "        i += 1\n",
    "\n",
    "        # Read labels\n",
    "        with open(f'{raw_dir}/{subdir}/{subdir}_data.json', 'r') as f:\n",
    "            json_labels[subdir] = json.load(f)\n",
    "        \n",
    "        # if dataset is annotated, read raw data file, decimate from 100 to 20 Hz, and save just x,y,z in 1_dm dir\n",
    "        df = pd.read_csv(f'{raw_dir}/{subdir}/raw_data.csv', header=None, usecols=[2,3,4], names=['x','y','z'])\n",
    "        json_labels[subdir]['length'] = len(df[::5])\n",
    "        total_length += len(df[::5])\n",
    "        df[::5].to_csv(f'pipeline/1_dm/{subdir}.csv', index=False)\n",
    "\n",
    "        print(f'{subdir} - Length: {len(df[::5])}')\n",
    "\n",
    "    else:\n",
    "        print(f'Skipped {subdir}')\n",
    "        \n",
    "    if i == nfiles:\n",
    "        break"
   ]
  },
  {
   "cell_type": "code",
   "execution_count": 9,
   "metadata": {},
   "outputs": [
    {
     "name": "stdout",
     "output_type": "stream",
     "text": [
      "61.csv - Before (156000, 3)\n",
      "After (155901, 300)\n",
      "50.csv - Before (115500, 3)\n",
      "After (115401, 300)\n",
      "67.csv - Before (173000, 3)\n",
      "After (172901, 300)\n",
      "58.csv - Before (205500, 3)\n",
      "After (205401, 300)\n",
      "41.csv - Before (133500, 3)\n",
      "After (133401, 300)\n",
      "65.csv - Before (180000, 3)\n",
      "After (179901, 300)\n",
      "22.csv - Before (195500, 3)\n",
      "After (195401, 300)\n",
      "53.csv - Before (155000, 3)\n",
      "After (154901, 300)\n",
      "27.csv - Before (142000, 3)\n",
      "After (141901, 300)\n",
      "21.csv - Before (193500, 3)\n",
      "After (193401, 300)\n"
     ]
    }
   ],
   "source": [
    "# Window data\n",
    "\n",
    "os.system('mkdir pipeline/2_windowed')\n",
    "\n",
    "for i,file in enumerate(os.listdir('pipeline/1_dm/')):\n",
    "    df = pd.read_csv(f'pipeline/1_dm/{file}')\n",
    "    print(f'{file} - Before {df.shape}')\n",
    "    w = np.empty((len(df)-99, 300), dtype=float)\n",
    "    for j in range(len(df)-99):\n",
    "        w[j] = df[j:j+100].to_numpy().T.flatten()\n",
    "    print(f'After {w.shape}')\n",
    "    np.save(f'pipeline/2_windowed/{file.split(\".\")[0]}.npy', w)"
   ]
  },
  {
   "cell_type": "code",
   "execution_count": 13,
   "metadata": {},
   "outputs": [
    {
     "name": "stderr",
     "output_type": "stream",
     "text": [
      "mkdir: cannot create directory ‘pipeline/labels’: File exists\n"
     ]
    }
   ],
   "source": [
    "# Labels\n",
    "\n",
    "os.system('mkdir pipeline/labels')\n",
    "\n",
    "for i, (key, annot) in enumerate(json_labels.items()):\n",
    "    l = np.zeros(annot['length'] - 99)\n",
    "    for j in range(annot['start']//5, annot['end']//5):\n",
    "        for puff in annot['puffs']:\n",
    "            if j >= puff['start']//5 and j <= puff['end']//5:\n",
    "                l[j] = 1\n",
    "    \n",
    "    np.save(f'pipeline/labels/{key}.npy', l)"
   ]
  },
  {
   "cell_type": "code",
   "execution_count": 19,
   "metadata": {},
   "outputs": [
    {
     "name": "stdout",
     "output_type": "stream",
     "text": [
      "193500\n"
     ]
    },
    {
     "ename": "ValueError",
     "evalue": "Length of values (38700) does not match length of index (193500)",
     "output_type": "error",
     "traceback": [
      "\u001b[0;31m---------------------------------------------------------------------------\u001b[0m",
      "\u001b[0;31mValueError\u001b[0m                                Traceback (most recent call last)",
      "Cell \u001b[0;32mIn[19], line 7\u001b[0m\n\u001b[1;32m      5\u001b[0m df \u001b[39m=\u001b[39m pd\u001b[39m.\u001b[39mread_csv(\u001b[39mf\u001b[39m\u001b[39m'\u001b[39m\u001b[39mpipeline/1_dm/\u001b[39m\u001b[39m{\u001b[39;00mi\u001b[39m}\u001b[39;00m\u001b[39m.csv\u001b[39m\u001b[39m'\u001b[39m)\n\u001b[1;32m      6\u001b[0m \u001b[39mprint\u001b[39m(\u001b[39mlen\u001b[39m(df))\n\u001b[0;32m----> 7\u001b[0m df[\u001b[39m'\u001b[39;49m\u001b[39mlabel\u001b[39;49m\u001b[39m'\u001b[39;49m] \u001b[39m=\u001b[39m np\u001b[39m.\u001b[39mpad(labels\u001b[39m*\u001b[39m\u001b[39m10\u001b[39m, (\u001b[39m0\u001b[39m,\u001b[39m99\u001b[39m), mode\u001b[39m=\u001b[39m\u001b[39m'\u001b[39m\u001b[39mconstant\u001b[39m\u001b[39m'\u001b[39m, constant_values\u001b[39m=\u001b[39m\u001b[39m0\u001b[39m)\n\u001b[1;32m      9\u001b[0m fig \u001b[39m=\u001b[39m px\u001b[39m.\u001b[39mline(data_frame\u001b[39m=\u001b[39mdf)\n\u001b[1;32m     10\u001b[0m fig\u001b[39m.\u001b[39mshow(renderer\u001b[39m=\u001b[39m\u001b[39m'\u001b[39m\u001b[39mbrowser\u001b[39m\u001b[39m'\u001b[39m)\n",
      "File \u001b[0;32m~/.local/lib/python3.10/site-packages/pandas/core/frame.py:3978\u001b[0m, in \u001b[0;36mDataFrame.__setitem__\u001b[0;34m(self, key, value)\u001b[0m\n\u001b[1;32m   3975\u001b[0m     \u001b[39mself\u001b[39m\u001b[39m.\u001b[39m_setitem_array([key], value)\n\u001b[1;32m   3976\u001b[0m \u001b[39melse\u001b[39;00m:\n\u001b[1;32m   3977\u001b[0m     \u001b[39m# set column\u001b[39;00m\n\u001b[0;32m-> 3978\u001b[0m     \u001b[39mself\u001b[39;49m\u001b[39m.\u001b[39;49m_set_item(key, value)\n",
      "File \u001b[0;32m~/.local/lib/python3.10/site-packages/pandas/core/frame.py:4172\u001b[0m, in \u001b[0;36mDataFrame._set_item\u001b[0;34m(self, key, value)\u001b[0m\n\u001b[1;32m   4162\u001b[0m \u001b[39mdef\u001b[39;00m \u001b[39m_set_item\u001b[39m(\u001b[39mself\u001b[39m, key, value) \u001b[39m-\u001b[39m\u001b[39m>\u001b[39m \u001b[39mNone\u001b[39;00m:\n\u001b[1;32m   4163\u001b[0m     \u001b[39m\"\"\"\u001b[39;00m\n\u001b[1;32m   4164\u001b[0m \u001b[39m    Add series to DataFrame in specified column.\u001b[39;00m\n\u001b[1;32m   4165\u001b[0m \n\u001b[0;32m   (...)\u001b[0m\n\u001b[1;32m   4170\u001b[0m \u001b[39m    ensure homogeneity.\u001b[39;00m\n\u001b[1;32m   4171\u001b[0m \u001b[39m    \"\"\"\u001b[39;00m\n\u001b[0;32m-> 4172\u001b[0m     value \u001b[39m=\u001b[39m \u001b[39mself\u001b[39;49m\u001b[39m.\u001b[39;49m_sanitize_column(value)\n\u001b[1;32m   4174\u001b[0m     \u001b[39mif\u001b[39;00m (\n\u001b[1;32m   4175\u001b[0m         key \u001b[39min\u001b[39;00m \u001b[39mself\u001b[39m\u001b[39m.\u001b[39mcolumns\n\u001b[1;32m   4176\u001b[0m         \u001b[39mand\u001b[39;00m value\u001b[39m.\u001b[39mndim \u001b[39m==\u001b[39m \u001b[39m1\u001b[39m\n\u001b[1;32m   4177\u001b[0m         \u001b[39mand\u001b[39;00m \u001b[39mnot\u001b[39;00m is_extension_array_dtype(value)\n\u001b[1;32m   4178\u001b[0m     ):\n\u001b[1;32m   4179\u001b[0m         \u001b[39m# broadcast across multiple columns if necessary\u001b[39;00m\n\u001b[1;32m   4180\u001b[0m         \u001b[39mif\u001b[39;00m \u001b[39mnot\u001b[39;00m \u001b[39mself\u001b[39m\u001b[39m.\u001b[39mcolumns\u001b[39m.\u001b[39mis_unique \u001b[39mor\u001b[39;00m \u001b[39misinstance\u001b[39m(\u001b[39mself\u001b[39m\u001b[39m.\u001b[39mcolumns, MultiIndex):\n",
      "File \u001b[0;32m~/.local/lib/python3.10/site-packages/pandas/core/frame.py:4912\u001b[0m, in \u001b[0;36mDataFrame._sanitize_column\u001b[0;34m(self, value)\u001b[0m\n\u001b[1;32m   4909\u001b[0m     \u001b[39mreturn\u001b[39;00m _reindex_for_setitem(Series(value), \u001b[39mself\u001b[39m\u001b[39m.\u001b[39mindex)\n\u001b[1;32m   4911\u001b[0m \u001b[39mif\u001b[39;00m is_list_like(value):\n\u001b[0;32m-> 4912\u001b[0m     com\u001b[39m.\u001b[39;49mrequire_length_match(value, \u001b[39mself\u001b[39;49m\u001b[39m.\u001b[39;49mindex)\n\u001b[1;32m   4913\u001b[0m \u001b[39mreturn\u001b[39;00m sanitize_array(value, \u001b[39mself\u001b[39m\u001b[39m.\u001b[39mindex, copy\u001b[39m=\u001b[39m\u001b[39mTrue\u001b[39;00m, allow_2d\u001b[39m=\u001b[39m\u001b[39mTrue\u001b[39;00m)\n",
      "File \u001b[0;32m~/.local/lib/python3.10/site-packages/pandas/core/common.py:561\u001b[0m, in \u001b[0;36mrequire_length_match\u001b[0;34m(data, index)\u001b[0m\n\u001b[1;32m    557\u001b[0m \u001b[39m\"\"\"\u001b[39;00m\n\u001b[1;32m    558\u001b[0m \u001b[39mCheck the length of data matches the length of the index.\u001b[39;00m\n\u001b[1;32m    559\u001b[0m \u001b[39m\"\"\"\u001b[39;00m\n\u001b[1;32m    560\u001b[0m \u001b[39mif\u001b[39;00m \u001b[39mlen\u001b[39m(data) \u001b[39m!=\u001b[39m \u001b[39mlen\u001b[39m(index):\n\u001b[0;32m--> 561\u001b[0m     \u001b[39mraise\u001b[39;00m \u001b[39mValueError\u001b[39;00m(\n\u001b[1;32m    562\u001b[0m         \u001b[39m\"\u001b[39m\u001b[39mLength of values \u001b[39m\u001b[39m\"\u001b[39m\n\u001b[1;32m    563\u001b[0m         \u001b[39mf\u001b[39m\u001b[39m\"\u001b[39m\u001b[39m(\u001b[39m\u001b[39m{\u001b[39;00m\u001b[39mlen\u001b[39m(data)\u001b[39m}\u001b[39;00m\u001b[39m) \u001b[39m\u001b[39m\"\u001b[39m\n\u001b[1;32m    564\u001b[0m         \u001b[39m\"\u001b[39m\u001b[39mdoes not match length of index \u001b[39m\u001b[39m\"\u001b[39m\n\u001b[1;32m    565\u001b[0m         \u001b[39mf\u001b[39m\u001b[39m\"\u001b[39m\u001b[39m(\u001b[39m\u001b[39m{\u001b[39;00m\u001b[39mlen\u001b[39m(index)\u001b[39m}\u001b[39;00m\u001b[39m)\u001b[39m\u001b[39m\"\u001b[39m\n\u001b[1;32m    566\u001b[0m     )\n",
      "\u001b[0;31mValueError\u001b[0m: Length of values (38700) does not match length of index (193500)"
     ]
    }
   ],
   "source": [
    "# visualize true labels on continous signal\n",
    "i = 21\n",
    "labels = np.load(f'pipeline/labels/{i}.npy')\n",
    "\n",
    "df = pd.read_csv(f'pipeline/1_dm/{i}.csv')\n",
    "df['label'] = np.pad(labels*10, (0,99), mode='constant', constant_values=0)\n",
    "\n",
    "fig = px.line(data_frame=df)\n",
    "fig.show(renderer='browser')"
   ]
  },
  {
   "attachments": {},
   "cell_type": "markdown",
   "metadata": {},
   "source": [
    "# Prepare Tensorflow Datasets"
   ]
  },
  {
   "cell_type": "code",
   "execution_count": null,
   "metadata": {},
   "outputs": [],
   "source": [
    "X = np.zeros((0,300))\n",
    "y = np.zeros((0,1))\n",
    "for file in os.listdir('pipeline/2_windowed'):\n",
    "    X = np.concatenate([X, np.load(f'pipeline/2_windowed/{file}')])\n",
    "    y = np.concatenate([y, np.load(f'pipeline/labels/{file}').reshape(-1,1)])\n",
    "\n",
    "(X_train, X_test, y_train, y_test) = train_test_split(X, y, test_size=0.3, stratify=y, shuffle=True, random_state=0)\n",
    "\n",
    "train_dataset = TensorDataset(torch.from_numpy(X_train).float(), torch.from_numpy(y_train).float())\n",
    "test_dataset = TensorDataset(torch.from_numpy(X_test).float(), torch.from_numpy(y_test).float())\n",
    "\n",
    "os.system('mkdir pipeline/datasets')\n",
    "torch.save(train_dataset, 'pipeline/datasets/train_dataset.pt')\n",
    "torch.save(test_dataset, 'pipeline/datasets/test_dataset.pt')"
   ]
  },
  {
   "cell_type": "markdown",
   "metadata": {},
   "source": [
    "# Train Model"
   ]
  },
  {
   "cell_type": "code",
   "execution_count": null,
   "metadata": {},
   "outputs": [],
   "source": [
    "# Get cpu or gpu device for training\n",
    "device = \"cuda\" if torch.cuda.is_available() else \"mps\" if torch.backends.mps.is_available() else \"cpu\"\n",
    "print(f\"Using {device} device\")"
   ]
  },
  {
   "cell_type": "code",
   "execution_count": null,
   "metadata": {},
   "outputs": [],
   "source": [
    "# Define Model\n",
    "class MLP(nn.Module):\n",
    "    def __init__(self):\n",
    "        super().__init__()\n",
    "        self.linear_relu_stack = nn.Sequential(\n",
    "            nn.Linear(300, 10),\n",
    "            nn.ReLU(),\n",
    "            nn.Linear(10, 1)\n",
    "        )\n",
    "    \n",
    "    def forward(self, x):\n",
    "        logits = self.linear_relu_stack(x)\n",
    "        return logits  \n",
    "\n",
    "model = MLP().to(device)\n",
    "    \n",
    "criterion = nn.BCEWithLogitsLoss()\n",
    "optimizer = torch.optim.Adam(model.parameters(), lr=0.0001)"
   ]
  },
  {
   "cell_type": "code",
   "execution_count": null,
   "metadata": {},
   "outputs": [],
   "source": [
    "# Train model\n",
    "\n",
    "epochs = 10\n",
    "batch_size = 64\n",
    "\n",
    "losses = []\n",
    "test_losses = []\n",
    "\n",
    "train_dataloader = DataLoader(torch.load('pipeline/datasets/train_dataset.pt'), batch_size=batch_size)\n",
    "test_dataloader = DataLoader(torch.load('pipeline/datasets/test_dataset.pt'))"
   ]
  },
  {
   "cell_type": "code",
   "execution_count": null,
   "metadata": {},
   "outputs": [],
   "source": [
    "# Train\n",
    "\n",
    "for epoch in range(epochs):\n",
    "    for X_train_batch, y_train_batch in train_dataloader:\n",
    "        \n",
    "        X_train_batch = X_train_batch.to(device)\n",
    "        y_train_batch = y_train_batch.to(device)\n",
    "        \n",
    "        # Forward Pass\n",
    "        logits = model(X_train_batch)\n",
    "\n",
    "        loss = criterion(logits, y_train_batch)\n",
    "\n",
    "        # Backward Pass\n",
    "        optimizer.zero_grad\n",
    "        loss.backward()\n",
    "        optimizer.step()\n",
    "\n",
    "        losses.append(loss.cpu().item())\n",
    "    print(f'Epoch {epoch} - loss: {sum(losses[-batch_size:])/batch_size}')"
   ]
  },
  {
   "cell_type": "code",
   "execution_count": null,
   "metadata": {},
   "outputs": [],
   "source": [
    "res = 100\n",
    "plt.plot(torch.tensor(losses)[:len(losses)-len(losses)%res].view(-1,res).mean(1))"
   ]
  },
  {
   "attachments": {},
   "cell_type": "markdown",
   "metadata": {},
   "source": [
    "# Test"
   ]
  },
  {
   "cell_type": "code",
   "execution_count": null,
   "metadata": {},
   "outputs": [],
   "source": [
    "# Test by Predicting with Model\n",
    "\n",
    "# Get one file\n",
    "index = 53\n",
    "X_pred = torch.from_numpy(np.load(f'pipeline/2_windowed/{index}.npy')).float()\n",
    "y_true = torch.from_numpy(np.load(f'pipeline/labels/{index}.npy')).reshape(-1,1).float()\n",
    "\n",
    "model.eval()\n",
    "\n",
    "step = 10000    # for memory\n",
    "preds = []\n",
    "correct = 0\n",
    "loss = 0\n",
    "for i in range(0, len(X_pred), step):\n",
    "    end = i+step if i+step < len(X_pred) else len(X_pred)\n",
    "\n",
    "    X_batch = X_pred[i:end].to(device)    \n",
    "    y_true_batch = y_true[i:end].to(device)\n",
    "\n",
    "    logits = model(X_batch)\n",
    "    pred = torch.round(nn.Sigmoid()(logits))\n",
    "    correct += sum(y_true_batch == pred)\n",
    "    preds += pred.flatten().tolist()\n",
    "    loss += loss_fn(logits, y_true_batch).item()\n",
    "\n",
    "preds = np.array(preds).reshape(-1,1)\n",
    "accuracy = (correct / len(y_true)).item()\n",
    "loss = loss/len(X_pred)\n",
    "print(f'Accuracy: {100*accuracy:.4}%')\n",
    "print(f'Loss: {loss:.4}')"
   ]
  },
  {
   "cell_type": "code",
   "execution_count": null,
   "metadata": {},
   "outputs": [],
   "source": [
    "# Visualize predictions\n",
    "df_pred = pd.read_csv(f'pipeline/1_xyz/{index}.csv')\n",
    "df_pred['preds'] = np.pad(preds.flatten()*10, (0, 99), mode='constant', constant_values=0)\n",
    "\n",
    "figure = px.line(df_pred.loc[::10])\n",
    "figure.show(renderer='browser')"
   ]
  },
  {
   "cell_type": "code",
   "execution_count": null,
   "metadata": {},
   "outputs": [],
   "source": [
    "from sklearn.metrics import confusion_matrix\n",
    "\n",
    "cm = confusion_matrix(y_true.detach().to('cpu'), preds)\n",
    "sns.heatmap(cm, annot=True)"
   ]
  }
 ],
 "metadata": {
  "kernelspec": {
   "display_name": "Python 3.10.6 64-bit",
   "language": "python",
   "name": "python3"
  },
  "language_info": {
   "codemirror_mode": {
    "name": "ipython",
    "version": 3
   },
   "file_extension": ".py",
   "mimetype": "text/x-python",
   "name": "python",
   "nbconvert_exporter": "python",
   "pygments_lexer": "ipython3",
   "version": "3.10.6"
  },
  "orig_nbformat": 4,
  "vscode": {
   "interpreter": {
    "hash": "916dbcbb3f70747c44a77c7bcd40155683ae19c65e1c03b4aa3499c5328201f1"
   }
  }
 },
 "nbformat": 4,
 "nbformat_minor": 2
}
