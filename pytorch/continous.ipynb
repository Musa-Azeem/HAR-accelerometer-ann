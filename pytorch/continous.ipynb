{
 "cells": [
  {
   "cell_type": "code",
   "execution_count": null,
   "metadata": {},
   "outputs": [],
   "source": [
    "import pandas as pd\n",
    "import numpy as np\n",
    "import torch\n",
    "from torch import nn\n",
    "import seaborn as sns\n",
    "import plotly.express as px\n",
    "import json\n",
    "from sklearn.model_selection import train_test_split\n",
    "import matplotlib.pyplot as plt\n",
    "import os"
   ]
  },
  {
   "cell_type": "markdown",
   "metadata": {},
   "source": [
    "# Read Data"
   ]
  },
  {
   "cell_type": "code",
   "execution_count": null,
   "metadata": {},
   "outputs": [],
   "source": [
    "json_labels = []\n",
    "raw_dfs = []\n",
    "\n",
    "nfiles = 71\n",
    "i=0\n",
    "\n",
    "for subdir in os.listdir('./data/'):\n",
    "    is_annot = False\n",
    "    for file in os.listdir(f'./data/{subdir}'):\n",
    "        if file.endswith('.json'):            \n",
    "            # json files with annotations - dataset is annotated\n",
    "            i += 1\n",
    "            is_annot = True\n",
    "\n",
    "            # Read labels\n",
    "            with open(f'data/{subdir}/{file}', 'r') as f:\n",
    "                json_labels.append(json.load(f))\n",
    "        \n",
    "        if is_annot and file.startswith('raw_data'):\n",
    "            # if dataset is annotated, read raw data file\n",
    "            df = pd.read_csv(f'data/{subdir}/{file}', header=None)\n",
    "            raw_dfs.append(df[[2,3,4]])\n",
    "\n",
    "    if(is_annot):\n",
    "        print(subdir)\n",
    "    else:\n",
    "        print(f'Skipped {subdir}')\n",
    "        \n",
    "    if i == nfiles:\n",
    "        break"
   ]
  },
  {
   "cell_type": "code",
   "execution_count": null,
   "metadata": {},
   "outputs": [],
   "source": [
    "# Window data\n",
    "\n",
    "windowed = []\n",
    "\n",
    "for i,df in enumerate(raw_dfs):\n",
    "    print(f'Raw {i}: {df.shape}')\n",
    "\n",
    "    w = np.empty((len(df)-99, 300), dtype=float)\n",
    "    for j in range(len(df)-99):\n",
    "        w[j] = df[j:j+100].to_numpy().T.flatten()\n",
    "\n",
    "    print(f'Windowed {i}: {w.shape}')\n",
    "    windowed.append(w)\n",
    "\n",
    "X = np.concatenate(windowed)\n",
    "print(f'X: {X.shape}')"
   ]
  },
  {
   "cell_type": "code",
   "execution_count": null,
   "metadata": {},
   "outputs": [],
   "source": [
    "# Labels\n",
    "all_labels = []\n",
    "\n",
    "for i, annot in enumerate(json_labels):\n",
    "    labels = np.zeros(len(windowed[i]))     # each json file corrosponds to windowed data at same index\n",
    "    print(i)\n",
    "    for j in range(annot['start'], annot['end']):\n",
    "        for puff in annot['puffs']:\n",
    "            if j >= puff['start'] and j <= puff['end']:\n",
    "                labels[j] = 1\n",
    "    all_labels.append(labels)\n",
    "\n",
    "y = np.concatenate(all_labels)\n",
    "print(f'y: {y.shape}')"
   ]
  },
  {
   "cell_type": "code",
   "execution_count": null,
   "metadata": {},
   "outputs": [],
   "source": [
    "# visualize true labels on continous signal\n",
    "df = pd.concat(raw_dfs).reset_index(drop=True)\n",
    "df['labels'] = np.concatenate([np.pad(labels*10, (0,99), mode='constant', constant_values=0) for labels in all_labels])\n",
    "\n",
    "fig = px.line(data_frame=df.loc[::100])\n",
    "fig.show(renderer='browser')"
   ]
  },
  {
   "cell_type": "markdown",
   "metadata": {},
   "source": [
    "# Train Model"
   ]
  },
  {
   "cell_type": "code",
   "execution_count": null,
   "metadata": {},
   "outputs": [],
   "source": [
    "# Get cpu or gpu device for training\n",
    "device = \"cuda\" if torch.cuda.is_available() else \"mps\" if torch.backends.mps.is_available() else \"cpu\"\n",
    "print(f\"Using {device} device\")"
   ]
  },
  {
   "cell_type": "code",
   "execution_count": null,
   "metadata": {},
   "outputs": [],
   "source": [
    "# Prepare Data for Pytorch\n",
    "X_pt = torch.from_numpy(X).float()\n",
    "y_pt = torch.from_numpy(y).reshape(-1,1).float()"
   ]
  },
  {
   "cell_type": "code",
   "execution_count": null,
   "metadata": {},
   "outputs": [],
   "source": [
    "# Define Model\n",
    "class MLP(nn.Module):\n",
    "    def __init__(self):\n",
    "        super().__init__()\n",
    "        self.linear_relu_stack = nn.Sequential(\n",
    "            nn.Linear(300, 10),\n",
    "            nn.ReLU(),\n",
    "            nn.Linear(10, 1)\n",
    "        )\n",
    "    \n",
    "    def forward(self, x):\n",
    "        logits = self.linear_relu_stack(x)\n",
    "        return logits  \n"
   ]
  },
  {
   "cell_type": "code",
   "execution_count": null,
   "metadata": {},
   "outputs": [],
   "source": [
    "def train(model, epochs, batch_size, loss_fn, optimizer, X_train, X_test, y_train, y_test):\n",
    "    losses = []\n",
    "    test_losses = []\n",
    "\n",
    "    model.train()\n",
    "    for i in range(epochs):\n",
    "        print(f'Epoch: {i}')\n",
    "        k = 0\n",
    "        for j in range(0, len(X_train), batch_size):\n",
    "            end = j+batch_size if j+batch_size < len(X_train) else len(X_train)\n",
    "\n",
    "            X_train_batch = X_train[j:end].to(device)\n",
    "            y_train_batch = y_train[j:end].to(device)\n",
    "\n",
    "            # Forward pass\n",
    "            logits = model(X_train_batch)\n",
    "\n",
    "            loss = loss_fn(logits, y_train_batch)\n",
    "\n",
    "            # Backward pass\n",
    "            optimizer.zero_grad()\n",
    "            loss.backward()\n",
    "            optimizer.step()\n",
    "\n",
    "            losses.append(loss.item())\n",
    "\n",
    "            test_end = j+batch_size if j+batch_size < len(X_test) else len(X_test)\n",
    "\n",
    "        \n",
    "            X_test_batch = X_test[j:test_end].to(device)\n",
    "            y_test_batch = y_test[j:test_end].to(device)\n",
    "            test_logits = model(X_test_batch)\n",
    "            test_loss = loss_fn(test_logits, y_test_batch)\n",
    "            test_losses.append(test_loss.item())\n",
    "\n",
    "            if k%100 == 0:\n",
    "                print(f\"Batch {k}: \", end='')\n",
    "                print(f'\\tLoss={loss.item():.5}', end='')\n",
    "                print(f'\\tTest Loss={test_loss.item():.5}')\n",
    "            k += 1\n",
    "    \n",
    "    # plt.plot(losses)\n",
    "    # plt.savefig('loss.png')\n",
    "\n",
    "    return (losses, test_losses)"
   ]
  },
  {
   "cell_type": "code",
   "execution_count": null,
   "metadata": {},
   "outputs": [],
   "source": [
    "model = MLP().to(device)"
   ]
  },
  {
   "cell_type": "code",
   "execution_count": null,
   "metadata": {},
   "outputs": [],
   "source": [
    "# Train model\n",
    "\n",
    "(X_train, X_test, y_train, y_test) = train_test_split(X_pt, y_pt, test_size=0.5, stratify=y_pt)\n",
    "\n",
    "# Loss function and optimizer\n",
    "loss_fn = nn.BCEWithLogitsLoss()\n",
    "optimizer = torch.optim.Adam(model.parameters(), lr=0.00001)\n",
    "\n",
    "epochs = 2\n",
    "batch_size = 128\n",
    "\n",
    "(losses, test_losses) = train(model, epochs, batch_size, loss_fn, optimizer, X_train, X_test, y_train, y_test)\n",
    "\n",
    "\n",
    "figure = px.line(pd.DataFrame({\"loss\": losses, \"validation loss\":test_losses}))\n",
    "figure.show(renderer='browser')"
   ]
  },
  {
   "cell_type": "code",
   "execution_count": null,
   "metadata": {},
   "outputs": [],
   "source": [
    "# Test by Predicting with Model\n",
    "\n",
    "# Get one file\n",
    "index = 1\n",
    "X_pred = torch.tensor(windowed[index]).float().to(device)\n",
    "y_true = torch.tensor(all_labels[index]).float().reshape(-1,1).to(device)\n",
    "\n",
    "model.eval()\n",
    "\n",
    "step = 10000    # for memory\n",
    "preds = []\n",
    "correct = 0\n",
    "loss = 0\n",
    "for i in range(0, len(X_pred), step):\n",
    "    end = i+step if i+step < len(X_pred) else len(X_pred)\n",
    "    with torch.no_grad():\n",
    "        logits = model(X_pred[i:end])\n",
    "        pred = torch.round(nn.Sigmoid()(logits))\n",
    "        correct += sum(y_true[i:end] == pred)\n",
    "        preds += pred.flatten().tolist()\n",
    "        loss += loss_fn(logits, y_true[i:end]).item()\n",
    "\n",
    "preds = np.array(preds).reshape(-1,1)\n",
    "accuracy = (correct / len(y_pt)).item()\n",
    "loss = loss/len(X_pred)\n",
    "print(f'Accuracy: {100*accuracy:.4}%')\n",
    "print(f'Loss: {loss:.4}')"
   ]
  },
  {
   "cell_type": "code",
   "execution_count": null,
   "metadata": {},
   "outputs": [],
   "source": [
    "# Visualize predictions\n",
    "df_pred = raw_dfs[index]\n",
    "df_pred['preds'] = np.pad(preds.flatten()*10, (0, 99), mode='constant', constant_values=0)\n",
    "\n",
    "figure = px.line(df_pred.loc[::10])\n",
    "figure.show(renderer='browser')"
   ]
  }
 ],
 "metadata": {
  "kernelspec": {
   "display_name": "Python 3.10.6 64-bit",
   "language": "python",
   "name": "python3"
  },
  "language_info": {
   "codemirror_mode": {
    "name": "ipython",
    "version": 3
   },
   "file_extension": ".py",
   "mimetype": "text/x-python",
   "name": "python",
   "nbconvert_exporter": "python",
   "pygments_lexer": "ipython3",
   "version": "3.10.6"
  },
  "orig_nbformat": 4,
  "vscode": {
   "interpreter": {
    "hash": "916dbcbb3f70747c44a77c7bcd40155683ae19c65e1c03b4aa3499c5328201f1"
   }
  }
 },
 "nbformat": 4,
 "nbformat_minor": 2
}
