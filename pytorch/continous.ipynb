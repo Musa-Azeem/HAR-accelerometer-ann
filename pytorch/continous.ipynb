{
 "cells": [
  {
   "cell_type": "code",
   "execution_count": null,
   "metadata": {},
   "outputs": [],
   "source": [
    "import pandas as pd\n",
    "import numpy as np\n",
    "import torch\n",
    "from torch import nn\n",
    "import seaborn as sns\n",
    "import plotly.express as px\n",
    "import json\n",
    "from sklearn.model_selection import train_test_split\n",
    "import matplotlib as plt\n",
    "import os"
   ]
  },
  {
   "cell_type": "code",
   "execution_count": null,
   "metadata": {},
   "outputs": [],
   "source": [
    "# Get cpu or gpu device for training\n",
    "device = \"cuda\" if torch.cuda.is_available() else \"mps\" if torch.backends.mps.is_available() else \"cpu\"\n",
    "print(f\"Using {device} device\")"
   ]
  },
  {
   "cell_type": "code",
   "execution_count": null,
   "metadata": {},
   "outputs": [],
   "source": [
    "class MLP(nn.Module):\n",
    "    def __init__(self):\n",
    "        super().__init__()\n",
    "        self.linear_relu_stack = nn.Sequential(\n",
    "            nn.Linear(300, 5),\n",
    "            nn.ReLU(),\n",
    "            nn.Linear(5, 1)\n",
    "        )\n",
    "    \n",
    "    def forward(self, x):\n",
    "        logits = self.linear_relu_stack(x)\n",
    "        return logits  \n"
   ]
  },
  {
   "cell_type": "code",
   "execution_count": null,
   "metadata": {},
   "outputs": [],
   "source": [
    "model = MLP().to(device)"
   ]
  },
  {
   "cell_type": "markdown",
   "metadata": {},
   "source": [
    "# Read Data"
   ]
  },
  {
   "cell_type": "code",
   "execution_count": null,
   "metadata": {},
   "outputs": [],
   "source": [
    "json_labels = []\n",
    "raw_dfs = []\n",
    "\n",
    "nfiles = 3\n",
    "i=0\n",
    "\n",
    "for subdir in os.listdir('./data/'):\n",
    "    is_annot = False\n",
    "    for file in os.listdir(f'./data/{subdir}'):\n",
    "        if file.endswith('.json'):            \n",
    "            # json files with annotations - dataset is annotated\n",
    "            i += 1\n",
    "            is_annot = True\n",
    "\n",
    "            # Read labels\n",
    "            with open(f'data/{subdir}/{file}', 'r') as f:\n",
    "                json_labels.append(json.load(f))\n",
    "        \n",
    "        if is_annot and file.startswith('raw_data'):\n",
    "            # if dataset is annotated, read raw data file\n",
    "            df = pd.read_csv(f'data/{subdir}/{file}', header=None)\n",
    "            raw_dfs.append(df[[2,3,4]])\n",
    "\n",
    "    if(is_annot):\n",
    "        print(subdir)\n",
    "    else:\n",
    "        print(f'Skipped {subdir}')\n",
    "        \n",
    "    if i == nfiles:\n",
    "        break"
   ]
  },
  {
   "cell_type": "code",
   "execution_count": null,
   "metadata": {},
   "outputs": [],
   "source": [
    "# Window data\n",
    "\n",
    "windowed = []\n",
    "\n",
    "for i,df in enumerate(raw_dfs):\n",
    "    print(f'Raw {i}: {df.shape}')\n",
    "\n",
    "    w = np.empty((len(df)-99, 300), dtype=float)\n",
    "    for j in range(len(df)-99):\n",
    "        w[j] = df[j:j+100].to_numpy().T.flatten()\n",
    "\n",
    "    print(f'Windowed {i}: {w.shape}')\n",
    "    windowed.append(w)\n",
    "\n",
    "X = np.concatenate(windowed)\n",
    "print(f'X: {X.shape}')"
   ]
  },
  {
   "cell_type": "code",
   "execution_count": null,
   "metadata": {},
   "outputs": [],
   "source": [
    "# Labels\n",
    "all_labels = []\n",
    "\n",
    "for i, annot in enumerate(json_labels):\n",
    "    labels = np.zeros(len(windowed[i]))     # each json file corrosponds to windowed data at same index\n",
    "    for j in range(annot['start'], annot['end']):\n",
    "        for puff in annot['puffs']:\n",
    "            if j >= puff['start'] and j <= puff['end']:\n",
    "                labels[j] = 1\n",
    "    all_labels.append(labels)\n",
    "\n",
    "y = np.concatenate(all_labels)\n",
    "print(f'y: {y.shape}')"
   ]
  },
  {
   "cell_type": "code",
   "execution_count": null,
   "metadata": {},
   "outputs": [],
   "source": [
    "# visualize true labels on continous signal\n",
    "df = pd.concat(raw_dfs).reset_index(drop=True)\n",
    "df['labels'] = np.concatenate([np.pad(labels*10, (0,99), mode='constant', constant_values=0) for labels in all_labels])\n",
    "\n",
    "fig = px.line(data_frame=df.loc[::10])\n",
    "fig.show(renderer='browser')\n",
    "df"
   ]
  },
  {
   "cell_type": "code",
   "execution_count": null,
   "metadata": {},
   "outputs": [],
   "source": [
    "# Train model\n",
    "\n",
    "model = MLP().to(device)\n",
    "\n",
    "(X_train, X_test, y_train, y_test) = train_test_split(X_pt[annot['start']:annot['end']], y_pt[annot['start']:annot['end']], test_size=0.25, stratify=y_pt[annot['start']:annot['end']].to('cpu'))\n",
    "\n",
    "# Loss function and optimizer\n",
    "loss_fn = nn.BCEWithLogitsLoss()\n",
    "optimizer = torch.optim.Adam(model.parameters(), lr=0.01)\n",
    "\n",
    "epochs = 100\n",
    "batch_size = 128\n",
    "\n",
    "(losses, test_losses) = train(model, epochs, batch_size, loss_fn, optimizer, X_train, X_test, y_train, y_test)\n",
    "\n",
    "figure = px.line(pd.DataFrame({\"loss\": losses, \"validation loss\":test_losses}))\n",
    "figure.show(renderer='browser')"
   ]
  }
 ],
 "metadata": {
  "kernelspec": {
   "display_name": "Python 3.10.6 64-bit",
   "language": "python",
   "name": "python3"
  },
  "language_info": {
   "codemirror_mode": {
    "name": "ipython",
    "version": 3
   },
   "file_extension": ".py",
   "mimetype": "text/x-python",
   "name": "python",
   "nbconvert_exporter": "python",
   "pygments_lexer": "ipython3",
   "version": "3.10.6"
  },
  "orig_nbformat": 4,
  "vscode": {
   "interpreter": {
    "hash": "916dbcbb3f70747c44a77c7bcd40155683ae19c65e1c03b4aa3499c5328201f1"
   }
  }
 },
 "nbformat": 4,
 "nbformat_minor": 2
}
