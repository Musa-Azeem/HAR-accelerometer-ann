{
 "cells": [
  {
   "attachments": {},
   "cell_type": "markdown",
   "metadata": {},
   "source": [
    "# Test Model\n",
    "- test model on holdout sessions"
   ]
  },
  {
   "cell_type": "code",
   "execution_count": null,
   "metadata": {},
   "outputs": [],
   "source": [
    "import pandas as pd\n",
    "import numpy as np\n",
    "import torch\n",
    "from torch import nn\n",
    "import seaborn as sns\n",
    "import plotly.express as px\n",
    "import matplotlib.pyplot as plt\n",
    "from torch.utils.data import DataLoader\n",
    "from sklearn.metrics import confusion_matrix\n",
    "import json"
   ]
  },
  {
   "cell_type": "code",
   "execution_count": null,
   "metadata": {},
   "outputs": [],
   "source": [
    "# Get cpu or gpu device for training\n",
    "device = \"cuda\" if torch.cuda.is_available() else \"mps\" if torch.backends.mps.is_available() else \"cpu\"\n",
    "print(f\"Using {device} device\")"
   ]
  },
  {
   "cell_type": "code",
   "execution_count": null,
   "metadata": {},
   "outputs": [],
   "source": [
    "n_hl = 10\n",
    "\n",
    "# Define Model\n",
    "class MLP(nn.Module):\n",
    "    def __init__(self):\n",
    "        super().__init__()\n",
    "        self.linear_relu_stack = nn.Sequential(\n",
    "            nn.Linear(300, n_hl),\n",
    "            nn.ReLU(),\n",
    "            nn.Linear(n_hl, 1)\n",
    "        )\n",
    "    \n",
    "    def forward(self, x):\n",
    "        logits = self.linear_relu_stack(x)\n",
    "        return logits  \n",
    "\n",
    "model = MLP().to(device)\n",
    "model.load_state_dict(torch.load('model/poster-model.pt'))\n",
    "    \n",
    "criterion = nn.BCEWithLogitsLoss()"
   ]
  },
  {
   "cell_type": "code",
   "execution_count": null,
   "metadata": {},
   "outputs": [],
   "source": [
    "# Predict with model but only the smoking session (not other activies)\n",
    "\n",
    "index = 36\n",
    "step = 10000    # for memory\n",
    "\n",
    "start = 0\n",
    "stop = 0\n",
    "with open(f'data/{index}/{index}_data.json', 'r') as f:\n",
    "    annot = json.load(f)\n",
    "    start = annot['start'] // 5\n",
    "    stop = annot['end'] // 5\n",
    "\n",
    "# Read in holdout session\n",
    "dataset = torch.load(f'pipeline/holdouts/{index}-holdout.pt')[start:stop]\n",
    "session_length = len(dataset[0])\n",
    "X = dataset[:][0]\n",
    "y_true = dataset[:][1]\n",
    "\n",
    "model.eval()\n",
    "\n",
    "X = X.to(device) \n",
    "y = y_true.to(device)\n",
    "\n",
    "logits = model(X)\n",
    "pred = torch.round(nn.Sigmoid()(logits))\n",
    "\n",
    "n_correct = sum(y == pred)\n",
    "loss = criterion(logits, y).item()\n",
    "\n",
    "y_pred = np.array(pred.cpu().detach()).reshape(-1,1)\n",
    "accuracy = (n_correct / session_length).item()\n",
    "print(f'Accuracy: {100*accuracy:.4}%')\n",
    "print(f'Loss: {loss:.4}')"
   ]
  },
  {
   "cell_type": "code",
   "execution_count": null,
   "metadata": {},
   "outputs": [],
   "source": [
    "# Visualize predictions\n",
    "df = pd.read_csv(f'pipeline/1_dm/{index}.csv')[start:stop+99]\n",
    "df['y_true'] = np.pad(y_true.flatten()*1, (49, 50), mode='constant', constant_values=0)\n",
    "df['y_pred'] = np.pad(y_pred.flatten()*1, (49, 50), mode='constant', constant_values=0)\n",
    "\n",
    "figure = px.line(df)\n",
    "figure.show(renderer='browser')"
   ]
  },
  {
   "cell_type": "code",
   "execution_count": null,
   "metadata": {},
   "outputs": [],
   "source": [
    "# Save fig\n",
    "\n",
    "fig, ax = plt.subplots(1, figsize=(16,9))\n",
    "ax.plot(df.iloc[600:], label=['x acc', 'y acc', 'z acc', 'True Label', 'Pred Label'])\n",
    "ax.legend()\n",
    "# ax.set_ylim(-15, 4)\n",
    "plt.savefig('cont.jpg', dpi=400)"
   ]
  },
  {
   "cell_type": "code",
   "execution_count": null,
   "metadata": {},
   "outputs": [],
   "source": [
    "# Heatmap\n",
    "\n",
    "y_true = dataset[:][1]\n",
    "\n",
    "fig,axes = plt.subplots(1,3,sharey=True,figsize=(10,5))\n",
    "sns.heatmap(confusion_matrix(y_true=y_true,y_pred=y_pred,normalize='true'),annot=True,ax=axes[0],cbar=False,fmt='.2f')\n",
    "sns.heatmap(confusion_matrix(y_true=y_true,y_pred=y_pred,normalize='pred'),annot=True,ax=axes[1],cbar=False,fmt='.2f')\n",
    "sns.heatmap(confusion_matrix(y_true=y_true,y_pred=y_pred),annot=True,ax=axes[2],cbar=False,fmt='.2f')\n",
    "axes[0].set_title('Recall')\n",
    "axes[1].set_title('Precision')\n",
    "axes[2].set_title('Count')\n",
    "plt.savefig(f'cm.jpg',dpi=200,bbox_inches='tight')"
   ]
  },
  {
   "cell_type": "code",
   "execution_count": null,
   "metadata": {},
   "outputs": [],
   "source": [
    "# Confusion Matrix (precision)\n",
    "\n",
    "y_true = dataset[:][1]\n",
    "\n",
    "fig,axes = plt.subplots(1,figsize=(16,9))\n",
    "sns.heatmap(confusion_matrix(y_true=y_true,y_pred=y_pred,normalize='pred'),annot=True,ax=axes,cbar=False,fmt='.2f')\n",
    "axes.set_title('Precision')\n",
    "axes.set_xlabel(\"Predictions\")\n",
    "axes.set_ylabel(\"True\")\n",
    "plt.savefig(f'cm_pres.jpg',dpi=400,bbox_inches='tight')"
   ]
  }
 ],
 "metadata": {
  "kernelspec": {
   "display_name": "Python 3.10.6 64-bit",
   "language": "python",
   "name": "python3"
  },
  "language_info": {
   "codemirror_mode": {
    "name": "ipython",
    "version": 3
   },
   "file_extension": ".py",
   "mimetype": "text/x-python",
   "name": "python",
   "nbconvert_exporter": "python",
   "pygments_lexer": "ipython3",
   "version": "3.10.6"
  },
  "orig_nbformat": 4,
  "vscode": {
   "interpreter": {
    "hash": "916dbcbb3f70747c44a77c7bcd40155683ae19c65e1c03b4aa3499c5328201f1"
   }
  }
 },
 "nbformat": 4,
 "nbformat_minor": 2
}
