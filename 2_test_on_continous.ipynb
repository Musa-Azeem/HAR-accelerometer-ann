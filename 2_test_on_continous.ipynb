{
 "cells": [
  {
   "attachments": {},
   "cell_type": "markdown",
   "metadata": {},
   "source": [
    "# Test Model\n",
    "- test model on holdout sessions"
   ]
  },
  {
   "cell_type": "code",
   "execution_count": null,
   "metadata": {},
   "outputs": [],
   "source": [
    "import pandas as pd\n",
    "import numpy as np\n",
    "import torch\n",
    "from torch import nn\n",
    "import seaborn as sns\n",
    "import plotly.express as px\n",
    "import matplotlib.pyplot as plt\n",
    "from torch.utils.data import DataLoader\n",
    "from sklearn.metrics import confusion_matrix"
   ]
  },
  {
   "cell_type": "code",
   "execution_count": null,
   "metadata": {},
   "outputs": [],
   "source": [
    "# Get cpu or gpu device for training\n",
    "device = \"cuda\" if torch.cuda.is_available() else \"mps\" if torch.backends.mps.is_available() else \"cpu\"\n",
    "print(f\"Using {device} device\")"
   ]
  },
  {
   "cell_type": "code",
   "execution_count": null,
   "metadata": {},
   "outputs": [],
   "source": [
    "n_hl = 10\n",
    "\n",
    "# Define Model\n",
    "class MLP(nn.Module):\n",
    "    def __init__(self):\n",
    "        super().__init__()\n",
    "        self.linear_relu_stack = nn.Sequential(\n",
    "            nn.Linear(300, n_hl),\n",
    "            nn.ReLU(),\n",
    "            nn.Linear(n_hl, 1)\n",
    "        )\n",
    "    \n",
    "    def forward(self, x):\n",
    "        logits = self.linear_relu_stack(x)\n",
    "        return logits  \n",
    "\n",
    "model = MLP().to(device)\n",
    "model.load_state_dict(torch.load('model/model.pt'))\n",
    "    \n",
    "criterion = nn.BCEWithLogitsLoss()"
   ]
  },
  {
   "cell_type": "code",
   "execution_count": null,
   "metadata": {},
   "outputs": [],
   "source": [
    "# Test by Predicting with Model\n",
    "\n",
    "# Get one file\n",
    "index = 36\n",
    "step = 10000    # for memory\n",
    "\n",
    "# Read in holdout session\n",
    "dataset = torch.load(f'pipeline/holdouts/{index}-holdout.pt')\n",
    "session_length = len(dataset)\n",
    "dataloader = DataLoader(dataset, batch_size=step)\n",
    "y_true = dataset[:][1]\n",
    "\n",
    "model.eval()\n",
    "\n",
    "preds = []\n",
    "n_correct = 0\n",
    "loss = 0\n",
    "\n",
    "for X, y in dataloader:\n",
    "    X = X.to(device) \n",
    "    y = y.to(device)\n",
    "\n",
    "    logits = model(X)\n",
    "    pred = torch.round(nn.Sigmoid()(logits))\n",
    "\n",
    "    n_correct += sum(y == pred)\n",
    "    preds += pred.flatten().tolist()\n",
    "    loss += criterion(logits, y).item()\n",
    "\n",
    "y_pred = np.array(preds).reshape(-1,1)\n",
    "accuracy = (n_correct / session_length).item()\n",
    "loss = loss/len(dataloader)\n",
    "print(f'Accuracy: {100*accuracy:.4}%')\n",
    "print(f'Loss: {loss:.4}')"
   ]
  },
  {
   "cell_type": "code",
   "execution_count": null,
   "metadata": {},
   "outputs": [],
   "source": [
    "# Visualize predictions\n",
    "df = pd.read_csv(f'pipeline/1_dm/{index}.csv')\n",
    "df['y_true'] = np.pad(y_true.flatten()*10, (0, 99), mode='constant', constant_values=0)\n",
    "df['y_pred'] = np.pad(y_pred.flatten()*10, (0, 99), mode='constant', constant_values=0)\n",
    "\n",
    "figure = px.line(df)\n",
    "figure.show(renderer='browser')"
   ]
  },
  {
   "cell_type": "code",
   "execution_count": null,
   "metadata": {},
   "outputs": [],
   "source": [
    "# Heatmap\n",
    "\n",
    "y_true = dataset[:][1]\n",
    "\n",
    "fig,axes = plt.subplots(1,3,sharey=True,figsize=(10,5))\n",
    "sns.heatmap(confusion_matrix(y_true=y_true,y_pred=y_pred,normalize='true'),annot=True,ax=axes[0],cbar=False,fmt='.2f')\n",
    "sns.heatmap(confusion_matrix(y_true=y_true,y_pred=y_pred,normalize='pred'),annot=True,ax=axes[1],cbar=False,fmt='.2f')\n",
    "sns.heatmap(confusion_matrix(y_true=y_true,y_pred=y_pred),annot=True,ax=axes[2],cbar=False,fmt='.2f')\n",
    "axes[0].set_title('Recall')\n",
    "axes[1].set_title('Precision')\n",
    "axes[2].set_title('Count')\n",
    "plt.savefig(f'cm.jpg',dpi=200,bbox_inches='tight')"
   ]
  },
  {
   "cell_type": "code",
   "execution_count": null,
   "metadata": {},
   "outputs": [],
   "source": []
  }
 ],
 "metadata": {
  "kernelspec": {
   "display_name": "Python 3",
   "language": "python",
   "name": "python3"
  },
  "language_info": {
   "codemirror_mode": {
    "name": "ipython",
    "version": 3
   },
   "file_extension": ".py",
   "mimetype": "text/x-python",
   "name": "python",
   "nbconvert_exporter": "python",
   "pygments_lexer": "ipython3",
   "version": "3.8.10"
  },
  "orig_nbformat": 4
 },
 "nbformat": 4,
 "nbformat_minor": 2
}
