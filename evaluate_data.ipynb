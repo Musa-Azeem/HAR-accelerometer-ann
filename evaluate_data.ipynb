{
 "cells": [
  {
   "cell_type": "code",
   "execution_count": 3,
   "metadata": {},
   "outputs": [
    {
     "name": "stderr",
     "output_type": "stream",
     "text": [
      "/home/mmazeem/.local/lib/python3.10/site-packages/tqdm/auto.py:21: TqdmWarning: IProgress not found. Please update jupyter and ipywidgets. See https://ipywidgets.readthedocs.io/en/stable/user_install.html\n",
      "  from .autonotebook import tqdm as notebook_tqdm\n"
     ]
    }
   ],
   "source": [
    "import torch\n",
    "import seaborn as sns\n",
    "import pandas as pd\n",
    "import os"
   ]
  },
  {
   "cell_type": "code",
   "execution_count": 6,
   "metadata": {},
   "outputs": [
    {
     "name": "stdout",
     "output_type": "stream",
     "text": [
      "              x         y         z\n",
      "0      2.251953  4.000000  8.328125\n",
      "1      2.390625  4.144531  8.289062\n",
      "2      2.414062  3.992188  8.203125\n",
      "3      2.275391  4.171875  8.140625\n",
      "4      2.361328  4.136719  8.234375\n",
      "...         ...       ...       ...\n",
      "34895 -1.435547  4.429688  8.273438\n",
      "34896 -1.550781  4.382812  8.375000\n",
      "34897 -1.586914  4.398438  8.421875\n",
      "34898 -1.509766  4.601562  8.328125\n",
      "34899 -1.715820  4.433594  8.234375\n",
      "\n",
      "[34900 rows x 3 columns]\n"
     ]
    }
   ],
   "source": [
    "df = pd.DataFrame()\n",
    "\n",
    "for file in os.listdir('pipeline/1_dm')[:10]:\n",
    "    df = pd.concat(df, pd.read_csv(f'pipeline/1_dm/{file}'))\n",
    "\n",
    "print(df)"
   ]
  }
 ],
 "metadata": {
  "kernelspec": {
   "display_name": "Python 3.10.6 64-bit",
   "language": "python",
   "name": "python3"
  },
  "language_info": {
   "codemirror_mode": {
    "name": "ipython",
    "version": 3
   },
   "file_extension": ".py",
   "mimetype": "text/x-python",
   "name": "python",
   "nbconvert_exporter": "python",
   "pygments_lexer": "ipython3",
   "version": "3.10.6"
  },
  "orig_nbformat": 4,
  "vscode": {
   "interpreter": {
    "hash": "916dbcbb3f70747c44a77c7bcd40155683ae19c65e1c03b4aa3499c5328201f1"
   }
  }
 },
 "nbformat": 4,
 "nbformat_minor": 2
}
