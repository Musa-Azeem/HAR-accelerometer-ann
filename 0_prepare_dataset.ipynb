{
 "cells": [
  {
   "attachments": {},
   "cell_type": "markdown",
   "metadata": {},
   "source": [
    "# Prepare Dataset\n",
    "- Read raw session files that are annoted (include .json file)\n",
    "- decimate sessions files from 100 Hz to 20 Hz\n",
    "- Window the data into 100 datapoint (in 5 Hz) long windows of xyz\n",
    "- Save xyz acc data and the labels to pytorch dataset files in:\n",
    "    - `pipeline/datasets/train_dataset` \n",
    "    - `pipeline/datasets/test_dataset` with specified `test_size` \n",
    "    - `pipeline/datasets/<session_name>-holdout_dataset` with specified sessions"
   ]
  },
  {
   "cell_type": "code",
   "execution_count": null,
   "metadata": {},
   "outputs": [],
   "source": [
    "import pandas as pd\n",
    "import numpy as np\n",
    "import torch\n",
    "import json\n",
    "from sklearn.model_selection import train_test_split\n",
    "import os\n",
    "from torch.utils.data import TensorDataset\n",
    "from tqdm import tqdm\n",
    "import plotly.express as px"
   ]
  },
  {
   "attachments": {},
   "cell_type": "markdown",
   "metadata": {},
   "source": [
    "# Process Raw Data"
   ]
  },
  {
   "cell_type": "code",
   "execution_count": null,
   "metadata": {},
   "outputs": [],
   "source": [
    "# make directories\n",
    "if not os.path.isdir('pipeline'):\n",
    "    os.system('mkdir -p pipeline')\n",
    "else:\n",
    "    print(\"pipeline directory already exists - delete or rename it\")"
   ]
  },
  {
   "cell_type": "code",
   "execution_count": null,
   "metadata": {},
   "outputs": [],
   "source": [
    "json_labels = {}\n",
    "\n",
    "total_length = 0\n",
    "nfiles = 80     # set to limit number of sessions to read\n",
    "i=0\n",
    "\n",
    "raw_dir = './data'\n",
    "\n",
    "os.system('mkdir pipeline/1_dm')\n",
    "\n",
    "for subdir in os.listdir(raw_dir):\n",
    "    if os.path.exists(f'{raw_dir}/{subdir}/{subdir}_data.json'):\n",
    "        # json files with annotations exists - dataset is annotated\n",
    "        i += 1\n",
    "\n",
    "        # Read labels\n",
    "        with open(f'{raw_dir}/{subdir}/{subdir}_data.json', 'r') as f:\n",
    "            annot = json.load(f)\n",
    "            if not annot.get('puffs'):\n",
    "                print(f'Skipped {subdir}')\n",
    "                continue\n",
    "            json_labels[subdir] = annot\n",
    "        \n",
    "        # if dataset is annotated, read raw data file, decimate from 100 to 20 Hz, and save just x,y,z in 1_dm dir\n",
    "        df = pd.read_csv(f'{raw_dir}/{subdir}/raw_data.csv', header=None, usecols=[2,3,4], names=['x','y','z'])\n",
    "        json_labels[subdir]['length'] = len(df[::5])\n",
    "        total_length += len(df[::5])\n",
    "        df[::5].to_csv(f'pipeline/1_dm/{subdir}.csv', index=False)\n",
    "\n",
    "        print(f'{subdir} - Length: {len(df[::5])}')\n",
    "\n",
    "    else:\n",
    "        print(f'Skipped {subdir}')\n",
    "        \n",
    "    if i == nfiles:\n",
    "        break"
   ]
  },
  {
   "cell_type": "code",
   "execution_count": null,
   "metadata": {},
   "outputs": [],
   "source": [
    "# Window data\n",
    "\n",
    "os.system('mkdir pipeline/2_windowed')\n",
    "\n",
    "for i,file in enumerate(tqdm(os.listdir('pipeline/1_dm/'))):\n",
    "    df = pd.read_csv(f'pipeline/1_dm/{file}')\n",
    "    # print(f'{file} - Before {df.shape}')\n",
    "    w = np.empty((len(df)-99, 300), dtype=float)\n",
    "    for j in range(len(df)-99):\n",
    "        w[j] = df[j:j+100].to_numpy().T.flatten()\n",
    "    # print(f'After {w.shape}')\n",
    "    np.save(f'pipeline/2_windowed/{file.split(\".\")[0]}.npy', w)"
   ]
  },
  {
   "cell_type": "code",
   "execution_count": null,
   "metadata": {},
   "outputs": [],
   "source": [
    "# Make Labels from annotations\n",
    "dm = 5\n",
    "\n",
    "os.system('mkdir pipeline/3_labels')\n",
    "\n",
    "for i, (key, annot) in enumerate(json_labels.items()):\n",
    "    l = np.zeros(annot['length'] - 99)\n",
    "    for j in range(annot['start']//dm, annot['end']//dm):\n",
    "        for puff in annot['puffs']:\n",
    "            # If the midpoint of window j is within a puff, label the window as a puff\n",
    "            if j+50 >= puff['start']//dm and j+50 <= puff['end']//dm:\n",
    "                l[j] = 1\n",
    "    \n",
    "    np.save(f'pipeline/3_labels/{key}.npy', l.reshape(-1,1))"
   ]
  },
  {
   "cell_type": "code",
   "execution_count": null,
   "metadata": {},
   "outputs": [],
   "source": [
    "# visualize true labels on continous signal\n",
    "i = 25\n",
    "labels = np.load(f'pipeline/3_labels/{i}.npy').flatten()\n",
    "\n",
    "df = pd.read_csv(f'pipeline/1_dm/{i}.csv')\n",
    "df['label'] = np.pad(labels*10, (49,50), mode='constant', constant_values=0)\n",
    "\n",
    "fig = px.line(data_frame=df)\n",
    "fig.show(renderer='browser')"
   ]
  },
  {
   "cell_type": "code",
   "execution_count": null,
   "metadata": {},
   "outputs": [],
   "source": [
    "# Prepare Pytorch Datasets\n",
    "holdout_sessions = ['19', '25', '31', '35', '36']\n",
    "\n",
    "os.system('mkdir -p pipeline/holdouts')\n",
    "os.system('mkdir -p pipeline/4_all/')\n",
    "\n",
    "j = 0\n",
    "for i,file in enumerate(tqdm(os.listdir('pipeline/2_windowed'))):\n",
    "    # First, save <n_sessions_holdout> sessions\n",
    "    session_name = file.split('.')[0]\n",
    "    if session_name in holdout_sessions:\n",
    "        print(f'Saving holdout for session {session_name}')\n",
    "        X_holdout = torch.from_numpy(np.load(f'pipeline/2_windowed/{file}')).float()\n",
    "        y_holdout = torch.from_numpy(np.load(f'pipeline/3_labels/{file}')).float()\n",
    "        torch.save(TensorDataset(X_holdout, y_holdout), f'pipeline/holdouts/{session_name}-holdout.pt')\n",
    "        continue\n",
    "\n",
    "    # print(f'{i} - Saving windows of session {file.split(\".\")[0]}')\n",
    "    X = np.load(f'pipeline/2_windowed/{file}')\n",
    "    y = np.load(f'pipeline/3_labels/{file}')\n",
    "\n",
    "    # Save each window from every session in its own file in 'pipeline/4_all'\n",
    "    for (xi,yi) in zip(X,y):\n",
    "        xi = torch.from_numpy(xi).float()\n",
    "        yi = torch.from_numpy(yi).float()\n",
    "        torch.save((xi,yi), f'pipeline/4_all/{j}.pt')\n",
    "        j += 1"
   ]
  },
  {
   "cell_type": "code",
   "execution_count": null,
   "metadata": {},
   "outputs": [],
   "source": [
    "# Get total number of window-files\n",
    "n = len(os.listdir('pipeline/4_all'))\n",
    "n"
   ]
  },
  {
   "cell_type": "code",
   "execution_count": null,
   "metadata": {},
   "outputs": [],
   "source": [
    "# Train test split window-files into 'pipeline/4_all/train' and 'pipeline/4_all/test'\n",
    "test_size = 0.3\n",
    "\n",
    "os.system('mkdir -p pipeline/4_all/train')\n",
    "os.system('mkdir -p pipeline/4_all/test')\n",
    "\n",
    "# todo possibly stratify by splitting pos. and neg. samples and taking train/test samples from each\n",
    "(train_idx, test_idx) = train_test_split(range(n), test_size=test_size, shuffle=True, random_state=0)\n",
    "\n",
    "for i,idx in enumerate(tqdm(train_idx)):\n",
    "    os.system(f'mv pipeline/4_all/{idx}.pt pipeline/4_all/train/{i}.pt')\n",
    "\n",
    "for i,idx in enumerate(tqdm(test_idx)):\n",
    "    os.system(f'mv pipeline/4_all/{idx}.pt pipeline/4_all/test/{i}.pt')"
   ]
  }
 ],
 "metadata": {
  "kernelspec": {
   "display_name": "Python 3.10.6 64-bit",
   "language": "python",
   "name": "python3"
  },
  "language_info": {
   "codemirror_mode": {
    "name": "ipython",
    "version": 3
   },
   "file_extension": ".py",
   "mimetype": "text/x-python",
   "name": "python",
   "nbconvert_exporter": "python",
   "pygments_lexer": "ipython3",
   "version": "3.10.6"
  },
  "orig_nbformat": 4,
  "vscode": {
   "interpreter": {
    "hash": "916dbcbb3f70747c44a77c7bcd40155683ae19c65e1c03b4aa3499c5328201f1"
   }
  }
 },
 "nbformat": 4,
 "nbformat_minor": 2
}
